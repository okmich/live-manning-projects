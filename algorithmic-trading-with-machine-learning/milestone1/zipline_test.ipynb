{
 "cells": [
  {
   "cell_type": "code",
   "execution_count": 1,
   "metadata": {},
   "outputs": [
    {
     "name": "stdout",
     "output_type": "stream",
     "text": [
      "[2021-03-10 06:30:16.141844] INFO: zipline.data.bundles.quandl: Downloading WIKI metadata.\n",
      "\u001b[?25lDownloading WIKI Prices table from Quandl  [####################################]  100%          \u001b[?25h\n",
      "[2021-03-10 06:33:15.125315] INFO: zipline.data.bundles.quandl: Parsing raw data.\n",
      "[2021-03-10 06:34:27.260347] INFO: zipline.data.bundles.quandl: Generating asset metadata.\n",
      "\u001b[?25lMerging daily equity files:  [------------------------------#-----]  1731/opt/conda/envs/liveproject-zipline/lib/python3.5/site-packages/zipline/data/bcolz_daily_bars.py:367: UserWarning: Ignoring 1 values because they are out of bounds for uint32:             open  high   low  close        volume  ex_dividend  split_ratio\n",
      "2011-04-11  1.79  1.84  1.55    1.7  6.674913e+09          0.0          1.0\n",
      "  winsorise_uint32(raw_data, invalid_data_behavior, 'volume', *OHLC)\n",
      "\u001b[?25lMerging daily equity files:  [####################################]      \u001b[?25h\n",
      "[2021-03-10 06:40:24.614689] INFO: zipline.data.bundles.quandl: Parsing split data.\n",
      "[2021-03-10 06:40:24.963664] INFO: zipline.data.bundles.quandl: Parsing dividend data.\n",
      "/opt/conda/envs/liveproject-zipline/lib/python3.5/site-packages/zipline/data/adjustments.py:403: FutureWarning: Conversion of the second argument of issubdtype from `float` to `np.floating` is deprecated. In future, it will be treated as `np.float64 == np.dtype(float).type`.\n",
      "  if not np.issubdtype(actual, expected):\n",
      "[2021-03-10 06:40:26.912768] WARNING: zipline.data.adjustments: Couldn't compute ratio for dividend sid=67, ex_date=2017-11-09, amount=0.620\n",
      "[2021-03-10 06:40:26.913048] WARNING: zipline.data.adjustments: Couldn't compute ratio for dividend sid=93, ex_date=2017-11-09, amount=0.240\n",
      "[2021-03-10 06:40:26.913170] WARNING: zipline.data.adjustments: Couldn't compute ratio for dividend sid=161, ex_date=2017-11-09, amount=0.110\n",
      "[2021-03-10 06:40:26.913262] WARNING: zipline.data.adjustments: Couldn't compute ratio for dividend sid=283, ex_date=2017-11-09, amount=0.415\n",
      "[2021-03-10 06:40:26.913344] WARNING: zipline.data.adjustments: Couldn't compute ratio for dividend sid=298, ex_date=2017-11-09, amount=1.420\n",
      "[2021-03-10 06:40:26.913431] WARNING: zipline.data.adjustments: Couldn't compute ratio for dividend sid=318, ex_date=2017-11-09, amount=0.330\n",
      "[2021-03-10 06:40:26.913572] WARNING: zipline.data.adjustments: Couldn't compute ratio for dividend sid=434, ex_date=2017-11-09, amount=0.110\n",
      "[2021-03-10 06:40:26.913659] WARNING: zipline.data.adjustments: Couldn't compute ratio for dividend sid=516, ex_date=1996-05-30, amount=0.310\n",
      "[2021-03-10 06:40:26.913760] WARNING: zipline.data.adjustments: Couldn't compute ratio for dividend sid=524, ex_date=2017-11-09, amount=0.050\n",
      "[2021-03-10 06:40:26.913951] WARNING: zipline.data.adjustments: Couldn't compute ratio for dividend sid=556, ex_date=2017-11-09, amount=0.075\n",
      "[2021-03-10 06:40:26.914038] WARNING: zipline.data.adjustments: Couldn't compute ratio for dividend sid=578, ex_date=2017-11-09, amount=0.160\n",
      "[2021-03-10 06:40:26.914125] WARNING: zipline.data.adjustments: Couldn't compute ratio for dividend sid=605, ex_date=2017-11-09, amount=0.040\n",
      "[2021-03-10 06:40:26.914214] WARNING: zipline.data.adjustments: Couldn't compute ratio for dividend sid=666, ex_date=1990-03-26, amount=0.140\n",
      "[2021-03-10 06:40:26.914298] WARNING: zipline.data.adjustments: Couldn't compute ratio for dividend sid=694, ex_date=1990-03-27, amount=0.100\n",
      "[2021-03-10 06:40:26.914383] WARNING: zipline.data.adjustments: Couldn't compute ratio for dividend sid=723, ex_date=2017-11-09, amount=1.620\n",
      "[2021-03-10 06:40:26.914468] WARNING: zipline.data.adjustments: Couldn't compute ratio for dividend sid=758, ex_date=2017-11-09, amount=0.500\n",
      "[2021-03-10 06:40:26.914553] WARNING: zipline.data.adjustments: Couldn't compute ratio for dividend sid=788, ex_date=2017-11-09, amount=0.060\n",
      "[2021-03-10 06:40:26.914638] WARNING: zipline.data.adjustments: Couldn't compute ratio for dividend sid=859, ex_date=1995-05-09, amount=0.100\n",
      "[2021-03-10 06:40:26.914722] WARNING: zipline.data.adjustments: Couldn't compute ratio for dividend sid=904, ex_date=2017-11-09, amount=0.135\n",
      "[2021-03-10 06:40:26.914858] WARNING: zipline.data.adjustments: Couldn't compute ratio for dividend sid=975, ex_date=2017-11-09, amount=0.030\n",
      "[2021-03-10 06:40:26.914948] WARNING: zipline.data.adjustments: Couldn't compute ratio for dividend sid=1057, ex_date=2017-11-09, amount=0.250\n",
      "[2021-03-10 06:40:26.915034] WARNING: zipline.data.adjustments: Couldn't compute ratio for dividend sid=1088, ex_date=1990-03-26, amount=0.240\n",
      "[2021-03-10 06:40:26.915118] WARNING: zipline.data.adjustments: Couldn't compute ratio for dividend sid=1091, ex_date=2017-11-09, amount=0.075\n",
      "[2021-03-10 06:40:26.915202] WARNING: zipline.data.adjustments: Couldn't compute ratio for dividend sid=1111, ex_date=1993-03-04, amount=0.070\n",
      "[2021-03-10 06:40:26.915308] WARNING: zipline.data.adjustments: Couldn't compute ratio for dividend sid=1172, ex_date=2017-11-09, amount=0.130\n",
      "[2021-03-10 06:40:26.915408] WARNING: zipline.data.adjustments: Couldn't compute ratio for dividend sid=1209, ex_date=2017-11-09, amount=0.010\n",
      "[2021-03-10 06:40:26.915493] WARNING: zipline.data.adjustments: Couldn't compute ratio for dividend sid=1322, ex_date=1995-05-25, amount=0.150\n",
      "[2021-03-10 06:40:26.915573] WARNING: zipline.data.adjustments: Couldn't compute ratio for dividend sid=1441, ex_date=2017-11-09, amount=1.500\n",
      "[2021-03-10 06:40:26.915657] WARNING: zipline.data.adjustments: Couldn't compute ratio for dividend sid=1525, ex_date=2017-11-09, amount=0.090\n",
      "[2021-03-10 06:40:26.915761] WARNING: zipline.data.adjustments: Couldn't compute ratio for dividend sid=1600, ex_date=2015-07-06, amount=16.500\n",
      "[2021-03-10 06:40:26.915860] WARNING: zipline.data.adjustments: Couldn't compute ratio for dividend sid=1642, ex_date=2017-11-09, amount=0.270\n",
      "[2021-03-10 06:40:26.915945] WARNING: zipline.data.adjustments: Couldn't compute ratio for dividend sid=1748, ex_date=2017-11-09, amount=0.740\n",
      "[2021-03-10 06:40:26.916068] WARNING: zipline.data.adjustments: Couldn't compute ratio for dividend sid=1876, ex_date=2017-11-09, amount=0.120\n",
      "[2021-03-10 06:40:26.916265] WARNING: zipline.data.adjustments: Couldn't compute ratio for dividend sid=1922, ex_date=2017-11-09, amount=0.040\n",
      "[2021-03-10 06:40:26.916353] WARNING: zipline.data.adjustments: Couldn't compute ratio for dividend sid=1947, ex_date=1990-03-26, amount=0.150\n",
      "[2021-03-10 06:40:26.916438] WARNING: zipline.data.adjustments: Couldn't compute ratio for dividend sid=2098, ex_date=2017-11-09, amount=0.200\n",
      "[2021-03-10 06:40:26.916524] WARNING: zipline.data.adjustments: Couldn't compute ratio for dividend sid=2118, ex_date=2014-11-06, amount=0.050\n",
      "[2021-03-10 06:40:26.916608] WARNING: zipline.data.adjustments: Couldn't compute ratio for dividend sid=2120, ex_date=2017-11-09, amount=0.110\n",
      "[2021-03-10 06:40:26.916695] WARNING: zipline.data.adjustments: Couldn't compute ratio for dividend sid=2149, ex_date=2017-11-09, amount=0.330\n",
      "[2021-03-10 06:40:26.916828] WARNING: zipline.data.adjustments: Couldn't compute ratio for dividend sid=2204, ex_date=2017-11-09, amount=0.320\n",
      "[2021-03-10 06:40:26.916920] WARNING: zipline.data.adjustments: Couldn't compute ratio for dividend sid=2220, ex_date=2017-11-09, amount=0.660\n",
      "[2021-03-10 06:40:26.917006] WARNING: zipline.data.adjustments: Couldn't compute ratio for dividend sid=2281, ex_date=2017-11-09, amount=0.450\n",
      "[2021-03-10 06:40:26.917091] WARNING: zipline.data.adjustments: Couldn't compute ratio for dividend sid=2389, ex_date=2017-11-09, amount=0.140\n",
      "[2021-03-10 06:40:26.917174] WARNING: zipline.data.adjustments: Couldn't compute ratio for dividend sid=2441, ex_date=2017-11-09, amount=0.215\n",
      "[2021-03-10 06:40:26.917254] WARNING: zipline.data.adjustments: Couldn't compute ratio for dividend sid=2517, ex_date=2017-11-09, amount=0.080\n",
      "[2021-03-10 06:40:26.917341] WARNING: zipline.data.adjustments: Couldn't compute ratio for dividend sid=2582, ex_date=2017-11-09, amount=0.780\n",
      "[2021-03-10 06:40:26.917425] WARNING: zipline.data.adjustments: Couldn't compute ratio for dividend sid=2622, ex_date=2017-11-09, amount=0.390\n",
      "[2021-03-10 06:40:26.917510] WARNING: zipline.data.adjustments: Couldn't compute ratio for dividend sid=2662, ex_date=2015-01-14, amount=0.750\n",
      "[2021-03-10 06:40:26.917595] WARNING: zipline.data.adjustments: Couldn't compute ratio for dividend sid=2754, ex_date=2000-12-27, amount=0.250\n",
      "[2021-03-10 06:40:26.917716] WARNING: zipline.data.adjustments: Couldn't compute ratio for dividend sid=2754, ex_date=2009-09-11, amount=0.420\n",
      "[2021-03-10 06:40:26.917832] WARNING: zipline.data.adjustments: Couldn't compute ratio for dividend sid=2754, ex_date=2009-12-11, amount=0.420\n",
      "[2021-03-10 06:40:26.917935] WARNING: zipline.data.adjustments: Couldn't compute ratio for dividend sid=2754, ex_date=2010-03-11, amount=0.420\n",
      "[2021-03-10 06:40:26.918082] WARNING: zipline.data.adjustments: Couldn't compute ratio for dividend sid=2754, ex_date=2010-12-15, amount=0.180\n",
      "[2021-03-10 06:40:26.918173] WARNING: zipline.data.adjustments: Couldn't compute ratio for dividend sid=2766, ex_date=2017-11-09, amount=0.320\n",
      "[2021-03-10 06:40:26.918261] WARNING: zipline.data.adjustments: Couldn't compute ratio for dividend sid=2798, ex_date=2017-11-09, amount=0.065\n",
      "[2021-03-10 06:40:26.918350] WARNING: zipline.data.adjustments: Couldn't compute ratio for dividend sid=2817, ex_date=1992-03-03, amount=0.300\n",
      "[2021-03-10 06:40:26.918440] WARNING: zipline.data.adjustments: Couldn't compute ratio for dividend sid=2824, ex_date=2017-11-09, amount=0.120\n",
      "[2021-03-10 06:40:26.918712] WARNING: zipline.data.adjustments: Couldn't compute ratio for dividend sid=2843, ex_date=2017-11-09, amount=0.150\n",
      "[2021-03-10 06:40:26.919053] WARNING: zipline.data.adjustments: Couldn't compute ratio for dividend sid=2857, ex_date=2011-09-07, amount=0.410\n",
      "[2021-03-10 06:40:26.919167] WARNING: zipline.data.adjustments: Couldn't compute ratio for dividend sid=2968, ex_date=1990-03-26, amount=0.100\n",
      "[2021-03-10 06:40:26.919285] WARNING: zipline.data.adjustments: Couldn't compute ratio for dividend sid=3005, ex_date=1990-03-26, amount=0.070\n",
      "[2021-03-10 06:40:26.919483] WARNING: zipline.data.adjustments: Couldn't compute ratio for dividend sid=3078, ex_date=2014-05-12, amount=0.060\n",
      "[2021-03-10 06:40:26.919575] WARNING: zipline.data.adjustments: Couldn't compute ratio for dividend sid=3117, ex_date=2017-11-09, amount=0.430\n",
      "[2021-03-10 06:40:26.919704] WARNING: zipline.data.adjustments: Couldn't compute ratio for dividend sid=3138, ex_date=2010-08-16, amount=0.060\n",
      "[2021-03-10 06:40:26.919807] WARNING: zipline.data.adjustments: Couldn't compute ratio for dividend sid=3145, ex_date=2017-11-09, amount=0.050\n",
      "/opt/conda/envs/liveproject-zipline/lib/python3.5/site-packages/zipline/data/adjustments.py:515: RuntimeWarning: invalid value encountered in greater\n",
      "  positive_ratio_mask = ratio > 0\n",
      "[2021-03-10 06:40:26.920280] WARNING: zipline.data.adjustments: Dividend ratio <= 0 for dividend sid=501, ex_date=2006-01-03, amount=41.560\n",
      "[2021-03-10 06:40:26.920385] WARNING: zipline.data.adjustments: Dividend ratio <= 0 for dividend sid=1557, ex_date=2007-07-02, amount=88.530\n",
      "[2021-03-10 06:40:26.920474] WARNING: zipline.data.adjustments: Dividend ratio <= 0 for dividend sid=1632, ex_date=2000-07-13, amount=181.000\n",
      "[2021-03-10 06:40:26.920561] WARNING: zipline.data.adjustments: Dividend ratio <= 0 for dividend sid=1657, ex_date=2013-09-30, amount=21.355\n",
      "[2021-03-10 06:40:26.920744] WARNING: zipline.data.adjustments: Dividend ratio <= 0 for dividend sid=1775, ex_date=1994-12-01, amount=76.000\n",
      "[2021-03-10 06:40:26.920940] WARNING: zipline.data.adjustments: Dividend ratio <= 0 for dividend sid=1776, ex_date=1996-11-04, amount=36.708\n",
      "[2021-03-10 06:40:26.921117] WARNING: zipline.data.adjustments: Dividend ratio <= 0 for dividend sid=2455, ex_date=2016-10-03, amount=25.611\n",
      "[2021-03-10 06:40:26.921209] WARNING: zipline.data.adjustments: Dividend ratio <= 0 for dividend sid=2687, ex_date=2008-06-26, amount=10.000\n",
      "[2021-03-10 06:40:26.921339] WARNING: zipline.data.adjustments: Dividend ratio <= 0 for dividend sid=2900, ex_date=2007-07-02, amount=88.530\n",
      "[2021-03-10 06:40:26.921444] WARNING: zipline.data.adjustments: Dividend ratio <= 0 for dividend sid=3088, ex_date=2015-04-27, amount=31.291\n"
     ]
    }
   ],
   "source": [
    "!zipline ingest"
   ]
  },
  {
   "cell_type": "code",
   "execution_count": 2,
   "metadata": {},
   "outputs": [
    {
     "name": "stdout",
     "output_type": "stream",
     "text": [
      "csvdir <no ingestions>\n",
      "quandl 2021-03-10 06:30:15.311656\n",
      "quandl 2021-03-09 16:56:15.650613\n",
      "quandl 2021-03-09 16:35:38.370046\n",
      "quantopian-quandl <no ingestions>\n"
     ]
    }
   ],
   "source": [
    "!zipline bundles"
   ]
  },
  {
   "cell_type": "markdown",
   "metadata": {},
   "source": [
    "#### Running the Dual Moving Average Cross-Over example"
   ]
  },
  {
   "cell_type": "code",
   "execution_count": 16,
   "metadata": {},
   "outputs": [
    {
     "name": "stdout",
     "output_type": "stream",
     "text": [
      "[2021-03-10 06:58:23.598266] WARNING: Loader: Refusing to download new benchmark data because a download succeeded at 2021-03-10 06:14:09.733600+00:00.\n",
      "[2021-03-10 06:58:23.661791] WARNING: Loader: Refusing to download new treasury data because a download succeeded at 2021-03-10 06:14:15.857811+00:00.\n",
      "/opt/conda/envs/liveproject-zipline/lib/python3.5/site-packages/empyrical/stats.py:711: RuntimeWarning: invalid value encountered in true_divide\n",
      "  out=out,\n",
      "/opt/conda/envs/liveproject-zipline/lib/python3.5/site-packages/empyrical/stats.py:797: RuntimeWarning: invalid value encountered in true_divide\n",
      "  np.divide(average_annual_return, annualized_downside_risk, out=out)\n",
      "[2021-03-10 06:58:29.310296] INFO: zipline.finance.metrics.tracker: Simulated 1007 trading days\n",
      "first open: 2014-01-02 14:31:00+00:00\n",
      "last close: 2017-12-29 21:00:00+00:00\n",
      "Segmentation fault (core dumped)\n"
     ]
    }
   ],
   "source": [
    "!zipline run -f dual_moving_average.py --start 2014-1-1 --end 2018-1-1 -o dma.pickle "
   ]
  },
  {
   "cell_type": "code",
   "execution_count": null,
   "metadata": {},
   "outputs": [],
   "source": []
  }
 ],
 "metadata": {
  "kernelspec": {
   "display_name": "Python 3",
   "language": "python",
   "name": "python3"
  },
  "language_info": {
   "codemirror_mode": {
    "name": "ipython",
    "version": 3
   },
   "file_extension": ".py",
   "mimetype": "text/x-python",
   "name": "python",
   "nbconvert_exporter": "python",
   "pygments_lexer": "ipython3",
   "version": "3.8.3"
  }
 },
 "nbformat": 4,
 "nbformat_minor": 4
}
