{
 "cells": [
  {
   "cell_type": "markdown",
   "metadata": {},
   "source": [
    "# Engineering Predictive Alpha Factors"
   ]
  },
  {
   "cell_type": "markdown",
   "metadata": {},
   "source": [
    "This notebook illustrates the following steps:\n",
    "\n",
    "1. Select the adjusted open, high, low, and close prices as well as the volume for all tickers from the Quandl Wiki data that you downloaded and simplified for the last milestone for the 2007-2016 time period. Looking ahead, we will use 2014-2016 as our 'out-of-sample' period to test the performance of a strategy based on a machine learning model selected using data from preceding periods.\n",
    "2. Compute the dollar volume as the product of closing price and trading volume; then select the stocks with at least eight years of data and the lowest average daily rank for this metric. \n",
    "3. Compute daily returns and keep only 'inliers' with values between -100% and + 100% as a basic check against data error.\n",
    "4. Now we're ready to compute financial features. The Alpha Factory Library listed among the resources below illustrates how to compute a broad range of those using pandas and TA-Lib. We will list a few examples; feel free to explore and evaluate the various TA-Lib indicators.\n",
    "    - Compute **historical returns** for various time ranges such as 1, 3, 5, 10, 21 trading days, as well as longer periods like 2, 3, 6 and 12 months.\n",
    "    - Use TA-Lib's **Bollinger Band** indicator to create features that anticipate **mean-reversion**.\n",
    "    - Select some indicators from TA-Lib's **momentum** indicators family such as\n",
    "        - the Average Directional Movement Index (ADX), \n",
    "        - the Moving Average Convergence Divergence (MACD), \n",
    "        - the Relative Strength Index (RSI), \n",
    "        - the Balance of Power (BOP) indictor, or \n",
    "        - the Money Flow Index (MFI).\n",
    "    - Compute TA-Lib **volume** indicators like On Balance Volume (OBV) or the Chaikin A/D Oscillator (ADOSC)\n",
    "    - Create volatility metrics such as the Normalized Average True Range (NATR).\n",
    "    - Compute rolling factor betas using the five Fama-French risk factors for different rolling windows of three and 12 months (see resources below).\n",
    "    - Compute the outcome variable that we will aim to predict, namely the 1-day forward returns."
   ]
  },
  {
   "cell_type": "markdown",
   "metadata": {},
   "source": [
    "## Usage tips\n",
    "\n",
    "- If you experience resource constraints (suddenly restarting Kernel), increase the memory available for Docker Desktop (> Settings > Advanced). If this not possible or you experienced prolonged execution times, reduce the scope of the exercise. The easiest way to do so is to select fewer stocks or a shorter time period, or both.\n",
    "- You may want to persist intermediate results so you can recover quickly in case something goes wrong. There's an example under the first 'Persist Results' subsection."
   ]
  },
  {
   "cell_type": "markdown",
   "metadata": {},
   "source": [
    "## Imports & Settings"
   ]
  },
  {
   "cell_type": "code",
   "execution_count": null,
   "metadata": {
    "ExecuteTime": {
     "end_time": "2020-07-14T13:15:13.439296Z",
     "start_time": "2020-07-14T13:15:13.437658Z"
    }
   },
   "outputs": [],
   "source": [
    "import warnings\n",
    "warnings.filterwarnings('ignore')"
   ]
  },
  {
   "cell_type": "code",
   "execution_count": null,
   "metadata": {
    "ExecuteTime": {
     "end_time": "2020-07-14T13:15:14.100318Z",
     "start_time": "2020-07-14T13:15:13.442824Z"
    }
   },
   "outputs": [],
   "source": [
    "%matplotlib inline\n",
    "\n",
    "from pathlib import Path\n",
    "import numpy as np\n",
    "import pandas as pd\n",
    "import pandas_datareader.data as web\n",
    "\n",
    "import statsmodels.api as sm\n",
    "from statsmodels.regression.rolling import RollingOLS\n",
    "from sklearn.preprocessing import scale\n",
    "import talib\n",
    "\n",
    "import matplotlib.pyplot as plt\n",
    "import seaborn as sns"
   ]
  },
  {
   "cell_type": "code",
   "execution_count": null,
   "metadata": {
    "ExecuteTime": {
     "end_time": "2020-07-14T13:15:14.104107Z",
     "start_time": "2020-07-14T13:15:14.101491Z"
    }
   },
   "outputs": [],
   "source": [
    "sns.set_style('whitegrid')\n",
    "idx = pd.IndexSlice\n",
    "deciles = np.arange(.1, 1, .1).round(1)"
   ]
  },
  {
   "cell_type": "markdown",
   "metadata": {},
   "source": [
    "## Load Data"
   ]
  },
  {
   "cell_type": "code",
   "execution_count": null,
   "metadata": {
    "ExecuteTime": {
     "end_time": "2020-07-14T13:15:14.120940Z",
     "start_time": "2020-07-14T13:15:14.105281Z"
    }
   },
   "outputs": [],
   "source": [
    "DATA_STORE = Path('..', 'data', 'stock_prices.h5')"
   ]
  },
  {
   "cell_type": "code",
   "execution_count": null,
   "metadata": {
    "ExecuteTime": {
     "end_time": "2021-02-06T01:59:37.856956Z",
     "start_time": "2021-02-06T01:59:37.799466Z"
    }
   },
   "outputs": [],
   "source": [
    "with pd.HDFStore(DATA_STORE) as store:\n",
    "    pass"
   ]
  },
  {
   "cell_type": "markdown",
   "metadata": {},
   "source": [
    "## Select 500 most-traded stocks prior to 2017"
   ]
  },
  {
   "cell_type": "markdown",
   "metadata": {},
   "source": [
    "Compute the dollar volume as the product of the adjusted close price and the adjusted volume:"
   ]
  },
  {
   "cell_type": "code",
   "execution_count": null,
   "metadata": {},
   "outputs": [],
   "source": []
  },
  {
   "cell_type": "markdown",
   "metadata": {},
   "source": [
    "## Remove outliers based on daily returns"
   ]
  },
  {
   "cell_type": "code",
   "execution_count": null,
   "metadata": {},
   "outputs": [],
   "source": []
  },
  {
   "cell_type": "markdown",
   "metadata": {},
   "source": [
    "## Compute returns"
   ]
  },
  {
   "cell_type": "markdown",
   "metadata": {},
   "source": [
    "## Bollinger Bands"
   ]
  },
  {
   "cell_type": "markdown",
   "metadata": {},
   "source": [
    "## Momentum Indicators"
   ]
  },
  {
   "cell_type": "markdown",
   "metadata": {},
   "source": [
    "TA-Lib offers the following choices - feel free to experiment with as many as you like (but you don't have to..):"
   ]
  },
  {
   "cell_type": "markdown",
   "metadata": {},
   "source": [
    "|Function|             Name|\n",
    "|:---|:---|\n",
    "|PLUS_DM|              Plus Directional Movement|\n",
    "|MINUS_DM|             Minus Directional Movement|\n",
    "|PLUS_DI|              Plus Directional Indicator|\n",
    "|MINUS_DI|             Minus Directional Indicator|\n",
    "|DX|                   Directional Movement Index|\n",
    "|ADX|                  Average Directional Movement Index|\n",
    "|ADXR|                 Average Directional Movement Index Rating|\n",
    "|APO|                  Absolute Price Oscillator|\n",
    "|PPO|                  Percentage Price Oscillator|\n",
    "|AROON|                Aroon|\n",
    "|AROONOSC|             Aroon Oscillator|\n",
    "|BOP|                  Balance Of Power|\n",
    "|CCI|                  Commodity Channel Index|\n",
    "|CMO|                  Chande Momentum Oscillator|\n",
    "|MACD|                 Moving Average Convergence/Divergence|\n",
    "|MACDEXT|              MACD with controllable MA type|\n",
    "|MACDFIX|              Moving Average Convergence/Divergence Fix 12/26|\n",
    "|MFI|                  Money Flow Index|\n",
    "|MOM|                  Momentum|\n",
    "|RSI|                  Relative Strength Index|\n",
    "|STOCH|                Stochastic|\n",
    "|STOCHF|               Stochastic Fast|\n",
    "|STOCHRSI|             Stochastic Relative Strength Index|\n",
    "|TRIX|                 1-day Rate-Of-Change (ROC) of a Triple Smooth EMA|\n",
    "|ULTOSC|               Ultimate Oscillator|\n",
    "|WILLR|                Williams' %R|"
   ]
  },
  {
   "cell_type": "markdown",
   "metadata": {},
   "source": [
    "### Average Directional Movement Index (ADX)"
   ]
  },
  {
   "cell_type": "markdown",
   "metadata": {},
   "source": [
    "The ADX combines of two other indicators, namely the positive and directional indicators (PLUS_DI and MINUS_DI), which in turn build on the positive and directional movement (PLUS_DM and MINUS_DM). For additional details see [Wikipdia](https://en.wikipedia.org/wiki/Average_directional_movement_index) and [Investopedia](https://www.investopedia.com/articles/trading/07/adx-trend-indicator.asp)."
   ]
  },
  {
   "cell_type": "markdown",
   "metadata": {},
   "source": [
    "### Absolute Price Oscillator (APO)"
   ]
  },
  {
   "cell_type": "markdown",
   "metadata": {},
   "source": [
    "The absolute Price Oscillator (APO) is computed as the difference between two exponential moving averages (EMA) of price series, expressed as an absolute value. The EMA windows usually contain 26 and 12 data points, respectively."
   ]
  },
  {
   "cell_type": "markdown",
   "metadata": {},
   "source": [
    "### Percentage Price Oscillator (PPO)"
   ]
  },
  {
   "cell_type": "markdown",
   "metadata": {},
   "source": [
    "The Percentage Price Oscillator (APO) is computed as the difference between two exponential moving averages (EMA) of price series, expressed as a percentage value and thus comparable across assets. The EMA windows usually contain 26 and 12 data points, respectively. "
   ]
  },
  {
   "cell_type": "markdown",
   "metadata": {},
   "source": [
    "### Aroon Oscillator"
   ]
  },
  {
   "cell_type": "markdown",
   "metadata": {},
   "source": [
    "#### Aroon Up/Down Indicator"
   ]
  },
  {
   "cell_type": "markdown",
   "metadata": {},
   "source": [
    "The indicator measures the time between highs and the time between lows over a time period. It computes an AROON_UP and an AROON_DWN indicator as follows:\n",
    "\n",
    "$$\n",
    "\\begin{align*}\n",
    "\\text{AROON_UP}&=\\frac{T-\\text{Periods since T period High}}{T}\\times 100\\\\\n",
    "\\text{AROON_DWN}&=\\frac{T-\\text{Periods since T period Low}}{T}\\times 100\n",
    "\\end{align*}\n",
    "$$"
   ]
  },
  {
   "cell_type": "markdown",
   "metadata": {},
   "source": [
    "#### Aroon Oscillator"
   ]
  },
  {
   "cell_type": "markdown",
   "metadata": {},
   "source": [
    "The Aroon Oscillator is simply the difference between the Aroon Up and Aroon Down indicators."
   ]
  },
  {
   "cell_type": "markdown",
   "metadata": {},
   "source": [
    "### Balance Of Power (BOP)"
   ]
  },
  {
   "cell_type": "markdown",
   "metadata": {},
   "source": [
    "The Balance of Power (BOP) intends to measure the strength of buyers relative to sellers in the market by assessing the ability of each side to drive prices. It is computer as the difference between the close and the open price, divided by the difference between the high and the low price: \n",
    "\n",
    "$$\n",
    "\\text{BOP}_t= \\frac{P_t^\\text{Close}-P_t^\\text{Open}}{P_t^\\text{High}-P_t^\\text{Low}}\n",
    "$$"
   ]
  },
  {
   "cell_type": "markdown",
   "metadata": {},
   "source": [
    "### Commodity Channel Index (CCI)"
   ]
  },
  {
   "cell_type": "markdown",
   "metadata": {},
   "source": [
    "The Commodity Channel Index (CCI) measures the difference between the current *typical* price, computed as the average of current low, high and close price and the historical average price. A positive (negative) CCI indicates that price is above (below) the historic average. When CCI is below zero, the price is below the hsitoric average. It is computed as:\n",
    "\n",
    "$$\n",
    "\\begin{align*}\n",
    "\\bar{P_t}&=\\frac{P_t^H+P_t^L+P_t^C}{3}\\\\\n",
    "\\text{CCI}_t & =\\frac{\\bar{P_t} - \\text{SMA}(T)_t}{0.15\\sum_{t=i}^T |\\bar{P_t}-\\text{SMA}(N)_t|/T}\n",
    "\\end{align*}\n",
    "$$"
   ]
  },
  {
   "cell_type": "markdown",
   "metadata": {},
   "source": [
    "### Moving Average Convergence/Divergence (MACD)"
   ]
  },
  {
   "cell_type": "markdown",
   "metadata": {},
   "source": [
    "Moving Average Convergence Divergence (MACD) is a trend-following (lagging) momentum indicator that shows the relationship between two moving averages of a security’s price. It is calculated by subtracting the 26-period Exponential Moving Average (EMA) from the 12-period EMA.\n",
    "\n",
    "The TA-Lib implementation returns the MACD value and its signal line, which is the 9-day EMA of the MACD. In addition, the MACD-Histogram measures the distance between the indicator and its signal line."
   ]
  },
  {
   "cell_type": "markdown",
   "metadata": {},
   "source": [
    "### Chande Momentum Oscillator (CMO)"
   ]
  },
  {
   "cell_type": "markdown",
   "metadata": {},
   "source": [
    "The Chande Momentum Oscillator (CMO) intends to measure momentum on both up and down days. It is calculated as the difference between the sum of gains and losses over at time period T, divided by the sum of all price movement over the same period. It oscillates between +100 and -100."
   ]
  },
  {
   "cell_type": "markdown",
   "metadata": {},
   "source": [
    "### Money Flow Index"
   ]
  },
  {
   "cell_type": "markdown",
   "metadata": {},
   "source": [
    "The Money Flow Index (MFI) incorporates price and volume information to identify overbought or oversold conditions.  The indicator is typically calculated using 14 periods of data. An MFI reading above 80 is considered overbought and an MFI reading below 20 is considered oversold."
   ]
  },
  {
   "cell_type": "markdown",
   "metadata": {},
   "source": [
    "### Relative Strength Index"
   ]
  },
  {
   "cell_type": "markdown",
   "metadata": {},
   "source": [
    "RSI compares the magnitude of recent price changes across stocks to identify stocks as overbought or oversold. A high RSI (usually above 70) indicates overbought and a low RSI (typically below 30) indicates oversold. It first computes the average price change for a given number (often 14) of prior trading days with rising and falling prices, respectively as $\\text{up}_t$ and $\\text{down}_t$. Then, the RSI is computed as:\n",
    "$$\n",
    "\\text{RSI}_t=100-\\frac{100}{1+\\frac{\\text{up}_t}{\\text{down}_t}}\n",
    "$$\n",
    "\n"
   ]
  },
  {
   "cell_type": "markdown",
   "metadata": {},
   "source": [
    "#### Stochastic RSI (STOCHRSI)"
   ]
  },
  {
   "cell_type": "markdown",
   "metadata": {},
   "source": [
    "The Stochastic Relative Strength Index (STOCHRSI) is based on the RSI just described and intends to identify crossovers as well as overbought and oversold conditions. It compares the distance of the current RSI to the lowest RSI over a given time period T to the maximum range of values the RSI has assumed for this period. It is computed as follows:\n",
    "\n",
    "$$\n",
    "\\text{STOCHRSI}_t= \\frac{\\text{RSI}_t-\\text{RSI}_t^L(T)}{\\text{RSI}_t^H(T)-\\text{RSI}_t^L(T)}\n",
    "$$\n",
    "\n",
    "The TA-Lib implementation offers more flexibility than the original \"Unsmoothed stochastic RSI\" version by Chande and Kroll (1993). To calculate the original indicator, keep the `timeperiod` and `fastk_period` equal. \n",
    "\n",
    "The return value `fastk` is the unsmoothed RSI. The `fastd_period` is used to compute a smoothed STOCHRSI, which  is returned as `fastd`. If you do not care about STOCHRSI smoothing, just set `fastd_period` to 1 and ignore the `fastd` output.\n",
    "\n",
    "Reference: \"Stochastic RSI and Dynamic Momentum Index\" by Tushar Chande and Stanley Kroll Stock&Commodities V.11:5 (189-199)\n"
   ]
  },
  {
   "cell_type": "markdown",
   "metadata": {},
   "source": [
    "### Stochastic (STOCH)"
   ]
  },
  {
   "cell_type": "markdown",
   "metadata": {},
   "source": [
    "A stochastic oscillator is a momentum indicator comparing a particular closing price of a security to a range of its prices over a certain period of time. Stochastic oscillators are based on the idea that closing prices should confirm the trend."
   ]
  },
  {
   "cell_type": "markdown",
   "metadata": {},
   "source": [
    "For stochastic (STOCH), there are four different lines: `FASTK`, `FASTD`, `SLOWK` and `SLOWD`. The `D` is the signal line usually drawn over its corresponding `K` function.\n",
    "\n",
    "$$\n",
    "\\begin{align*}\n",
    "& K^\\text{Fast}(T_K) & = &\\frac{P_t-P_{T_K}^L}{P_{T_K}^H-P_{T_K}^L}* 100 \\\\\n",
    "& D^\\text{Fast}(T_{\\text{FastD}}) & = & \\text{MA}(T_{\\text{FastD}})[K^\\text{Fast}]\\\\\n",
    "& K^\\text{Slow}(T_{\\text{SlowK}}) & = &\\text{MA}(T_{\\text{SlowK}})[K^\\text{Fast}]\\\\\n",
    "& D^\\text{Slow}(T_{\\text{SlowD}}) & = &\\text{MA}(T_{\\text{SlowD}})[K^\\text{Slow}]\n",
    "\\end{align*}\n",
    "$$\n",
    "  \n",
    "\n",
    "The $P_{T_K}^L$, $P_{T_K}^H$, and $P_{T_K}^L$ are the extreme values among the last $T_K$ period.\n",
    " $K^\\text{Slow}$ and $D^\\text{Fast}$ are equivalent when using the same period. "
   ]
  },
  {
   "cell_type": "markdown",
   "metadata": {},
   "source": [
    "### Ultimate Oscillator (ULTOSC)"
   ]
  },
  {
   "cell_type": "markdown",
   "metadata": {},
   "source": [
    "The Ultimate Oscillator (ULTOSC), developed by Larry Williams, measures the average difference of the current close to the previous lowest price over three time frames (default: 7, 14, and 28) to avoid overreacting to short-term price changes and incorporat short, medium, and long-term market trends. It first computes the buying pressure, $\\text{BP}_t$, then sums it over the three periods $T_1, T_2, T_3$, normalized by the True Range ($\\text{TR}_t$.\n",
    "$$\n",
    "\\begin{align*}\n",
    "\\text{BP}_t & = P_t^\\text{Close}-\\min(P_{t-1}^\\text{Close}, P_t^\\text{Low})\\\\ \n",
    "\\text{TR}_t & = \\max(P_{t-1}^\\text{Close}, P_t^\\text{High})-\\min(P_{t-1}^\\text{Close}, P_t^\\text{Low})\n",
    "\\end{align*}\n",
    "$$\n",
    "\n",
    "ULTOSC is then computed as a weighted average over the three periods as follows:\n",
    "$$\n",
    "\\begin{align*}\n",
    "\\text{Avg}_t(T) & = \\frac{\\sum_{i=0}^{T-1} \\text{BP}_{t-i}}{\\sum_{i=0}^{T-1} \\text{TR}_{t-i}}\\\\\n",
    "\\text{ULTOSC}_t & = 100*\\frac{4\\text{Avg}_t(7) + 2\\text{Avg}_t(14) + \\text{Avg}_t(28)}{4+2+1}\n",
    "\\end{align*}\n",
    "$$"
   ]
  },
  {
   "cell_type": "markdown",
   "metadata": {},
   "source": [
    "### Williams' %R (WILLR)"
   ]
  },
  {
   "cell_type": "markdown",
   "metadata": {},
   "source": [
    "Williams %R, also known as the Williams Percent Range, is a momentum indicator that moves between 0 and -100 and measures overbought and oversold levels to identify entry and exit points. It is similar to the Stochastic oscillator and compares the current closing price $P_t^\\text{Close}$ to the range of highest ($P_T^\\text{High}$) and lowest ($P_T^\\text{Low}$) prices over the last T periods (typically 14). The indicators is computed as:\n",
    "\n",
    "$$\n",
    "\\text{WILLR}_t = \\frac{P_T^\\text{High}-P_t^\\text{Close}}{P_T^\\text{High}-P_T^\\text{Low}}\n",
    "$$\n"
   ]
  },
  {
   "cell_type": "markdown",
   "metadata": {},
   "source": [
    "## Volume Indicators"
   ]
  },
  {
   "cell_type": "markdown",
   "metadata": {},
   "source": [
    "|Function|             Name|\n",
    "|:---|:---|\n",
    "|AD|                   Chaikin A/D Line|\n",
    "|ADOSC|                Chaikin A/D Oscillator|\n",
    "|OBV|                  On Balance Volume|"
   ]
  },
  {
   "cell_type": "markdown",
   "metadata": {},
   "source": [
    "### Chaikin A/D Line"
   ]
  },
  {
   "cell_type": "markdown",
   "metadata": {},
   "source": [
    "The Chaikin Advance/Decline or Accumulation/Distribution Line (AD) is a volume-based indicator designed to measure the cumulative flow of money into and out of an asset. The indicator assumes that the degree of buying or selling pressure can be determined by the location of the close, relative to the high and low for the period. There is buying (sellng) pressure when a stock closes in the upper (lower) half of a period's range. The intention is to signal a change in direction when the indicator diverges from the security price.\n",
    "\n",
    "The Accumulation/Distribution Line is a running total of each period's Money Flow Volume. It is calculated as follows:\n",
    "\n",
    "1. The Money Flow Multiplier (MFI) is the relationship of the close to the high-low range:\n",
    "2. The MFI is multiplied by the period's volume $V_t$ to come up with a Money Flow Volume (MFV). \n",
    "3. A running total of the Money Flow Volume forms the Accumulation Distribution Line:\n",
    "$$\n",
    "\\begin{align*}\n",
    "&\\text{MFI}_t&=\\frac{P_t^\\text{Close}-P_t^\\text{Low}}{P_t^\\text{High}-P_t^\\text{Low}}\\\\\n",
    "&\\text{MFV}_t&=\\text{MFI}_t \\times V_t\\\\\n",
    "&\\text{AD}_t&=\\text{AD}_{t-1}+\\text{MFV}_t\n",
    "\\end{align*}\n",
    "$$"
   ]
  },
  {
   "cell_type": "markdown",
   "metadata": {},
   "source": [
    "### Chaikin A/D Oscillator (ADOSC)"
   ]
  },
  {
   "cell_type": "markdown",
   "metadata": {},
   "source": [
    "The Chaikin A/D Oscillator (ADOSC) is the Moving Average Convergence Divergence indicator (MACD) applied to the Chaikin A/D Line. The Chaikin Oscillator intends to predict changes in the Accumulation/Distribution Line.\n",
    "\n",
    "It is computed as the difference between the 3-day exponential moving average and the 10-day exponential moving average of the Accumulation/Distribution Line."
   ]
  },
  {
   "cell_type": "markdown",
   "metadata": {},
   "source": [
    "### On Balance Volume (OBV)"
   ]
  },
  {
   "cell_type": "markdown",
   "metadata": {},
   "source": [
    "The On Balance Volume indicator (OBV) is a cumulative momentum indicator that relates volume to price change. It assumes that OBV changes precede price changes because smart money can be seen flowing into the security by a rising OBV. When the public then moves into the security, both the security and OBV will rise.\n",
    "\n",
    "The current OBV is computed by adding (subtracting) the current volume to the last OBV if the security closes higher (lower) than the previous close.\n",
    "\n",
    "$$\n",
    "\\text{OBV}_t = \n",
    "\\begin{cases}\n",
    "\\text{OBV}_{t-1}+V_t & \\text{if }P_t>P_{t-1}\\\\\n",
    "\\text{OBV}_{t-1}-V_t & \\text{if }P_t<P_{t-1}\\\\\n",
    "\\text{OBV}_{t-1} & \\text{otherwise}\n",
    "\\end{cases}\n",
    "$$"
   ]
  },
  {
   "cell_type": "markdown",
   "metadata": {},
   "source": [
    "## Volatility Indicators"
   ]
  },
  {
   "cell_type": "markdown",
   "metadata": {},
   "source": [
    "|Function|             Name|\n",
    "|:---|:---|\n",
    "|TRANGE|               True Range|\n",
    "|ATR|                  Average True Range|\n",
    "|NATR|                 Normalized Average True Range|"
   ]
  },
  {
   "cell_type": "markdown",
   "metadata": {},
   "source": [
    "### ATR"
   ]
  },
  {
   "cell_type": "markdown",
   "metadata": {},
   "source": [
    "The Average True Range indicator (ATR) shows volatility of the market. It was introduced by Welles Wilder (1978)  and has been used as a component of numerous other indicators since. It aims to anticipate changes in trend such that the higher its value, the higher the probability of a trend change; the lower the indicator’s value, the weaker the current trend.\n",
    "\n",
    "It is computed as the simple moving average for a period T of the True Range (TRANGE), which measures volatility as the absolute value of the largest recent trading range:\n",
    "$$\n",
    "\\text{TRANGE}_t = \\max\\left[P_t^\\text{High} - P_t^\\text{low}, \\left| P_t^\\text{High} - P_{t-1}^\\text{Close}\\right|, \\left| P_t^\\text{low} - P_{t-1}^\\text{Close}\\right|\\right]\n",
    "$$"
   ]
  },
  {
   "cell_type": "markdown",
   "metadata": {},
   "source": [
    "### NATR"
   ]
  },
  {
   "cell_type": "markdown",
   "metadata": {},
   "source": [
    "The Normalized Average True Range (NATR) is a normalized version of the ATR computed as follows:\n",
    "\n",
    "$$\n",
    "\\text{NATR}_t = \\frac{\\text{ATR}_t(T)}{P_t^\\text{Close}} * 100\n",
    "$$\n",
    "\n",
    "Normalization make the ATR function more relevant in the folllowing scenarios:\n",
    "- Long term analysis where the price changes drastically.\n",
    "- Cross-market or cross-security ATR comparison."
   ]
  },
  {
   "cell_type": "markdown",
   "metadata": {},
   "source": [
    "## Rolling Factor Betas"
   ]
  },
  {
   "cell_type": "code",
   "execution_count": null,
   "metadata": {},
   "outputs": [],
   "source": []
  },
  {
   "cell_type": "markdown",
   "metadata": {},
   "source": [
    "## Persist results"
   ]
  },
  {
   "cell_type": "code",
   "execution_count": null,
   "metadata": {
    "ExecuteTime": {
     "end_time": "2020-07-14T13:19:11.145313Z",
     "start_time": "2020-07-14T13:19:10.820945Z"
    }
   },
   "outputs": [],
   "source": [
    "with pd.HDFStore(DATA_STORE) as store:\n",
    "    pass"
   ]
  }
 ],
 "metadata": {
  "kernelspec": {
   "display_name": "Python 3",
   "language": "python",
   "name": "python3"
  },
  "language_info": {
   "codemirror_mode": {
    "name": "ipython",
    "version": 3
   },
   "file_extension": ".py",
   "mimetype": "text/x-python",
   "name": "python",
   "nbconvert_exporter": "python",
   "pygments_lexer": "ipython3",
   "version": "3.8.5"
  },
  "toc": {
   "base_numbering": 1,
   "nav_menu": {},
   "number_sections": true,
   "sideBar": true,
   "skip_h1_title": true,
   "title_cell": "Table of Contents",
   "title_sidebar": "Contents",
   "toc_cell": false,
   "toc_position": {
    "height": "calc(100% - 180px)",
    "left": "10px",
    "top": "150px",
    "width": "512px"
   },
   "toc_section_display": true,
   "toc_window_display": true
  }
 },
 "nbformat": 4,
 "nbformat_minor": 4
}
