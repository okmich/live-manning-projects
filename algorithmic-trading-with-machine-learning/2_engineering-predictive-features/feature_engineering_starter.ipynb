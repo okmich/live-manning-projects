{
 "cells": [
  {
   "cell_type": "markdown",
   "metadata": {},
   "source": [
    "# Engineering Predictive Alpha Factors"
   ]
  },
  {
   "cell_type": "markdown",
   "metadata": {},
   "source": [
    "This notebook illustrates the following steps:\n",
    "\n",
    "1. Select the adjusted open, high, low, and close prices as well as the volume for all tickers from the Quandl Wiki data that you downloaded and simplified for the last milestone for the 2007-2016 time period. Looking ahead, we will use 2014-2016 as our 'out-of-sample' period to test the performance of a strategy based on a machine learning model selected using data from preceding periods.\n",
    "2. Compute the dollar volume as the product of closing price and trading volume; then select the stocks with at least eight years of data and the lowest average daily rank for this metric. \n",
    "3. Compute daily returns and keep only 'inliers' with values between -100% and + 100% as a basic check against data error.\n",
    "4. Now we're ready to compute financial features. The Alpha Factory Library listed among the resources below illustrates how to compute a broad range of those using pandas and TA-Lib. We will list a few examples; feel free to explore and evaluate the various TA-Lib indicators.\n",
    "    - Compute **historical returns** for various time ranges such as 1, 3, 5, 10, 21 trading days, as well as longer periods like 2, 3, 6 and 12 months.\n",
    "    - Use TA-Lib's **Bollinger Band** indicator to create features that anticipate **mean-reversion**.\n",
    "    - Select some indicators from TA-Lib's **momentum** indicators family such as\n",
    "        - the Average Directional Movement Index (ADX), \n",
    "        - the Moving Average Convergence Divergence (MACD), \n",
    "        - the Relative Strength Index (RSI), \n",
    "        - the Balance of Power (BOP) indictor, or \n",
    "        - the Money Flow Index (MFI).\n",
    "    - Compute TA-Lib **volume** indicators like On Balance Volume (OBV) or the Chaikin A/D Oscillator (ADOSC)\n",
    "    - Create volatility metrics such as the Normalized Average True Range (NATR).\n",
    "    - Compute rolling factor betas using the five Fama-French risk factors for different rolling windows of three and 12 months (see resources below).\n",
    "    - Compute the outcome variable that we will aim to predict, namely the 1-day forward returns."
   ]
  },
  {
   "cell_type": "markdown",
   "metadata": {},
   "source": [
    "## Usage tips\n",
    "\n",
    "- If you experience resource constraints (suddenly restarting Kernel), increase the memory available for Docker Desktop (> Settings > Advanced). If this not possible or you experienced prolonged execution times, reduce the scope of the exercise. The easiest way to do so is to select fewer stocks or a shorter time period, or both.\n",
    "- You may want to persist intermediate results so you can recover quickly in case something goes wrong. There's an example under the first 'Persist Results' subsection."
   ]
  },
  {
   "cell_type": "markdown",
   "metadata": {},
   "source": [
    "## Imports & Settings"
   ]
  },
  {
   "cell_type": "code",
   "execution_count": 1,
   "metadata": {
    "ExecuteTime": {
     "end_time": "2020-07-14T13:15:13.439296Z",
     "start_time": "2020-07-14T13:15:13.437658Z"
    }
   },
   "outputs": [],
   "source": [
    "import warnings\n",
    "warnings.filterwarnings('ignore')"
   ]
  },
  {
   "cell_type": "code",
   "execution_count": 2,
   "metadata": {
    "ExecuteTime": {
     "end_time": "2020-07-14T13:15:14.100318Z",
     "start_time": "2020-07-14T13:15:13.442824Z"
    }
   },
   "outputs": [],
   "source": [
    "%matplotlib inline\n",
    "\n",
    "from pathlib import Path\n",
    "import numpy as np\n",
    "import pandas as pd\n",
    "import pandas_datareader.data as web\n",
    "\n",
    "import statsmodels.api as sm\n",
    "from statsmodels.regression.rolling import RollingOLS\n",
    "from sklearn.preprocessing import scale\n",
    "import talib\n",
    "\n",
    "import matplotlib.pyplot as plt\n",
    "import seaborn as sns"
   ]
  },
  {
   "cell_type": "code",
   "execution_count": 3,
   "metadata": {
    "ExecuteTime": {
     "end_time": "2020-07-14T13:15:14.104107Z",
     "start_time": "2020-07-14T13:15:14.101491Z"
    }
   },
   "outputs": [],
   "source": [
    "sns.set_style('whitegrid')\n",
    "idx = pd.IndexSlice\n",
    "deciles = np.arange(.1, 1, .1).round(1)"
   ]
  },
  {
   "cell_type": "markdown",
   "metadata": {},
   "source": [
    "## Load Data"
   ]
  },
  {
   "cell_type": "code",
   "execution_count": 4,
   "metadata": {
    "ExecuteTime": {
     "end_time": "2020-07-14T13:15:14.120940Z",
     "start_time": "2020-07-14T13:15:14.105281Z"
    }
   },
   "outputs": [],
   "source": [
    "DATA_STORE = Path('..', 'data', 'stock_prices.h5')"
   ]
  },
  {
   "cell_type": "code",
   "execution_count": 5,
   "metadata": {
    "ExecuteTime": {
     "end_time": "2021-02-06T01:59:37.856956Z",
     "start_time": "2021-02-06T01:59:37.799466Z"
    }
   },
   "outputs": [],
   "source": [
    "with pd.HDFStore(DATA_STORE) as store:\n",
    "    data = store['us_stocks']"
   ]
  },
  {
   "cell_type": "code",
   "execution_count": 6,
   "metadata": {},
   "outputs": [
    {
     "name": "stdout",
     "output_type": "stream",
     "text": [
      "(11343366, 5)\n",
      "<class 'pandas.core.frame.DataFrame'>\n",
      "MultiIndex: 11343366 entries, ('A', Timestamp('2000-01-03 00:00:00')) to ('ZUMZ', Timestamp('2018-03-27 00:00:00'))\n",
      "Data columns (total 5 columns):\n",
      " #   Column  Non-Null Count     Dtype  \n",
      "---  ------  --------------     -----  \n",
      " 0   open    11343366 non-null  float64\n",
      " 1   high    11343366 non-null  float64\n",
      " 2   low     11343366 non-null  float64\n",
      " 3   close   11343366 non-null  float64\n",
      " 4   volume  11343366 non-null  float64\n",
      "dtypes: float64(5)\n",
      "memory usage: 476.7+ MB\n"
     ]
    }
   ],
   "source": [
    "print(data.shape)\n",
    "data.info(show_counts=True)"
   ]
  },
  {
   "cell_type": "markdown",
   "metadata": {},
   "source": [
    "## Select 500 most-traded stocks prior to 2017"
   ]
  },
  {
   "cell_type": "markdown",
   "metadata": {},
   "source": [
    "Compute the dollar volume as the product of the adjusted close price and the adjusted volume:"
   ]
  },
  {
   "cell_type": "code",
   "execution_count": 7,
   "metadata": {},
   "outputs": [],
   "source": [
    "dollar_vol_df = data.loc[idx[:, :'2016'], :]\n",
    "dollar_vol_df =  dollar_vol_df['close'].multiply(dollar_vol_df['volume'])\n",
    "dollar_vol_df  = data.close.mul(data.volume)\n",
    "top_500 = (dollar_vol_df .groupby(level='date')\n",
    "          .rank(ascending=False)\n",
    "          .unstack('ticker')\n",
    "          .dropna(thresh=8*252, axis=1)\n",
    "          .mean()\n",
    "          .nsmallest(500))\n",
    "sym_to_dop = data.index.unique('ticker').difference(top_500.index)\n",
    "data = data.drop(sym_to_dop, level='ticker')"
   ]
  },
  {
   "cell_type": "code",
   "execution_count": 8,
   "metadata": {},
   "outputs": [
    {
     "name": "stdout",
     "output_type": "stream",
     "text": [
      "<class 'pandas.core.frame.DataFrame'>\n",
      "MultiIndex: 2164553 entries, ('A', Timestamp('2000-01-03 00:00:00')) to ('ZMH', Timestamp('2015-06-26 00:00:00'))\n",
      "Data columns (total 5 columns):\n",
      " #   Column  Non-Null Count    Dtype  \n",
      "---  ------  --------------    -----  \n",
      " 0   open    2164553 non-null  float64\n",
      " 1   high    2164553 non-null  float64\n",
      " 2   low     2164553 non-null  float64\n",
      " 3   close   2164553 non-null  float64\n",
      " 4   volume  2164553 non-null  float64\n",
      "dtypes: float64(5)\n",
      "memory usage: 91.6+ MB\n"
     ]
    }
   ],
   "source": [
    "data.info(show_counts=True)"
   ]
  },
  {
   "cell_type": "code",
   "execution_count": 9,
   "metadata": {},
   "outputs": [
    {
     "data": {
      "text/plain": [
       "500"
      ]
     },
     "execution_count": 9,
     "metadata": {},
     "output_type": "execute_result"
    }
   ],
   "source": [
    "len(data.index.unique('ticker'))"
   ]
  },
  {
   "cell_type": "code",
   "execution_count": 10,
   "metadata": {},
   "outputs": [
    {
     "data": {
      "text/plain": [
       "4587"
      ]
     },
     "execution_count": 10,
     "metadata": {},
     "output_type": "execute_result"
    }
   ],
   "source": [
    "len(data.index.unique('date'))"
   ]
  },
  {
   "cell_type": "code",
   "execution_count": 11,
   "metadata": {},
   "outputs": [
    {
     "data": {
      "image/png": "[encoded data removed]",
      "text/plain": [
       "<Figure size 2000x1000 with 5 Axes>"
      ]
     },
     "metadata": {},
     "output_type": "display_data"
    }
   ],
   "source": [
    "cutoffs = [0, 50, 100, 150, 200, 250]\n",
    "fig, axes = plt.subplots(ncols=5, figsize=(20, 10), sharex=True)\n",
    "axes = axes.flatten()\n",
    "\n",
    "for i, cutoff in enumerate(cutoffs[1:], 1):\n",
    "    top_500.iloc[cutoffs[i-1]:cutoffs[i]].sort_values().plot.barh(logx=True, ax=axes[i-1])\n",
    "fig.tight_layout()"
   ]
  },
  {
   "cell_type": "markdown",
   "metadata": {},
   "source": [
    "## Remove outliers based on daily returns"
   ]
  },
  {
   "cell_type": "code",
   "execution_count": 12,
   "metadata": {},
   "outputs": [],
   "source": [
    "daily_returns = data.groupby('ticker').close.pct_change()"
   ]
  },
  {
   "cell_type": "code",
   "execution_count": 13,
   "metadata": {},
   "outputs": [
    {
     "data": {
      "text/plain": [
       "mean        0.000652\n",
       "std         0.027345\n",
       "min        -0.728859\n",
       "0.001%     -0.507202\n",
       "0.01%      -0.291512\n",
       "0.1%       -0.151676\n",
       "50%         0.000349\n",
       "99.9%       0.170642\n",
       "99.99%      0.332251\n",
       "99.999%     0.628086\n",
       "max        12.164251\n",
       "Name: close, dtype: float64"
      ]
     },
     "execution_count": 13,
     "metadata": {},
     "output_type": "execute_result"
    }
   ],
   "source": [
    "daily_returns.describe(percentiles=[.00001, .0001, .001, .999, .9999, .99999]).iloc[1:]"
   ]
  },
  {
   "cell_type": "markdown",
   "metadata": {},
   "source": [
    "Why not clip instead of remove outliers."
   ]
  },
  {
   "cell_type": "code",
   "execution_count": 14,
   "metadata": {},
   "outputs": [],
   "source": [
    "outliers = daily_returns[(daily_returns < daily_returns.quantile(.00001)) |\n",
    "                         (daily_returns > daily_returns.quantile(.99999))]"
   ]
  },
  {
   "cell_type": "code",
   "execution_count": 15,
   "metadata": {},
   "outputs": [
    {
     "data": {
      "text/plain": [
       "44"
      ]
     },
     "execution_count": 15,
     "metadata": {},
     "output_type": "execute_result"
    }
   ],
   "source": [
    "len(outliers)"
   ]
  },
  {
   "cell_type": "code",
   "execution_count": 16,
   "metadata": {},
   "outputs": [
    {
     "data": {
      "text/plain": [
       "30"
      ]
     },
     "execution_count": 16,
     "metadata": {},
     "output_type": "execute_result"
    }
   ],
   "source": [
    "len(outliers.index.unique(\"ticker\"))"
   ]
  },
  {
   "cell_type": "code",
   "execution_count": 17,
   "metadata": {},
   "outputs": [],
   "source": [
    "data = data.drop(outliers.index.unique('ticker'), level='ticker')"
   ]
  },
  {
   "cell_type": "markdown",
   "metadata": {},
   "source": [
    "## Compute returns"
   ]
  },
  {
   "cell_type": "code",
   "execution_count": 18,
   "metadata": {},
   "outputs": [],
   "source": [
    "by_ticker = data.groupby(level='ticker')"
   ]
  },
  {
   "cell_type": "code",
   "execution_count": 19,
   "metadata": {},
   "outputs": [],
   "source": [
    "time_steps = [1, 3, 5, 10, 21, 42, 63, 126, 252]\n",
    "for t in time_steps:\n",
    "    data[f'ret_{t:02}'] = by_ticker.close.pct_change(t) "
   ]
  },
  {
   "cell_type": "code",
   "execution_count": 20,
   "metadata": {},
   "outputs": [
    {
     "name": "stdout",
     "output_type": "stream",
     "text": [
      "<class 'pandas.core.frame.DataFrame'>\n",
      "MultiIndex: 2043147 entries, ('A', Timestamp('2000-01-03 00:00:00')) to ('ZMH', Timestamp('2015-06-26 00:00:00'))\n",
      "Data columns (total 14 columns):\n",
      " #   Column   Non-Null Count    Dtype  \n",
      "---  ------   --------------    -----  \n",
      " 0   open     2043147 non-null  float64\n",
      " 1   high     2043147 non-null  float64\n",
      " 2   low      2043147 non-null  float64\n",
      " 3   close    2043147 non-null  float64\n",
      " 4   volume   2043147 non-null  float64\n",
      " 5   ret_01   2042677 non-null  float64\n",
      " 6   ret_03   2041737 non-null  float64\n",
      " 7   ret_05   2040797 non-null  float64\n",
      " 8   ret_10   2038447 non-null  float64\n",
      " 9   ret_21   2033277 non-null  float64\n",
      " 10  ret_42   2023407 non-null  float64\n",
      " 11  ret_63   2013537 non-null  float64\n",
      " 12  ret_126  1983927 non-null  float64\n",
      " 13  ret_252  1924707 non-null  float64\n",
      "dtypes: float64(14)\n",
      "memory usage: 226.8+ MB\n"
     ]
    }
   ],
   "source": [
    "data.info(show_counts=True)"
   ]
  },
  {
   "cell_type": "markdown",
   "metadata": {},
   "source": [
    "### Some Utilities for Adding TA indicators"
   ]
  },
  {
   "cell_type": "code",
   "execution_count": 21,
   "metadata": {},
   "outputs": [],
   "source": [
    "by_ticker = data.groupby(level='ticker', group_keys=False)"
   ]
  },
  {
   "cell_type": "markdown",
   "metadata": {},
   "source": [
    "## Bollinger Bands"
   ]
  },
  {
   "cell_type": "code",
   "execution_count": 22,
   "metadata": {},
   "outputs": [],
   "source": [
    "def compute_bb_indicators(close, timeperiod=20, matype=0):\n",
    "    high, mid, low = talib.BBANDS(close, \n",
    "                                  timeperiod=20,\n",
    "                                  matype=matype)\n",
    "    bb_up = high / close -1 # normalize with respect to close\n",
    "    bb_low = low / close -1 # normalize with respect to close\n",
    "    squeeze = (high - low) / close\n",
    "    return pd.DataFrame({'BB_UP': bb_up, \n",
    "                         'BB_LOW': bb_low, \n",
    "                         'BB_SQUEEZE': squeeze}, \n",
    "                        index=close.index)\n",
    "\n",
    "data = (data.join(by_ticker\n",
    "                  .close\n",
    "                  .apply(compute_bb_indicators)))"
   ]
  },
  {
   "cell_type": "code",
   "execution_count": 23,
   "metadata": {},
   "outputs": [
    {
     "name": "stdout",
     "output_type": "stream",
     "text": [
      "<class 'pandas.core.frame.DataFrame'>\n",
      "MultiIndex: 2043147 entries, ('A', Timestamp('2000-01-03 00:00:00')) to ('ZMH', Timestamp('2015-06-26 00:00:00'))\n",
      "Data columns (total 17 columns):\n",
      " #   Column      Non-Null Count    Dtype  \n",
      "---  ------      --------------    -----  \n",
      " 0   open        2043147 non-null  float64\n",
      " 1   high        2043147 non-null  float64\n",
      " 2   low         2043147 non-null  float64\n",
      " 3   close       2043147 non-null  float64\n",
      " 4   volume      2043147 non-null  float64\n",
      " 5   ret_01      2042677 non-null  float64\n",
      " 6   ret_03      2041737 non-null  float64\n",
      " 7   ret_05      2040797 non-null  float64\n",
      " 8   ret_10      2038447 non-null  float64\n",
      " 9   ret_21      2033277 non-null  float64\n",
      " 10  ret_42      2023407 non-null  float64\n",
      " 11  ret_63      2013537 non-null  float64\n",
      " 12  ret_126     1983927 non-null  float64\n",
      " 13  ret_252     1924707 non-null  float64\n",
      " 14  BB_UP       2034217 non-null  float64\n",
      " 15  BB_LOW      2034217 non-null  float64\n",
      " 16  BB_SQUEEZE  2034217 non-null  float64\n",
      "dtypes: float64(17)\n",
      "memory usage: 338.1+ MB\n"
     ]
    }
   ],
   "source": [
    "data.info(show_counts=True)"
   ]
  },
  {
   "cell_type": "markdown",
   "metadata": {},
   "source": [
    "## Momentum Indicators"
   ]
  },
  {
   "cell_type": "markdown",
   "metadata": {},
   "source": [
    "TA-Lib offers the following choices - feel free to experiment with as many as you like (but you don't have to..):"
   ]
  },
  {
   "cell_type": "markdown",
   "metadata": {},
   "source": [
    "|Function|             Name|\n",
    "|:---|:---|\n",
    "|PLUS_DM|              Plus Directional Movement|\n",
    "|MINUS_DM|             Minus Directional Movement|\n",
    "|PLUS_DI|              Plus Directional Indicator|\n",
    "|MINUS_DI|             Minus Directional Indicator|\n",
    "|DX|                   Directional Movement Index|\n",
    "|ADX|                  Average Directional Movement Index|\n",
    "|ADXR|                 Average Directional Movement Index Rating|\n",
    "|APO|                  Absolute Price Oscillator|\n",
    "|PPO|                  Percentage Price Oscillator|\n",
    "|AROON|                Aroon|\n",
    "|AROONOSC|             Aroon Oscillator|\n",
    "|BOP|                  Balance Of Power|\n",
    "|CCI|                  Commodity Channel Index|\n",
    "|CMO|                  Chande Momentum Oscillator|\n",
    "|MACD|                 Moving Average Convergence/Divergence|\n",
    "|MACDEXT|              MACD with controllable MA type|\n",
    "|MACDFIX|              Moving Average Convergence/Divergence Fix 12/26|\n",
    "|MFI|                  Money Flow Index|\n",
    "|MOM|                  Momentum|\n",
    "|RSI|                  Relative Strength Index|\n",
    "|STOCH|                Stochastic|\n",
    "|STOCHF|               Stochastic Fast|\n",
    "|STOCHRSI|             Stochastic Relative Strength Index|\n",
    "|TRIX|                 1-day Rate-Of-Change (ROC) of a Triple Smooth EMA|\n",
    "|ULTOSC|               Ultimate Oscillator|\n",
    "|WILLR|                Williams' %R|"
   ]
  },
  {
   "cell_type": "markdown",
   "metadata": {},
   "source": [
    "### Average Directional Movement Index (ADX)"
   ]
  },
  {
   "cell_type": "markdown",
   "metadata": {},
   "source": [
    "The ADX combines of two other indicators, namely the positive and directional indicators (PLUS_DI and MINUS_DI), which in turn build on the positive and directional movement (PLUS_DM and MINUS_DM). For additional details see [Wikipdia](https://en.wikipedia.org/wiki/Average_directional_movement_index) and [Investopedia](https://www.investopedia.com/articles/trading/07/adx-trend-indicator.asp)."
   ]
  },
  {
   "cell_type": "code",
   "execution_count": 24,
   "metadata": {},
   "outputs": [],
   "source": [
    "dm_period = 14\n",
    "adx_period = 14\n",
    "\n",
    "data['PLUS_DI'] = by_ticker.apply(lambda x : talib.PLUS_DI(x.high, x.low, x.close, timeperiod=dm_period))\n",
    "data['MINUS_DI'] = by_ticker.apply(lambda x : talib.MINUS_DI(x.high, x.low, x.close, timeperiod=dm_period))\n",
    "data['ADX'] = by_ticker.apply(lambda x : talib.ADX(x.high,  x.low,  x.close, timeperiod=adx_period))\n",
    "data['ADXR'] = by_ticker.apply(lambda x : talib.ADXR(x.high, x.low, x.close, timeperiod=dm_period))"
   ]
  },
  {
   "cell_type": "markdown",
   "metadata": {},
   "source": [
    "### Absolute Price Oscillator (APO)"
   ]
  },
  {
   "cell_type": "markdown",
   "metadata": {},
   "source": [
    "The absolute Price Oscillator (APO) is computed as the difference between two exponential moving averages (EMA) of price series, expressed as an absolute value. The EMA windows usually contain 26 and 12 data points, respectively."
   ]
  },
  {
   "cell_type": "code",
   "execution_count": 25,
   "metadata": {},
   "outputs": [],
   "source": [
    "data['APO'] = by_ticker.apply(lambda x : talib.APO(x.close, fastperiod=12, slowperiod=26, matype=0))"
   ]
  },
  {
   "cell_type": "markdown",
   "metadata": {},
   "source": [
    "### Percentage Price Oscillator (PPO)"
   ]
  },
  {
   "cell_type": "markdown",
   "metadata": {},
   "source": [
    "The Percentage Price Oscillator (APO) is computed as the difference between two exponential moving averages (EMA) of price series, expressed as a percentage value and thus comparable across assets. The EMA windows usually contain 26 and 12 data points, respectively. "
   ]
  },
  {
   "cell_type": "code",
   "execution_count": 26,
   "metadata": {},
   "outputs": [],
   "source": [
    "data['PPO'] = by_ticker.apply(lambda x : talib.PPO(x.close, fastperiod=12, slowperiod=26, matype=1))"
   ]
  },
  {
   "cell_type": "markdown",
   "metadata": {},
   "source": [
    "### Aroon Oscillator"
   ]
  },
  {
   "cell_type": "markdown",
   "metadata": {},
   "source": [
    "#### Aroon Up/Down Indicator"
   ]
  },
  {
   "cell_type": "markdown",
   "metadata": {},
   "source": [
    "The indicator measures the time between highs and the time between lows over a time period. It computes an AROON_UP and an AROON_DWN indicator as follows:\n",
    "\n",
    "$$\n",
    "\\begin{align*}\n",
    "\\text{AROON_UP}&=\\frac{T-\\text{Periods since T period High}}{T}\\times 100\\\\\n",
    "\\text{AROON_DWN}&=\\frac{T-\\text{Periods since T period Low}}{T}\\times 100\n",
    "\\end{align*}\n",
    "$$"
   ]
  },
  {
   "cell_type": "markdown",
   "metadata": {},
   "source": [
    "#### Aroon Oscillator"
   ]
  },
  {
   "cell_type": "markdown",
   "metadata": {},
   "source": [
    "The Aroon Oscillator is simply the difference between the Aroon Up and Aroon Down indicators."
   ]
  },
  {
   "cell_type": "code",
   "execution_count": 27,
   "metadata": {},
   "outputs": [],
   "source": [
    "data['AROONOSC'] = by_ticker.apply(lambda x : talib.AROONOSC(high=x.high, low=x.low, timeperiod=14))"
   ]
  },
  {
   "cell_type": "markdown",
   "metadata": {},
   "source": [
    "### Balance Of Power (BOP)"
   ]
  },
  {
   "cell_type": "markdown",
   "metadata": {},
   "source": [
    "The Balance of Power (BOP) intends to measure the strength of buyers relative to sellers in the market by assessing the ability of each side to drive prices. It is computer as the difference between the close and the open price, divided by the difference between the high and the low price: \n",
    "\n",
    "$$\n",
    "\\text{BOP}_t= \\frac{P_t^\\text{Close}-P_t^\\text{Open}}{P_t^\\text{High}-P_t^\\text{Low}}\n",
    "$$"
   ]
  },
  {
   "cell_type": "code",
   "execution_count": 28,
   "metadata": {},
   "outputs": [],
   "source": [
    "data['BOP'] = by_ticker.apply(lambda x : talib.BOP(open=x.open, high=x.high, low=x.low, close=x.close))"
   ]
  },
  {
   "cell_type": "markdown",
   "metadata": {},
   "source": [
    "### Commodity Channel Index (CCI)"
   ]
  },
  {
   "cell_type": "markdown",
   "metadata": {},
   "source": [
    "The Commodity Channel Index (CCI) measures the difference between the current *typical* price, computed as the average of current low, high and close price and the historical average price. A positive (negative) CCI indicates that price is above (below) the historic average. When CCI is below zero, the price is below the hsitoric average. It is computed as:\n",
    "\n",
    "$$\n",
    "\\begin{align*}\n",
    "\\bar{P_t}&=\\frac{P_t^H+P_t^L+P_t^C}{3}\\\\\n",
    "\\text{CCI}_t & =\\frac{\\bar{P_t} - \\text{SMA}(T)_t}{0.15\\sum_{t=i}^T |\\bar{P_t}-\\text{SMA}(N)_t|/T}\n",
    "\\end{align*}\n",
    "$$"
   ]
  },
  {
   "cell_type": "code",
   "execution_count": 29,
   "metadata": {},
   "outputs": [],
   "source": [
    "data['CCI'] = by_ticker.apply(lambda x : talib.CCI(high=x.high, low=x.low, close=x.close, timeperiod=14))"
   ]
  },
  {
   "cell_type": "markdown",
   "metadata": {},
   "source": [
    "### Moving Average Convergence/Divergence (MACD)"
   ]
  },
  {
   "cell_type": "markdown",
   "metadata": {},
   "source": [
    "Moving Average Convergence Divergence (MACD) is a trend-following (lagging) momentum indicator that shows the relationship between two moving averages of a security’s price. It is calculated by subtracting the 26-period Exponential Moving Average (EMA) from the 12-period EMA.\n",
    "\n",
    "The TA-Lib implementation returns the MACD value and its signal line, which is the 9-day EMA of the MACD. In addition, the MACD-Histogram measures the distance between the indicator and its signal line."
   ]
  },
  {
   "cell_type": "code",
   "execution_count": 30,
   "metadata": {},
   "outputs": [],
   "source": [
    "def compute_macd(close, fastperiod=12, slowperiod=26, signalperiod=9):\n",
    "    macd, macdsignal, macdhist = talib.MACD(close,\n",
    "                                            fastperiod=fastperiod,\n",
    "                                            slowperiod=slowperiod,\n",
    "                                            signalperiod=signalperiod)\n",
    "    return pd.DataFrame({'MACD': macd,\n",
    "                         'MACD_SIGNAL': macdsignal,\n",
    "                         'MACD_HIST': macdhist},\n",
    "                        index=close.index)\n",
    "\n",
    "data = (data.join(by_ticker\n",
    "                  .close\n",
    "                  .apply(compute_macd)))"
   ]
  },
  {
   "cell_type": "markdown",
   "metadata": {},
   "source": [
    "### Chande Momentum Oscillator (CMO)"
   ]
  },
  {
   "cell_type": "markdown",
   "metadata": {},
   "source": [
    "The Chande Momentum Oscillator (CMO) intends to measure momentum on both up and down days. It is calculated as the difference between the sum of gains and losses over at time period T, divided by the sum of all price movement over the same period. It oscillates between +100 and -100."
   ]
  },
  {
   "cell_type": "code",
   "execution_count": 31,
   "metadata": {},
   "outputs": [],
   "source": [
    "data['CMO'] = by_ticker.apply(lambda x: talib.CMO(x.close, timeperiod=14))"
   ]
  },
  {
   "cell_type": "markdown",
   "metadata": {},
   "source": [
    "### Money Flow Index"
   ]
  },
  {
   "cell_type": "markdown",
   "metadata": {},
   "source": [
    "The Money Flow Index (MFI) incorporates price and volume information to identify overbought or oversold conditions.  The indicator is typically calculated using 14 periods of data. An MFI reading above 80 is considered overbought and an MFI reading below 20 is considered oversold."
   ]
  },
  {
   "cell_type": "code",
   "execution_count": 32,
   "metadata": {},
   "outputs": [],
   "source": [
    "data['MFI'] = by_ticker.apply(lambda x : talib.MFI(high=x.high, low=x.low, close=x.close, volume=x.volume, timeperiod=14))"
   ]
  },
  {
   "cell_type": "markdown",
   "metadata": {},
   "source": [
    "### Relative Strength Index"
   ]
  },
  {
   "cell_type": "markdown",
   "metadata": {},
   "source": [
    "RSI compares the magnitude of recent price changes across stocks to identify stocks as overbought or oversold. A high RSI (usually above 70) indicates overbought and a low RSI (typically below 30) indicates oversold. It first computes the average price change for a given number (often 14) of prior trading days with rising and falling prices, respectively as $\\text{up}_t$ and $\\text{down}_t$. Then, the RSI is computed as:\n",
    "$$\n",
    "\\text{RSI}_t=100-\\frac{100}{1+\\frac{\\text{up}_t}{\\text{down}_t}}\n",
    "$$\n",
    "\n"
   ]
  },
  {
   "cell_type": "code",
   "execution_count": 33,
   "metadata": {},
   "outputs": [],
   "source": [
    "data['RSI'] = by_ticker.apply(lambda x : talib.RSI(x.close, timeperiod=14))"
   ]
  },
  {
   "cell_type": "markdown",
   "metadata": {},
   "source": [
    "#### Stochastic RSI (STOCHRSI)"
   ]
  },
  {
   "cell_type": "markdown",
   "metadata": {},
   "source": [
    "The Stochastic Relative Strength Index (STOCHRSI) is based on the RSI just described and intends to identify crossovers as well as overbought and oversold conditions. It compares the distance of the current RSI to the lowest RSI over a given time period T to the maximum range of values the RSI has assumed for this period. It is computed as follows:\n",
    "\n",
    "$$\n",
    "\\text{STOCHRSI}_t= \\frac{\\text{RSI}_t-\\text{RSI}_t^L(T)}{\\text{RSI}_t^H(T)-\\text{RSI}_t^L(T)}\n",
    "$$\n",
    "\n",
    "The TA-Lib implementation offers more flexibility than the original \"Unsmoothed stochastic RSI\" version by Chande and Kroll (1993). To calculate the original indicator, keep the `timeperiod` and `fastk_period` equal. \n",
    "\n",
    "The return value `fastk` is the unsmoothed RSI. The `fastd_period` is used to compute a smoothed STOCHRSI, which  is returned as `fastd`. If you do not care about STOCHRSI smoothing, just set `fastd_period` to 1 and ignore the `fastd` output.\n",
    "\n",
    "Reference: \"Stochastic RSI and Dynamic Momentum Index\" by Tushar Chande and Stanley Kroll Stock&Commodities V.11:5 (189-199)\n"
   ]
  },
  {
   "cell_type": "code",
   "execution_count": 34,
   "metadata": {},
   "outputs": [],
   "source": [
    "data['STOCHRSI'] = (by_ticker.apply(lambda x: talib.STOCHRSI(x.close,\n",
    "                                                             timeperiod=14,\n",
    "                                                             fastk_period=14,\n",
    "                                                             fastd_period=3,\n",
    "                                                             fastd_matype=0)[0]))"
   ]
  },
  {
   "cell_type": "markdown",
   "metadata": {},
   "source": [
    "### Stochastic (STOCH)"
   ]
  },
  {
   "cell_type": "markdown",
   "metadata": {},
   "source": [
    "A stochastic oscillator is a momentum indicator comparing a particular closing price of a security to a range of its prices over a certain period of time. Stochastic oscillators are based on the idea that closing prices should confirm the trend."
   ]
  },
  {
   "cell_type": "markdown",
   "metadata": {},
   "source": [
    "For stochastic (STOCH), there are four different lines: `FASTK`, `FASTD`, `SLOWK` and `SLOWD`. The `D` is the signal line usually drawn over its corresponding `K` function.\n",
    "\n",
    "$$\n",
    "\\begin{align*}\n",
    "& K^\\text{Fast}(T_K) & = &\\frac{P_t-P_{T_K}^L}{P_{T_K}^H-P_{T_K}^L}* 100 \\\\\n",
    "& D^\\text{Fast}(T_{\\text{FastD}}) & = & \\text{MA}(T_{\\text{FastD}})[K^\\text{Fast}]\\\\\n",
    "& K^\\text{Slow}(T_{\\text{SlowK}}) & = &\\text{MA}(T_{\\text{SlowK}})[K^\\text{Fast}]\\\\\n",
    "& D^\\text{Slow}(T_{\\text{SlowD}}) & = &\\text{MA}(T_{\\text{SlowD}})[K^\\text{Slow}]\n",
    "\\end{align*}\n",
    "$$\n",
    "  \n",
    "\n",
    "The $P_{T_K}^L$, $P_{T_K}^H$, and $P_{T_K}^L$ are the extreme values among the last $T_K$ period.\n",
    " $K^\\text{Slow}$ and $D^\\text{Fast}$ are equivalent when using the same period. "
   ]
  },
  {
   "cell_type": "code",
   "execution_count": 35,
   "metadata": {},
   "outputs": [],
   "source": [
    "def compute_stoch(x, fastk_period=14, slowk_period=3, \n",
    "                  slowk_matype=0, slowd_period=3, slowd_matype=0):\n",
    "    slowk, slowd = talib.STOCH(x.high, x.low, x.close,\n",
    "                           fastk_period=fastk_period,\n",
    "                           slowk_period=slowk_period,\n",
    "                           slowk_matype=slowk_matype,\n",
    "                           slowd_period=slowd_period,\n",
    "                           slowd_matype=slowd_matype)\n",
    "    return slowd/slowk-1\n",
    "\n",
    "data['STOCH'] = by_ticker.apply(compute_stoch)\n",
    "data.loc[data.STOCH.abs() > 1e5, 'STOCH'] = np.nan"
   ]
  },
  {
   "cell_type": "markdown",
   "metadata": {},
   "source": [
    "### Ultimate Oscillator (ULTOSC)"
   ]
  },
  {
   "cell_type": "markdown",
   "metadata": {},
   "source": [
    "The Ultimate Oscillator (ULTOSC), developed by Larry Williams, measures the average difference of the current close to the previous lowest price over three time frames (default: 7, 14, and 28) to avoid overreacting to short-term price changes and incorporat short, medium, and long-term market trends. It first computes the buying pressure, $\\text{BP}_t$, then sums it over the three periods $T_1, T_2, T_3$, normalized by the True Range ($\\text{TR}_t$.\n",
    "$$\n",
    "\\begin{align*}\n",
    "\\text{BP}_t & = P_t^\\text{Close}-\\min(P_{t-1}^\\text{Close}, P_t^\\text{Low})\\\\ \n",
    "\\text{TR}_t & = \\max(P_{t-1}^\\text{Close}, P_t^\\text{High})-\\min(P_{t-1}^\\text{Close}, P_t^\\text{Low})\n",
    "\\end{align*}\n",
    "$$\n",
    "\n",
    "ULTOSC is then computed as a weighted average over the three periods as follows:\n",
    "$$\n",
    "\\begin{align*}\n",
    "\\text{Avg}_t(T) & = \\frac{\\sum_{i=0}^{T-1} \\text{BP}_{t-i}}{\\sum_{i=0}^{T-1} \\text{TR}_{t-i}}\\\\\n",
    "\\text{ULTOSC}_t & = 100*\\frac{4\\text{Avg}_t(7) + 2\\text{Avg}_t(14) + \\text{Avg}_t(28)}{4+2+1}\n",
    "\\end{align*}\n",
    "$$"
   ]
  },
  {
   "cell_type": "code",
   "execution_count": 36,
   "metadata": {},
   "outputs": [],
   "source": [
    "def compute_ultosc(x, timeperiod1=7, timeperiod2=14, timeperiod3=28):\n",
    "    return talib.ULTOSC(x.high,\n",
    "                        x.low,\n",
    "                        x.close,\n",
    "                        timeperiod1=timeperiod1,\n",
    "                        timeperiod2=timeperiod2,\n",
    "                        timeperiod3=timeperiod3)\n",
    "\n",
    "\n",
    "data['ULTOSC'] = by_ticker.apply(compute_ultosc)"
   ]
  },
  {
   "cell_type": "markdown",
   "metadata": {},
   "source": [
    "### Williams' %R (WILLR)"
   ]
  },
  {
   "cell_type": "markdown",
   "metadata": {},
   "source": [
    "Williams %R, also known as the Williams Percent Range, is a momentum indicator that moves between 0 and -100 and measures overbought and oversold levels to identify entry and exit points. It is similar to the Stochastic oscillator and compares the current closing price $P_t^\\text{Close}$ to the range of highest ($P_T^\\text{High}$) and lowest ($P_T^\\text{Low}$) prices over the last T periods (typically 14). The indicators is computed as:\n",
    "\n",
    "$$\n",
    "\\text{WILLR}_t = \\frac{P_T^\\text{High}-P_t^\\text{Close}}{P_T^\\text{High}-P_T^\\text{Low}}\n",
    "$$\n"
   ]
  },
  {
   "cell_type": "code",
   "execution_count": 37,
   "metadata": {},
   "outputs": [],
   "source": [
    "data['WILLR'] = by_ticker.apply(lambda x: talib.WILLR(x.high, x.low, x.close, timeperiod=14))"
   ]
  },
  {
   "cell_type": "markdown",
   "metadata": {},
   "source": [
    "## Volume Indicators"
   ]
  },
  {
   "cell_type": "markdown",
   "metadata": {},
   "source": [
    "|Function|             Name|\n",
    "|:---|:---|\n",
    "|AD|                   Chaikin A/D Line|\n",
    "|ADOSC|                Chaikin A/D Oscillator|\n",
    "|OBV|                  On Balance Volume|"
   ]
  },
  {
   "cell_type": "markdown",
   "metadata": {},
   "source": [
    "### Chaikin A/D Line"
   ]
  },
  {
   "cell_type": "markdown",
   "metadata": {},
   "source": [
    "The Chaikin Advance/Decline or Accumulation/Distribution Line (AD) is a volume-based indicator designed to measure the cumulative flow of money into and out of an asset. The indicator assumes that the degree of buying or selling pressure can be determined by the location of the close, relative to the high and low for the period. There is buying (sellng) pressure when a stock closes in the upper (lower) half of a period's range. The intention is to signal a change in direction when the indicator diverges from the security price.\n",
    "\n",
    "The Accumulation/Distribution Line is a running total of each period's Money Flow Volume. It is calculated as follows:\n",
    "\n",
    "1. The Money Flow Multiplier (MFI) is the relationship of the close to the high-low range:\n",
    "2. The MFI is multiplied by the period's volume $V_t$ to come up with a Money Flow Volume (MFV). \n",
    "3. A running total of the Money Flow Volume forms the Accumulation Distribution Line:\n",
    "$$\n",
    "\\begin{align*}\n",
    "&\\text{MFI}_t&=\\frac{P_t^\\text{Close}-P_t^\\text{Low}}{P_t^\\text{High}-P_t^\\text{Low}}\\\\\n",
    "&\\text{MFV}_t&=\\text{MFI}_t \\times V_t\\\\\n",
    "&\\text{AD}_t&=\\text{AD}_{t-1}+\\text{MFV}_t\n",
    "\\end{align*}\n",
    "$$"
   ]
  },
  {
   "cell_type": "code",
   "execution_count": 38,
   "metadata": {},
   "outputs": [],
   "source": [
    "data['AD'] = by_ticker.apply(lambda x: talib.AD(x.high, x.low, x.close, x.volume)/x.volume.mean())"
   ]
  },
  {
   "cell_type": "markdown",
   "metadata": {},
   "source": [
    "### Chaikin A/D Oscillator (ADOSC)"
   ]
  },
  {
   "cell_type": "markdown",
   "metadata": {},
   "source": [
    "The Chaikin A/D Oscillator (ADOSC) is the Moving Average Convergence Divergence indicator (MACD) applied to the Chaikin A/D Line. The Chaikin Oscillator intends to predict changes in the Accumulation/Distribution Line.\n",
    "\n",
    "It is computed as the difference between the 3-day exponential moving average and the 10-day exponential moving average of the Accumulation/Distribution Line."
   ]
  },
  {
   "cell_type": "code",
   "execution_count": 39,
   "metadata": {},
   "outputs": [],
   "source": [
    "data['ADOSC'] = by_ticker.apply(lambda x: talib.ADOSC(x.high,\n",
    "                                                      x.low,\n",
    "                                                      x.close,\n",
    "                                                      x.volume,\n",
    "                                                      fastperiod=3,\n",
    "                                                      slowperiod=10)/x.rolling(14).volume.mean())"
   ]
  },
  {
   "cell_type": "markdown",
   "metadata": {},
   "source": [
    "### On Balance Volume (OBV)"
   ]
  },
  {
   "cell_type": "markdown",
   "metadata": {},
   "source": [
    "The On Balance Volume indicator (OBV) is a cumulative momentum indicator that relates volume to price change. It assumes that OBV changes precede price changes because smart money can be seen flowing into the security by a rising OBV. When the public then moves into the security, both the security and OBV will rise.\n",
    "\n",
    "The current OBV is computed by adding (subtracting) the current volume to the last OBV if the security closes higher (lower) than the previous close.\n",
    "\n",
    "$$\n",
    "\\text{OBV}_t = \n",
    "\\begin{cases}\n",
    "\\text{OBV}_{t-1}+V_t & \\text{if }P_t>P_{t-1}\\\\\n",
    "\\text{OBV}_{t-1}-V_t & \\text{if }P_t<P_{t-1}\\\\\n",
    "\\text{OBV}_{t-1} & \\text{otherwise}\n",
    "\\end{cases}\n",
    "$$"
   ]
  },
  {
   "cell_type": "code",
   "execution_count": 40,
   "metadata": {},
   "outputs": [],
   "source": [
    "data['OBV'] = by_ticker.apply(lambda x: talib.OBV(x.close, x.volume)/x.expanding().volume.mean())"
   ]
  },
  {
   "cell_type": "markdown",
   "metadata": {},
   "source": [
    "## Volatility Indicators"
   ]
  },
  {
   "cell_type": "markdown",
   "metadata": {},
   "source": [
    "|Function|             Name|\n",
    "|:---|:---|\n",
    "|TRANGE|               True Range|\n",
    "|ATR|                  Average True Range|\n",
    "|NATR|                 Normalized Average True Range|"
   ]
  },
  {
   "cell_type": "markdown",
   "metadata": {},
   "source": [
    "### ATR"
   ]
  },
  {
   "cell_type": "markdown",
   "metadata": {},
   "source": [
    "The Average True Range indicator (ATR) shows volatility of the market. It was introduced by Welles Wilder (1978)  and has been used as a component of numerous other indicators since. It aims to anticipate changes in trend such that the higher its value, the higher the probability of a trend change; the lower the indicator’s value, the weaker the current trend.\n",
    "\n",
    "It is computed as the simple moving average for a period T of the True Range (TRANGE), which measures volatility as the absolute value of the largest recent trading range:\n",
    "$$\n",
    "\\text{TRANGE}_t = \\max\\left[P_t^\\text{High} - P_t^\\text{low}, \\left| P_t^\\text{High} - P_{t-1}^\\text{Close}\\right|, \\left| P_t^\\text{low} - P_{t-1}^\\text{Close}\\right|\\right]\n",
    "$$"
   ]
  },
  {
   "cell_type": "code",
   "execution_count": 41,
   "metadata": {},
   "outputs": [],
   "source": [
    "data['ATR'] = by_ticker.apply(lambda x: talib.ATR(x.high, x.low, x.close, timeperiod=14)/x.rolling(14).close.mean())"
   ]
  },
  {
   "cell_type": "markdown",
   "metadata": {},
   "source": [
    "### NATR"
   ]
  },
  {
   "cell_type": "markdown",
   "metadata": {},
   "source": [
    "The Normalized Average True Range (NATR) is a normalized version of the ATR computed as follows:\n",
    "\n",
    "$$\n",
    "\\text{NATR}_t = \\frac{\\text{ATR}_t(T)}{P_t^\\text{Close}} * 100\n",
    "$$\n",
    "\n",
    "Normalization make the ATR function more relevant in the folllowing scenarios:\n",
    "- Long term analysis where the price changes drastically.\n",
    "- Cross-market or cross-security ATR comparison."
   ]
  },
  {
   "cell_type": "code",
   "execution_count": 42,
   "metadata": {},
   "outputs": [],
   "source": [
    "data['NATR'] = by_ticker.apply(lambda x: talib.NATR(x.high, x.low, x.close, timeperiod=14))"
   ]
  },
  {
   "cell_type": "code",
   "execution_count": 43,
   "metadata": {},
   "outputs": [
    {
     "name": "stdout",
     "output_type": "stream",
     "text": [
      "<class 'pandas.core.frame.DataFrame'>\n",
      "MultiIndex: 2043147 entries, ('A', Timestamp('2000-01-03 00:00:00')) to ('ZMH', Timestamp('2015-06-26 00:00:00'))\n",
      "Data columns (total 41 columns):\n",
      " #   Column       Non-Null Count    Dtype  \n",
      "---  ------       --------------    -----  \n",
      " 0   open         2043147 non-null  float64\n",
      " 1   high         2043147 non-null  float64\n",
      " 2   low          2043147 non-null  float64\n",
      " 3   close        2043147 non-null  float64\n",
      " 4   volume       2043147 non-null  float64\n",
      " 5   ret_01       2042677 non-null  float64\n",
      " 6   ret_03       2041737 non-null  float64\n",
      " 7   ret_05       2040797 non-null  float64\n",
      " 8   ret_10       2038447 non-null  float64\n",
      " 9   ret_21       2033277 non-null  float64\n",
      " 10  ret_42       2023407 non-null  float64\n",
      " 11  ret_63       2013537 non-null  float64\n",
      " 12  ret_126      1983927 non-null  float64\n",
      " 13  ret_252      1924707 non-null  float64\n",
      " 14  BB_UP        2034217 non-null  float64\n",
      " 15  BB_LOW       2034217 non-null  float64\n",
      " 16  BB_SQUEEZE   2034217 non-null  float64\n",
      " 17  PLUS_DI      2036567 non-null  float64\n",
      " 18  MINUS_DI     2036567 non-null  float64\n",
      " 19  ADX          2030457 non-null  float64\n",
      " 20  ADXR         2024347 non-null  float64\n",
      " 21  APO          2031397 non-null  float64\n",
      " 22  PPO          2031397 non-null  float64\n",
      " 23  AROONOSC     2036567 non-null  float64\n",
      " 24  BOP          2043147 non-null  float64\n",
      " 25  CCI          2037037 non-null  float64\n",
      " 26  MACD         2027637 non-null  float64\n",
      " 27  MACD_SIGNAL  2027637 non-null  float64\n",
      " 28  MACD_HIST    2027637 non-null  float64\n",
      " 29  CMO          2036567 non-null  float64\n",
      " 30  MFI          2036567 non-null  float64\n",
      " 31  RSI          2036567 non-null  float64\n",
      " 32  STOCHRSI     2029517 non-null  float64\n",
      " 33  STOCH        2035132 non-null  float64\n",
      " 34  ULTOSC       2029987 non-null  float64\n",
      " 35  WILLR        2037037 non-null  float64\n",
      " 36  AD           2043147 non-null  float64\n",
      " 37  ADOSC        2037037 non-null  float64\n",
      " 38  OBV          2043146 non-null  float64\n",
      " 39  ATR          2036567 non-null  float64\n",
      " 40  NATR         2036567 non-null  float64\n",
      "dtypes: float64(41)\n",
      "memory usage: 712.2+ MB\n"
     ]
    }
   ],
   "source": [
    "data.info(show_counts=True)"
   ]
  },
  {
   "cell_type": "markdown",
   "metadata": {},
   "source": [
    "### Compute the outcome variable that we will aim to predict, namely the 1-day forward returns."
   ]
  },
  {
   "cell_type": "code",
   "execution_count": 44,
   "metadata": {},
   "outputs": [],
   "source": [
    "data['forward_return'] = by_ticker.ret_01.shift(-1)\n",
    "data = data.dropna(subset=['forward_return'])"
   ]
  },
  {
   "cell_type": "markdown",
   "metadata": {},
   "source": [
    "## Rolling Factor Betas"
   ]
  },
  {
   "cell_type": "code",
   "execution_count": 45,
   "metadata": {},
   "outputs": [],
   "source": [
    "factor_data = (web.DataReader('F-F_Research_Data_5_Factors_2x3_daily', 'famafrench', \n",
    "                              start=1998, end=2019)[0].rename(columns={'Mkt-RF': 'MARKET'}))\n",
    "factor_data.index.names = ['date']"
   ]
  },
  {
   "cell_type": "code",
   "execution_count": 46,
   "metadata": {},
   "outputs": [
    {
     "data": {
      "text/html": [
       "<div>\n",
       "<style scoped>\n",
       "    .dataframe tbody tr th:only-of-type {\n",
       "        vertical-align: middle;\n",
       "    }\n",
       "\n",
       "    .dataframe tbody tr th {\n",
       "        vertical-align: top;\n",
       "    }\n",
       "\n",
       "    .dataframe thead th {\n",
       "        text-align: right;\n",
       "    }\n",
       "</style>\n",
       "<table border=\"1\" class=\"dataframe\">\n",
       "  <thead>\n",
       "    <tr style=\"text-align: right;\">\n",
       "      <th></th>\n",
       "      <th>MARKET</th>\n",
       "      <th>SMB</th>\n",
       "      <th>HML</th>\n",
       "      <th>RMW</th>\n",
       "      <th>CMA</th>\n",
       "      <th>RF</th>\n",
       "    </tr>\n",
       "    <tr>\n",
       "      <th>date</th>\n",
       "      <th></th>\n",
       "      <th></th>\n",
       "      <th></th>\n",
       "      <th></th>\n",
       "      <th></th>\n",
       "      <th></th>\n",
       "    </tr>\n",
       "  </thead>\n",
       "  <tbody>\n",
       "    <tr>\n",
       "      <th>1998-01-02</th>\n",
       "      <td>0.22</td>\n",
       "      <td>-0.11</td>\n",
       "      <td>-0.47</td>\n",
       "      <td>0.21</td>\n",
       "      <td>-0.14</td>\n",
       "      <td>0.021</td>\n",
       "    </tr>\n",
       "    <tr>\n",
       "      <th>1998-01-05</th>\n",
       "      <td>0.22</td>\n",
       "      <td>0.04</td>\n",
       "      <td>-0.27</td>\n",
       "      <td>0.04</td>\n",
       "      <td>-0.01</td>\n",
       "      <td>0.021</td>\n",
       "    </tr>\n",
       "    <tr>\n",
       "      <th>1998-01-06</th>\n",
       "      <td>-1.04</td>\n",
       "      <td>0.24</td>\n",
       "      <td>0.15</td>\n",
       "      <td>-0.38</td>\n",
       "      <td>0.13</td>\n",
       "      <td>0.021</td>\n",
       "    </tr>\n",
       "    <tr>\n",
       "      <th>1998-01-07</th>\n",
       "      <td>-0.38</td>\n",
       "      <td>-0.37</td>\n",
       "      <td>-0.21</td>\n",
       "      <td>-0.13</td>\n",
       "      <td>0.31</td>\n",
       "      <td>0.021</td>\n",
       "    </tr>\n",
       "    <tr>\n",
       "      <th>1998-01-08</th>\n",
       "      <td>-0.82</td>\n",
       "      <td>0.19</td>\n",
       "      <td>-0.14</td>\n",
       "      <td>0.08</td>\n",
       "      <td>0.29</td>\n",
       "      <td>0.021</td>\n",
       "    </tr>\n",
       "    <tr>\n",
       "      <th>...</th>\n",
       "      <td>...</td>\n",
       "      <td>...</td>\n",
       "      <td>...</td>\n",
       "      <td>...</td>\n",
       "      <td>...</td>\n",
       "      <td>...</td>\n",
       "    </tr>\n",
       "    <tr>\n",
       "      <th>2018-12-24</th>\n",
       "      <td>-2.55</td>\n",
       "      <td>0.92</td>\n",
       "      <td>-0.49</td>\n",
       "      <td>-0.33</td>\n",
       "      <td>-0.34</td>\n",
       "      <td>0.011</td>\n",
       "    </tr>\n",
       "    <tr>\n",
       "      <th>2018-12-26</th>\n",
       "      <td>5.06</td>\n",
       "      <td>-0.19</td>\n",
       "      <td>-1.01</td>\n",
       "      <td>-0.21</td>\n",
       "      <td>-1.08</td>\n",
       "      <td>0.011</td>\n",
       "    </tr>\n",
       "    <tr>\n",
       "      <th>2018-12-27</th>\n",
       "      <td>0.78</td>\n",
       "      <td>-0.71</td>\n",
       "      <td>-0.13</td>\n",
       "      <td>-0.14</td>\n",
       "      <td>0.10</td>\n",
       "      <td>0.011</td>\n",
       "    </tr>\n",
       "    <tr>\n",
       "      <th>2018-12-28</th>\n",
       "      <td>-0.03</td>\n",
       "      <td>0.75</td>\n",
       "      <td>0.26</td>\n",
       "      <td>-0.37</td>\n",
       "      <td>-0.06</td>\n",
       "      <td>0.011</td>\n",
       "    </tr>\n",
       "    <tr>\n",
       "      <th>2018-12-31</th>\n",
       "      <td>0.90</td>\n",
       "      <td>-0.13</td>\n",
       "      <td>-0.46</td>\n",
       "      <td>-0.09</td>\n",
       "      <td>-0.13</td>\n",
       "      <td>0.011</td>\n",
       "    </tr>\n",
       "  </tbody>\n",
       "</table>\n",
       "<p>5283 rows × 6 columns</p>\n",
       "</div>"
      ],
      "text/plain": [
       "            MARKET   SMB   HML   RMW   CMA     RF\n",
       "date                                             \n",
       "1998-01-02    0.22 -0.11 -0.47  0.21 -0.14  0.021\n",
       "1998-01-05    0.22  0.04 -0.27  0.04 -0.01  0.021\n",
       "1998-01-06   -1.04  0.24  0.15 -0.38  0.13  0.021\n",
       "1998-01-07   -0.38 -0.37 -0.21 -0.13  0.31  0.021\n",
       "1998-01-08   -0.82  0.19 -0.14  0.08  0.29  0.021\n",
       "...            ...   ...   ...   ...   ...    ...\n",
       "2018-12-24   -2.55  0.92 -0.49 -0.33 -0.34  0.011\n",
       "2018-12-26    5.06 -0.19 -1.01 -0.21 -1.08  0.011\n",
       "2018-12-27    0.78 -0.71 -0.13 -0.14  0.10  0.011\n",
       "2018-12-28   -0.03  0.75  0.26 -0.37 -0.06  0.011\n",
       "2018-12-31    0.90 -0.13 -0.46 -0.09 -0.13  0.011\n",
       "\n",
       "[5283 rows x 6 columns]"
      ]
     },
     "execution_count": 46,
     "metadata": {},
     "output_type": "execute_result"
    }
   ],
   "source": [
    "factor_data"
   ]
  },
  {
   "cell_type": "code",
   "execution_count": 47,
   "metadata": {},
   "outputs": [
    {
     "data": {
      "text/plain": [
       "Index(['MARKET', 'SMB', 'HML', 'RMW', 'CMA'], dtype='object')"
      ]
     },
     "execution_count": 47,
     "metadata": {},
     "output_type": "execute_result"
    }
   ],
   "source": [
    "factors = factor_data.columns[:-1]\n",
    "factors"
   ]
  },
  {
   "cell_type": "code",
   "execution_count": 48,
   "metadata": {},
   "outputs": [],
   "source": [
    "t = 1\n",
    "ret = f'ret_{t:02}'\n",
    "windows = [63, 252]"
   ]
  },
  {
   "cell_type": "code",
   "execution_count": 50,
   "metadata": {
    "scrolled": true
   },
   "outputs": [
    {
     "name": "stdout",
     "output_type": "stream",
     "text": [
      "63\n",
      "252\n"
     ]
    }
   ],
   "source": [
    "for window in windows:\n",
    "    print(window)\n",
    "    betas = []\n",
    "    for ticker, df in by_ticker:\n",
    "        model_data = df[[ret]].merge(factor_data, on='date').dropna()\n",
    "        model_data[ret] -= model_data.RF\n",
    "\n",
    "        rolling_ols = RollingOLS(endog=model_data[ret], exog=sm.add_constant(model_data[factors]), window=window)\n",
    "        factor_model = rolling_ols.fit(params_only=True).params.rename(columns={'const':'ALPHA'})\n",
    "        result = factor_model.assign(ticker=ticker).set_index('ticker', append=True).swaplevel()\n",
    "        betas.append(result)\n",
    "    betas = pd.concat(betas).rename(columns=lambda x: f'{x}_{window:02}')\n",
    "    data = data.join(betas)"
   ]
  },
  {
   "cell_type": "markdown",
   "metadata": {},
   "source": [
    "### Feature Engineered data"
   ]
  },
  {
   "cell_type": "code",
   "execution_count": 51,
   "metadata": {},
   "outputs": [
    {
     "name": "stdout",
     "output_type": "stream",
     "text": [
      "<class 'pandas.core.frame.DataFrame'>\n",
      "MultiIndex: 2042677 entries, ('A', Timestamp('2000-01-03 00:00:00')) to ('ZMH', Timestamp('2015-06-25 00:00:00'))\n",
      "Data columns (total 54 columns):\n",
      " #   Column          Non-Null Count    Dtype  \n",
      "---  ------          --------------    -----  \n",
      " 0   open            2042677 non-null  float64\n",
      " 1   high            2042677 non-null  float64\n",
      " 2   low             2042677 non-null  float64\n",
      " 3   close           2042677 non-null  float64\n",
      " 4   volume          2042677 non-null  float64\n",
      " 5   ret_01          2042207 non-null  float64\n",
      " 6   ret_03          2041267 non-null  float64\n",
      " 7   ret_05          2040327 non-null  float64\n",
      " 8   ret_10          2037977 non-null  float64\n",
      " 9   ret_21          2032807 non-null  float64\n",
      " 10  ret_42          2022937 non-null  float64\n",
      " 11  ret_63          2013067 non-null  float64\n",
      " 12  ret_126         1983457 non-null  float64\n",
      " 13  ret_252         1924237 non-null  float64\n",
      " 14  BB_UP           2033747 non-null  float64\n",
      " 15  BB_LOW          2033747 non-null  float64\n",
      " 16  BB_SQUEEZE      2033747 non-null  float64\n",
      " 17  PLUS_DI         2036097 non-null  float64\n",
      " 18  MINUS_DI        2036097 non-null  float64\n",
      " 19  ADX             2029987 non-null  float64\n",
      " 20  ADXR            2023877 non-null  float64\n",
      " 21  APO             2030927 non-null  float64\n",
      " 22  PPO             2030927 non-null  float64\n",
      " 23  AROONOSC        2036097 non-null  float64\n",
      " 24  BOP             2042677 non-null  float64\n",
      " 25  CCI             2036567 non-null  float64\n",
      " 26  MACD            2027167 non-null  float64\n",
      " 27  MACD_SIGNAL     2027167 non-null  float64\n",
      " 28  MACD_HIST       2027167 non-null  float64\n",
      " 29  CMO             2036097 non-null  float64\n",
      " 30  MFI             2036097 non-null  float64\n",
      " 31  RSI             2036097 non-null  float64\n",
      " 32  STOCHRSI        2029047 non-null  float64\n",
      " 33  STOCH           2034662 non-null  float64\n",
      " 34  ULTOSC          2029517 non-null  float64\n",
      " 35  WILLR           2036567 non-null  float64\n",
      " 36  AD              2042677 non-null  float64\n",
      " 37  ADOSC           2036567 non-null  float64\n",
      " 38  OBV             2042676 non-null  float64\n",
      " 39  ATR             2036097 non-null  float64\n",
      " 40  NATR            2036097 non-null  float64\n",
      " 41  forward_return  2042677 non-null  float64\n",
      " 42  ALPHA_63        2013065 non-null  float64\n",
      " 43  MARKET_63       2013065 non-null  float64\n",
      " 44  SMB_63          2013065 non-null  float64\n",
      " 45  HML_63          2013065 non-null  float64\n",
      " 46  RMW_63          2013065 non-null  float64\n",
      " 47  CMA_63          2013065 non-null  float64\n",
      " 48  ALPHA_252       1924235 non-null  float64\n",
      " 49  MARKET_252      1924235 non-null  float64\n",
      " 50  SMB_252         1924235 non-null  float64\n",
      " 51  HML_252         1924235 non-null  float64\n",
      " 52  RMW_252         1924235 non-null  float64\n",
      " 53  CMA_252         1924235 non-null  float64\n",
      "dtypes: float64(54)\n",
      "memory usage: 914.6+ MB\n"
     ]
    }
   ],
   "source": [
    "data.info(show_counts=True)"
   ]
  },
  {
   "cell_type": "code",
   "execution_count": 52,
   "metadata": {},
   "outputs": [
    {
     "data": {
      "text/html": [
       "<div>\n",
       "<style scoped>\n",
       "    .dataframe tbody tr th:only-of-type {\n",
       "        vertical-align: middle;\n",
       "    }\n",
       "\n",
       "    .dataframe tbody tr th {\n",
       "        vertical-align: top;\n",
       "    }\n",
       "\n",
       "    .dataframe thead th {\n",
       "        text-align: right;\n",
       "    }\n",
       "</style>\n",
       "<table border=\"1\" class=\"dataframe\">\n",
       "  <thead>\n",
       "    <tr style=\"text-align: right;\">\n",
       "      <th></th>\n",
       "      <th></th>\n",
       "      <th>open</th>\n",
       "      <th>high</th>\n",
       "      <th>low</th>\n",
       "      <th>close</th>\n",
       "      <th>volume</th>\n",
       "      <th>ret_01</th>\n",
       "      <th>ret_03</th>\n",
       "      <th>ret_05</th>\n",
       "      <th>ret_10</th>\n",
       "      <th>ret_21</th>\n",
       "      <th>...</th>\n",
       "      <th>SMB_63</th>\n",
       "      <th>HML_63</th>\n",
       "      <th>RMW_63</th>\n",
       "      <th>CMA_63</th>\n",
       "      <th>ALPHA_252</th>\n",
       "      <th>MARKET_252</th>\n",
       "      <th>SMB_252</th>\n",
       "      <th>HML_252</th>\n",
       "      <th>RMW_252</th>\n",
       "      <th>CMA_252</th>\n",
       "    </tr>\n",
       "    <tr>\n",
       "      <th>ticker</th>\n",
       "      <th>date</th>\n",
       "      <th></th>\n",
       "      <th></th>\n",
       "      <th></th>\n",
       "      <th></th>\n",
       "      <th></th>\n",
       "      <th></th>\n",
       "      <th></th>\n",
       "      <th></th>\n",
       "      <th></th>\n",
       "      <th></th>\n",
       "      <th></th>\n",
       "      <th></th>\n",
       "      <th></th>\n",
       "      <th></th>\n",
       "      <th></th>\n",
       "      <th></th>\n",
       "      <th></th>\n",
       "      <th></th>\n",
       "      <th></th>\n",
       "      <th></th>\n",
       "      <th></th>\n",
       "    </tr>\n",
       "  </thead>\n",
       "  <tbody>\n",
       "    <tr>\n",
       "      <th rowspan=\"5\" valign=\"top\">A</th>\n",
       "      <th>2000-01-03</th>\n",
       "      <td>53.726454</td>\n",
       "      <td>53.856080</td>\n",
       "      <td>45.969377</td>\n",
       "      <td>49.121329</td>\n",
       "      <td>3343600.0</td>\n",
       "      <td>NaN</td>\n",
       "      <td>NaN</td>\n",
       "      <td>NaN</td>\n",
       "      <td>NaN</td>\n",
       "      <td>NaN</td>\n",
       "      <td>...</td>\n",
       "      <td>NaN</td>\n",
       "      <td>NaN</td>\n",
       "      <td>NaN</td>\n",
       "      <td>NaN</td>\n",
       "      <td>NaN</td>\n",
       "      <td>NaN</td>\n",
       "      <td>NaN</td>\n",
       "      <td>NaN</td>\n",
       "      <td>NaN</td>\n",
       "      <td>NaN</td>\n",
       "    </tr>\n",
       "    <tr>\n",
       "      <th>2000-01-04</th>\n",
       "      <td>46.481058</td>\n",
       "      <td>46.992738</td>\n",
       "      <td>44.175084</td>\n",
       "      <td>45.369006</td>\n",
       "      <td>3408500.0</td>\n",
       "      <td>-0.076389</td>\n",
       "      <td>NaN</td>\n",
       "      <td>NaN</td>\n",
       "      <td>NaN</td>\n",
       "      <td>NaN</td>\n",
       "      <td>...</td>\n",
       "      <td>NaN</td>\n",
       "      <td>NaN</td>\n",
       "      <td>NaN</td>\n",
       "      <td>NaN</td>\n",
       "      <td>NaN</td>\n",
       "      <td>NaN</td>\n",
       "      <td>NaN</td>\n",
       "      <td>NaN</td>\n",
       "      <td>NaN</td>\n",
       "      <td>NaN</td>\n",
       "    </tr>\n",
       "    <tr>\n",
       "      <th>2000-01-05</th>\n",
       "      <td>45.198445</td>\n",
       "      <td>45.239380</td>\n",
       "      <td>41.828176</td>\n",
       "      <td>41.998737</td>\n",
       "      <td>4119200.0</td>\n",
       "      <td>-0.074286</td>\n",
       "      <td>NaN</td>\n",
       "      <td>NaN</td>\n",
       "      <td>NaN</td>\n",
       "      <td>NaN</td>\n",
       "      <td>...</td>\n",
       "      <td>NaN</td>\n",
       "      <td>NaN</td>\n",
       "      <td>NaN</td>\n",
       "      <td>NaN</td>\n",
       "      <td>NaN</td>\n",
       "      <td>NaN</td>\n",
       "      <td>NaN</td>\n",
       "      <td>NaN</td>\n",
       "      <td>NaN</td>\n",
       "      <td>NaN</td>\n",
       "    </tr>\n",
       "    <tr>\n",
       "      <th>2000-01-06</th>\n",
       "      <td>42.046493</td>\n",
       "      <td>42.298923</td>\n",
       "      <td>39.658651</td>\n",
       "      <td>40.934441</td>\n",
       "      <td>1812900.0</td>\n",
       "      <td>-0.025341</td>\n",
       "      <td>-0.166667</td>\n",
       "      <td>NaN</td>\n",
       "      <td>NaN</td>\n",
       "      <td>NaN</td>\n",
       "      <td>...</td>\n",
       "      <td>NaN</td>\n",
       "      <td>NaN</td>\n",
       "      <td>NaN</td>\n",
       "      <td>NaN</td>\n",
       "      <td>NaN</td>\n",
       "      <td>NaN</td>\n",
       "      <td>NaN</td>\n",
       "      <td>NaN</td>\n",
       "      <td>NaN</td>\n",
       "      <td>NaN</td>\n",
       "    </tr>\n",
       "    <tr>\n",
       "      <th>2000-01-07</th>\n",
       "      <td>40.293135</td>\n",
       "      <td>44.986951</td>\n",
       "      <td>40.252200</td>\n",
       "      <td>44.345645</td>\n",
       "      <td>2016900.0</td>\n",
       "      <td>0.083333</td>\n",
       "      <td>-0.022556</td>\n",
       "      <td>NaN</td>\n",
       "      <td>NaN</td>\n",
       "      <td>NaN</td>\n",
       "      <td>...</td>\n",
       "      <td>NaN</td>\n",
       "      <td>NaN</td>\n",
       "      <td>NaN</td>\n",
       "      <td>NaN</td>\n",
       "      <td>NaN</td>\n",
       "      <td>NaN</td>\n",
       "      <td>NaN</td>\n",
       "      <td>NaN</td>\n",
       "      <td>NaN</td>\n",
       "      <td>NaN</td>\n",
       "    </tr>\n",
       "    <tr>\n",
       "      <th>...</th>\n",
       "      <th>...</th>\n",
       "      <td>...</td>\n",
       "      <td>...</td>\n",
       "      <td>...</td>\n",
       "      <td>...</td>\n",
       "      <td>...</td>\n",
       "      <td>...</td>\n",
       "      <td>...</td>\n",
       "      <td>...</td>\n",
       "      <td>...</td>\n",
       "      <td>...</td>\n",
       "      <td>...</td>\n",
       "      <td>...</td>\n",
       "      <td>...</td>\n",
       "      <td>...</td>\n",
       "      <td>...</td>\n",
       "      <td>...</td>\n",
       "      <td>...</td>\n",
       "      <td>...</td>\n",
       "      <td>...</td>\n",
       "      <td>...</td>\n",
       "      <td>...</td>\n",
       "    </tr>\n",
       "    <tr>\n",
       "      <th rowspan=\"5\" valign=\"top\">ZMH</th>\n",
       "      <th>2015-06-19</th>\n",
       "      <td>113.400000</td>\n",
       "      <td>113.770000</td>\n",
       "      <td>112.570000</td>\n",
       "      <td>112.660000</td>\n",
       "      <td>1616619.0</td>\n",
       "      <td>-0.005649</td>\n",
       "      <td>0.000977</td>\n",
       "      <td>0.004100</td>\n",
       "      <td>-0.005210</td>\n",
       "      <td>-0.014693</td>\n",
       "      <td>...</td>\n",
       "      <td>0.002304</td>\n",
       "      <td>-0.006470</td>\n",
       "      <td>-0.001953</td>\n",
       "      <td>-0.003231</td>\n",
       "      <td>-0.000196</td>\n",
       "      <td>0.010541</td>\n",
       "      <td>-0.000426</td>\n",
       "      <td>-0.007525</td>\n",
       "      <td>-0.001444</td>\n",
       "      <td>0.007250</td>\n",
       "    </tr>\n",
       "    <tr>\n",
       "      <th>2015-06-22</th>\n",
       "      <td>113.280000</td>\n",
       "      <td>113.915000</td>\n",
       "      <td>112.980000</td>\n",
       "      <td>113.400000</td>\n",
       "      <td>825030.0</td>\n",
       "      <td>0.006568</td>\n",
       "      <td>0.008000</td>\n",
       "      <td>0.015492</td>\n",
       "      <td>0.002298</td>\n",
       "      <td>-0.009261</td>\n",
       "      <td>...</td>\n",
       "      <td>0.002165</td>\n",
       "      <td>-0.006439</td>\n",
       "      <td>-0.002221</td>\n",
       "      <td>-0.003754</td>\n",
       "      <td>-0.000185</td>\n",
       "      <td>0.010547</td>\n",
       "      <td>-0.000417</td>\n",
       "      <td>-0.007514</td>\n",
       "      <td>-0.001437</td>\n",
       "      <td>0.007240</td>\n",
       "    </tr>\n",
       "    <tr>\n",
       "      <th>2015-06-23</th>\n",
       "      <td>113.700000</td>\n",
       "      <td>113.770000</td>\n",
       "      <td>112.200000</td>\n",
       "      <td>112.680000</td>\n",
       "      <td>825724.0</td>\n",
       "      <td>-0.006349</td>\n",
       "      <td>-0.005472</td>\n",
       "      <td>0.001155</td>\n",
       "      <td>0.000355</td>\n",
       "      <td>-0.009581</td>\n",
       "      <td>...</td>\n",
       "      <td>0.002435</td>\n",
       "      <td>-0.006865</td>\n",
       "      <td>-0.001911</td>\n",
       "      <td>-0.004312</td>\n",
       "      <td>-0.000192</td>\n",
       "      <td>0.010538</td>\n",
       "      <td>-0.000469</td>\n",
       "      <td>-0.007532</td>\n",
       "      <td>-0.001448</td>\n",
       "      <td>0.007159</td>\n",
       "    </tr>\n",
       "    <tr>\n",
       "      <th>2015-06-24</th>\n",
       "      <td>112.500000</td>\n",
       "      <td>115.500000</td>\n",
       "      <td>112.160100</td>\n",
       "      <td>113.520000</td>\n",
       "      <td>3486819.0</td>\n",
       "      <td>0.007455</td>\n",
       "      <td>0.007634</td>\n",
       "      <td>0.009067</td>\n",
       "      <td>-0.001232</td>\n",
       "      <td>0.003802</td>\n",
       "      <td>...</td>\n",
       "      <td>0.002835</td>\n",
       "      <td>-0.007425</td>\n",
       "      <td>-0.002250</td>\n",
       "      <td>-0.006146</td>\n",
       "      <td>-0.000113</td>\n",
       "      <td>0.010420</td>\n",
       "      <td>-0.000501</td>\n",
       "      <td>-0.007378</td>\n",
       "      <td>-0.001368</td>\n",
       "      <td>0.006799</td>\n",
       "    </tr>\n",
       "    <tr>\n",
       "      <th>2015-06-25</th>\n",
       "      <td>113.530000</td>\n",
       "      <td>114.210000</td>\n",
       "      <td>112.920000</td>\n",
       "      <td>113.270000</td>\n",
       "      <td>1581017.0</td>\n",
       "      <td>-0.002202</td>\n",
       "      <td>-0.001146</td>\n",
       "      <td>-0.000265</td>\n",
       "      <td>-0.007361</td>\n",
       "      <td>-0.008751</td>\n",
       "      <td>...</td>\n",
       "      <td>0.002750</td>\n",
       "      <td>-0.007451</td>\n",
       "      <td>-0.002341</td>\n",
       "      <td>-0.005670</td>\n",
       "      <td>-0.000155</td>\n",
       "      <td>0.010399</td>\n",
       "      <td>-0.000555</td>\n",
       "      <td>-0.007623</td>\n",
       "      <td>-0.001410</td>\n",
       "      <td>0.007254</td>\n",
       "    </tr>\n",
       "  </tbody>\n",
       "</table>\n",
       "<p>2042677 rows × 54 columns</p>\n",
       "</div>"
      ],
      "text/plain": [
       "                         open        high         low       close     volume  \\\n",
       "ticker date                                                                    \n",
       "A      2000-01-03   53.726454   53.856080   45.969377   49.121329  3343600.0   \n",
       "       2000-01-04   46.481058   46.992738   44.175084   45.369006  3408500.0   \n",
       "       2000-01-05   45.198445   45.239380   41.828176   41.998737  4119200.0   \n",
       "       2000-01-06   42.046493   42.298923   39.658651   40.934441  1812900.0   \n",
       "       2000-01-07   40.293135   44.986951   40.252200   44.345645  2016900.0   \n",
       "...                       ...         ...         ...         ...        ...   \n",
       "ZMH    2015-06-19  113.400000  113.770000  112.570000  112.660000  1616619.0   \n",
       "       2015-06-22  113.280000  113.915000  112.980000  113.400000   825030.0   \n",
       "       2015-06-23  113.700000  113.770000  112.200000  112.680000   825724.0   \n",
       "       2015-06-24  112.500000  115.500000  112.160100  113.520000  3486819.0   \n",
       "       2015-06-25  113.530000  114.210000  112.920000  113.270000  1581017.0   \n",
       "\n",
       "                     ret_01    ret_03    ret_05    ret_10    ret_21  ...  \\\n",
       "ticker date                                                          ...   \n",
       "A      2000-01-03       NaN       NaN       NaN       NaN       NaN  ...   \n",
       "       2000-01-04 -0.076389       NaN       NaN       NaN       NaN  ...   \n",
       "       2000-01-05 -0.074286       NaN       NaN       NaN       NaN  ...   \n",
       "       2000-01-06 -0.025341 -0.166667       NaN       NaN       NaN  ...   \n",
       "       2000-01-07  0.083333 -0.022556       NaN       NaN       NaN  ...   \n",
       "...                     ...       ...       ...       ...       ...  ...   \n",
       "ZMH    2015-06-19 -0.005649  0.000977  0.004100 -0.005210 -0.014693  ...   \n",
       "       2015-06-22  0.006568  0.008000  0.015492  0.002298 -0.009261  ...   \n",
       "       2015-06-23 -0.006349 -0.005472  0.001155  0.000355 -0.009581  ...   \n",
       "       2015-06-24  0.007455  0.007634  0.009067 -0.001232  0.003802  ...   \n",
       "       2015-06-25 -0.002202 -0.001146 -0.000265 -0.007361 -0.008751  ...   \n",
       "\n",
       "                     SMB_63    HML_63    RMW_63    CMA_63  ALPHA_252  \\\n",
       "ticker date                                                            \n",
       "A      2000-01-03       NaN       NaN       NaN       NaN        NaN   \n",
       "       2000-01-04       NaN       NaN       NaN       NaN        NaN   \n",
       "       2000-01-05       NaN       NaN       NaN       NaN        NaN   \n",
       "       2000-01-06       NaN       NaN       NaN       NaN        NaN   \n",
       "       2000-01-07       NaN       NaN       NaN       NaN        NaN   \n",
       "...                     ...       ...       ...       ...        ...   \n",
       "ZMH    2015-06-19  0.002304 -0.006470 -0.001953 -0.003231  -0.000196   \n",
       "       2015-06-22  0.002165 -0.006439 -0.002221 -0.003754  -0.000185   \n",
       "       2015-06-23  0.002435 -0.006865 -0.001911 -0.004312  -0.000192   \n",
       "       2015-06-24  0.002835 -0.007425 -0.002250 -0.006146  -0.000113   \n",
       "       2015-06-25  0.002750 -0.007451 -0.002341 -0.005670  -0.000155   \n",
       "\n",
       "                   MARKET_252   SMB_252   HML_252   RMW_252   CMA_252  \n",
       "ticker date                                                            \n",
       "A      2000-01-03         NaN       NaN       NaN       NaN       NaN  \n",
       "       2000-01-04         NaN       NaN       NaN       NaN       NaN  \n",
       "       2000-01-05         NaN       NaN       NaN       NaN       NaN  \n",
       "       2000-01-06         NaN       NaN       NaN       NaN       NaN  \n",
       "       2000-01-07         NaN       NaN       NaN       NaN       NaN  \n",
       "...                       ...       ...       ...       ...       ...  \n",
       "ZMH    2015-06-19    0.010541 -0.000426 -0.007525 -0.001444  0.007250  \n",
       "       2015-06-22    0.010547 -0.000417 -0.007514 -0.001437  0.007240  \n",
       "       2015-06-23    0.010538 -0.000469 -0.007532 -0.001448  0.007159  \n",
       "       2015-06-24    0.010420 -0.000501 -0.007378 -0.001368  0.006799  \n",
       "       2015-06-25    0.010399 -0.000555 -0.007623 -0.001410  0.007254  \n",
       "\n",
       "[2042677 rows x 54 columns]"
      ]
     },
     "execution_count": 52,
     "metadata": {},
     "output_type": "execute_result"
    }
   ],
   "source": [
    "data"
   ]
  },
  {
   "cell_type": "markdown",
   "metadata": {},
   "source": [
    "## Persist results"
   ]
  },
  {
   "cell_type": "code",
   "execution_count": 53,
   "metadata": {
    "ExecuteTime": {
     "end_time": "2020-07-14T13:19:11.145313Z",
     "start_time": "2020-07-14T13:19:10.820945Z"
    }
   },
   "outputs": [],
   "source": [
    "with pd.HDFStore(DATA_STORE) as store:\n",
    "    store.put('model_data', data)"
   ]
  }
 ],
 "metadata": {
  "kernelspec": {
   "display_name": "Python 3 (ipykernel)",
   "language": "python",
   "name": "python3"
  },
  "language_info": {
   "codemirror_mode": {
    "name": "ipython",
    "version": 3
   },
   "file_extension": ".py",
   "mimetype": "text/x-python",
   "name": "python",
   "nbconvert_exporter": "python",
   "pygments_lexer": "ipython3",
   "version": "3.9.7"
  },
  "toc": {
   "base_numbering": 1,
   "nav_menu": {},
   "number_sections": true,
   "sideBar": true,
   "skip_h1_title": true,
   "title_cell": "Table of Contents",
   "title_sidebar": "Contents",
   "toc_cell": false,
   "toc_position": {
    "height": "calc(100% - 180px)",
    "left": "10px",
    "top": "150px",
    "width": "512px"
   },
   "toc_section_display": true,
   "toc_window_display": true
  }
 },
 "nbformat": 4,
 "nbformat_minor": 4
}
