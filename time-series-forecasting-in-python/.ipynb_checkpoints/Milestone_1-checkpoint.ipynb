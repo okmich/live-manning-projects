{
 "cells": [
  {
   "cell_type": "code",
   "execution_count": 1,
   "id": "943eafc1-d3ff-44e1-b0bd-d96aaee5179c",
   "metadata": {},
   "outputs": [
    {
     "name": "stdout",
     "output_type": "stream",
     "text": [
      "<class 'pandas.core.frame.DataFrame'>\n",
      "DatetimeIndex: 26280 entries, 2017-02-01 00:00:00 to 2020-01-31 23:00:00\n",
      "Data columns (total 6 columns):\n",
      " #   Column                    Non-Null Count  Dtype  \n",
      "---  ------                    --------------  -----  \n",
      " 0   mw                        26280 non-null  float64\n",
      " 1   HourlyDryBulbTemperature  26243 non-null  float64\n",
      " 2   hour_of_day               26280 non-null  int64  \n",
      " 3   day_of_week               26280 non-null  int64  \n",
      " 4   month                     26280 non-null  int64  \n",
      " 5   year                      26280 non-null  int64  \n",
      "dtypes: float64(2), int64(4)\n",
      "memory usage: 1.4 MB\n"
     ]
    }
   ],
   "source": [
    "import numpy as np\n",
    "import pandas as pd\n",
    "\n",
    "import os\n",
    "from datetime import datetime\n",
    "\n",
    "def temperature_date_parser(d):\n",
    "    # 2017-02-01T00:53:00\n",
    "    return datetime.strptime(d, '%Y-%m-%dT%H:%M:%S').replace(minute=0, second=0, microsecond=0)\n",
    "\n",
    "temp_file_path = os.path.join('.', 'dataset', 'Milestone 1 Dataset', 'hr_temp_20170201-20200131_subset.csv')\n",
    "temp_df = pd.read_csv(temp_file_path)\n",
    "temp_df['DATE'] = temp_df['DATE'].apply(temperature_date_parser)\n",
    "\n",
    "def energy_usage_date_parser(d):\n",
    "    # 2/1/2017 0:00\n",
    "    return datetime.strptime(d, '%m/%d/%Y %H:%M').replace(minute=0, second=0, microsecond=0)\n",
    "\n",
    "energy_usage_file_path = os.path.join('.', 'dataset', 'Milestone 1 Dataset', 'hrl_load_metered - 20170201-20200131.csv')\n",
    "energy_usage_df = pd.read_csv(energy_usage_file_path)\n",
    "energy_usage_df['datetime_beginning_ept'] = energy_usage_df['datetime_beginning_ept'].apply(energy_usage_date_parser)\n",
    "\n",
    "# join both datasets\n",
    "data = temp_df.merge(energy_usage_df, left_on='DATE', right_on='datetime_beginning_ept')[['DATE', 'mw', 'HourlyDryBulbTemperature']]\n",
    "\n",
    "# Use the date variable to create variables for the hour of day, the day of the week, the month, and the year for each observation.\n",
    "data['hour_of_day'] = data['DATE'].apply(lambda x : x.hour)\n",
    "data['day_of_week'] = data['DATE'].apply(lambda x : x.isoweekday())\n",
    "data['month'] = data['DATE'].apply(lambda x : x.month)\n",
    "data['year'] = data['DATE'].apply(lambda x : x.year)\n",
    "\n",
    "# Set the date variable as your index for your pandas DataFrame.\n",
    "data.set_index(['DATE'], inplace=True)\n",
    "\n",
    "data.info()"
   ]
  },
  {
   "cell_type": "code",
   "execution_count": 2,
   "id": "eec3aa0f-28c4-48f2-9dd0-c71ad911e8c8",
   "metadata": {},
   "outputs": [
    {
     "name": "stdout",
     "output_type": "stream",
     "text": [
      "<class 'pandas.core.frame.DataFrame'>\n",
      "DatetimeIndex: 26280 entries, 2017-02-01 00:00:00 to 2020-01-31 23:00:00\n",
      "Data columns (total 6 columns):\n",
      " #   Column                    Non-Null Count  Dtype  \n",
      "---  ------                    --------------  -----  \n",
      " 0   mw                        26280 non-null  float64\n",
      " 1   HourlyDryBulbTemperature  26280 non-null  float64\n",
      " 2   hour_of_day               26280 non-null  int64  \n",
      " 3   day_of_week               26280 non-null  int64  \n",
      " 4   month                     26280 non-null  int64  \n",
      " 5   year                      26280 non-null  int64  \n",
      "dtypes: float64(2), int64(4)\n",
      "memory usage: 1.4 MB\n"
     ]
    }
   ],
   "source": [
    "# Use linear interpolation to fix these missing values in your temperature data.\n",
    "data['HourlyDryBulbTemperature'] = data['HourlyDryBulbTemperature'].interpolate(method='linear')\n",
    "data.info()\n",
    "\n",
    "# another ways for fixing mixing values will be fillna()"
   ]
  },
  {
   "cell_type": "markdown",
   "id": "a59c8a80-3f63-4a85-a8d6-83aa6053e6cb",
   "metadata": {},
   "source": [
    "#### split data into training and test set"
   ]
  },
  {
   "cell_type": "code",
   "execution_count": 3,
   "id": "96af9a51-2ff1-4232-b834-490d3c2c30e3",
   "metadata": {},
   "outputs": [
    {
     "name": "stdout",
     "output_type": "stream",
     "text": [
      "train_set dimension is  (25536, 6)\n",
      "test_set dimension is  (768, 6)\n"
     ]
    }
   ],
   "source": [
    "train_set = data[:'2019-12-31']\n",
    "test_set = data['2019-12-31':]\n",
    "\n",
    "print('train_set dimension is ', train_set.shape)\n",
    "print('test_set dimension is ', test_set.shape)"
   ]
  }
 ],
 "metadata": {
  "kernelspec": {
   "display_name": "Python 3 (ipykernel)",
   "language": "python",
   "name": "python3"
  },
  "language_info": {
   "codemirror_mode": {
    "name": "ipython",
    "version": 3
   },
   "file_extension": ".py",
   "mimetype": "text/x-python",
   "name": "python",
   "nbconvert_exporter": "python",
   "pygments_lexer": "ipython3",
   "version": "3.8.8"
  }
 },
 "nbformat": 4,
 "nbformat_minor": 5
}
