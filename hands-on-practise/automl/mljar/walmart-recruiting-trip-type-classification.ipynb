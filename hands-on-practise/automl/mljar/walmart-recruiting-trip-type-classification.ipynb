{
 "cells": [
  {
   "cell_type": "markdown",
   "id": "589d590f-c7ee-4c45-a7fa-5feaed92d4c8",
   "metadata": {},
   "source": [
    "# Walmart Recruiting: Trip Type Classification\n",
    "See details of this challenges and download data @ https://www.kaggle.com/competitions/walmart-recruiting-trip-type-classification/overview"
   ]
  },
  {
   "cell_type": "code",
   "execution_count": null,
   "id": "bc6e337d-1979-45ea-b312-6132b9769a61",
   "metadata": {},
   "outputs": [],
   "source": []
  }
 ],
 "metadata": {
  "kernelspec": {
   "display_name": "Python 3 (ipykernel)",
   "language": "python",
   "name": "python3"
  },
  "language_info": {
   "codemirror_mode": {
    "name": "ipython",
    "version": 3
   },
   "file_extension": ".py",
   "mimetype": "text/x-python",
   "name": "python",
   "nbconvert_exporter": "python",
   "pygments_lexer": "ipython3",
   "version": "3.10.12"
  }
 },
 "nbformat": 4,
 "nbformat_minor": 5
}
