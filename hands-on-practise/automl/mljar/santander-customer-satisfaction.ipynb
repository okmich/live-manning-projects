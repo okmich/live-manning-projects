{
 "cells": [
  {
   "cell_type": "markdown",
   "id": "5c62932c-dd6e-4ca7-b141-fc10a2818780",
   "metadata": {},
   "source": [
    "# Santander Customer Satisfaction\n",
    "### Which customers are happy customers?\n",
    "See everything about this challenge and download the dataset here -> https://www.kaggle.com/c/santander-customer-satisfaction"
   ]
  },
  {
   "cell_type": "code",
   "execution_count": null,
   "id": "45276b9f-6afa-4a8d-8b83-c5331bb123bc",
   "metadata": {},
   "outputs": [],
   "source": []
  }
 ],
 "metadata": {
  "kernelspec": {
   "display_name": "Python 3 (ipykernel)",
   "language": "python",
   "name": "python3"
  },
  "language_info": {
   "codemirror_mode": {
    "name": "ipython",
    "version": 3
   },
   "file_extension": ".py",
   "mimetype": "text/x-python",
   "name": "python",
   "nbconvert_exporter": "python",
   "pygments_lexer": "ipython3",
   "version": "3.10.12"
  }
 },
 "nbformat": 4,
 "nbformat_minor": 5
}
