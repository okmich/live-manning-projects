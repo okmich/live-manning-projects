{
 "cells": [
  {
   "cell_type": "markdown",
   "id": "e2d9b7b3-7424-4e8f-ab51-8758d55156bd",
   "metadata": {},
   "source": []
  }
 ],
 "metadata": {
  "kernelspec": {
   "display_name": "python[tpot]",
   "language": "python",
   "name": "tpt"
  },
  "language_info": {
   "codemirror_mode": {
    "name": "ipython",
    "version": 3
   },
   "file_extension": ".py",
   "mimetype": "text/x-python",
   "name": "python",
   "nbconvert_exporter": "python",
   "pygments_lexer": "ipython3",
   "version": "3.11.4"
  }
 },
 "nbformat": 4,
 "nbformat_minor": 5
}
