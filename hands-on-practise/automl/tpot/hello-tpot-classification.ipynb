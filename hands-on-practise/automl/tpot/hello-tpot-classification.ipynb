{
 "cells": [
  {
   "cell_type": "markdown",
   "id": "c84346eb-fb92-4a16-a12e-65fe2eaadced",
   "metadata": {},
   "source": [
    "## Hello TPOT\n",
    "Useful reads: http://epistasislab.github.io/tpot/using/"
   ]
  },
  {
   "cell_type": "code",
   "execution_count": 1,
   "id": "2f15e489-fc93-4df3-b6bd-d30ac5c52657",
   "metadata": {},
   "outputs": [
    {
     "name": "stderr",
     "output_type": "stream",
     "text": [
      "/Users/Michael_Enudi/opt/anaconda3/envs/tpt/lib/python3.11/site-packages/tpot/builtins/__init__.py:36: UserWarning: Warning: optional dependency `torch` is not available. - skipping import of NN models.\n",
      "  warnings.warn(\"Warning: optional dependency `torch` is not available. - skipping import of NN models.\")\n"
     ]
    }
   ],
   "source": [
    "from tpot import TPOTClassifier\n",
    "from sklearn.datasets import load_digits\n",
    "from sklearn.model_selection import train_test_split\n",
    "from sklearn.metrics import accuracy_score, precision_score, roc_auc_score, recall_score, confusion_matrix"
   ]
  },
  {
   "cell_type": "markdown",
   "id": "b96b7896-0d92-4349-99ed-7c564863e8b4",
   "metadata": {},
   "source": [
    "### Getting dataset"
   ]
  },
  {
   "cell_type": "code",
   "execution_count": 2,
   "id": "0a02f929-209b-4452-8658-3af45d3891f7",
   "metadata": {},
   "outputs": [],
   "source": [
    "digits = load_digits()\n",
    "X_train, X_test, y_train, y_test = train_test_split(digits.data, digits.target,\n",
    "                                                    train_size=0.75, test_size=0.25)"
   ]
  },
  {
   "cell_type": "markdown",
   "id": "4b60f6bd-1037-4822-ad7d-9a9d54012ab8",
   "metadata": {},
   "source": [
    "### Perform AutoML with TPOTClassifier"
   ]
  },
  {
   "cell_type": "code",
   "execution_count": 3,
   "id": "f37ba2ff-142d-4985-906d-08e32000330e",
   "metadata": {},
   "outputs": [
    {
     "data": {
      "application/vnd.jupyter.widget-view+json": {
       "model_id": "060e26a15f0e4b8badd00b11f7adc439",
       "version_major": 2,
       "version_minor": 0
      },
      "text/plain": [
       "Optimization Progress:   0%|          | 0/20 [00:00<?, ?pipeline/s]"
      ]
     },
     "metadata": {},
     "output_type": "display_data"
    },
    {
     "name": "stderr",
     "output_type": "stream",
     "text": [
      "/Users/Michael_Enudi/opt/anaconda3/envs/tpt/lib/python3.11/site-packages/tpot/builtins/__init__.py:36: UserWarning: Warning: optional dependency `torch` is not available. - skipping import of NN models.\n",
      "  warnings.warn(\"Warning: optional dependency `torch` is not available. - skipping import of NN models.\")\n",
      "/Users/Michael_Enudi/opt/anaconda3/envs/tpt/lib/python3.11/site-packages/tpot/builtins/__init__.py:36: UserWarning: Warning: optional dependency `torch` is not available. - skipping import of NN models.\n",
      "  warnings.warn(\"Warning: optional dependency `torch` is not available. - skipping import of NN models.\")\n",
      "/Users/Michael_Enudi/opt/anaconda3/envs/tpt/lib/python3.11/site-packages/tpot/builtins/__init__.py:36: UserWarning: Warning: optional dependency `torch` is not available. - skipping import of NN models.\n",
      "  warnings.warn(\"Warning: optional dependency `torch` is not available. - skipping import of NN models.\")\n",
      "/Users/Michael_Enudi/opt/anaconda3/envs/tpt/lib/python3.11/site-packages/tpot/builtins/__init__.py:36: UserWarning: Warning: optional dependency `torch` is not available. - skipping import of NN models.\n",
      "  warnings.warn(\"Warning: optional dependency `torch` is not available. - skipping import of NN models.\")\n"
     ]
    },
    {
     "name": "stdout",
     "output_type": "stream",
     "text": [
      "\n",
      "Generation 1 - Current best internal CV score: 0.9725402726146222\n",
      "\n",
      "Generation 2 - Current best internal CV score: 0.9784717059066501\n",
      "\n",
      "Generation 3 - Current best internal CV score: 0.9806911744458212\n",
      "\n",
      "Generation 4 - Current best internal CV score: 0.9806911744458212\n",
      "\n",
      "Generation 5 - Current best internal CV score: 0.9859066501445684\n",
      "\n",
      "Best pipeline: LogisticRegression(PolynomialFeatures(input_matrix, degree=2, include_bias=False, interaction_only=False), C=25.0, dual=False, penalty=l2)\n"
     ]
    },
    {
     "data": {
      "text/html": [
       "<style>#sk-container-id-1 {color: black;background-color: white;}#sk-container-id-1 pre{padding: 0;}#sk-container-id-1 div.sk-toggleable {background-color: white;}#sk-container-id-1 label.sk-toggleable__label {cursor: pointer;display: block;width: 100%;margin-bottom: 0;padding: 0.3em;box-sizing: border-box;text-align: center;}#sk-container-id-1 label.sk-toggleable__label-arrow:before {content: \"▸\";float: left;margin-right: 0.25em;color: #696969;}#sk-container-id-1 label.sk-toggleable__label-arrow:hover:before {color: black;}#sk-container-id-1 div.sk-estimator:hover label.sk-toggleable__label-arrow:before {color: black;}#sk-container-id-1 div.sk-toggleable__content {max-height: 0;max-width: 0;overflow: hidden;text-align: left;background-color: #f0f8ff;}#sk-container-id-1 div.sk-toggleable__content pre {margin: 0.2em;color: black;border-radius: 0.25em;background-color: #f0f8ff;}#sk-container-id-1 input.sk-toggleable__control:checked~div.sk-toggleable__content {max-height: 200px;max-width: 100%;overflow: auto;}#sk-container-id-1 input.sk-toggleable__control:checked~label.sk-toggleable__label-arrow:before {content: \"▾\";}#sk-container-id-1 div.sk-estimator input.sk-toggleable__control:checked~label.sk-toggleable__label {background-color: #d4ebff;}#sk-container-id-1 div.sk-label input.sk-toggleable__control:checked~label.sk-toggleable__label {background-color: #d4ebff;}#sk-container-id-1 input.sk-hidden--visually {border: 0;clip: rect(1px 1px 1px 1px);clip: rect(1px, 1px, 1px, 1px);height: 1px;margin: -1px;overflow: hidden;padding: 0;position: absolute;width: 1px;}#sk-container-id-1 div.sk-estimator {font-family: monospace;background-color: #f0f8ff;border: 1px dotted black;border-radius: 0.25em;box-sizing: border-box;margin-bottom: 0.5em;}#sk-container-id-1 div.sk-estimator:hover {background-color: #d4ebff;}#sk-container-id-1 div.sk-parallel-item::after {content: \"\";width: 100%;border-bottom: 1px solid gray;flex-grow: 1;}#sk-container-id-1 div.sk-label:hover label.sk-toggleable__label {background-color: #d4ebff;}#sk-container-id-1 div.sk-serial::before {content: \"\";position: absolute;border-left: 1px solid gray;box-sizing: border-box;top: 0;bottom: 0;left: 50%;z-index: 0;}#sk-container-id-1 div.sk-serial {display: flex;flex-direction: column;align-items: center;background-color: white;padding-right: 0.2em;padding-left: 0.2em;position: relative;}#sk-container-id-1 div.sk-item {position: relative;z-index: 1;}#sk-container-id-1 div.sk-parallel {display: flex;align-items: stretch;justify-content: center;background-color: white;position: relative;}#sk-container-id-1 div.sk-item::before, #sk-container-id-1 div.sk-parallel-item::before {content: \"\";position: absolute;border-left: 1px solid gray;box-sizing: border-box;top: 0;bottom: 0;left: 50%;z-index: -1;}#sk-container-id-1 div.sk-parallel-item {display: flex;flex-direction: column;z-index: 1;position: relative;background-color: white;}#sk-container-id-1 div.sk-parallel-item:first-child::after {align-self: flex-end;width: 50%;}#sk-container-id-1 div.sk-parallel-item:last-child::after {align-self: flex-start;width: 50%;}#sk-container-id-1 div.sk-parallel-item:only-child::after {width: 0;}#sk-container-id-1 div.sk-dashed-wrapped {border: 1px dashed gray;margin: 0 0.4em 0.5em 0.4em;box-sizing: border-box;padding-bottom: 0.4em;background-color: white;}#sk-container-id-1 div.sk-label label {font-family: monospace;font-weight: bold;display: inline-block;line-height: 1.2em;}#sk-container-id-1 div.sk-label-container {text-align: center;}#sk-container-id-1 div.sk-container {/* jupyter's `normalize.less` sets `[hidden] { display: none; }` but bootstrap.min.css set `[hidden] { display: none !important; }` so we also need the `!important` here to be able to override the default hidden behavior on the sphinx rendered scikit-learn.org. See: https://github.com/scikit-learn/scikit-learn/issues/21755 */display: inline-block !important;position: relative;}#sk-container-id-1 div.sk-text-repr-fallback {display: none;}</style><div id=\"sk-container-id-1\" class=\"sk-top-container\"><div class=\"sk-text-repr-fallback\"><pre>TPOTClassifier(generations=5, max_time_mins=15, n_jobs=4, population_size=20,\n",
       "               verbosity=2)</pre><b>In a Jupyter environment, please rerun this cell to show the HTML representation or trust the notebook. <br />On GitHub, the HTML representation is unable to render, please try loading this page with nbviewer.org.</b></div><div class=\"sk-container\" hidden><div class=\"sk-item\"><div class=\"sk-estimator sk-toggleable\"><input class=\"sk-toggleable__control sk-hidden--visually\" id=\"sk-estimator-id-1\" type=\"checkbox\" checked><label for=\"sk-estimator-id-1\" class=\"sk-toggleable__label sk-toggleable__label-arrow\">TPOTClassifier</label><div class=\"sk-toggleable__content\"><pre>TPOTClassifier(generations=5, max_time_mins=15, n_jobs=4, population_size=20,\n",
       "               verbosity=2)</pre></div></div></div></div></div>"
      ],
      "text/plain": [
       "TPOTClassifier(generations=5, max_time_mins=15, n_jobs=4, population_size=20,\n",
       "               verbosity=2)"
      ]
     },
     "execution_count": 3,
     "metadata": {},
     "output_type": "execute_result"
    }
   ],
   "source": [
    "pipeline_optimizer = TPOTClassifier(\n",
    "    generations=5, population_size=20, cv=5, verbosity=2, n_jobs=4,\n",
    "    max_time_mins=15)\n",
    "pipeline_optimizer.fit(X_train, y_train)"
   ]
  },
  {
   "cell_type": "markdown",
   "id": "a0aa288b-f36c-4146-bcac-77677ec4809a",
   "metadata": {},
   "source": [
    "### See and evaluate the pipelines returned from TPOTClassifier"
   ]
  },
  {
   "cell_type": "code",
   "execution_count": 4,
   "id": "105e9dcf-8187-4185-a333-8c2e0ccb2b7a",
   "metadata": {},
   "outputs": [
    {
     "name": "stdout",
     "output_type": "stream",
     "text": [
      "0.9711111111111111\n"
     ]
    }
   ],
   "source": [
    "print(pipeline_optimizer.score(X_test, y_test))"
   ]
  },
  {
   "cell_type": "code",
   "execution_count": 5,
   "id": "974b3800-6498-46a8-9af0-c212d6670ccc",
   "metadata": {},
   "outputs": [],
   "source": [
    "def metrics(y_true, y_pred):\n",
    "    print('Confusion Matrix:')\n",
    "    print(confusion_matrix(y_true, y_pred))\n",
    "    print(f'accuracy: {100*round(accuracy_score(y_true, y_pred), 4)}%')\n",
    "    precision = precision_score(y_true, y_pred, average='micro')\n",
    "    print(f'Precision score {100 * round(precision, 4)}%')\n",
    "    # recall_score(y_true, y_pred)\n",
    "    # print(f'roc_auc_score: {round(roc_auc_score(y_true, y_pred, multi_class=\"ovo\"), 4)}')\n",
    "    "
   ]
  },
  {
   "cell_type": "code",
   "execution_count": 6,
   "id": "072ba29b-8614-4fdf-886c-0b1ad2c1665a",
   "metadata": {},
   "outputs": [
    {
     "name": "stdout",
     "output_type": "stream",
     "text": [
      "Confusion Matrix:\n",
      "[[43  0  0  0  0  0  0  0  0  0]\n",
      " [ 0 46  0  0  0  0  0  0  0  0]\n",
      " [ 0  1 51  0  0  0  0  0  0  0]\n",
      " [ 0  0  0 45  0  1  0  0  1  0]\n",
      " [ 0  0  0  0 47  0  0  0  0  0]\n",
      " [ 1  1  0  0  0 44  0  0  0  0]\n",
      " [ 0  0  0  0  0  1 39  0  1  0]\n",
      " [ 0  0  0  0  0  0  0 43  0  0]\n",
      " [ 0  3  1  0  0  0  0  0 34  0]\n",
      " [ 0  0  0  1  0  0  0  0  1 45]]\n",
      "accuracy: 97.11%\n",
      "Precision score 97.11%\n"
     ]
    }
   ],
   "source": [
    "y_pred = pipeline_optimizer.predict(X_test)\n",
    "metrics(y_test, y_pred)"
   ]
  },
  {
   "cell_type": "code",
   "execution_count": 7,
   "id": "a9e8b47f-2dfa-4273-a572-e1d749b968d6",
   "metadata": {},
   "outputs": [
    {
     "name": "stdout",
     "output_type": "stream",
     "text": [
      "GaussianNB(ZeroCount(input_matrix))\n",
      "SGDClassifier(input_matrix, SGDClassifier__alpha=0.01, SGDClassifier__eta0=0.01, SGDClassifier__fit_intercept=True, SGDClassifier__l1_ratio=0.5, SGDClassifier__learning_rate=invscaling, SGDClassifier__loss=log, SGDClassifier__penalty=elasticnet, SGDClassifier__power_t=50.0)\n",
      "SGDClassifier(input_matrix, SGDClassifier__alpha=0.0, SGDClassifier__eta0=0.01, SGDClassifier__fit_intercept=True, SGDClassifier__l1_ratio=0.5, SGDClassifier__learning_rate=invscaling, SGDClassifier__loss=modified_huber, SGDClassifier__penalty=elasticnet, SGDClassifier__power_t=1.0)\n",
      "MLPClassifier(input_matrix, MLPClassifier__alpha=0.01, MLPClassifier__learning_rate_init=0.001)\n",
      "GaussianNB(input_matrix)\n",
      "DecisionTreeClassifier(input_matrix, DecisionTreeClassifier__criterion=entropy, DecisionTreeClassifier__max_depth=2, DecisionTreeClassifier__min_samples_leaf=10, DecisionTreeClassifier__min_samples_split=8)\n",
      "MultinomialNB(SelectPercentile(input_matrix, SelectPercentile__percentile=73), MultinomialNB__alpha=100.0, MultinomialNB__fit_prior=False)\n",
      "SGDClassifier(input_matrix, SGDClassifier__alpha=0.001, SGDClassifier__eta0=0.1, SGDClassifier__fit_intercept=False, SGDClassifier__l1_ratio=0.5, SGDClassifier__learning_rate=constant, SGDClassifier__loss=log, SGDClassifier__penalty=elasticnet, SGDClassifier__power_t=100.0)\n",
      "ExtraTreesClassifier(StandardScaler(input_matrix), ExtraTreesClassifier__bootstrap=False, ExtraTreesClassifier__criterion=gini, ExtraTreesClassifier__max_features=0.1, ExtraTreesClassifier__min_samples_leaf=18, ExtraTreesClassifier__min_samples_split=10, ExtraTreesClassifier__n_estimators=100)\n",
      "SGDClassifier(SGDClassifier(input_matrix, SGDClassifier__alpha=0.001, SGDClassifier__eta0=0.1, SGDClassifier__fit_intercept=True, SGDClassifier__l1_ratio=0.25, SGDClassifier__learning_rate=invscaling, SGDClassifier__loss=modified_huber, SGDClassifier__penalty=elasticnet, SGDClassifier__power_t=50.0), SGDClassifier__alpha=0.01, SGDClassifier__eta0=1.0, SGDClassifier__fit_intercept=True, SGDClassifier__l1_ratio=0.5, SGDClassifier__learning_rate=constant, SGDClassifier__loss=perceptron, SGDClassifier__penalty=elasticnet, SGDClassifier__power_t=0.1)\n",
      "LinearSVC(Nystroem(input_matrix, Nystroem__gamma=0.25, Nystroem__kernel=additive_chi2, Nystroem__n_components=6), LinearSVC__C=0.001, LinearSVC__dual=True, LinearSVC__loss=hinge, LinearSVC__penalty=l2, LinearSVC__tol=0.0001)\n",
      "DecisionTreeClassifier(input_matrix, DecisionTreeClassifier__criterion=gini, DecisionTreeClassifier__max_depth=10, DecisionTreeClassifier__min_samples_leaf=9, DecisionTreeClassifier__min_samples_split=19)\n",
      "GradientBoostingClassifier(FastICA(input_matrix, FastICA__tol=0.05), GradientBoostingClassifier__learning_rate=0.1, GradientBoostingClassifier__max_depth=9, GradientBoostingClassifier__max_features=0.2, GradientBoostingClassifier__min_samples_leaf=3, GradientBoostingClassifier__min_samples_split=10, GradientBoostingClassifier__n_estimators=100, GradientBoostingClassifier__subsample=0.45)\n",
      "LogisticRegression(VarianceThreshold(input_matrix, VarianceThreshold__threshold=0.0001), LogisticRegression__C=25.0, LogisticRegression__dual=False, LogisticRegression__penalty=l2)\n",
      "LogisticRegression(OneHotEncoder(input_matrix, OneHotEncoder__minimum_fraction=0.05, OneHotEncoder__sparse=False, OneHotEncoder__threshold=10), LogisticRegression__C=5.0, LogisticRegression__dual=False, LogisticRegression__penalty=l2)\n",
      "LogisticRegression(RobustScaler(input_matrix), LogisticRegression__C=0.01, LogisticRegression__dual=False, LogisticRegression__penalty=l2)\n",
      "GradientBoostingClassifier(FastICA(input_matrix, FastICA__tol=0.0), GradientBoostingClassifier__learning_rate=0.1, GradientBoostingClassifier__max_depth=6, GradientBoostingClassifier__max_features=0.4, GradientBoostingClassifier__min_samples_leaf=2, GradientBoostingClassifier__min_samples_split=13, GradientBoostingClassifier__n_estimators=100, GradientBoostingClassifier__subsample=0.5)\n",
      "MultinomialNB(input_matrix, MultinomialNB__alpha=0.001, MultinomialNB__fit_prior=False)\n",
      "RandomForestClassifier(input_matrix, RandomForestClassifier__bootstrap=True, RandomForestClassifier__criterion=gini, RandomForestClassifier__max_features=0.05, RandomForestClassifier__min_samples_leaf=9, RandomForestClassifier__min_samples_split=15, RandomForestClassifier__n_estimators=100)\n",
      "SGDClassifier(RBFSampler(input_matrix, RBFSampler__gamma=0.6000000000000001), SGDClassifier__alpha=0.0, SGDClassifier__eta0=0.01, SGDClassifier__fit_intercept=True, SGDClassifier__l1_ratio=0.5, SGDClassifier__learning_rate=invscaling, SGDClassifier__loss=modified_huber, SGDClassifier__penalty=elasticnet, SGDClassifier__power_t=1.0)\n",
      "DecisionTreeClassifier(ZeroCount(input_matrix), DecisionTreeClassifier__criterion=gini, DecisionTreeClassifier__max_depth=10, DecisionTreeClassifier__min_samples_leaf=9, DecisionTreeClassifier__min_samples_split=19)\n",
      "RandomForestClassifier(input_matrix, RandomForestClassifier__bootstrap=True, RandomForestClassifier__criterion=entropy, RandomForestClassifier__max_features=0.05, RandomForestClassifier__min_samples_leaf=9, RandomForestClassifier__min_samples_split=15, RandomForestClassifier__n_estimators=100)\n",
      "LogisticRegression(input_matrix, LogisticRegression__C=25.0, LogisticRegression__dual=False, LogisticRegression__penalty=l2)\n",
      "MLPClassifier(input_matrix, MLPClassifier__alpha=0.0001, MLPClassifier__learning_rate_init=0.001)\n",
      "SGDClassifier(input_matrix, SGDClassifier__alpha=0.0, SGDClassifier__eta0=0.01, SGDClassifier__fit_intercept=True, SGDClassifier__l1_ratio=0.75, SGDClassifier__learning_rate=invscaling, SGDClassifier__loss=modified_huber, SGDClassifier__penalty=elasticnet, SGDClassifier__power_t=1.0)\n",
      "DecisionTreeClassifier(input_matrix, DecisionTreeClassifier__criterion=gini, DecisionTreeClassifier__max_depth=10, DecisionTreeClassifier__min_samples_leaf=9, DecisionTreeClassifier__min_samples_split=8)\n",
      "LogisticRegression(OneHotEncoder(input_matrix, OneHotEncoder__minimum_fraction=0.05, OneHotEncoder__sparse=False, OneHotEncoder__threshold=10), LogisticRegression__C=25.0, LogisticRegression__dual=False, LogisticRegression__penalty=l2)\n",
      "GradientBoostingClassifier(RobustScaler(input_matrix), GradientBoostingClassifier__learning_rate=0.01, GradientBoostingClassifier__max_depth=2, GradientBoostingClassifier__max_features=0.6500000000000001, GradientBoostingClassifier__min_samples_leaf=8, GradientBoostingClassifier__min_samples_split=8, GradientBoostingClassifier__n_estimators=100, GradientBoostingClassifier__subsample=0.7000000000000001)\n",
      "RandomForestClassifier(ZeroCount(input_matrix), RandomForestClassifier__bootstrap=True, RandomForestClassifier__criterion=gini, RandomForestClassifier__max_features=0.05, RandomForestClassifier__min_samples_leaf=9, RandomForestClassifier__min_samples_split=15, RandomForestClassifier__n_estimators=100)\n",
      "GaussianNB(ZeroCount(ExtraTreesClassifier(input_matrix, ExtraTreesClassifier__bootstrap=True, ExtraTreesClassifier__criterion=entropy, ExtraTreesClassifier__max_features=0.7500000000000001, ExtraTreesClassifier__min_samples_leaf=20, ExtraTreesClassifier__min_samples_split=9, ExtraTreesClassifier__n_estimators=100)))\n",
      "BernoulliNB(input_matrix, BernoulliNB__alpha=10.0, BernoulliNB__fit_prior=True)\n",
      "GradientBoostingClassifier(FastICA(input_matrix, FastICA__tol=0.0), GradientBoostingClassifier__learning_rate=0.1, GradientBoostingClassifier__max_depth=6, GradientBoostingClassifier__max_features=0.4, GradientBoostingClassifier__min_samples_leaf=2, GradientBoostingClassifier__min_samples_split=13, GradientBoostingClassifier__n_estimators=100, GradientBoostingClassifier__subsample=0.7000000000000001)\n",
      "GradientBoostingClassifier(FastICA(input_matrix, FastICA__tol=0.05), GradientBoostingClassifier__learning_rate=0.1, GradientBoostingClassifier__max_depth=9, GradientBoostingClassifier__max_features=0.8, GradientBoostingClassifier__min_samples_leaf=3, GradientBoostingClassifier__min_samples_split=10, GradientBoostingClassifier__n_estimators=100, GradientBoostingClassifier__subsample=0.45)\n",
      "GradientBoostingClassifier(input_matrix, GradientBoostingClassifier__learning_rate=0.1, GradientBoostingClassifier__max_depth=6, GradientBoostingClassifier__max_features=0.4, GradientBoostingClassifier__min_samples_leaf=2, GradientBoostingClassifier__min_samples_split=13, GradientBoostingClassifier__n_estimators=100, GradientBoostingClassifier__subsample=0.5)\n",
      "SGDClassifier(StandardScaler(input_matrix), SGDClassifier__alpha=0.01, SGDClassifier__eta0=0.01, SGDClassifier__fit_intercept=True, SGDClassifier__l1_ratio=0.5, SGDClassifier__learning_rate=invscaling, SGDClassifier__loss=log, SGDClassifier__penalty=elasticnet, SGDClassifier__power_t=50.0)\n",
      "LogisticRegression(RandomForestClassifier(input_matrix, RandomForestClassifier__bootstrap=True, RandomForestClassifier__criterion=entropy, RandomForestClassifier__max_features=0.2, RandomForestClassifier__min_samples_leaf=18, RandomForestClassifier__min_samples_split=19, RandomForestClassifier__n_estimators=100), LogisticRegression__C=25.0, LogisticRegression__dual=False, LogisticRegression__penalty=l2)\n",
      "LogisticRegression(OneHotEncoder(input_matrix, OneHotEncoder__minimum_fraction=0.25, OneHotEncoder__sparse=False, OneHotEncoder__threshold=10), LogisticRegression__C=5.0, LogisticRegression__dual=False, LogisticRegression__penalty=l2)\n",
      "SGDClassifier(input_matrix, SGDClassifier__alpha=0.001, SGDClassifier__eta0=0.1, SGDClassifier__fit_intercept=False, SGDClassifier__l1_ratio=0.5, SGDClassifier__learning_rate=constant, SGDClassifier__loss=hinge, SGDClassifier__penalty=elasticnet, SGDClassifier__power_t=100.0)\n",
      "LogisticRegression(input_matrix, LogisticRegression__C=0.0001, LogisticRegression__dual=False, LogisticRegression__penalty=l2)\n",
      "MLPClassifier(input_matrix, MLPClassifier__alpha=0.001, MLPClassifier__learning_rate_init=0.001)\n",
      "LogisticRegression(DecisionTreeClassifier(input_matrix, DecisionTreeClassifier__criterion=entropy, DecisionTreeClassifier__max_depth=9, DecisionTreeClassifier__min_samples_leaf=14, DecisionTreeClassifier__min_samples_split=4), LogisticRegression__C=5.0, LogisticRegression__dual=False, LogisticRegression__penalty=l2)\n",
      "GradientBoostingClassifier(GaussianNB(input_matrix), GradientBoostingClassifier__learning_rate=0.1, GradientBoostingClassifier__max_depth=6, GradientBoostingClassifier__max_features=0.4, GradientBoostingClassifier__min_samples_leaf=2, GradientBoostingClassifier__min_samples_split=13, GradientBoostingClassifier__n_estimators=100, GradientBoostingClassifier__subsample=0.5)\n",
      "GradientBoostingClassifier(input_matrix, GradientBoostingClassifier__learning_rate=0.1, GradientBoostingClassifier__max_depth=6, GradientBoostingClassifier__max_features=0.4, GradientBoostingClassifier__min_samples_leaf=10, GradientBoostingClassifier__min_samples_split=13, GradientBoostingClassifier__n_estimators=100, GradientBoostingClassifier__subsample=0.5)\n",
      "DecisionTreeClassifier(input_matrix, DecisionTreeClassifier__criterion=entropy, DecisionTreeClassifier__max_depth=2, DecisionTreeClassifier__min_samples_leaf=19, DecisionTreeClassifier__min_samples_split=16)\n",
      "LogisticRegression(input_matrix, LogisticRegression__C=0.01, LogisticRegression__dual=False, LogisticRegression__penalty=l2)\n",
      "BernoulliNB(input_matrix, BernoulliNB__alpha=0.01, BernoulliNB__fit_prior=True)\n",
      "LogisticRegression(VarianceThreshold(Binarizer(input_matrix, Binarizer__threshold=0.9), VarianceThreshold__threshold=0.0001), LogisticRegression__C=25.0, LogisticRegression__dual=False, LogisticRegression__penalty=l2)\n",
      "GaussianNB(ZeroCount(ExtraTreesClassifier(input_matrix, ExtraTreesClassifier__bootstrap=False, ExtraTreesClassifier__criterion=entropy, ExtraTreesClassifier__max_features=0.7500000000000001, ExtraTreesClassifier__min_samples_leaf=20, ExtraTreesClassifier__min_samples_split=9, ExtraTreesClassifier__n_estimators=100)))\n",
      "MLPClassifier(input_matrix, MLPClassifier__alpha=0.1, MLPClassifier__learning_rate_init=0.001)\n",
      "MultinomialNB(input_matrix, MultinomialNB__alpha=0.001, MultinomialNB__fit_prior=True)\n",
      "MLPClassifier(CombineDFs(input_matrix, input_matrix), MLPClassifier__alpha=0.0001, MLPClassifier__learning_rate_init=0.001)\n",
      "RandomForestClassifier(ZeroCount(MaxAbsScaler(input_matrix)), RandomForestClassifier__bootstrap=True, RandomForestClassifier__criterion=gini, RandomForestClassifier__max_features=0.05, RandomForestClassifier__min_samples_leaf=9, RandomForestClassifier__min_samples_split=15, RandomForestClassifier__n_estimators=100)\n",
      "MLPClassifier(input_matrix, MLPClassifier__alpha=0.001, MLPClassifier__learning_rate_init=1.0)\n",
      "LogisticRegression(input_matrix, LogisticRegression__C=5.0, LogisticRegression__dual=False, LogisticRegression__penalty=l2)\n",
      "LogisticRegression(XGBClassifier(input_matrix, XGBClassifier__learning_rate=0.1, XGBClassifier__max_depth=5, XGBClassifier__min_child_weight=16, XGBClassifier__n_estimators=100, XGBClassifier__n_jobs=1, XGBClassifier__subsample=0.8500000000000001, XGBClassifier__verbosity=0), LogisticRegression__C=25.0, LogisticRegression__dual=False, LogisticRegression__penalty=l2)\n",
      "LogisticRegression(SelectFwe(input_matrix, SelectFwe__alpha=0.04), LogisticRegression__C=25.0, LogisticRegression__dual=False, LogisticRegression__penalty=l2)\n",
      "LogisticRegression(MinMaxScaler(input_matrix), LogisticRegression__C=0.01, LogisticRegression__dual=False, LogisticRegression__penalty=l2)\n",
      "LogisticRegression(XGBClassifier(input_matrix, XGBClassifier__learning_rate=0.01, XGBClassifier__max_depth=3, XGBClassifier__min_child_weight=11, XGBClassifier__n_estimators=100, XGBClassifier__n_jobs=1, XGBClassifier__subsample=0.05, XGBClassifier__verbosity=0), LogisticRegression__C=25.0, LogisticRegression__dual=False, LogisticRegression__penalty=l2)\n",
      "MLPClassifier(MLPClassifier(input_matrix, MLPClassifier__alpha=0.0001, MLPClassifier__learning_rate_init=0.01), MLPClassifier__alpha=0.01, MLPClassifier__learning_rate_init=0.001)\n",
      "RandomForestClassifier(PCA(input_matrix, PCA__iterated_power=10, PCA__svd_solver=randomized), RandomForestClassifier__bootstrap=True, RandomForestClassifier__criterion=entropy, RandomForestClassifier__max_features=0.05, RandomForestClassifier__min_samples_leaf=9, RandomForestClassifier__min_samples_split=15, RandomForestClassifier__n_estimators=100)\n",
      "LogisticRegression(VarianceThreshold(OneHotEncoder(input_matrix, OneHotEncoder__minimum_fraction=0.05, OneHotEncoder__sparse=False, OneHotEncoder__threshold=10), VarianceThreshold__threshold=0.0001), LogisticRegression__C=25.0, LogisticRegression__dual=False, LogisticRegression__penalty=l2)\n",
      "GradientBoostingClassifier(input_matrix, GradientBoostingClassifier__learning_rate=1.0, GradientBoostingClassifier__max_depth=5, GradientBoostingClassifier__max_features=0.2, GradientBoostingClassifier__min_samples_leaf=12, GradientBoostingClassifier__min_samples_split=3, GradientBoostingClassifier__n_estimators=100, GradientBoostingClassifier__subsample=0.9000000000000001)\n",
      "MLPClassifier(CombineDFs(DecisionTreeClassifier(input_matrix, DecisionTreeClassifier__criterion=entropy, DecisionTreeClassifier__max_depth=5, DecisionTreeClassifier__min_samples_leaf=16, DecisionTreeClassifier__min_samples_split=4), input_matrix), MLPClassifier__alpha=0.0001, MLPClassifier__learning_rate_init=0.001)\n",
      "SGDClassifier(input_matrix, SGDClassifier__alpha=0.001, SGDClassifier__eta0=0.1, SGDClassifier__fit_intercept=True, SGDClassifier__l1_ratio=1.0, SGDClassifier__learning_rate=constant, SGDClassifier__loss=hinge, SGDClassifier__penalty=elasticnet, SGDClassifier__power_t=0.0)\n",
      "MLPClassifier(input_matrix, MLPClassifier__alpha=0.001, MLPClassifier__learning_rate_init=0.01)\n",
      "GradientBoostingClassifier(input_matrix, GradientBoostingClassifier__learning_rate=0.1, GradientBoostingClassifier__max_depth=6, GradientBoostingClassifier__max_features=0.4, GradientBoostingClassifier__min_samples_leaf=10, GradientBoostingClassifier__min_samples_split=5, GradientBoostingClassifier__n_estimators=100, GradientBoostingClassifier__subsample=0.5)\n",
      "LinearSVC(input_matrix, LinearSVC__C=1.0, LinearSVC__dual=True, LinearSVC__loss=hinge, LinearSVC__penalty=l2, LinearSVC__tol=0.0001)\n",
      "GradientBoostingClassifier(input_matrix, GradientBoostingClassifier__learning_rate=0.1, GradientBoostingClassifier__max_depth=6, GradientBoostingClassifier__max_features=0.4, GradientBoostingClassifier__min_samples_leaf=18, GradientBoostingClassifier__min_samples_split=13, GradientBoostingClassifier__n_estimators=100, GradientBoostingClassifier__subsample=0.5)\n",
      "BernoulliNB(input_matrix, BernoulliNB__alpha=1.0, BernoulliNB__fit_prior=True)\n",
      "SGDClassifier(input_matrix, SGDClassifier__alpha=0.001, SGDClassifier__eta0=0.01, SGDClassifier__fit_intercept=True, SGDClassifier__l1_ratio=0.0, SGDClassifier__learning_rate=invscaling, SGDClassifier__loss=squared_hinge, SGDClassifier__penalty=elasticnet, SGDClassifier__power_t=0.5)\n",
      "MLPClassifier(input_matrix, MLPClassifier__alpha=0.001, MLPClassifier__learning_rate_init=0.5)\n",
      "MLPClassifier(input_matrix, MLPClassifier__alpha=0.01, MLPClassifier__learning_rate_init=0.01)\n",
      "MLPClassifier(ExtraTreesClassifier(CombineDFs(DecisionTreeClassifier(input_matrix, DecisionTreeClassifier__criterion=entropy, DecisionTreeClassifier__max_depth=5, DecisionTreeClassifier__min_samples_leaf=16, DecisionTreeClassifier__min_samples_split=4), input_matrix), ExtraTreesClassifier__bootstrap=True, ExtraTreesClassifier__criterion=entropy, ExtraTreesClassifier__max_features=0.6500000000000001, ExtraTreesClassifier__min_samples_leaf=5, ExtraTreesClassifier__min_samples_split=2, ExtraTreesClassifier__n_estimators=100), MLPClassifier__alpha=0.0001, MLPClassifier__learning_rate_init=0.001)\n",
      "SGDClassifier(XGBClassifier(input_matrix, XGBClassifier__learning_rate=0.1, XGBClassifier__max_depth=10, XGBClassifier__min_child_weight=8, XGBClassifier__n_estimators=100, XGBClassifier__n_jobs=1, XGBClassifier__subsample=0.05, XGBClassifier__verbosity=0), SGDClassifier__alpha=0.001, SGDClassifier__eta0=0.1, SGDClassifier__fit_intercept=False, SGDClassifier__l1_ratio=0.5, SGDClassifier__learning_rate=constant, SGDClassifier__loss=log, SGDClassifier__penalty=elasticnet, SGDClassifier__power_t=100.0)\n",
      "MLPClassifier(DecisionTreeClassifier(input_matrix, DecisionTreeClassifier__criterion=entropy, DecisionTreeClassifier__max_depth=5, DecisionTreeClassifier__min_samples_leaf=16, DecisionTreeClassifier__min_samples_split=4), MLPClassifier__alpha=0.0001, MLPClassifier__learning_rate_init=0.001)\n",
      "MLPClassifier(CombineDFs(DecisionTreeClassifier(input_matrix, DecisionTreeClassifier__criterion=entropy, DecisionTreeClassifier__max_depth=5, DecisionTreeClassifier__min_samples_leaf=1, DecisionTreeClassifier__min_samples_split=4), input_matrix), MLPClassifier__alpha=0.0001, MLPClassifier__learning_rate_init=0.001)\n",
      "MLPClassifier(input_matrix, MLPClassifier__alpha=0.01, MLPClassifier__learning_rate_init=0.5)\n",
      "LogisticRegression(VarianceThreshold(input_matrix, VarianceThreshold__threshold=0.0005), LogisticRegression__C=25.0, LogisticRegression__dual=False, LogisticRegression__penalty=l2)\n",
      "GradientBoostingClassifier(input_matrix, GradientBoostingClassifier__learning_rate=0.1, GradientBoostingClassifier__max_depth=6, GradientBoostingClassifier__max_features=0.4, GradientBoostingClassifier__min_samples_leaf=18, GradientBoostingClassifier__min_samples_split=10, GradientBoostingClassifier__n_estimators=100, GradientBoostingClassifier__subsample=0.5)\n",
      "GradientBoostingClassifier(CombineDFs(input_matrix, input_matrix), GradientBoostingClassifier__learning_rate=0.1, GradientBoostingClassifier__max_depth=6, GradientBoostingClassifier__max_features=0.4, GradientBoostingClassifier__min_samples_leaf=10, GradientBoostingClassifier__min_samples_split=5, GradientBoostingClassifier__n_estimators=100, GradientBoostingClassifier__subsample=0.5)\n",
      "GradientBoostingClassifier(input_matrix, GradientBoostingClassifier__learning_rate=0.1, GradientBoostingClassifier__max_depth=6, GradientBoostingClassifier__max_features=0.4, GradientBoostingClassifier__min_samples_leaf=2, GradientBoostingClassifier__min_samples_split=13, GradientBoostingClassifier__n_estimators=100, GradientBoostingClassifier__subsample=0.7000000000000001)\n",
      "GradientBoostingClassifier(MultinomialNB(input_matrix, MultinomialNB__alpha=10.0, MultinomialNB__fit_prior=True), GradientBoostingClassifier__learning_rate=0.1, GradientBoostingClassifier__max_depth=6, GradientBoostingClassifier__max_features=0.4, GradientBoostingClassifier__min_samples_leaf=10, GradientBoostingClassifier__min_samples_split=5, GradientBoostingClassifier__n_estimators=100, GradientBoostingClassifier__subsample=0.5)\n",
      "LogisticRegression(RBFSampler(input_matrix, RBFSampler__gamma=0.9), LogisticRegression__C=25.0, LogisticRegression__dual=False, LogisticRegression__penalty=l2)\n",
      "GradientBoostingClassifier(RobustScaler(input_matrix), GradientBoostingClassifier__learning_rate=0.1, GradientBoostingClassifier__max_depth=6, GradientBoostingClassifier__max_features=0.4, GradientBoostingClassifier__min_samples_leaf=18, GradientBoostingClassifier__min_samples_split=13, GradientBoostingClassifier__n_estimators=100, GradientBoostingClassifier__subsample=0.5)\n",
      "LogisticRegression(Nystroem(input_matrix, Nystroem__gamma=0.8500000000000001, Nystroem__kernel=rbf, Nystroem__n_components=8), LogisticRegression__C=25.0, LogisticRegression__dual=False, LogisticRegression__penalty=l2)\n",
      "MLPClassifier(MLPClassifier(ExtraTreesClassifier(input_matrix, ExtraTreesClassifier__bootstrap=False, ExtraTreesClassifier__criterion=gini, ExtraTreesClassifier__max_features=0.8, ExtraTreesClassifier__min_samples_leaf=9, ExtraTreesClassifier__min_samples_split=18, ExtraTreesClassifier__n_estimators=100), MLPClassifier__alpha=0.0001, MLPClassifier__learning_rate_init=0.01), MLPClassifier__alpha=0.01, MLPClassifier__learning_rate_init=0.001)\n",
      "LogisticRegression(VarianceThreshold(input_matrix, VarianceThreshold__threshold=0.0001), LogisticRegression__C=0.001, LogisticRegression__dual=False, LogisticRegression__penalty=l2)\n",
      "ExtraTreesClassifier(input_matrix, ExtraTreesClassifier__bootstrap=False, ExtraTreesClassifier__criterion=entropy, ExtraTreesClassifier__max_features=1.0, ExtraTreesClassifier__min_samples_leaf=18, ExtraTreesClassifier__min_samples_split=16, ExtraTreesClassifier__n_estimators=100)\n",
      "SGDClassifier(SelectFwe(input_matrix, SelectFwe__alpha=0.021), SGDClassifier__alpha=0.001, SGDClassifier__eta0=0.1, SGDClassifier__fit_intercept=False, SGDClassifier__l1_ratio=0.5, SGDClassifier__learning_rate=constant, SGDClassifier__loss=log, SGDClassifier__penalty=elasticnet, SGDClassifier__power_t=100.0)\n",
      "MLPClassifier(input_matrix, MLPClassifier__alpha=0.001, MLPClassifier__learning_rate_init=0.1)\n",
      "LogisticRegression(OneHotEncoder(input_matrix, OneHotEncoder__minimum_fraction=0.05, OneHotEncoder__sparse=False, OneHotEncoder__threshold=10), LogisticRegression__C=15.0, LogisticRegression__dual=False, LogisticRegression__penalty=l2)\n",
      "LogisticRegression(PCA(input_matrix, PCA__iterated_power=4, PCA__svd_solver=randomized), LogisticRegression__C=25.0, LogisticRegression__dual=False, LogisticRegression__penalty=l2)\n",
      "LogisticRegression(MinMaxScaler(input_matrix), LogisticRegression__C=25.0, LogisticRegression__dual=False, LogisticRegression__penalty=l2)\n",
      "MultinomialNB(MLPClassifier(input_matrix, MLPClassifier__alpha=0.0001, MLPClassifier__learning_rate_init=0.01), MultinomialNB__alpha=100.0, MultinomialNB__fit_prior=False)\n",
      "SGDClassifier(RandomForestClassifier(input_matrix, RandomForestClassifier__bootstrap=True, RandomForestClassifier__criterion=entropy, RandomForestClassifier__max_features=0.2, RandomForestClassifier__min_samples_leaf=19, RandomForestClassifier__min_samples_split=8, RandomForestClassifier__n_estimators=100), SGDClassifier__alpha=0.001, SGDClassifier__eta0=0.1, SGDClassifier__fit_intercept=False, SGDClassifier__l1_ratio=0.5, SGDClassifier__learning_rate=constant, SGDClassifier__loss=log, SGDClassifier__penalty=elasticnet, SGDClassifier__power_t=100.0)\n",
      "XGBClassifier(input_matrix, XGBClassifier__learning_rate=0.1, XGBClassifier__max_depth=10, XGBClassifier__min_child_weight=20, XGBClassifier__n_estimators=100, XGBClassifier__n_jobs=1, XGBClassifier__subsample=0.8, XGBClassifier__verbosity=0)\n",
      "GradientBoostingClassifier(Binarizer(input_matrix, Binarizer__threshold=0.4), GradientBoostingClassifier__learning_rate=0.1, GradientBoostingClassifier__max_depth=6, GradientBoostingClassifier__max_features=0.4, GradientBoostingClassifier__min_samples_leaf=10, GradientBoostingClassifier__min_samples_split=13, GradientBoostingClassifier__n_estimators=100, GradientBoostingClassifier__subsample=0.5)\n",
      "MLPClassifier(RBFSampler(CombineDFs(input_matrix, input_matrix), RBFSampler__gamma=0.7000000000000001), MLPClassifier__alpha=0.0001, MLPClassifier__learning_rate_init=0.001)\n",
      "LogisticRegression(PolynomialFeatures(input_matrix, PolynomialFeatures__degree=2, PolynomialFeatures__include_bias=False, PolynomialFeatures__interaction_only=False), LogisticRegression__C=25.0, LogisticRegression__dual=False, LogisticRegression__penalty=l2)\n",
      "MLPClassifier(input_matrix, MLPClassifier__alpha=0.0001, MLPClassifier__learning_rate_init=0.01)\n",
      "LogisticRegression(ExtraTreesClassifier(input_matrix, ExtraTreesClassifier__bootstrap=False, ExtraTreesClassifier__criterion=gini, ExtraTreesClassifier__max_features=0.7500000000000001, ExtraTreesClassifier__min_samples_leaf=6, ExtraTreesClassifier__min_samples_split=9, ExtraTreesClassifier__n_estimators=100), LogisticRegression__C=25.0, LogisticRegression__dual=False, LogisticRegression__penalty=l2)\n",
      "GradientBoostingClassifier(FastICA(input_matrix, FastICA__tol=0.5), GradientBoostingClassifier__learning_rate=0.1, GradientBoostingClassifier__max_depth=6, GradientBoostingClassifier__max_features=0.4, GradientBoostingClassifier__min_samples_leaf=2, GradientBoostingClassifier__min_samples_split=13, GradientBoostingClassifier__n_estimators=100, GradientBoostingClassifier__subsample=0.7000000000000001)\n",
      "GradientBoostingClassifier(CombineDFs(input_matrix, input_matrix), GradientBoostingClassifier__learning_rate=0.1, GradientBoostingClassifier__max_depth=6, GradientBoostingClassifier__max_features=0.8, GradientBoostingClassifier__min_samples_leaf=10, GradientBoostingClassifier__min_samples_split=5, GradientBoostingClassifier__n_estimators=100, GradientBoostingClassifier__subsample=0.5)\n",
      "GradientBoostingClassifier(RobustScaler(input_matrix), GradientBoostingClassifier__learning_rate=0.1, GradientBoostingClassifier__max_depth=6, GradientBoostingClassifier__max_features=0.4, GradientBoostingClassifier__min_samples_leaf=10, GradientBoostingClassifier__min_samples_split=13, GradientBoostingClassifier__n_estimators=100, GradientBoostingClassifier__subsample=0.5)\n",
      "MLPClassifier(DecisionTreeClassifier(MLPClassifier(input_matrix, MLPClassifier__alpha=0.0001, MLPClassifier__learning_rate_init=0.01), DecisionTreeClassifier__criterion=entropy, DecisionTreeClassifier__max_depth=5, DecisionTreeClassifier__min_samples_leaf=14, DecisionTreeClassifier__min_samples_split=17), MLPClassifier__alpha=0.01, MLPClassifier__learning_rate_init=0.001)\n",
      "BernoulliNB(input_matrix, BernoulliNB__alpha=10.0, BernoulliNB__fit_prior=False)\n",
      "LogisticRegression(MaxAbsScaler(input_matrix), LogisticRegression__C=25.0, LogisticRegression__dual=False, LogisticRegression__penalty=l2)\n",
      "MLPClassifier(XGBClassifier(CombineDFs(input_matrix, input_matrix), XGBClassifier__learning_rate=0.01, XGBClassifier__max_depth=2, XGBClassifier__min_child_weight=17, XGBClassifier__n_estimators=100, XGBClassifier__n_jobs=1, XGBClassifier__subsample=0.4, XGBClassifier__verbosity=0), MLPClassifier__alpha=0.0001, MLPClassifier__learning_rate_init=0.001)\n",
      "MLPClassifier(ExtraTreesClassifier(input_matrix, ExtraTreesClassifier__bootstrap=False, ExtraTreesClassifier__criterion=gini, ExtraTreesClassifier__max_features=0.8, ExtraTreesClassifier__min_samples_leaf=9, ExtraTreesClassifier__min_samples_split=18, ExtraTreesClassifier__n_estimators=100), MLPClassifier__alpha=0.01, MLPClassifier__learning_rate_init=0.001)\n"
     ]
    }
   ],
   "source": [
    "all_pipelines_trained = pipeline_optimizer.evaluated_individuals_\n",
    "for pl in all_pipelines_trained:\n",
    "    print(pl)"
   ]
  },
  {
   "cell_type": "markdown",
   "id": "48ed8fa7-a672-499b-add9-489dd6eaf711",
   "metadata": {},
   "source": [
    "#### Export the pipeline in a source code"
   ]
  },
  {
   "cell_type": "code",
   "execution_count": 8,
   "id": "2d8a914c-c6e8-41ae-9638-2b79f3143244",
   "metadata": {},
   "outputs": [],
   "source": [
    "pipeline_optimizer.export('hello_tpot_classification_exported_pipeline.py')"
   ]
  }
 ],
 "metadata": {
  "kernelspec": {
   "display_name": "python[tpot]",
   "language": "python",
   "name": "tpt"
  },
  "language_info": {
   "codemirror_mode": {
    "name": "ipython",
    "version": 3
   },
   "file_extension": ".py",
   "mimetype": "text/x-python",
   "name": "python",
   "nbconvert_exporter": "python",
   "pygments_lexer": "ipython3",
   "version": "3.11.4"
  }
 },
 "nbformat": 4,
 "nbformat_minor": 5
}
