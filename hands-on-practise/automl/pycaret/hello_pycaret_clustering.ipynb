{
 "cells": [
  {
   "cell_type": "markdown",
   "id": "ebf15599",
   "metadata": {},
   "source": [
    "# Hello PyCaret Clustering"
   ]
  },
  {
   "cell_type": "code",
   "execution_count": null,
   "id": "7f4e1f58",
   "metadata": {},
   "outputs": [
    {
     "name": "stderr",
     "output_type": "stream",
     "text": [
      "/opt/conda/envs/pycaret_full/lib/python3.8/site-packages/pycaret/internal/logging.py:146: UserWarning: Could not attach a FileHandler to the logger at path logs.log! No logs will be saved.\n",
      "  warnings.warn(\n",
      "Traceback (most recent call last):\n",
      "  File \"/opt/conda/envs/pycaret_full/lib/python3.8/site-packages/pycaret/internal/logging.py\", line 144, in create_logger\n",
      "    ch = logging.FileHandler(path)\n",
      "  File \"/opt/conda/envs/pycaret_full/lib/python3.8/logging/__init__.py\", line 1147, in __init__\n",
      "    StreamHandler.__init__(self, self._open())\n",
      "  File \"/opt/conda/envs/pycaret_full/lib/python3.8/logging/__init__.py\", line 1176, in _open\n",
      "    return open(self.baseFilename, self.mode, encoding=self.encoding)\n",
      "FileNotFoundError: [Errno 2] No such file or directory: '/opt/nb/automl/pycaret/logs.log'\n"
     ]
    }
   ],
   "source": [
    "from pycaret.clustering import ClusteringExperiment\n",
    "from pycaret.datasets import get_data\n",
    "\n",
    "import os \n",
    "\n",
    "data = get_data('jewellery')"
   ]
  },
  {
   "cell_type": "code",
   "execution_count": null,
   "id": "df7840d8",
   "metadata": {},
   "outputs": [],
   "source": [
    "clustering_exp = ClusteringExperiment()\n",
    "clustering_exp.setup(data, normalize = True)"
   ]
  },
  {
   "cell_type": "code",
   "execution_count": null,
   "id": "1727138a",
   "metadata": {},
   "outputs": [],
   "source": [
    "best = clustering_exp.compare_models() # doesn't have compare models like classification and regression"
   ]
  },
  {
   "cell_type": "code",
   "execution_count": null,
   "id": "b0d8d65f",
   "metadata": {},
   "outputs": [],
   "source": [
    "clustering_exp.create_model?\n",
    "\n",
    "# model: str or scikit-learn compatible object\n",
    "#     ID of an model available in the model library or pass an untrained\n",
    "#     model object consistent with scikit-learn API. Models available\n",
    "#     in the model library (ID - Name):\n",
    "\n",
    "#     * 'kmeans' - K-Means Clustering\n",
    "#     * 'ap' - Affinity Propagation\n",
    "#     * 'meanshift' - Mean shift Clustering\n",
    "#     * 'sc' - Spectral Clustering\n",
    "#     * 'hclust' - Agglomerative Clustering\n",
    "#     * 'dbscan' - Density-Based Spatial Clustering\n",
    "#     * 'optics' - OPTICS Clustering\n",
    "#     * 'birch' - Birch Clustering\n",
    "#     * 'kmodes' - K-Modes Clustering"
   ]
  },
  {
   "cell_type": "code",
   "execution_count": null,
   "id": "4058e0e8",
   "metadata": {
    "scrolled": true
   },
   "outputs": [],
   "source": [
    "kmeans = clustering_exp.create_model('kmeans')"
   ]
  },
  {
   "cell_type": "code",
   "execution_count": null,
   "id": "3038012b",
   "metadata": {},
   "outputs": [],
   "source": [
    "print(kmeans)"
   ]
  },
  {
   "cell_type": "code",
   "execution_count": null,
   "id": "b64bfa59",
   "metadata": {},
   "outputs": [],
   "source": [
    "clustering_exp.evaluate_model(kmeans)"
   ]
  },
  {
   "cell_type": "code",
   "execution_count": null,
   "id": "e34ba89a",
   "metadata": {},
   "outputs": [],
   "source": [
    "clustering_exp.plot_model(kmeans, plot = 'elbow')"
   ]
  },
  {
   "cell_type": "code",
   "execution_count": null,
   "id": "ec9243cb",
   "metadata": {},
   "outputs": [],
   "source": [
    "clustering_exp.plot_model(kmeans, plot = 'silhouette')"
   ]
  },
  {
   "cell_type": "code",
   "execution_count": null,
   "id": "c62252dd",
   "metadata": {},
   "outputs": [],
   "source": [
    "# assigns cluster labels to the training data, given a trained model.\n",
    "result = clustering_exp.assign_model(kmeans)\n",
    "result.head()"
   ]
  },
  {
   "cell_type": "code",
   "execution_count": null,
   "id": "84ec5802",
   "metadata": {},
   "outputs": [],
   "source": [
    "# do predictions\n",
    "predictions = clustering_exp.predict_model(kmeans, data = data)\n",
    "predictions.head()"
   ]
  },
  {
   "cell_type": "code",
   "execution_count": null,
   "id": "1a433ff1",
   "metadata": {},
   "outputs": [],
   "source": [
    "# save the experiment\n",
    "save_path = os.path.join(os.getenv('HOME'), 'models', 'pycaret', 'hello_clustering')\n",
    "clustering_exp.save_model(kmeans, save_path)"
   ]
  },
  {
   "cell_type": "code",
   "execution_count": null,
   "id": "9d4254cd",
   "metadata": {},
   "outputs": [],
   "source": [
    "# load experiment\n",
    "clustering_exp.load_model(save_path)"
   ]
  }
 ],
 "metadata": {
  "kernelspec": {
   "display_name": "pycaret_full",
   "language": "python",
   "name": "pycaret_full"
  },
  "language_info": {
   "codemirror_mode": {
    "name": "ipython",
    "version": 3
   },
   "file_extension": ".py",
   "mimetype": "text/x-python",
   "name": "python",
   "nbconvert_exporter": "python",
   "pygments_lexer": "ipython3",
   "version": "3.8.16"
  }
 },
 "nbformat": 4,
 "nbformat_minor": 5
}
