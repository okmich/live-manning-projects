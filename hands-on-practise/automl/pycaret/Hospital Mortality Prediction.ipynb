{
 "cells": [
  {
   "cell_type": "markdown",
   "id": "3d2daa04",
   "metadata": {},
   "source": [
    "# Hospital Mortality Prediction"
   ]
  },
  {
   "cell_type": "code",
   "execution_count": 1,
   "id": "8d3be284",
   "metadata": {},
   "outputs": [],
   "source": [
    "import numpy as np\n",
    "import pandas as pd\n",
    "\n",
    "from pycaret.classification import ClassificationExperiment\n",
    "\n",
    "import os\n"
   ]
  },
  {
   "cell_type": "code",
   "execution_count": null,
   "id": "c511d99e",
   "metadata": {},
   "outputs": [],
   "source": []
  }
 ],
 "metadata": {
  "kernelspec": {
   "display_name": "pycaret_full",
   "language": "python",
   "name": "pycaret_full"
  },
  "language_info": {
   "codemirror_mode": {
    "name": "ipython",
    "version": 3
   },
   "file_extension": ".py",
   "mimetype": "text/x-python",
   "name": "python",
   "nbconvert_exporter": "python",
   "pygments_lexer": "ipython3",
   "version": "3.8.16"
  }
 },
 "nbformat": 4,
 "nbformat_minor": 5
}
