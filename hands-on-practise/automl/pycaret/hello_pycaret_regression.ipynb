{
 "cells": [
  {
   "cell_type": "markdown",
   "id": "9149dcd0",
   "metadata": {},
   "source": [
    "# Hello PyCaret Regression"
   ]
  },
  {
   "cell_type": "code",
   "execution_count": 1,
   "id": "20fd616a",
   "metadata": {},
   "outputs": [
    {
     "data": {
      "text/html": [
       "<div>\n",
       "<style scoped>\n",
       "    .dataframe tbody tr th:only-of-type {\n",
       "        vertical-align: middle;\n",
       "    }\n",
       "\n",
       "    .dataframe tbody tr th {\n",
       "        vertical-align: top;\n",
       "    }\n",
       "\n",
       "    .dataframe thead th {\n",
       "        text-align: right;\n",
       "    }\n",
       "</style>\n",
       "<table border=\"1\" class=\"dataframe\">\n",
       "  <thead>\n",
       "    <tr style=\"text-align: right;\">\n",
       "      <th></th>\n",
       "      <th>age</th>\n",
       "      <th>sex</th>\n",
       "      <th>bmi</th>\n",
       "      <th>children</th>\n",
       "      <th>smoker</th>\n",
       "      <th>region</th>\n",
       "      <th>charges</th>\n",
       "    </tr>\n",
       "  </thead>\n",
       "  <tbody>\n",
       "    <tr>\n",
       "      <th>0</th>\n",
       "      <td>19</td>\n",
       "      <td>female</td>\n",
       "      <td>27.900</td>\n",
       "      <td>0</td>\n",
       "      <td>yes</td>\n",
       "      <td>southwest</td>\n",
       "      <td>16884.92400</td>\n",
       "    </tr>\n",
       "    <tr>\n",
       "      <th>1</th>\n",
       "      <td>18</td>\n",
       "      <td>male</td>\n",
       "      <td>33.770</td>\n",
       "      <td>1</td>\n",
       "      <td>no</td>\n",
       "      <td>southeast</td>\n",
       "      <td>1725.55230</td>\n",
       "    </tr>\n",
       "    <tr>\n",
       "      <th>2</th>\n",
       "      <td>28</td>\n",
       "      <td>male</td>\n",
       "      <td>33.000</td>\n",
       "      <td>3</td>\n",
       "      <td>no</td>\n",
       "      <td>southeast</td>\n",
       "      <td>4449.46200</td>\n",
       "    </tr>\n",
       "    <tr>\n",
       "      <th>3</th>\n",
       "      <td>33</td>\n",
       "      <td>male</td>\n",
       "      <td>22.705</td>\n",
       "      <td>0</td>\n",
       "      <td>no</td>\n",
       "      <td>northwest</td>\n",
       "      <td>21984.47061</td>\n",
       "    </tr>\n",
       "    <tr>\n",
       "      <th>4</th>\n",
       "      <td>32</td>\n",
       "      <td>male</td>\n",
       "      <td>28.880</td>\n",
       "      <td>0</td>\n",
       "      <td>no</td>\n",
       "      <td>northwest</td>\n",
       "      <td>3866.85520</td>\n",
       "    </tr>\n",
       "  </tbody>\n",
       "</table>\n",
       "</div>"
      ],
      "text/plain": [
       "   age     sex     bmi  children smoker     region      charges\n",
       "0   19  female  27.900         0    yes  southwest  16884.92400\n",
       "1   18    male  33.770         1     no  southeast   1725.55230\n",
       "2   28    male  33.000         3     no  southeast   4449.46200\n",
       "3   33    male  22.705         0     no  northwest  21984.47061\n",
       "4   32    male  28.880         0     no  northwest   3866.85520"
      ]
     },
     "metadata": {},
     "output_type": "display_data"
    },
    {
     "name": "stdout",
     "output_type": "stream",
     "text": [
      "(1338, 7)\n"
     ]
    }
   ],
   "source": [
    "from pycaret.regression import RegressionExperiment\n",
    "from pycaret.datasets import get_data\n",
    "\n",
    "import os\n",
    "\n",
    "data = get_data('insurance')\n",
    "print(data.shape)"
   ]
  },
  {
   "cell_type": "code",
   "execution_count": 2,
   "id": "916d27e9",
   "metadata": {},
   "outputs": [
    {
     "data": {
      "text/html": [
       "<style type=\"text/css\">\n",
       "#T_debca_row10_col1 {\n",
       "  background-color: lightgreen;\n",
       "}\n",
       "</style>\n",
       "<table id=\"T_debca\">\n",
       "  <thead>\n",
       "    <tr>\n",
       "      <th class=\"blank level0\" >&nbsp;</th>\n",
       "      <th id=\"T_debca_level0_col0\" class=\"col_heading level0 col0\" >Description</th>\n",
       "      <th id=\"T_debca_level0_col1\" class=\"col_heading level0 col1\" >Value</th>\n",
       "    </tr>\n",
       "  </thead>\n",
       "  <tbody>\n",
       "    <tr>\n",
       "      <th id=\"T_debca_level0_row0\" class=\"row_heading level0 row0\" >0</th>\n",
       "      <td id=\"T_debca_row0_col0\" class=\"data row0 col0\" >Session id</td>\n",
       "      <td id=\"T_debca_row0_col1\" class=\"data row0 col1\" >123</td>\n",
       "    </tr>\n",
       "    <tr>\n",
       "      <th id=\"T_debca_level0_row1\" class=\"row_heading level0 row1\" >1</th>\n",
       "      <td id=\"T_debca_row1_col0\" class=\"data row1 col0\" >Target</td>\n",
       "      <td id=\"T_debca_row1_col1\" class=\"data row1 col1\" >charges</td>\n",
       "    </tr>\n",
       "    <tr>\n",
       "      <th id=\"T_debca_level0_row2\" class=\"row_heading level0 row2\" >2</th>\n",
       "      <td id=\"T_debca_row2_col0\" class=\"data row2 col0\" >Target type</td>\n",
       "      <td id=\"T_debca_row2_col1\" class=\"data row2 col1\" >Regression</td>\n",
       "    </tr>\n",
       "    <tr>\n",
       "      <th id=\"T_debca_level0_row3\" class=\"row_heading level0 row3\" >3</th>\n",
       "      <td id=\"T_debca_row3_col0\" class=\"data row3 col0\" >Original data shape</td>\n",
       "      <td id=\"T_debca_row3_col1\" class=\"data row3 col1\" >(1338, 7)</td>\n",
       "    </tr>\n",
       "    <tr>\n",
       "      <th id=\"T_debca_level0_row4\" class=\"row_heading level0 row4\" >4</th>\n",
       "      <td id=\"T_debca_row4_col0\" class=\"data row4 col0\" >Transformed data shape</td>\n",
       "      <td id=\"T_debca_row4_col1\" class=\"data row4 col1\" >(1338, 10)</td>\n",
       "    </tr>\n",
       "    <tr>\n",
       "      <th id=\"T_debca_level0_row5\" class=\"row_heading level0 row5\" >5</th>\n",
       "      <td id=\"T_debca_row5_col0\" class=\"data row5 col0\" >Transformed train set shape</td>\n",
       "      <td id=\"T_debca_row5_col1\" class=\"data row5 col1\" >(936, 10)</td>\n",
       "    </tr>\n",
       "    <tr>\n",
       "      <th id=\"T_debca_level0_row6\" class=\"row_heading level0 row6\" >6</th>\n",
       "      <td id=\"T_debca_row6_col0\" class=\"data row6 col0\" >Transformed test set shape</td>\n",
       "      <td id=\"T_debca_row6_col1\" class=\"data row6 col1\" >(402, 10)</td>\n",
       "    </tr>\n",
       "    <tr>\n",
       "      <th id=\"T_debca_level0_row7\" class=\"row_heading level0 row7\" >7</th>\n",
       "      <td id=\"T_debca_row7_col0\" class=\"data row7 col0\" >Ordinal features</td>\n",
       "      <td id=\"T_debca_row7_col1\" class=\"data row7 col1\" >2</td>\n",
       "    </tr>\n",
       "    <tr>\n",
       "      <th id=\"T_debca_level0_row8\" class=\"row_heading level0 row8\" >8</th>\n",
       "      <td id=\"T_debca_row8_col0\" class=\"data row8 col0\" >Numeric features</td>\n",
       "      <td id=\"T_debca_row8_col1\" class=\"data row8 col1\" >3</td>\n",
       "    </tr>\n",
       "    <tr>\n",
       "      <th id=\"T_debca_level0_row9\" class=\"row_heading level0 row9\" >9</th>\n",
       "      <td id=\"T_debca_row9_col0\" class=\"data row9 col0\" >Categorical features</td>\n",
       "      <td id=\"T_debca_row9_col1\" class=\"data row9 col1\" >3</td>\n",
       "    </tr>\n",
       "    <tr>\n",
       "      <th id=\"T_debca_level0_row10\" class=\"row_heading level0 row10\" >10</th>\n",
       "      <td id=\"T_debca_row10_col0\" class=\"data row10 col0\" >Preprocess</td>\n",
       "      <td id=\"T_debca_row10_col1\" class=\"data row10 col1\" >True</td>\n",
       "    </tr>\n",
       "    <tr>\n",
       "      <th id=\"T_debca_level0_row11\" class=\"row_heading level0 row11\" >11</th>\n",
       "      <td id=\"T_debca_row11_col0\" class=\"data row11 col0\" >Imputation type</td>\n",
       "      <td id=\"T_debca_row11_col1\" class=\"data row11 col1\" >simple</td>\n",
       "    </tr>\n",
       "    <tr>\n",
       "      <th id=\"T_debca_level0_row12\" class=\"row_heading level0 row12\" >12</th>\n",
       "      <td id=\"T_debca_row12_col0\" class=\"data row12 col0\" >Numeric imputation</td>\n",
       "      <td id=\"T_debca_row12_col1\" class=\"data row12 col1\" >mean</td>\n",
       "    </tr>\n",
       "    <tr>\n",
       "      <th id=\"T_debca_level0_row13\" class=\"row_heading level0 row13\" >13</th>\n",
       "      <td id=\"T_debca_row13_col0\" class=\"data row13 col0\" >Categorical imputation</td>\n",
       "      <td id=\"T_debca_row13_col1\" class=\"data row13 col1\" >mode</td>\n",
       "    </tr>\n",
       "    <tr>\n",
       "      <th id=\"T_debca_level0_row14\" class=\"row_heading level0 row14\" >14</th>\n",
       "      <td id=\"T_debca_row14_col0\" class=\"data row14 col0\" >Maximum one-hot encoding</td>\n",
       "      <td id=\"T_debca_row14_col1\" class=\"data row14 col1\" >25</td>\n",
       "    </tr>\n",
       "    <tr>\n",
       "      <th id=\"T_debca_level0_row15\" class=\"row_heading level0 row15\" >15</th>\n",
       "      <td id=\"T_debca_row15_col0\" class=\"data row15 col0\" >Encoding method</td>\n",
       "      <td id=\"T_debca_row15_col1\" class=\"data row15 col1\" >None</td>\n",
       "    </tr>\n",
       "    <tr>\n",
       "      <th id=\"T_debca_level0_row16\" class=\"row_heading level0 row16\" >16</th>\n",
       "      <td id=\"T_debca_row16_col0\" class=\"data row16 col0\" >Fold Generator</td>\n",
       "      <td id=\"T_debca_row16_col1\" class=\"data row16 col1\" >KFold</td>\n",
       "    </tr>\n",
       "    <tr>\n",
       "      <th id=\"T_debca_level0_row17\" class=\"row_heading level0 row17\" >17</th>\n",
       "      <td id=\"T_debca_row17_col0\" class=\"data row17 col0\" >Fold Number</td>\n",
       "      <td id=\"T_debca_row17_col1\" class=\"data row17 col1\" >10</td>\n",
       "    </tr>\n",
       "    <tr>\n",
       "      <th id=\"T_debca_level0_row18\" class=\"row_heading level0 row18\" >18</th>\n",
       "      <td id=\"T_debca_row18_col0\" class=\"data row18 col0\" >CPU Jobs</td>\n",
       "      <td id=\"T_debca_row18_col1\" class=\"data row18 col1\" >-1</td>\n",
       "    </tr>\n",
       "    <tr>\n",
       "      <th id=\"T_debca_level0_row19\" class=\"row_heading level0 row19\" >19</th>\n",
       "      <td id=\"T_debca_row19_col0\" class=\"data row19 col0\" >Use GPU</td>\n",
       "      <td id=\"T_debca_row19_col1\" class=\"data row19 col1\" >False</td>\n",
       "    </tr>\n",
       "    <tr>\n",
       "      <th id=\"T_debca_level0_row20\" class=\"row_heading level0 row20\" >20</th>\n",
       "      <td id=\"T_debca_row20_col0\" class=\"data row20 col0\" >Log Experiment</td>\n",
       "      <td id=\"T_debca_row20_col1\" class=\"data row20 col1\" >False</td>\n",
       "    </tr>\n",
       "    <tr>\n",
       "      <th id=\"T_debca_level0_row21\" class=\"row_heading level0 row21\" >21</th>\n",
       "      <td id=\"T_debca_row21_col0\" class=\"data row21 col0\" >Experiment Name</td>\n",
       "      <td id=\"T_debca_row21_col1\" class=\"data row21 col1\" >reg-default-name</td>\n",
       "    </tr>\n",
       "    <tr>\n",
       "      <th id=\"T_debca_level0_row22\" class=\"row_heading level0 row22\" >22</th>\n",
       "      <td id=\"T_debca_row22_col0\" class=\"data row22 col0\" >USI</td>\n",
       "      <td id=\"T_debca_row22_col1\" class=\"data row22 col1\" >7467</td>\n",
       "    </tr>\n",
       "  </tbody>\n",
       "</table>\n"
      ],
      "text/plain": [
       "<pandas.io.formats.style.Styler at 0x171b0387670>"
      ]
     },
     "metadata": {},
     "output_type": "display_data"
    },
    {
     "data": {
      "text/plain": [
       "<pycaret.regression.oop.RegressionExperiment at 0x171acfda0e0>"
      ]
     },
     "execution_count": 2,
     "metadata": {},
     "output_type": "execute_result"
    }
   ],
   "source": [
    "reg_experiment = RegressionExperiment()\n",
    "reg_experiment.setup(data, target = 'charges', session_id = 123)"
   ]
  },
  {
   "cell_type": "code",
   "execution_count": 3,
   "id": "adea7ef1",
   "metadata": {},
   "outputs": [
    {
     "data": {
      "text/html": [],
      "text/plain": [
       "<IPython.core.display.HTML object>"
      ]
     },
     "metadata": {},
     "output_type": "display_data"
    },
    {
     "data": {
      "text/html": [
       "<style type=\"text/css\">\n",
       "#T_42c1a th {\n",
       "  text-align: left;\n",
       "}\n",
       "#T_42c1a_row0_col0, #T_42c1a_row0_col6, #T_42c1a_row1_col0, #T_42c1a_row1_col1, #T_42c1a_row1_col2, #T_42c1a_row1_col3, #T_42c1a_row1_col4, #T_42c1a_row1_col5, #T_42c1a_row1_col6, #T_42c1a_row2_col0, #T_42c1a_row2_col1, #T_42c1a_row2_col2, #T_42c1a_row2_col3, #T_42c1a_row2_col4, #T_42c1a_row2_col5, #T_42c1a_row2_col6, #T_42c1a_row3_col0, #T_42c1a_row3_col1, #T_42c1a_row3_col2, #T_42c1a_row3_col3, #T_42c1a_row3_col4, #T_42c1a_row3_col5, #T_42c1a_row3_col6, #T_42c1a_row4_col0, #T_42c1a_row4_col1, #T_42c1a_row4_col2, #T_42c1a_row4_col3, #T_42c1a_row4_col4, #T_42c1a_row4_col5, #T_42c1a_row4_col6, #T_42c1a_row5_col0, #T_42c1a_row5_col1, #T_42c1a_row5_col2, #T_42c1a_row5_col3, #T_42c1a_row5_col4, #T_42c1a_row5_col5, #T_42c1a_row5_col6, #T_42c1a_row6_col0, #T_42c1a_row6_col1, #T_42c1a_row6_col2, #T_42c1a_row6_col3, #T_42c1a_row6_col4, #T_42c1a_row6_col5, #T_42c1a_row6_col6, #T_42c1a_row7_col0, #T_42c1a_row7_col1, #T_42c1a_row7_col2, #T_42c1a_row7_col3, #T_42c1a_row7_col4, #T_42c1a_row7_col5, #T_42c1a_row7_col6, #T_42c1a_row8_col0, #T_42c1a_row8_col1, #T_42c1a_row8_col2, #T_42c1a_row8_col3, #T_42c1a_row8_col4, #T_42c1a_row8_col5, #T_42c1a_row8_col6, #T_42c1a_row9_col0, #T_42c1a_row9_col1, #T_42c1a_row9_col2, #T_42c1a_row9_col3, #T_42c1a_row9_col4, #T_42c1a_row9_col5, #T_42c1a_row9_col6, #T_42c1a_row10_col0, #T_42c1a_row10_col1, #T_42c1a_row10_col2, #T_42c1a_row10_col3, #T_42c1a_row10_col4, #T_42c1a_row10_col5, #T_42c1a_row10_col6, #T_42c1a_row11_col0, #T_42c1a_row11_col1, #T_42c1a_row11_col2, #T_42c1a_row11_col3, #T_42c1a_row11_col4, #T_42c1a_row11_col5, #T_42c1a_row11_col6, #T_42c1a_row12_col0, #T_42c1a_row12_col1, #T_42c1a_row12_col2, #T_42c1a_row12_col3, #T_42c1a_row12_col4, #T_42c1a_row12_col5, #T_42c1a_row12_col6, #T_42c1a_row13_col0, #T_42c1a_row13_col1, #T_42c1a_row13_col2, #T_42c1a_row13_col3, #T_42c1a_row13_col4, #T_42c1a_row13_col5, #T_42c1a_row14_col0, #T_42c1a_row14_col1, #T_42c1a_row14_col2, #T_42c1a_row14_col3, #T_42c1a_row14_col4, #T_42c1a_row14_col5, #T_42c1a_row14_col6, #T_42c1a_row15_col0, #T_42c1a_row15_col1, #T_42c1a_row15_col2, #T_42c1a_row15_col3, #T_42c1a_row15_col4, #T_42c1a_row15_col5, #T_42c1a_row15_col6, #T_42c1a_row16_col0, #T_42c1a_row16_col1, #T_42c1a_row16_col2, #T_42c1a_row16_col3, #T_42c1a_row16_col4, #T_42c1a_row16_col5, #T_42c1a_row16_col6, #T_42c1a_row17_col0, #T_42c1a_row17_col1, #T_42c1a_row17_col2, #T_42c1a_row17_col3, #T_42c1a_row17_col4, #T_42c1a_row17_col5, #T_42c1a_row17_col6, #T_42c1a_row18_col0, #T_42c1a_row18_col1, #T_42c1a_row18_col2, #T_42c1a_row18_col3, #T_42c1a_row18_col4, #T_42c1a_row18_col5, #T_42c1a_row18_col6, #T_42c1a_row19_col0, #T_42c1a_row19_col1, #T_42c1a_row19_col2, #T_42c1a_row19_col3, #T_42c1a_row19_col4, #T_42c1a_row19_col5, #T_42c1a_row19_col6 {\n",
       "  text-align: left;\n",
       "}\n",
       "#T_42c1a_row0_col1, #T_42c1a_row0_col2, #T_42c1a_row0_col3, #T_42c1a_row0_col4, #T_42c1a_row0_col5, #T_42c1a_row13_col6 {\n",
       "  text-align: left;\n",
       "  background-color: yellow;\n",
       "}\n",
       "#T_42c1a_row0_col7, #T_42c1a_row1_col7, #T_42c1a_row2_col7, #T_42c1a_row3_col7, #T_42c1a_row4_col7, #T_42c1a_row5_col7, #T_42c1a_row6_col7, #T_42c1a_row7_col7, #T_42c1a_row8_col7, #T_42c1a_row9_col7, #T_42c1a_row10_col7, #T_42c1a_row11_col7, #T_42c1a_row12_col7, #T_42c1a_row13_col7, #T_42c1a_row14_col7, #T_42c1a_row15_col7, #T_42c1a_row17_col7, #T_42c1a_row18_col7, #T_42c1a_row19_col7 {\n",
       "  text-align: left;\n",
       "  background-color: lightgrey;\n",
       "}\n",
       "#T_42c1a_row16_col7 {\n",
       "  text-align: left;\n",
       "  background-color: yellow;\n",
       "  background-color: lightgrey;\n",
       "}\n",
       "</style>\n",
       "<table id=\"T_42c1a\">\n",
       "  <thead>\n",
       "    <tr>\n",
       "      <th class=\"blank level0\" >&nbsp;</th>\n",
       "      <th id=\"T_42c1a_level0_col0\" class=\"col_heading level0 col0\" >Model</th>\n",
       "      <th id=\"T_42c1a_level0_col1\" class=\"col_heading level0 col1\" >MAE</th>\n",
       "      <th id=\"T_42c1a_level0_col2\" class=\"col_heading level0 col2\" >MSE</th>\n",
       "      <th id=\"T_42c1a_level0_col3\" class=\"col_heading level0 col3\" >RMSE</th>\n",
       "      <th id=\"T_42c1a_level0_col4\" class=\"col_heading level0 col4\" >R2</th>\n",
       "      <th id=\"T_42c1a_level0_col5\" class=\"col_heading level0 col5\" >RMSLE</th>\n",
       "      <th id=\"T_42c1a_level0_col6\" class=\"col_heading level0 col6\" >MAPE</th>\n",
       "      <th id=\"T_42c1a_level0_col7\" class=\"col_heading level0 col7\" >TT (Sec)</th>\n",
       "    </tr>\n",
       "  </thead>\n",
       "  <tbody>\n",
       "    <tr>\n",
       "      <th id=\"T_42c1a_level0_row0\" class=\"row_heading level0 row0\" >gbr</th>\n",
       "      <td id=\"T_42c1a_row0_col0\" class=\"data row0 col0\" >Gradient Boosting Regressor</td>\n",
       "      <td id=\"T_42c1a_row0_col1\" class=\"data row0 col1\" >2701.9919</td>\n",
       "      <td id=\"T_42c1a_row0_col2\" class=\"data row0 col2\" >23548657.1177</td>\n",
       "      <td id=\"T_42c1a_row0_col3\" class=\"data row0 col3\" >4832.9329</td>\n",
       "      <td id=\"T_42c1a_row0_col4\" class=\"data row0 col4\" >0.8320</td>\n",
       "      <td id=\"T_42c1a_row0_col5\" class=\"data row0 col5\" >0.4447</td>\n",
       "      <td id=\"T_42c1a_row0_col6\" class=\"data row0 col6\" >0.3137</td>\n",
       "      <td id=\"T_42c1a_row0_col7\" class=\"data row0 col7\" >1.3340</td>\n",
       "    </tr>\n",
       "    <tr>\n",
       "      <th id=\"T_42c1a_level0_row1\" class=\"row_heading level0 row1\" >rf</th>\n",
       "      <td id=\"T_42c1a_row1_col0\" class=\"data row1 col0\" >Random Forest Regressor</td>\n",
       "      <td id=\"T_42c1a_row1_col1\" class=\"data row1 col1\" >2771.4583</td>\n",
       "      <td id=\"T_42c1a_row1_col2\" class=\"data row1 col2\" >25416502.3827</td>\n",
       "      <td id=\"T_42c1a_row1_col3\" class=\"data row1 col3\" >5028.6343</td>\n",
       "      <td id=\"T_42c1a_row1_col4\" class=\"data row1 col4\" >0.8172</td>\n",
       "      <td id=\"T_42c1a_row1_col5\" class=\"data row1 col5\" >0.4690</td>\n",
       "      <td id=\"T_42c1a_row1_col6\" class=\"data row1 col6\" >0.3303</td>\n",
       "      <td id=\"T_42c1a_row1_col7\" class=\"data row1 col7\" >1.3720</td>\n",
       "    </tr>\n",
       "    <tr>\n",
       "      <th id=\"T_42c1a_level0_row2\" class=\"row_heading level0 row2\" >catboost</th>\n",
       "      <td id=\"T_42c1a_row2_col0\" class=\"data row2 col0\" >CatBoost Regressor</td>\n",
       "      <td id=\"T_42c1a_row2_col1\" class=\"data row2 col1\" >2899.3783</td>\n",
       "      <td id=\"T_42c1a_row2_col2\" class=\"data row2 col2\" >25762701.9552</td>\n",
       "      <td id=\"T_42c1a_row2_col3\" class=\"data row2 col3\" >5057.5721</td>\n",
       "      <td id=\"T_42c1a_row2_col4\" class=\"data row2 col4\" >0.8163</td>\n",
       "      <td id=\"T_42c1a_row2_col5\" class=\"data row2 col5\" >0.4815</td>\n",
       "      <td id=\"T_42c1a_row2_col6\" class=\"data row2 col6\" >0.3522</td>\n",
       "      <td id=\"T_42c1a_row2_col7\" class=\"data row2 col7\" >1.9620</td>\n",
       "    </tr>\n",
       "    <tr>\n",
       "      <th id=\"T_42c1a_level0_row3\" class=\"row_heading level0 row3\" >lightgbm</th>\n",
       "      <td id=\"T_42c1a_row3_col0\" class=\"data row3 col0\" >Light Gradient Boosting Machine</td>\n",
       "      <td id=\"T_42c1a_row3_col1\" class=\"data row3 col1\" >2992.1828</td>\n",
       "      <td id=\"T_42c1a_row3_col2\" class=\"data row3 col2\" >25521038.3331</td>\n",
       "      <td id=\"T_42c1a_row3_col3\" class=\"data row3 col3\" >5042.0978</td>\n",
       "      <td id=\"T_42c1a_row3_col4\" class=\"data row3 col4\" >0.8149</td>\n",
       "      <td id=\"T_42c1a_row3_col5\" class=\"data row3 col5\" >0.5378</td>\n",
       "      <td id=\"T_42c1a_row3_col6\" class=\"data row3 col6\" >0.3751</td>\n",
       "      <td id=\"T_42c1a_row3_col7\" class=\"data row3 col7\" >1.6480</td>\n",
       "    </tr>\n",
       "    <tr>\n",
       "      <th id=\"T_42c1a_level0_row4\" class=\"row_heading level0 row4\" >et</th>\n",
       "      <td id=\"T_42c1a_row4_col0\" class=\"data row4 col0\" >Extra Trees Regressor</td>\n",
       "      <td id=\"T_42c1a_row4_col1\" class=\"data row4 col1\" >2833.3624</td>\n",
       "      <td id=\"T_42c1a_row4_col2\" class=\"data row4 col2\" >28427844.2412</td>\n",
       "      <td id=\"T_42c1a_row4_col3\" class=\"data row4 col3\" >5305.6516</td>\n",
       "      <td id=\"T_42c1a_row4_col4\" class=\"data row4 col4\" >0.7991</td>\n",
       "      <td id=\"T_42c1a_row4_col5\" class=\"data row4 col5\" >0.4877</td>\n",
       "      <td id=\"T_42c1a_row4_col6\" class=\"data row4 col6\" >0.3363</td>\n",
       "      <td id=\"T_42c1a_row4_col7\" class=\"data row4 col7\" >1.3830</td>\n",
       "    </tr>\n",
       "    <tr>\n",
       "      <th id=\"T_42c1a_level0_row5\" class=\"row_heading level0 row5\" >ada</th>\n",
       "      <td id=\"T_42c1a_row5_col0\" class=\"data row5 col0\" >AdaBoost Regressor</td>\n",
       "      <td id=\"T_42c1a_row5_col1\" class=\"data row5 col1\" >4316.0568</td>\n",
       "      <td id=\"T_42c1a_row5_col2\" class=\"data row5 col2\" >29220505.6498</td>\n",
       "      <td id=\"T_42c1a_row5_col3\" class=\"data row5 col3\" >5398.4561</td>\n",
       "      <td id=\"T_42c1a_row5_col4\" class=\"data row5 col4\" >0.7903</td>\n",
       "      <td id=\"T_42c1a_row5_col5\" class=\"data row5 col5\" >0.6368</td>\n",
       "      <td id=\"T_42c1a_row5_col6\" class=\"data row5 col6\" >0.7394</td>\n",
       "      <td id=\"T_42c1a_row5_col7\" class=\"data row5 col7\" >1.2780</td>\n",
       "    </tr>\n",
       "    <tr>\n",
       "      <th id=\"T_42c1a_level0_row6\" class=\"row_heading level0 row6\" >xgboost</th>\n",
       "      <td id=\"T_42c1a_row6_col0\" class=\"data row6 col0\" >Extreme Gradient Boosting</td>\n",
       "      <td id=\"T_42c1a_row6_col1\" class=\"data row6 col1\" >3443.6091</td>\n",
       "      <td id=\"T_42c1a_row6_col2\" class=\"data row6 col2\" >32824626.4000</td>\n",
       "      <td id=\"T_42c1a_row6_col3\" class=\"data row6 col3\" >5711.2140</td>\n",
       "      <td id=\"T_42c1a_row6_col4\" class=\"data row6 col4\" >0.7626</td>\n",
       "      <td id=\"T_42c1a_row6_col5\" class=\"data row6 col5\" >0.6224</td>\n",
       "      <td id=\"T_42c1a_row6_col6\" class=\"data row6 col6\" >0.4469</td>\n",
       "      <td id=\"T_42c1a_row6_col7\" class=\"data row6 col7\" >1.4240</td>\n",
       "    </tr>\n",
       "    <tr>\n",
       "      <th id=\"T_42c1a_level0_row7\" class=\"row_heading level0 row7\" >lr</th>\n",
       "      <td id=\"T_42c1a_row7_col0\" class=\"data row7 col0\" >Linear Regression</td>\n",
       "      <td id=\"T_42c1a_row7_col1\" class=\"data row7 col1\" >4303.5559</td>\n",
       "      <td id=\"T_42c1a_row7_col2\" class=\"data row7 col2\" >38388058.4578</td>\n",
       "      <td id=\"T_42c1a_row7_col3\" class=\"data row7 col3\" >6176.5920</td>\n",
       "      <td id=\"T_42c1a_row7_col4\" class=\"data row7 col4\" >0.7306</td>\n",
       "      <td id=\"T_42c1a_row7_col5\" class=\"data row7 col5\" >0.5949</td>\n",
       "      <td id=\"T_42c1a_row7_col6\" class=\"data row7 col6\" >0.4433</td>\n",
       "      <td id=\"T_42c1a_row7_col7\" class=\"data row7 col7\" >2.1480</td>\n",
       "    </tr>\n",
       "    <tr>\n",
       "      <th id=\"T_42c1a_level0_row8\" class=\"row_heading level0 row8\" >br</th>\n",
       "      <td id=\"T_42c1a_row8_col0\" class=\"data row8 col0\" >Bayesian Ridge</td>\n",
       "      <td id=\"T_42c1a_row8_col1\" class=\"data row8 col1\" >4311.2349</td>\n",
       "      <td id=\"T_42c1a_row8_col2\" class=\"data row8 col2\" >38391950.0874</td>\n",
       "      <td id=\"T_42c1a_row8_col3\" class=\"data row8 col3\" >6176.8896</td>\n",
       "      <td id=\"T_42c1a_row8_col4\" class=\"data row8 col4\" >0.7306</td>\n",
       "      <td id=\"T_42c1a_row8_col5\" class=\"data row8 col5\" >0.5910</td>\n",
       "      <td id=\"T_42c1a_row8_col6\" class=\"data row8 col6\" >0.4447</td>\n",
       "      <td id=\"T_42c1a_row8_col7\" class=\"data row8 col7\" >1.2050</td>\n",
       "    </tr>\n",
       "    <tr>\n",
       "      <th id=\"T_42c1a_level0_row9\" class=\"row_heading level0 row9\" >llar</th>\n",
       "      <td id=\"T_42c1a_row9_col0\" class=\"data row9 col0\" >Lasso Least Angle Regression</td>\n",
       "      <td id=\"T_42c1a_row9_col1\" class=\"data row9 col1\" >4303.7694</td>\n",
       "      <td id=\"T_42c1a_row9_col2\" class=\"data row9 col2\" >38386824.2786</td>\n",
       "      <td id=\"T_42c1a_row9_col3\" class=\"data row9 col3\" >6176.4846</td>\n",
       "      <td id=\"T_42c1a_row9_col4\" class=\"data row9 col4\" >0.7306</td>\n",
       "      <td id=\"T_42c1a_row9_col5\" class=\"data row9 col5\" >0.5952</td>\n",
       "      <td id=\"T_42c1a_row9_col6\" class=\"data row9 col6\" >0.4434</td>\n",
       "      <td id=\"T_42c1a_row9_col7\" class=\"data row9 col7\" >1.2260</td>\n",
       "    </tr>\n",
       "    <tr>\n",
       "      <th id=\"T_42c1a_level0_row10\" class=\"row_heading level0 row10\" >lar</th>\n",
       "      <td id=\"T_42c1a_row10_col0\" class=\"data row10 col0\" >Least Angle Regression</td>\n",
       "      <td id=\"T_42c1a_row10_col1\" class=\"data row10 col1\" >4303.5559</td>\n",
       "      <td id=\"T_42c1a_row10_col2\" class=\"data row10 col2\" >38388058.4578</td>\n",
       "      <td id=\"T_42c1a_row10_col3\" class=\"data row10 col3\" >6176.5920</td>\n",
       "      <td id=\"T_42c1a_row10_col4\" class=\"data row10 col4\" >0.7306</td>\n",
       "      <td id=\"T_42c1a_row10_col5\" class=\"data row10 col5\" >0.5949</td>\n",
       "      <td id=\"T_42c1a_row10_col6\" class=\"data row10 col6\" >0.4433</td>\n",
       "      <td id=\"T_42c1a_row10_col7\" class=\"data row10 col7\" >1.1890</td>\n",
       "    </tr>\n",
       "    <tr>\n",
       "      <th id=\"T_42c1a_level0_row11\" class=\"row_heading level0 row11\" >ridge</th>\n",
       "      <td id=\"T_42c1a_row11_col0\" class=\"data row11 col0\" >Ridge Regression</td>\n",
       "      <td id=\"T_42c1a_row11_col1\" class=\"data row11 col1\" >4317.6984</td>\n",
       "      <td id=\"T_42c1a_row11_col2\" class=\"data row11 col2\" >38396435.9578</td>\n",
       "      <td id=\"T_42c1a_row11_col3\" class=\"data row11 col3\" >6177.2329</td>\n",
       "      <td id=\"T_42c1a_row11_col4\" class=\"data row11 col4\" >0.7306</td>\n",
       "      <td id=\"T_42c1a_row11_col5\" class=\"data row11 col5\" >0.5891</td>\n",
       "      <td id=\"T_42c1a_row11_col6\" class=\"data row11 col6\" >0.4459</td>\n",
       "      <td id=\"T_42c1a_row11_col7\" class=\"data row11 col7\" >1.1760</td>\n",
       "    </tr>\n",
       "    <tr>\n",
       "      <th id=\"T_42c1a_level0_row12\" class=\"row_heading level0 row12\" >lasso</th>\n",
       "      <td id=\"T_42c1a_row12_col0\" class=\"data row12 col0\" >Lasso Regression</td>\n",
       "      <td id=\"T_42c1a_row12_col1\" class=\"data row12 col1\" >4303.7697</td>\n",
       "      <td id=\"T_42c1a_row12_col2\" class=\"data row12 col2\" >38386797.6709</td>\n",
       "      <td id=\"T_42c1a_row12_col3\" class=\"data row12 col3\" >6176.4824</td>\n",
       "      <td id=\"T_42c1a_row12_col4\" class=\"data row12 col4\" >0.7306</td>\n",
       "      <td id=\"T_42c1a_row12_col5\" class=\"data row12 col5\" >0.5952</td>\n",
       "      <td id=\"T_42c1a_row12_col6\" class=\"data row12 col6\" >0.4434</td>\n",
       "      <td id=\"T_42c1a_row12_col7\" class=\"data row12 col7\" >1.1660</td>\n",
       "    </tr>\n",
       "    <tr>\n",
       "      <th id=\"T_42c1a_level0_row13\" class=\"row_heading level0 row13\" >huber</th>\n",
       "      <td id=\"T_42c1a_row13_col0\" class=\"data row13 col0\" >Huber Regressor</td>\n",
       "      <td id=\"T_42c1a_row13_col1\" class=\"data row13 col1\" >3463.2216</td>\n",
       "      <td id=\"T_42c1a_row13_col2\" class=\"data row13 col2\" >48801106.4612</td>\n",
       "      <td id=\"T_42c1a_row13_col3\" class=\"data row13 col3\" >6963.9984</td>\n",
       "      <td id=\"T_42c1a_row13_col4\" class=\"data row13 col4\" >0.6544</td>\n",
       "      <td id=\"T_42c1a_row13_col5\" class=\"data row13 col5\" >0.4927</td>\n",
       "      <td id=\"T_42c1a_row13_col6\" class=\"data row13 col6\" >0.2212</td>\n",
       "      <td id=\"T_42c1a_row13_col7\" class=\"data row13 col7\" >1.5250</td>\n",
       "    </tr>\n",
       "    <tr>\n",
       "      <th id=\"T_42c1a_level0_row14\" class=\"row_heading level0 row14\" >dt</th>\n",
       "      <td id=\"T_42c1a_row14_col0\" class=\"data row14 col0\" >Decision Tree Regressor</td>\n",
       "      <td id=\"T_42c1a_row14_col1\" class=\"data row14 col1\" >3383.4916</td>\n",
       "      <td id=\"T_42c1a_row14_col2\" class=\"data row14 col2\" >47823199.0729</td>\n",
       "      <td id=\"T_42c1a_row14_col3\" class=\"data row14 col3\" >6895.7016</td>\n",
       "      <td id=\"T_42c1a_row14_col4\" class=\"data row14 col4\" >0.6497</td>\n",
       "      <td id=\"T_42c1a_row14_col5\" class=\"data row14 col5\" >0.5602</td>\n",
       "      <td id=\"T_42c1a_row14_col6\" class=\"data row14 col6\" >0.4013</td>\n",
       "      <td id=\"T_42c1a_row14_col7\" class=\"data row14 col7\" >1.1880</td>\n",
       "    </tr>\n",
       "    <tr>\n",
       "      <th id=\"T_42c1a_level0_row15\" class=\"row_heading level0 row15\" >par</th>\n",
       "      <td id=\"T_42c1a_row15_col0\" class=\"data row15 col0\" >Passive Aggressive Regressor</td>\n",
       "      <td id=\"T_42c1a_row15_col1\" class=\"data row15 col1\" >4537.0122</td>\n",
       "      <td id=\"T_42c1a_row15_col2\" class=\"data row15 col2\" >67346309.9218</td>\n",
       "      <td id=\"T_42c1a_row15_col3\" class=\"data row15 col3\" >8142.7826</td>\n",
       "      <td id=\"T_42c1a_row15_col4\" class=\"data row15 col4\" >0.5422</td>\n",
       "      <td id=\"T_42c1a_row15_col5\" class=\"data row15 col5\" >0.5276</td>\n",
       "      <td id=\"T_42c1a_row15_col6\" class=\"data row15 col6\" >0.3207</td>\n",
       "      <td id=\"T_42c1a_row15_col7\" class=\"data row15 col7\" >1.2270</td>\n",
       "    </tr>\n",
       "    <tr>\n",
       "      <th id=\"T_42c1a_level0_row16\" class=\"row_heading level0 row16\" >en</th>\n",
       "      <td id=\"T_42c1a_row16_col0\" class=\"data row16 col0\" >Elastic Net</td>\n",
       "      <td id=\"T_42c1a_row16_col1\" class=\"data row16 col1\" >7372.5238</td>\n",
       "      <td id=\"T_42c1a_row16_col2\" class=\"data row16 col2\" >90450782.5713</td>\n",
       "      <td id=\"T_42c1a_row16_col3\" class=\"data row16 col3\" >9468.3193</td>\n",
       "      <td id=\"T_42c1a_row16_col4\" class=\"data row16 col4\" >0.3792</td>\n",
       "      <td id=\"T_42c1a_row16_col5\" class=\"data row16 col5\" >0.7342</td>\n",
       "      <td id=\"T_42c1a_row16_col6\" class=\"data row16 col6\" >0.9184</td>\n",
       "      <td id=\"T_42c1a_row16_col7\" class=\"data row16 col7\" >1.1550</td>\n",
       "    </tr>\n",
       "    <tr>\n",
       "      <th id=\"T_42c1a_level0_row17\" class=\"row_heading level0 row17\" >omp</th>\n",
       "      <td id=\"T_42c1a_row17_col0\" class=\"data row17 col0\" >Orthogonal Matching Pursuit</td>\n",
       "      <td id=\"T_42c1a_row17_col1\" class=\"data row17 col1\" >9089.9268</td>\n",
       "      <td id=\"T_42c1a_row17_col2\" class=\"data row17 col2\" >133439413.5272</td>\n",
       "      <td id=\"T_42c1a_row17_col3\" class=\"data row17 col3\" >11488.4238</td>\n",
       "      <td id=\"T_42c1a_row17_col4\" class=\"data row17 col4\" >0.0884</td>\n",
       "      <td id=\"T_42c1a_row17_col5\" class=\"data row17 col5\" >0.8790</td>\n",
       "      <td id=\"T_42c1a_row17_col6\" class=\"data row17 col6\" >1.1514</td>\n",
       "      <td id=\"T_42c1a_row17_col7\" class=\"data row17 col7\" >1.2160</td>\n",
       "    </tr>\n",
       "    <tr>\n",
       "      <th id=\"T_42c1a_level0_row18\" class=\"row_heading level0 row18\" >knn</th>\n",
       "      <td id=\"T_42c1a_row18_col0\" class=\"data row18 col0\" >K Neighbors Regressor</td>\n",
       "      <td id=\"T_42c1a_row18_col1\" class=\"data row18 col1\" >8007.7997</td>\n",
       "      <td id=\"T_42c1a_row18_col2\" class=\"data row18 col2\" >131387268.8000</td>\n",
       "      <td id=\"T_42c1a_row18_col3\" class=\"data row18 col3\" >11425.3695</td>\n",
       "      <td id=\"T_42c1a_row18_col4\" class=\"data row18 col4\" >0.0859</td>\n",
       "      <td id=\"T_42c1a_row18_col5\" class=\"data row18 col5\" >0.8535</td>\n",
       "      <td id=\"T_42c1a_row18_col6\" class=\"data row18 col6\" >0.9232</td>\n",
       "      <td id=\"T_42c1a_row18_col7\" class=\"data row18 col7\" >1.2380</td>\n",
       "    </tr>\n",
       "    <tr>\n",
       "      <th id=\"T_42c1a_level0_row19\" class=\"row_heading level0 row19\" >dummy</th>\n",
       "      <td id=\"T_42c1a_row19_col0\" class=\"data row19 col0\" >Dummy Regressor</td>\n",
       "      <td id=\"T_42c1a_row19_col1\" class=\"data row19 col1\" >9192.5418</td>\n",
       "      <td id=\"T_42c1a_row19_col2\" class=\"data row19 col2\" >148516792.8000</td>\n",
       "      <td id=\"T_42c1a_row19_col3\" class=\"data row19 col3\" >12132.4733</td>\n",
       "      <td id=\"T_42c1a_row19_col4\" class=\"data row19 col4\" >-0.0175</td>\n",
       "      <td id=\"T_42c1a_row19_col5\" class=\"data row19 col5\" >1.0154</td>\n",
       "      <td id=\"T_42c1a_row19_col6\" class=\"data row19 col6\" >1.5637</td>\n",
       "      <td id=\"T_42c1a_row19_col7\" class=\"data row19 col7\" >1.2480</td>\n",
       "    </tr>\n",
       "  </tbody>\n",
       "</table>\n"
      ],
      "text/plain": [
       "<pandas.io.formats.style.Styler at 0x171b01c6560>"
      ]
     },
     "metadata": {},
     "output_type": "display_data"
    },
    {
     "data": {
      "application/vnd.jupyter.widget-view+json": {
       "model_id": "",
       "version_major": 2,
       "version_minor": 0
      },
      "text/plain": [
       "Processing:   0%|          | 0/85 [00:00<?, ?it/s]"
      ]
     },
     "metadata": {},
     "output_type": "display_data"
    }
   ],
   "source": [
    "best = reg_experiment.compare_models()"
   ]
  },
  {
   "cell_type": "code",
   "execution_count": 4,
   "id": "931bd8e0",
   "metadata": {},
   "outputs": [
    {
     "name": "stdout",
     "output_type": "stream",
     "text": [
      "GradientBoostingRegressor(random_state=123)\n"
     ]
    }
   ],
   "source": [
    "print(best)"
   ]
  },
  {
   "cell_type": "code",
   "execution_count": 5,
   "id": "685f1081",
   "metadata": {},
   "outputs": [
    {
     "data": {
      "application/vnd.jupyter.widget-view+json": {
       "model_id": "",
       "version_major": 2,
       "version_minor": 0
      },
      "text/plain": [
       "interactive(children=(ToggleButtons(description='Plot Type:', icons=('',), options=(('Pipeline Plot', 'pipelin…"
      ]
     },
     "metadata": {},
     "output_type": "display_data"
    }
   ],
   "source": [
    "reg_experiment.evaluate_model(best)"
   ]
  },
  {
   "cell_type": "code",
   "execution_count": 6,
   "id": "02a271a7",
   "metadata": {
    "scrolled": false
   },
   "outputs": [
    {
     "data": {
      "text/html": [],
      "text/plain": [
       "<IPython.core.display.HTML object>"
      ]
     },
     "metadata": {},
     "output_type": "display_data"
    },
    {
     "data": {
      "image/png": "[encoded data removed]",
      "text/plain": [
       "<Figure size 800x550 with 2 Axes>"
      ]
     },
     "metadata": {},
     "output_type": "display_data"
    }
   ],
   "source": [
    "reg_experiment.plot_model(best, plot = 'residuals')"
   ]
  },
  {
   "cell_type": "code",
   "execution_count": 7,
   "id": "dbb5e122",
   "metadata": {},
   "outputs": [
    {
     "data": {
      "text/html": [],
      "text/plain": [
       "<IPython.core.display.HTML object>"
      ]
     },
     "metadata": {},
     "output_type": "display_data"
    },
    {
     "data": {
      "image/png": "[encoded data removed]",
      "text/plain": [
       "<Figure size 800x500 with 1 Axes>"
      ]
     },
     "metadata": {},
     "output_type": "display_data"
    }
   ],
   "source": [
    "reg_experiment.plot_model(best, plot = 'feature')"
   ]
  },
  {
   "cell_type": "code",
   "execution_count": 8,
   "id": "fc6732c5",
   "metadata": {},
   "outputs": [
    {
     "data": {
      "text/html": [
       "<style type=\"text/css\">\n",
       "</style>\n",
       "<table id=\"T_c7c61\">\n",
       "  <thead>\n",
       "    <tr>\n",
       "      <th class=\"blank level0\" >&nbsp;</th>\n",
       "      <th id=\"T_c7c61_level0_col0\" class=\"col_heading level0 col0\" >Model</th>\n",
       "      <th id=\"T_c7c61_level0_col1\" class=\"col_heading level0 col1\" >MAE</th>\n",
       "      <th id=\"T_c7c61_level0_col2\" class=\"col_heading level0 col2\" >MSE</th>\n",
       "      <th id=\"T_c7c61_level0_col3\" class=\"col_heading level0 col3\" >RMSE</th>\n",
       "      <th id=\"T_c7c61_level0_col4\" class=\"col_heading level0 col4\" >R2</th>\n",
       "      <th id=\"T_c7c61_level0_col5\" class=\"col_heading level0 col5\" >RMSLE</th>\n",
       "      <th id=\"T_c7c61_level0_col6\" class=\"col_heading level0 col6\" >MAPE</th>\n",
       "    </tr>\n",
       "  </thead>\n",
       "  <tbody>\n",
       "    <tr>\n",
       "      <th id=\"T_c7c61_level0_row0\" class=\"row_heading level0 row0\" >0</th>\n",
       "      <td id=\"T_c7c61_row0_col0\" class=\"data row0 col0\" >Gradient Boosting Regressor</td>\n",
       "      <td id=\"T_c7c61_row0_col1\" class=\"data row0 col1\" >2392.5661</td>\n",
       "      <td id=\"T_c7c61_row0_col2\" class=\"data row0 col2\" >17148355.3169</td>\n",
       "      <td id=\"T_c7c61_row0_col3\" class=\"data row0 col3\" >4141.0573</td>\n",
       "      <td id=\"T_c7c61_row0_col4\" class=\"data row0 col4\" >0.8800</td>\n",
       "      <td id=\"T_c7c61_row0_col5\" class=\"data row0 col5\" >0.3928</td>\n",
       "      <td id=\"T_c7c61_row0_col6\" class=\"data row0 col6\" >0.2875</td>\n",
       "    </tr>\n",
       "  </tbody>\n",
       "</table>\n"
      ],
      "text/plain": [
       "<pandas.io.formats.style.Styler at 0x171b0384670>"
      ]
     },
     "metadata": {},
     "output_type": "display_data"
    },
    {
     "data": {
      "text/html": [
       "<div>\n",
       "<style scoped>\n",
       "    .dataframe tbody tr th:only-of-type {\n",
       "        vertical-align: middle;\n",
       "    }\n",
       "\n",
       "    .dataframe tbody tr th {\n",
       "        vertical-align: top;\n",
       "    }\n",
       "\n",
       "    .dataframe thead th {\n",
       "        text-align: right;\n",
       "    }\n",
       "</style>\n",
       "<table border=\"1\" class=\"dataframe\">\n",
       "  <thead>\n",
       "    <tr style=\"text-align: right;\">\n",
       "      <th></th>\n",
       "      <th>age</th>\n",
       "      <th>sex</th>\n",
       "      <th>bmi</th>\n",
       "      <th>children</th>\n",
       "      <th>smoker</th>\n",
       "      <th>region</th>\n",
       "      <th>charges</th>\n",
       "      <th>prediction_label</th>\n",
       "    </tr>\n",
       "  </thead>\n",
       "  <tbody>\n",
       "    <tr>\n",
       "      <th>650</th>\n",
       "      <td>49</td>\n",
       "      <td>female</td>\n",
       "      <td>42.680000</td>\n",
       "      <td>2</td>\n",
       "      <td>no</td>\n",
       "      <td>southeast</td>\n",
       "      <td>9800.888672</td>\n",
       "      <td>10681.513104</td>\n",
       "    </tr>\n",
       "    <tr>\n",
       "      <th>319</th>\n",
       "      <td>32</td>\n",
       "      <td>male</td>\n",
       "      <td>37.334999</td>\n",
       "      <td>1</td>\n",
       "      <td>no</td>\n",
       "      <td>northeast</td>\n",
       "      <td>4667.607422</td>\n",
       "      <td>8043.453463</td>\n",
       "    </tr>\n",
       "    <tr>\n",
       "      <th>314</th>\n",
       "      <td>27</td>\n",
       "      <td>female</td>\n",
       "      <td>31.400000</td>\n",
       "      <td>0</td>\n",
       "      <td>yes</td>\n",
       "      <td>southwest</td>\n",
       "      <td>34838.871094</td>\n",
       "      <td>36153.097686</td>\n",
       "    </tr>\n",
       "    <tr>\n",
       "      <th>150</th>\n",
       "      <td>35</td>\n",
       "      <td>male</td>\n",
       "      <td>24.129999</td>\n",
       "      <td>1</td>\n",
       "      <td>no</td>\n",
       "      <td>northwest</td>\n",
       "      <td>5125.215820</td>\n",
       "      <td>7435.516853</td>\n",
       "    </tr>\n",
       "    <tr>\n",
       "      <th>336</th>\n",
       "      <td>60</td>\n",
       "      <td>male</td>\n",
       "      <td>25.740000</td>\n",
       "      <td>0</td>\n",
       "      <td>no</td>\n",
       "      <td>southeast</td>\n",
       "      <td>12142.578125</td>\n",
       "      <td>14676.544334</td>\n",
       "    </tr>\n",
       "    <tr>\n",
       "      <th>...</th>\n",
       "      <td>...</td>\n",
       "      <td>...</td>\n",
       "      <td>...</td>\n",
       "      <td>...</td>\n",
       "      <td>...</td>\n",
       "      <td>...</td>\n",
       "      <td>...</td>\n",
       "      <td>...</td>\n",
       "    </tr>\n",
       "    <tr>\n",
       "      <th>1221</th>\n",
       "      <td>40</td>\n",
       "      <td>male</td>\n",
       "      <td>24.969999</td>\n",
       "      <td>2</td>\n",
       "      <td>no</td>\n",
       "      <td>southeast</td>\n",
       "      <td>6593.508301</td>\n",
       "      <td>9264.152792</td>\n",
       "    </tr>\n",
       "    <tr>\n",
       "      <th>973</th>\n",
       "      <td>19</td>\n",
       "      <td>female</td>\n",
       "      <td>40.500000</td>\n",
       "      <td>0</td>\n",
       "      <td>no</td>\n",
       "      <td>southwest</td>\n",
       "      <td>1759.338013</td>\n",
       "      <td>2604.919960</td>\n",
       "    </tr>\n",
       "    <tr>\n",
       "      <th>1250</th>\n",
       "      <td>24</td>\n",
       "      <td>male</td>\n",
       "      <td>29.830000</td>\n",
       "      <td>0</td>\n",
       "      <td>yes</td>\n",
       "      <td>northeast</td>\n",
       "      <td>18648.421875</td>\n",
       "      <td>18639.490954</td>\n",
       "    </tr>\n",
       "    <tr>\n",
       "      <th>887</th>\n",
       "      <td>36</td>\n",
       "      <td>female</td>\n",
       "      <td>30.020000</td>\n",
       "      <td>0</td>\n",
       "      <td>no</td>\n",
       "      <td>northwest</td>\n",
       "      <td>5272.175781</td>\n",
       "      <td>5117.185514</td>\n",
       "    </tr>\n",
       "    <tr>\n",
       "      <th>50</th>\n",
       "      <td>18</td>\n",
       "      <td>female</td>\n",
       "      <td>35.625000</td>\n",
       "      <td>0</td>\n",
       "      <td>no</td>\n",
       "      <td>northeast</td>\n",
       "      <td>2211.130859</td>\n",
       "      <td>3146.534024</td>\n",
       "    </tr>\n",
       "  </tbody>\n",
       "</table>\n",
       "<p>402 rows × 8 columns</p>\n",
       "</div>"
      ],
      "text/plain": [
       "      age     sex        bmi  children smoker     region       charges  \\\n",
       "650    49  female  42.680000         2     no  southeast   9800.888672   \n",
       "319    32    male  37.334999         1     no  northeast   4667.607422   \n",
       "314    27  female  31.400000         0    yes  southwest  34838.871094   \n",
       "150    35    male  24.129999         1     no  northwest   5125.215820   \n",
       "336    60    male  25.740000         0     no  southeast  12142.578125   \n",
       "...   ...     ...        ...       ...    ...        ...           ...   \n",
       "1221   40    male  24.969999         2     no  southeast   6593.508301   \n",
       "973    19  female  40.500000         0     no  southwest   1759.338013   \n",
       "1250   24    male  29.830000         0    yes  northeast  18648.421875   \n",
       "887    36  female  30.020000         0     no  northwest   5272.175781   \n",
       "50     18  female  35.625000         0     no  northeast   2211.130859   \n",
       "\n",
       "      prediction_label  \n",
       "650       10681.513104  \n",
       "319        8043.453463  \n",
       "314       36153.097686  \n",
       "150        7435.516853  \n",
       "336       14676.544334  \n",
       "...                ...  \n",
       "1221       9264.152792  \n",
       "973        2604.919960  \n",
       "1250      18639.490954  \n",
       "887        5117.185514  \n",
       "50         3146.534024  \n",
       "\n",
       "[402 rows x 8 columns]"
      ]
     },
     "execution_count": 8,
     "metadata": {},
     "output_type": "execute_result"
    }
   ],
   "source": [
    "reg_experiment.predict_model(best)"
   ]
  },
  {
   "cell_type": "code",
   "execution_count": 9,
   "id": "f3cb0df6",
   "metadata": {},
   "outputs": [
    {
     "data": {
      "text/html": [
       "<style type=\"text/css\">\n",
       "</style>\n",
       "<table id=\"T_8c805\">\n",
       "  <thead>\n",
       "    <tr>\n",
       "      <th class=\"blank level0\" >&nbsp;</th>\n",
       "      <th id=\"T_8c805_level0_col0\" class=\"col_heading level0 col0\" >Model</th>\n",
       "      <th id=\"T_8c805_level0_col1\" class=\"col_heading level0 col1\" >MAE</th>\n",
       "      <th id=\"T_8c805_level0_col2\" class=\"col_heading level0 col2\" >MSE</th>\n",
       "      <th id=\"T_8c805_level0_col3\" class=\"col_heading level0 col3\" >RMSE</th>\n",
       "      <th id=\"T_8c805_level0_col4\" class=\"col_heading level0 col4\" >R2</th>\n",
       "      <th id=\"T_8c805_level0_col5\" class=\"col_heading level0 col5\" >RMSLE</th>\n",
       "      <th id=\"T_8c805_level0_col6\" class=\"col_heading level0 col6\" >MAPE</th>\n",
       "    </tr>\n",
       "  </thead>\n",
       "  <tbody>\n",
       "    <tr>\n",
       "      <th id=\"T_8c805_level0_row0\" class=\"row_heading level0 row0\" >0</th>\n",
       "      <td id=\"T_8c805_row0_col0\" class=\"data row0 col0\" >Gradient Boosting Regressor</td>\n",
       "      <td id=\"T_8c805_row0_col1\" class=\"data row0 col1\" >2219.8743</td>\n",
       "      <td id=\"T_8c805_row0_col2\" class=\"data row0 col2\" >15663377.0613</td>\n",
       "      <td id=\"T_8c805_row0_col3\" class=\"data row0 col3\" >3957.6985</td>\n",
       "      <td id=\"T_8c805_row0_col4\" class=\"data row0 col4\" >0.8931</td>\n",
       "      <td id=\"T_8c805_row0_col5\" class=\"data row0 col5\" >0.3650</td>\n",
       "      <td id=\"T_8c805_row0_col6\" class=\"data row0 col6\" >0.2634</td>\n",
       "    </tr>\n",
       "  </tbody>\n",
       "</table>\n"
      ],
      "text/plain": [
       "<pandas.io.formats.style.Styler at 0x171b01c6530>"
      ]
     },
     "metadata": {},
     "output_type": "display_data"
    },
    {
     "data": {
      "text/html": [
       "<div>\n",
       "<style scoped>\n",
       "    .dataframe tbody tr th:only-of-type {\n",
       "        vertical-align: middle;\n",
       "    }\n",
       "\n",
       "    .dataframe tbody tr th {\n",
       "        vertical-align: top;\n",
       "    }\n",
       "\n",
       "    .dataframe thead th {\n",
       "        text-align: right;\n",
       "    }\n",
       "</style>\n",
       "<table border=\"1\" class=\"dataframe\">\n",
       "  <thead>\n",
       "    <tr style=\"text-align: right;\">\n",
       "      <th></th>\n",
       "      <th>age</th>\n",
       "      <th>sex</th>\n",
       "      <th>bmi</th>\n",
       "      <th>children</th>\n",
       "      <th>smoker</th>\n",
       "      <th>region</th>\n",
       "      <th>charges</th>\n",
       "      <th>prediction_label</th>\n",
       "      <th>diff</th>\n",
       "    </tr>\n",
       "  </thead>\n",
       "  <tbody>\n",
       "    <tr>\n",
       "      <th>0</th>\n",
       "      <td>19</td>\n",
       "      <td>female</td>\n",
       "      <td>27.900000</td>\n",
       "      <td>0</td>\n",
       "      <td>yes</td>\n",
       "      <td>southwest</td>\n",
       "      <td>16884.923828</td>\n",
       "      <td>18464.334448</td>\n",
       "      <td>1579.410620</td>\n",
       "    </tr>\n",
       "    <tr>\n",
       "      <th>1</th>\n",
       "      <td>18</td>\n",
       "      <td>male</td>\n",
       "      <td>33.770000</td>\n",
       "      <td>1</td>\n",
       "      <td>no</td>\n",
       "      <td>southeast</td>\n",
       "      <td>1725.552246</td>\n",
       "      <td>4020.345384</td>\n",
       "      <td>2294.793137</td>\n",
       "    </tr>\n",
       "    <tr>\n",
       "      <th>2</th>\n",
       "      <td>28</td>\n",
       "      <td>male</td>\n",
       "      <td>33.000000</td>\n",
       "      <td>3</td>\n",
       "      <td>no</td>\n",
       "      <td>southeast</td>\n",
       "      <td>4449.461914</td>\n",
       "      <td>6555.388388</td>\n",
       "      <td>2105.926474</td>\n",
       "    </tr>\n",
       "    <tr>\n",
       "      <th>3</th>\n",
       "      <td>33</td>\n",
       "      <td>male</td>\n",
       "      <td>22.705000</td>\n",
       "      <td>0</td>\n",
       "      <td>no</td>\n",
       "      <td>northwest</td>\n",
       "      <td>21984.470703</td>\n",
       "      <td>9627.045725</td>\n",
       "      <td>-12357.424978</td>\n",
       "    </tr>\n",
       "    <tr>\n",
       "      <th>4</th>\n",
       "      <td>32</td>\n",
       "      <td>male</td>\n",
       "      <td>28.879999</td>\n",
       "      <td>0</td>\n",
       "      <td>no</td>\n",
       "      <td>northwest</td>\n",
       "      <td>3866.855225</td>\n",
       "      <td>3325.531292</td>\n",
       "      <td>-541.323933</td>\n",
       "    </tr>\n",
       "  </tbody>\n",
       "</table>\n",
       "</div>"
      ],
      "text/plain": [
       "   age     sex        bmi  children smoker     region       charges  \\\n",
       "0   19  female  27.900000         0    yes  southwest  16884.923828   \n",
       "1   18    male  33.770000         1     no  southeast   1725.552246   \n",
       "2   28    male  33.000000         3     no  southeast   4449.461914   \n",
       "3   33    male  22.705000         0     no  northwest  21984.470703   \n",
       "4   32    male  28.879999         0     no  northwest   3866.855225   \n",
       "\n",
       "   prediction_label          diff  \n",
       "0      18464.334448   1579.410620  \n",
       "1       4020.345384   2294.793137  \n",
       "2       6555.388388   2105.926474  \n",
       "3       9627.045725 -12357.424978  \n",
       "4       3325.531292   -541.323933  "
      ]
     },
     "execution_count": 9,
     "metadata": {},
     "output_type": "execute_result"
    }
   ],
   "source": [
    "predictions = reg_experiment.predict_model(best, data=data)\n",
    "predictions['diff'] = predictions['prediction_label'] - predictions['charges']\n",
    "predictions.head()"
   ]
  },
  {
   "cell_type": "code",
   "execution_count": 13,
   "id": "c5919198",
   "metadata": {},
   "outputs": [
    {
     "name": "stdout",
     "output_type": "stream",
     "text": [
      "Transformation Pipeline and Model Successfully Saved\n"
     ]
    },
    {
     "data": {
      "text/plain": [
       "(Pipeline(memory=FastMemory(location=/tmp/joblib),\n",
       "          steps=[('numerical_imputer',\n",
       "                  TransformerWrapper(include=['age', 'bmi', 'children'],\n",
       "                                     transformer=SimpleImputer())),\n",
       "                 ('categorical_imputer',\n",
       "                  TransformerWrapper(include=['sex', 'smoker', 'region'],\n",
       "                                     transformer=SimpleImputer(strategy='most_frequent'))),\n",
       "                 ('ordinal_encoding',\n",
       "                  TransformerWrapper(include=['sex', 'smoker...\n",
       "                                                                          'data_type': dtype('O'),\n",
       "                                                                          'mapping': female    0\n",
       " male      1\n",
       " NaN      -1\n",
       " dtype: int64},\n",
       "                                                                         {'col': 'smoker',\n",
       "                                                                          'data_type': dtype('O'),\n",
       "                                                                          'mapping': no     0\n",
       " yes    1\n",
       " NaN   -1\n",
       " dtype: int64}]))),\n",
       "                 ('onehot_encoding',\n",
       "                  TransformerWrapper(include=['region'],\n",
       "                                     transformer=OneHotEncoder(cols=['region'],\n",
       "                                                               handle_missing='return_nan',\n",
       "                                                               use_cat_names=True))),\n",
       "                 ('trained_model', GradientBoostingRegressor(random_state=123))]),\n",
       " '/home/jovyan/models/pycaret/hello_regression.pkl')"
      ]
     },
     "execution_count": 13,
     "metadata": {},
     "output_type": "execute_result"
    }
   ],
   "source": [
    "# save model\n",
    "save_path = os.path.join(os.getenv('HOME'), 'models', 'pycaret', 'hello_regression')\n",
    "reg_experiment.save_model(best, save_path)"
   ]
  },
  {
   "cell_type": "code",
   "execution_count": 14,
   "id": "00b0319e",
   "metadata": {},
   "outputs": [
    {
     "name": "stdout",
     "output_type": "stream",
     "text": [
      "Transformation Pipeline and Model Successfully Loaded\n",
      "Pipeline(memory=FastMemory(location=/tmp/joblib),\n",
      "         steps=[('numerical_imputer',\n",
      "                 TransformerWrapper(include=['age', 'bmi', 'children'],\n",
      "                                    transformer=SimpleImputer())),\n",
      "                ('categorical_imputer',\n",
      "                 TransformerWrapper(include=['sex', 'smoker', 'region'],\n",
      "                                    transformer=SimpleImputer(strategy='most_frequent'))),\n",
      "                ('ordinal_encoding',\n",
      "                 TransformerWrapper(include=['sex', 'smoker...\n",
      "                                                                         'data_type': dtype('O'),\n",
      "                                                                         'mapping': female    0\n",
      "male      1\n",
      "NaN      -1\n",
      "dtype: int64},\n",
      "                                                                        {'col': 'smoker',\n",
      "                                                                         'data_type': dtype('O'),\n",
      "                                                                         'mapping': no     0\n",
      "yes    1\n",
      "NaN   -1\n",
      "dtype: int64}]))),\n",
      "                ('onehot_encoding',\n",
      "                 TransformerWrapper(include=['region'],\n",
      "                                    transformer=OneHotEncoder(cols=['region'],\n",
      "                                                              handle_missing='return_nan',\n",
      "                                                              use_cat_names=True))),\n",
      "                ('trained_model', GradientBoostingRegressor(random_state=123))])\n"
     ]
    }
   ],
   "source": [
    "# load back the model\n",
    "loaded_model = reg_experiment.load_model(save_path)\n",
    "print(loaded_model)"
   ]
  },
  {
   "cell_type": "markdown",
   "id": "96bc6461",
   "metadata": {},
   "source": [
    "### Operations [Create API]"
   ]
  },
  {
   "cell_type": "code",
   "execution_count": 11,
   "id": "529e508a",
   "metadata": {},
   "outputs": [
    {
     "name": "stdout",
     "output_type": "stream",
     "text": [
      "API successfully created. This function only creates a POST API, it doesn't run it automatically. To run your API, please run this command --> !python insurance_gradient_boosting_reg_model.py\n"
     ]
    }
   ],
   "source": [
    "reg_experiment.create_api(best, 'insurance_gradient_boosting_reg_model')"
   ]
  },
  {
   "cell_type": "code",
   "execution_count": 16,
   "id": "dc2a4f10",
   "metadata": {},
   "outputs": [
    {
     "name": "stdout",
     "output_type": "stream",
     "text": [
      "^C\n"
     ]
    }
   ],
   "source": [
    "!python insurance_gradient_boosting_reg_model.py"
   ]
  },
  {
   "cell_type": "markdown",
   "id": "caaf4f43",
   "metadata": {},
   "source": [
    "### Operations [Create App]"
   ]
  },
  {
   "cell_type": "code",
   "execution_count": 15,
   "id": "699bd67e",
   "metadata": {},
   "outputs": [
    {
     "name": "stdout",
     "output_type": "stream",
     "text": [
      "Running on local URL:  http://127.0.0.1:7860\n",
      "\n",
      "To create a public link, set `share=True` in `launch()`.\n"
     ]
    },
    {
     "data": {
      "text/html": [
       "<div><iframe src=\"http://127.0.0.1:7860/\" width=\"100%\" height=\"500\" allow=\"autoplay; camera; microphone; clipboard-read; clipboard-write;\" frameborder=\"0\" allowfullscreen></iframe></div>"
      ],
      "text/plain": [
       "<IPython.core.display.HTML object>"
      ]
     },
     "metadata": {},
     "output_type": "display_data"
    },
    {
     "data": {
      "text/plain": []
     },
     "execution_count": 15,
     "metadata": {},
     "output_type": "execute_result"
    },
    {
     "data": {
      "text/html": [],
      "text/plain": [
       "<IPython.core.display.HTML object>"
      ]
     },
     "metadata": {},
     "output_type": "display_data"
    }
   ],
   "source": [
    "reg_experiment.create_app(best, {})"
   ]
  },
  {
   "cell_type": "markdown",
   "id": "e482cbc3",
   "metadata": {},
   "source": [
    "### Operations [Create Dockerfile]"
   ]
  },
  {
   "cell_type": "code",
   "execution_count": 19,
   "id": "7fd22830",
   "metadata": {},
   "outputs": [
    {
     "name": "stdout",
     "output_type": "stream",
     "text": [
      "Writing requirements.txt\n",
      "Writing Dockerfile\n",
      "Dockerfile and requirements.txt successfully created.\n",
      "    To build image you have to run --> !docker image build -f \"Dockerfile\" -t IMAGE_NAME:IMAGE_TAG .\n",
      "            \n"
     ]
    }
   ],
   "source": [
    "reg_experiment.create_docker(best)"
   ]
  },
  {
   "cell_type": "markdown",
   "id": "a307d5ef",
   "metadata": {},
   "source": [
    "### Operations [Create Code]"
   ]
  },
  {
   "cell_type": "code",
   "execution_count": 25,
   "id": "6db3848f",
   "metadata": {},
   "outputs": [
    {
     "ename": "NotImplementedError",
     "evalue": "Model 'sklearn_GradientBoostingRegressor' is not supported",
     "output_type": "error",
     "traceback": [
      "\u001b[1;31m---------------------------------------------------------------------------\u001b[0m",
      "\u001b[1;31mNotImplementedError\u001b[0m                       Traceback (most recent call last)",
      "\u001b[1;32m~\\AppData\\Local\\Temp\\ipykernel_16884\\2327582216.py\u001b[0m in \u001b[0;36m<cell line: 1>\u001b[1;34m()\u001b[0m\n\u001b[1;32m----> 1\u001b[1;33m \u001b[0mreg_experiment\u001b[0m\u001b[1;33m.\u001b[0m\u001b[0mconvert_model\u001b[0m\u001b[1;33m(\u001b[0m\u001b[0mbest\u001b[0m\u001b[1;33m,\u001b[0m \u001b[1;34m'python'\u001b[0m\u001b[1;33m)\u001b[0m\u001b[1;33m\u001b[0m\u001b[1;33m\u001b[0m\u001b[0m\n\u001b[0m",
      "\u001b[1;32m~\\.conda\\envs\\pycaret_env\\lib\\site-packages\\pycaret\\internal\\pycaret_experiment\\tabular_experiment.py\u001b[0m in \u001b[0;36mconvert_model\u001b[1;34m(estimator, language)\u001b[0m\n\u001b[0;32m   2499\u001b[0m \u001b[1;33m\u001b[0m\u001b[0m\n\u001b[0;32m   2500\u001b[0m         \u001b[1;32mif\u001b[0m \u001b[0mlanguage\u001b[0m \u001b[1;33m==\u001b[0m \u001b[1;34m\"python\"\u001b[0m\u001b[1;33m:\u001b[0m\u001b[1;33m\u001b[0m\u001b[1;33m\u001b[0m\u001b[0m\n\u001b[1;32m-> 2501\u001b[1;33m             \u001b[1;32mreturn\u001b[0m \u001b[0mm2c\u001b[0m\u001b[1;33m.\u001b[0m\u001b[0mexport_to_python\u001b[0m\u001b[1;33m(\u001b[0m\u001b[0mestimator\u001b[0m\u001b[1;33m)\u001b[0m\u001b[1;33m\u001b[0m\u001b[1;33m\u001b[0m\u001b[0m\n\u001b[0m\u001b[0;32m   2502\u001b[0m         \u001b[1;32melif\u001b[0m \u001b[0mlanguage\u001b[0m \u001b[1;33m==\u001b[0m \u001b[1;34m\"java\"\u001b[0m\u001b[1;33m:\u001b[0m\u001b[1;33m\u001b[0m\u001b[1;33m\u001b[0m\u001b[0m\n\u001b[0;32m   2503\u001b[0m             \u001b[1;32mreturn\u001b[0m \u001b[0mm2c\u001b[0m\u001b[1;33m.\u001b[0m\u001b[0mexport_to_java\u001b[0m\u001b[1;33m(\u001b[0m\u001b[0mestimator\u001b[0m\u001b[1;33m)\u001b[0m\u001b[1;33m\u001b[0m\u001b[1;33m\u001b[0m\u001b[0m\n",
      "\u001b[1;32m~\\.conda\\envs\\pycaret_env\\lib\\site-packages\\m2cgen\\exporters.py\u001b[0m in \u001b[0;36mexport_to_python\u001b[1;34m(model, indent, function_name)\u001b[0m\n\u001b[0;32m     55\u001b[0m         \u001b[0mfunction_name\u001b[0m\u001b[1;33m=\u001b[0m\u001b[0mfunction_name\u001b[0m\u001b[1;33m\u001b[0m\u001b[1;33m\u001b[0m\u001b[0m\n\u001b[0;32m     56\u001b[0m     )\n\u001b[1;32m---> 57\u001b[1;33m     \u001b[1;32mreturn\u001b[0m \u001b[0m_export\u001b[0m\u001b[1;33m(\u001b[0m\u001b[0mmodel\u001b[0m\u001b[1;33m,\u001b[0m \u001b[0minterpreter\u001b[0m\u001b[1;33m)\u001b[0m\u001b[1;33m\u001b[0m\u001b[1;33m\u001b[0m\u001b[0m\n\u001b[0m\u001b[0;32m     58\u001b[0m \u001b[1;33m\u001b[0m\u001b[0m\n\u001b[0;32m     59\u001b[0m \u001b[1;33m\u001b[0m\u001b[0m\n",
      "\u001b[1;32m~\\.conda\\envs\\pycaret_env\\lib\\site-packages\\m2cgen\\exporters.py\u001b[0m in \u001b[0;36m_export\u001b[1;34m(model, interpreter)\u001b[0m\n\u001b[0;32m    456\u001b[0m \u001b[1;33m\u001b[0m\u001b[0m\n\u001b[0;32m    457\u001b[0m \u001b[1;32mdef\u001b[0m \u001b[0m_export\u001b[0m\u001b[1;33m(\u001b[0m\u001b[0mmodel\u001b[0m\u001b[1;33m,\u001b[0m \u001b[0minterpreter\u001b[0m\u001b[1;33m)\u001b[0m\u001b[1;33m:\u001b[0m\u001b[1;33m\u001b[0m\u001b[1;33m\u001b[0m\u001b[0m\n\u001b[1;32m--> 458\u001b[1;33m     \u001b[0massembler_cls\u001b[0m \u001b[1;33m=\u001b[0m \u001b[0mget_assembler_cls\u001b[0m\u001b[1;33m(\u001b[0m\u001b[0mmodel\u001b[0m\u001b[1;33m)\u001b[0m\u001b[1;33m\u001b[0m\u001b[1;33m\u001b[0m\u001b[0m\n\u001b[0m\u001b[0;32m    459\u001b[0m     \u001b[0mmodel_ast\u001b[0m \u001b[1;33m=\u001b[0m \u001b[0massembler_cls\u001b[0m\u001b[1;33m(\u001b[0m\u001b[0mmodel\u001b[0m\u001b[1;33m)\u001b[0m\u001b[1;33m.\u001b[0m\u001b[0massemble\u001b[0m\u001b[1;33m(\u001b[0m\u001b[1;33m)\u001b[0m\u001b[1;33m\u001b[0m\u001b[1;33m\u001b[0m\u001b[0m\n\u001b[0;32m    460\u001b[0m     \u001b[1;32mreturn\u001b[0m \u001b[0minterpreter\u001b[0m\u001b[1;33m.\u001b[0m\u001b[0minterpret\u001b[0m\u001b[1;33m(\u001b[0m\u001b[0mmodel_ast\u001b[0m\u001b[1;33m)\u001b[0m\u001b[1;33m\u001b[0m\u001b[1;33m\u001b[0m\u001b[0m\n",
      "\u001b[1;32m~\\.conda\\envs\\pycaret_env\\lib\\site-packages\\m2cgen\\assemblers\\__init__.py\u001b[0m in \u001b[0;36mget_assembler_cls\u001b[1;34m(model)\u001b[0m\n\u001b[0;32m    145\u001b[0m \u001b[1;33m\u001b[0m\u001b[0m\n\u001b[0;32m    146\u001b[0m     \u001b[1;32mif\u001b[0m \u001b[1;32mnot\u001b[0m \u001b[0massembler_cls\u001b[0m\u001b[1;33m:\u001b[0m\u001b[1;33m\u001b[0m\u001b[1;33m\u001b[0m\u001b[0m\n\u001b[1;32m--> 147\u001b[1;33m         \u001b[1;32mraise\u001b[0m \u001b[0mNotImplementedError\u001b[0m\u001b[1;33m(\u001b[0m\u001b[1;34mf\"Model '{model_name}' is not supported\"\u001b[0m\u001b[1;33m)\u001b[0m\u001b[1;33m\u001b[0m\u001b[1;33m\u001b[0m\u001b[0m\n\u001b[0m\u001b[0;32m    148\u001b[0m \u001b[1;33m\u001b[0m\u001b[0m\n\u001b[0;32m    149\u001b[0m     \u001b[1;32mreturn\u001b[0m \u001b[0massembler_cls\u001b[0m\u001b[1;33m\u001b[0m\u001b[1;33m\u001b[0m\u001b[0m\n",
      "\u001b[1;31mNotImplementedError\u001b[0m: Model 'sklearn_GradientBoostingRegressor' is not supported"
     ]
    }
   ],
   "source": [
    "reg_experiment.convert_model(best, 'java')"
   ]
  },
  {
   "cell_type": "code",
   "execution_count": null,
   "id": "220331b3",
   "metadata": {},
   "outputs": [],
   "source": []
  }
 ],
 "metadata": {
  "kernelspec": {
   "display_name": "python[pycaret]",
   "language": "python",
   "name": "pycaret_env"
  },
  "language_info": {
   "codemirror_mode": {
    "name": "ipython",
    "version": 3
   },
   "file_extension": ".py",
   "mimetype": "text/x-python",
   "name": "python",
   "nbconvert_exporter": "python",
   "pygments_lexer": "ipython3",
   "version": "3.10.11"
  }
 },
 "nbformat": 4,
 "nbformat_minor": 5
}
