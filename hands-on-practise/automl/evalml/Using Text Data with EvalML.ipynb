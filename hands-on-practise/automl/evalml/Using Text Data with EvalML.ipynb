{
 "cells": [
  {
   "cell_type": "markdown",
   "id": "2176b4cb",
   "metadata": {},
   "source": [
    "https://evalml.alteryx.com/en/stable/demos/text_input.html"
   ]
  },
  {
   "cell_type": "code",
   "execution_count": 22,
   "id": "bc4c3769",
   "metadata": {},
   "outputs": [],
   "source": [
    "import evalml\n",
    "from evalml import AutoMLSearch\n",
    "from evalml.model_understanding.metrics import graph_confusion_matrix"
   ]
  },
  {
   "cell_type": "markdown",
   "id": "f5083eee",
   "metadata": {},
   "source": [
    "### Dataset"
   ]
  },
  {
   "cell_type": "code",
   "execution_count": 3,
   "id": "7df79942",
   "metadata": {},
   "outputs": [
    {
     "name": "stdout",
     "output_type": "stream",
     "text": [
      "(750, 1)\n"
     ]
    },
    {
     "data": {
      "text/html": [
       "<div>\n",
       "<style scoped>\n",
       "    .dataframe tbody tr th:only-of-type {\n",
       "        vertical-align: middle;\n",
       "    }\n",
       "\n",
       "    .dataframe tbody tr th {\n",
       "        vertical-align: top;\n",
       "    }\n",
       "\n",
       "    .dataframe thead th {\n",
       "        text-align: right;\n",
       "    }\n",
       "</style>\n",
       "<table border=\"1\" class=\"dataframe\">\n",
       "  <thead>\n",
       "    <tr style=\"text-align: right;\">\n",
       "      <th></th>\n",
       "      <th>Message</th>\n",
       "    </tr>\n",
       "  </thead>\n",
       "  <tbody>\n",
       "    <tr>\n",
       "      <th>0</th>\n",
       "      <td>Free entry in 2 a wkly comp to win FA Cup fina...</td>\n",
       "    </tr>\n",
       "    <tr>\n",
       "      <th>1</th>\n",
       "      <td>FreeMsg Hey there darling it's been 3 week's n...</td>\n",
       "    </tr>\n",
       "    <tr>\n",
       "      <th>2</th>\n",
       "      <td>WINNER!! As a valued network customer you have...</td>\n",
       "    </tr>\n",
       "    <tr>\n",
       "      <th>3</th>\n",
       "      <td>Had your mobile 11 months or more? U R entitle...</td>\n",
       "    </tr>\n",
       "    <tr>\n",
       "      <th>4</th>\n",
       "      <td>SIX chances to win CASH! From 100 to 20,000 po...</td>\n",
       "    </tr>\n",
       "  </tbody>\n",
       "</table>\n",
       "</div>"
      ],
      "text/plain": [
       "                                             Message\n",
       "0  Free entry in 2 a wkly comp to win FA Cup fina...\n",
       "1  FreeMsg Hey there darling it's been 3 week's n...\n",
       "2  WINNER!! As a valued network customer you have...\n",
       "3  Had your mobile 11 months or more? U R entitle...\n",
       "4  SIX chances to win CASH! From 100 to 20,000 po..."
      ]
     },
     "metadata": {},
     "output_type": "display_data"
    }
   ],
   "source": [
    "from urllib.request import urlopen\n",
    "import pandas as pd\n",
    "\n",
    "input_data = urlopen(\n",
    "    \"https://featurelabs-static.s3.amazonaws.com/spam_text_messages_modified.csv\"\n",
    ")\n",
    "data = pd.read_csv(input_data)[:750]\n",
    "\n",
    "X = data.drop([\"Category\"], axis=1)\n",
    "y = data[\"Category\"]\n",
    "\n",
    "print(X.shape)\n",
    "display(X.head())"
   ]
  },
  {
   "cell_type": "code",
   "execution_count": 4,
   "id": "85a64152",
   "metadata": {},
   "outputs": [
    {
     "data": {
      "text/plain": [
       "spam    0.593333\n",
       "ham     0.406667\n",
       "Name: Category, dtype: float64"
      ]
     },
     "execution_count": 4,
     "metadata": {},
     "output_type": "execute_result"
    }
   ],
   "source": [
    "y.value_counts(normalize=True)"
   ]
  },
  {
   "cell_type": "code",
   "execution_count": 5,
   "id": "8fc3cf75",
   "metadata": {},
   "outputs": [],
   "source": [
    "# In order to properly utilize Woodwork’s ‘Natural Language’ typing, we need to pass this argument in during initialization. \n",
    "# Otherwise, this will be treated as an ‘Unknown’ type and dropped in the search.\n",
    "X.ww.init(logical_types={\"Message\": \"NaturalLanguage\"})"
   ]
  },
  {
   "cell_type": "code",
   "execution_count": 7,
   "id": "90254fb1",
   "metadata": {},
   "outputs": [
    {
     "data": {
      "text/html": [
       "<table border=\"1\" class=\"dataframe\">\n",
       "  <thead>\n",
       "    <tr style=\"text-align: right;\">\n",
       "      <th></th>\n",
       "      <th>Physical Type</th>\n",
       "      <th>Logical Type</th>\n",
       "      <th>Semantic Tag(s)</th>\n",
       "    </tr>\n",
       "    <tr>\n",
       "      <th>Column</th>\n",
       "      <th></th>\n",
       "      <th></th>\n",
       "      <th></th>\n",
       "    </tr>\n",
       "  </thead>\n",
       "  <tbody>\n",
       "    <tr>\n",
       "      <th>Message</th>\n",
       "      <td>string</td>\n",
       "      <td>NaturalLanguage</td>\n",
       "      <td>[]</td>\n",
       "    </tr>\n",
       "  </tbody>\n",
       "</table>"
      ],
      "text/plain": [
       "        Physical Type     Logical Type Semantic Tag(s)\n",
       "Column                                                \n",
       "Message        string  NaturalLanguage              []"
      ]
     },
     "execution_count": 7,
     "metadata": {},
     "output_type": "execute_result"
    }
   ],
   "source": [
    "X_train.ww"
   ]
  },
  {
   "cell_type": "code",
   "execution_count": 8,
   "id": "350738fd",
   "metadata": {},
   "outputs": [],
   "source": [
    "X_train, X_holdout, y_train, y_holdout = evalml.preprocessing.split_data(\n",
    "    X, y, problem_type=\"binary\", test_size=0.2, random_seed=0\n",
    ")"
   ]
  },
  {
   "cell_type": "markdown",
   "id": "9812d6ed",
   "metadata": {},
   "source": [
    "### AutoML training"
   ]
  },
  {
   "cell_type": "code",
   "execution_count": 12,
   "id": "59c920b0",
   "metadata": {
    "scrolled": false
   },
   "outputs": [
    {
     "name": "stdout",
     "output_type": "stream",
     "text": [
      "AutoMLSearch will use mean CV score to rank pipelines.\n",
      "\n",
      "*****************************\n",
      "* Beginning pipeline search *\n",
      "*****************************\n",
      "\n",
      "Optimizing for Log Loss Binary. \n",
      "Lower score is better.\n",
      "\n",
      "Using SequentialEngine to train and score pipelines.\n",
      "Searching up to 5 batches for a total of None pipelines. \n",
      "Allowed model families: \n",
      "\n",
      "Evaluating Baseline Pipeline: Mode Baseline Binary Classification Pipeline\n",
      "Mode Baseline Binary Classification Pipeline:\n",
      "\tStarting cross validation\n",
      "\tFinished cross validation - mean Log Loss Binary: 14.658\n",
      "\n",
      "*****************************\n",
      "* Evaluating Batch Number 1 *\n",
      "*****************************\n",
      "\n",
      "Random Forest Classifier w/ Label Encoder + Natural Language Featurizer + Imputer:\n",
      "\tStarting cross validation\n",
      "\tFinished cross validation - mean Log Loss Binary: 0.212\n",
      "\n",
      "*****************************\n",
      "* Evaluating Batch Number 2 *\n",
      "*****************************\n",
      "\n",
      "Random Forest Classifier w/ Label Encoder + Natural Language Featurizer + Imputer + RF Classifier Select From Model:\n",
      "\tStarting cross validation\n",
      "\tFinished cross validation - mean Log Loss Binary: 0.249\n",
      "\n",
      "*****************************\n",
      "* Evaluating Batch Number 3 *\n",
      "*****************************\n",
      "\n",
      "Decision Tree Classifier w/ Label Encoder + Natural Language Featurizer + Imputer + Select Columns Transformer:\n",
      "\tStarting cross validation\n",
      "\tFinished cross validation - mean Log Loss Binary: 3.188\n",
      "\tHigh coefficient of variation (cv >= 0.5) within cross validation scores.\n",
      "\tDecision Tree Classifier w/ Label Encoder + Natural Language Featurizer + Imputer + Select Columns Transformer may not perform as estimated on unseen data.\n",
      "LightGBM Classifier w/ Label Encoder + Natural Language Featurizer + Imputer + Select Columns Transformer:\n",
      "\tStarting cross validation\n",
      "\tFinished cross validation - mean Log Loss Binary: 0.322\n",
      "Extra Trees Classifier w/ Label Encoder + Natural Language Featurizer + Imputer + Select Columns Transformer:\n",
      "\tStarting cross validation\n",
      "\tFinished cross validation - mean Log Loss Binary: 0.249\n",
      "Elastic Net Classifier w/ Label Encoder + Natural Language Featurizer + Imputer + Standard Scaler + Select Columns Transformer:\n",
      "\tStarting cross validation\n",
      "\tFinished cross validation - mean Log Loss Binary: 0.369\n",
      "CatBoost Classifier w/ Label Encoder + Natural Language Featurizer + Imputer + Select Columns Transformer:\n",
      "\tStarting cross validation\n",
      "\tFinished cross validation - mean Log Loss Binary: 0.578\n",
      "XGBoost Classifier w/ Label Encoder + Natural Language Featurizer + Imputer + Select Columns Transformer:\n",
      "\tStarting cross validation\n",
      "\tFinished cross validation - mean Log Loss Binary: 0.288\n",
      "Logistic Regression Classifier w/ Label Encoder + Natural Language Featurizer + Imputer + Standard Scaler + Select Columns Transformer:\n",
      "\tStarting cross validation\n",
      "\tFinished cross validation - mean Log Loss Binary: 0.369\n",
      "\n",
      "*****************************\n",
      "* Evaluating Batch Number 4 *\n",
      "*****************************\n",
      "\n",
      "Random Forest Classifier w/ Label Encoder + Natural Language Featurizer + Imputer + Select Columns Transformer:\n",
      "\tStarting cross validation\n",
      "\tFinished cross validation - mean Log Loss Binary: 0.232\n",
      "Extra Trees Classifier w/ Label Encoder + Natural Language Featurizer + Imputer + Select Columns Transformer:\n",
      "\tStarting cross validation\n",
      "\tFinished cross validation - mean Log Loss Binary: 0.221\n",
      "XGBoost Classifier w/ Label Encoder + Natural Language Featurizer + Imputer + Select Columns Transformer:\n",
      "\tStarting cross validation\n",
      "\tFinished cross validation - mean Log Loss Binary: 0.331\n",
      "Random Forest Classifier w/ Label Encoder + Natural Language Featurizer + Imputer + Select Columns Transformer:\n",
      "\tStarting cross validation\n",
      "\tFinished cross validation - mean Log Loss Binary: 0.234\n",
      "Extra Trees Classifier w/ Label Encoder + Natural Language Featurizer + Imputer + Select Columns Transformer:\n",
      "\tStarting cross validation\n",
      "\tFinished cross validation - mean Log Loss Binary: 0.220\n",
      "XGBoost Classifier w/ Label Encoder + Natural Language Featurizer + Imputer + Select Columns Transformer:\n",
      "\tStarting cross validation\n",
      "\tFinished cross validation - mean Log Loss Binary: 0.304\n",
      "Random Forest Classifier w/ Label Encoder + Natural Language Featurizer + Imputer + Select Columns Transformer:\n",
      "\tStarting cross validation\n",
      "\tFinished cross validation - mean Log Loss Binary: 0.285\n",
      "Extra Trees Classifier w/ Label Encoder + Natural Language Featurizer + Imputer + Select Columns Transformer:\n",
      "\tStarting cross validation\n",
      "\tFinished cross validation - mean Log Loss Binary: 0.270\n",
      "XGBoost Classifier w/ Label Encoder + Natural Language Featurizer + Imputer + Select Columns Transformer:\n",
      "\tStarting cross validation\n",
      "\tFinished cross validation - mean Log Loss Binary: 0.296\n",
      "Random Forest Classifier w/ Label Encoder + Natural Language Featurizer + Imputer + Select Columns Transformer:\n",
      "\tStarting cross validation\n",
      "\tFinished cross validation - mean Log Loss Binary: 0.239\n",
      "Extra Trees Classifier w/ Label Encoder + Natural Language Featurizer + Imputer + Select Columns Transformer:\n",
      "\tStarting cross validation\n",
      "\tFinished cross validation - mean Log Loss Binary: 0.248\n",
      "XGBoost Classifier w/ Label Encoder + Natural Language Featurizer + Imputer + Select Columns Transformer:\n",
      "\tStarting cross validation\n",
      "\tFinished cross validation - mean Log Loss Binary: 0.288\n",
      "Random Forest Classifier w/ Label Encoder + Natural Language Featurizer + Imputer + Select Columns Transformer:\n",
      "\tStarting cross validation\n",
      "\tFinished cross validation - mean Log Loss Binary: 0.256\n",
      "Extra Trees Classifier w/ Label Encoder + Natural Language Featurizer + Imputer + Select Columns Transformer:\n",
      "\tStarting cross validation\n",
      "\tFinished cross validation - mean Log Loss Binary: 0.304\n",
      "XGBoost Classifier w/ Label Encoder + Natural Language Featurizer + Imputer + Select Columns Transformer:\n",
      "\tStarting cross validation\n",
      "\tFinished cross validation - mean Log Loss Binary: 0.309\n",
      "Random Forest Classifier w/ Label Encoder + Natural Language Featurizer + Imputer + Select Columns Transformer:\n",
      "\tStarting cross validation\n",
      "\tFinished cross validation - mean Log Loss Binary: 0.283\n",
      "Extra Trees Classifier w/ Label Encoder + Natural Language Featurizer + Imputer + Select Columns Transformer:\n",
      "\tStarting cross validation\n",
      "\tFinished cross validation - mean Log Loss Binary: 0.234\n",
      "XGBoost Classifier w/ Label Encoder + Natural Language Featurizer + Imputer + Select Columns Transformer:\n",
      "\tStarting cross validation\n",
      "\tFinished cross validation - mean Log Loss Binary: 0.274\n",
      "Random Forest Classifier w/ Label Encoder + Natural Language Featurizer + Imputer + Select Columns Transformer:\n",
      "\tStarting cross validation\n",
      "\tFinished cross validation - mean Log Loss Binary: 0.234\n",
      "Extra Trees Classifier w/ Label Encoder + Natural Language Featurizer + Imputer + Select Columns Transformer:\n",
      "\tStarting cross validation\n",
      "\tFinished cross validation - mean Log Loss Binary: 0.219\n",
      "XGBoost Classifier w/ Label Encoder + Natural Language Featurizer + Imputer + Select Columns Transformer:\n",
      "\tStarting cross validation\n",
      "\tFinished cross validation - mean Log Loss Binary: 0.297\n",
      "Random Forest Classifier w/ Label Encoder + Natural Language Featurizer + Imputer + Select Columns Transformer:\n",
      "\tStarting cross validation\n",
      "\tFinished cross validation - mean Log Loss Binary: 0.265\n",
      "Extra Trees Classifier w/ Label Encoder + Natural Language Featurizer + Imputer + Select Columns Transformer:\n",
      "\tStarting cross validation\n",
      "\tFinished cross validation - mean Log Loss Binary: 0.249\n",
      "XGBoost Classifier w/ Label Encoder + Natural Language Featurizer + Imputer + Select Columns Transformer:\n",
      "\tStarting cross validation\n",
      "\tFinished cross validation - mean Log Loss Binary: 0.289\n",
      "Random Forest Classifier w/ Label Encoder + Natural Language Featurizer + Imputer + Select Columns Transformer:\n",
      "\tStarting cross validation\n",
      "\tFinished cross validation - mean Log Loss Binary: 0.234\n",
      "Extra Trees Classifier w/ Label Encoder + Natural Language Featurizer + Imputer + Select Columns Transformer:\n",
      "\tStarting cross validation\n",
      "\tFinished cross validation - mean Log Loss Binary: 0.230\n",
      "XGBoost Classifier w/ Label Encoder + Natural Language Featurizer + Imputer + Select Columns Transformer:\n",
      "\tStarting cross validation\n",
      "\tFinished cross validation - mean Log Loss Binary: 0.373\n",
      "Random Forest Classifier w/ Label Encoder + Natural Language Featurizer + Imputer + Select Columns Transformer:\n"
     ]
    },
    {
     "name": "stdout",
     "output_type": "stream",
     "text": [
      "\tStarting cross validation\n",
      "\tFinished cross validation - mean Log Loss Binary: 0.235\n",
      "Extra Trees Classifier w/ Label Encoder + Natural Language Featurizer + Imputer + Select Columns Transformer:\n",
      "\tStarting cross validation\n",
      "\tFinished cross validation - mean Log Loss Binary: 0.249\n",
      "XGBoost Classifier w/ Label Encoder + Natural Language Featurizer + Imputer + Select Columns Transformer:\n",
      "\tStarting cross validation\n",
      "\tFinished cross validation - mean Log Loss Binary: 0.299\n",
      "Random Forest Classifier w/ Label Encoder + Natural Language Featurizer + Imputer + Select Columns Transformer:\n",
      "\tStarting cross validation\n",
      "\tFinished cross validation - mean Log Loss Binary: 0.237\n",
      "Extra Trees Classifier w/ Label Encoder + Natural Language Featurizer + Imputer + Select Columns Transformer:\n",
      "\tStarting cross validation\n",
      "\tFinished cross validation - mean Log Loss Binary: 0.226\n",
      "XGBoost Classifier w/ Label Encoder + Natural Language Featurizer + Imputer + Select Columns Transformer:\n",
      "\tStarting cross validation\n",
      "\tFinished cross validation - mean Log Loss Binary: 0.273\n",
      "Random Forest Classifier w/ Label Encoder + Natural Language Featurizer + Imputer + Select Columns Transformer:\n",
      "\tStarting cross validation\n",
      "\tFinished cross validation - mean Log Loss Binary: 0.233\n",
      "Extra Trees Classifier w/ Label Encoder + Natural Language Featurizer + Imputer + Select Columns Transformer:\n",
      "\tStarting cross validation\n",
      "\tFinished cross validation - mean Log Loss Binary: 0.220\n",
      "XGBoost Classifier w/ Label Encoder + Natural Language Featurizer + Imputer + Select Columns Transformer:\n",
      "\tStarting cross validation\n",
      "\tFinished cross validation - mean Log Loss Binary: 0.279\n",
      "Random Forest Classifier w/ Label Encoder + Natural Language Featurizer + Imputer + Select Columns Transformer:\n",
      "\tStarting cross validation\n",
      "\tFinished cross validation - mean Log Loss Binary: 0.234\n",
      "Extra Trees Classifier w/ Label Encoder + Natural Language Featurizer + Imputer + Select Columns Transformer:\n",
      "\tStarting cross validation\n",
      "\tFinished cross validation - mean Log Loss Binary: 0.222\n",
      "XGBoost Classifier w/ Label Encoder + Natural Language Featurizer + Imputer + Select Columns Transformer:\n",
      "\tStarting cross validation\n",
      "\tFinished cross validation - mean Log Loss Binary: 0.334\n",
      "Random Forest Classifier w/ Label Encoder + Natural Language Featurizer + Imputer + Select Columns Transformer:\n",
      "\tStarting cross validation\n",
      "\tFinished cross validation - mean Log Loss Binary: 0.286\n",
      "Extra Trees Classifier w/ Label Encoder + Natural Language Featurizer + Imputer + Select Columns Transformer:\n",
      "\tStarting cross validation\n",
      "\tFinished cross validation - mean Log Loss Binary: 0.248\n",
      "XGBoost Classifier w/ Label Encoder + Natural Language Featurizer + Imputer + Select Columns Transformer:\n",
      "\tStarting cross validation\n",
      "\tFinished cross validation - mean Log Loss Binary: 0.309\n",
      "Random Forest Classifier w/ Label Encoder + Natural Language Featurizer + Imputer + Select Columns Transformer:\n",
      "\tStarting cross validation\n",
      "\tFinished cross validation - mean Log Loss Binary: 0.232\n",
      "Extra Trees Classifier w/ Label Encoder + Natural Language Featurizer + Imputer + Select Columns Transformer:\n",
      "\tStarting cross validation\n",
      "\tFinished cross validation - mean Log Loss Binary: 0.249\n",
      "XGBoost Classifier w/ Label Encoder + Natural Language Featurizer + Imputer + Select Columns Transformer:\n",
      "\tStarting cross validation\n",
      "\tFinished cross validation - mean Log Loss Binary: 0.543\n",
      "Random Forest Classifier w/ Label Encoder + Natural Language Featurizer + Imputer + Select Columns Transformer:\n",
      "\tStarting cross validation\n",
      "\tFinished cross validation - mean Log Loss Binary: 0.231\n",
      "Extra Trees Classifier w/ Label Encoder + Natural Language Featurizer + Imputer + Select Columns Transformer:\n",
      "\tStarting cross validation\n",
      "\tFinished cross validation - mean Log Loss Binary: 0.234\n",
      "XGBoost Classifier w/ Label Encoder + Natural Language Featurizer + Imputer + Select Columns Transformer:\n",
      "\tStarting cross validation\n",
      "\tFinished cross validation - mean Log Loss Binary: 0.310\n",
      "Random Forest Classifier w/ Label Encoder + Natural Language Featurizer + Imputer + Select Columns Transformer:\n",
      "\tStarting cross validation\n",
      "\tFinished cross validation - mean Log Loss Binary: 0.240\n",
      "Extra Trees Classifier w/ Label Encoder + Natural Language Featurizer + Imputer + Select Columns Transformer:\n",
      "\tStarting cross validation\n",
      "\tFinished cross validation - mean Log Loss Binary: 0.234\n",
      "XGBoost Classifier w/ Label Encoder + Natural Language Featurizer + Imputer + Select Columns Transformer:\n",
      "\tStarting cross validation\n",
      "\tFinished cross validation - mean Log Loss Binary: 0.331\n",
      "Random Forest Classifier w/ Label Encoder + Natural Language Featurizer + Imputer + Select Columns Transformer:\n",
      "\tStarting cross validation\n",
      "\tFinished cross validation - mean Log Loss Binary: 0.374\n",
      "Extra Trees Classifier w/ Label Encoder + Natural Language Featurizer + Imputer + Select Columns Transformer:\n",
      "\tStarting cross validation\n",
      "\tFinished cross validation - mean Log Loss Binary: 0.233\n",
      "XGBoost Classifier w/ Label Encoder + Natural Language Featurizer + Imputer + Select Columns Transformer:\n",
      "\tStarting cross validation\n",
      "\tFinished cross validation - mean Log Loss Binary: 0.313\n",
      "Random Forest Classifier w/ Label Encoder + Natural Language Featurizer + Imputer + Select Columns Transformer:\n",
      "\tStarting cross validation\n",
      "\tFinished cross validation - mean Log Loss Binary: 0.257\n",
      "Extra Trees Classifier w/ Label Encoder + Natural Language Featurizer + Imputer + Select Columns Transformer:\n",
      "\tStarting cross validation\n",
      "\tFinished cross validation - mean Log Loss Binary: 0.248\n",
      "XGBoost Classifier w/ Label Encoder + Natural Language Featurizer + Imputer + Select Columns Transformer:\n",
      "\tStarting cross validation\n",
      "\tFinished cross validation - mean Log Loss Binary: 0.281\n",
      "Random Forest Classifier w/ Label Encoder + Natural Language Featurizer + Imputer + Select Columns Transformer:\n",
      "\tStarting cross validation\n",
      "\tFinished cross validation - mean Log Loss Binary: 0.257\n",
      "Extra Trees Classifier w/ Label Encoder + Natural Language Featurizer + Imputer + Select Columns Transformer:\n",
      "\tStarting cross validation\n",
      "\tFinished cross validation - mean Log Loss Binary: 0.234\n",
      "XGBoost Classifier w/ Label Encoder + Natural Language Featurizer + Imputer + Select Columns Transformer:\n",
      "\tStarting cross validation\n",
      "\tFinished cross validation - mean Log Loss Binary: 0.315\n",
      "Random Forest Classifier w/ Label Encoder + Natural Language Featurizer + Imputer + Select Columns Transformer:\n",
      "\tStarting cross validation\n",
      "\tFinished cross validation - mean Log Loss Binary: 0.235\n",
      "Extra Trees Classifier w/ Label Encoder + Natural Language Featurizer + Imputer + Select Columns Transformer:\n",
      "\tStarting cross validation\n",
      "\tFinished cross validation - mean Log Loss Binary: 0.302\n",
      "XGBoost Classifier w/ Label Encoder + Natural Language Featurizer + Imputer + Select Columns Transformer:\n",
      "\tStarting cross validation\n",
      "\tFinished cross validation - mean Log Loss Binary: 0.344\n",
      "Random Forest Classifier w/ Label Encoder + Natural Language Featurizer + Imputer + Select Columns Transformer:\n",
      "\tStarting cross validation\n",
      "\tFinished cross validation - mean Log Loss Binary: 0.257\n",
      "Extra Trees Classifier w/ Label Encoder + Natural Language Featurizer + Imputer + Select Columns Transformer:\n",
      "\tStarting cross validation\n",
      "\tFinished cross validation - mean Log Loss Binary: 0.226\n",
      "XGBoost Classifier w/ Label Encoder + Natural Language Featurizer + Imputer + Select Columns Transformer:\n",
      "\tStarting cross validation\n",
      "\tFinished cross validation - mean Log Loss Binary: 0.289\n",
      "Random Forest Classifier w/ Label Encoder + Natural Language Featurizer + Imputer + Select Columns Transformer:\n",
      "\tStarting cross validation\n",
      "\tFinished cross validation - mean Log Loss Binary: 0.239\n",
      "Extra Trees Classifier w/ Label Encoder + Natural Language Featurizer + Imputer + Select Columns Transformer:\n",
      "\tStarting cross validation\n",
      "\tFinished cross validation - mean Log Loss Binary: 0.301\n",
      "XGBoost Classifier w/ Label Encoder + Natural Language Featurizer + Imputer + Select Columns Transformer:\n",
      "\tStarting cross validation\n",
      "\tFinished cross validation - mean Log Loss Binary: 0.284\n",
      "Random Forest Classifier w/ Label Encoder + Natural Language Featurizer + Imputer + Select Columns Transformer:\n",
      "\tStarting cross validation\n",
      "\tFinished cross validation - mean Log Loss Binary: 0.257\n"
     ]
    },
    {
     "name": "stdout",
     "output_type": "stream",
     "text": [
      "Extra Trees Classifier w/ Label Encoder + Natural Language Featurizer + Imputer + Select Columns Transformer:\n",
      "\tStarting cross validation\n",
      "\tFinished cross validation - mean Log Loss Binary: 0.220\n",
      "XGBoost Classifier w/ Label Encoder + Natural Language Featurizer + Imputer + Select Columns Transformer:\n",
      "\tStarting cross validation\n",
      "\tFinished cross validation - mean Log Loss Binary: 0.279\n",
      "Random Forest Classifier w/ Label Encoder + Natural Language Featurizer + Imputer + Select Columns Transformer:\n",
      "\tStarting cross validation\n",
      "\tFinished cross validation - mean Log Loss Binary: 0.283\n",
      "Extra Trees Classifier w/ Label Encoder + Natural Language Featurizer + Imputer + Select Columns Transformer:\n",
      "\tStarting cross validation\n",
      "\tFinished cross validation - mean Log Loss Binary: 0.272\n",
      "XGBoost Classifier w/ Label Encoder + Natural Language Featurizer + Imputer + Select Columns Transformer:\n",
      "\tStarting cross validation\n",
      "\tFinished cross validation - mean Log Loss Binary: 0.275\n",
      "Random Forest Classifier w/ Label Encoder + Natural Language Featurizer + Imputer + Select Columns Transformer:\n",
      "\tStarting cross validation\n",
      "\tFinished cross validation - mean Log Loss Binary: 0.238\n",
      "Extra Trees Classifier w/ Label Encoder + Natural Language Featurizer + Imputer + Select Columns Transformer:\n",
      "\tStarting cross validation\n",
      "\tFinished cross validation - mean Log Loss Binary: 0.250\n",
      "XGBoost Classifier w/ Label Encoder + Natural Language Featurizer + Imputer + Select Columns Transformer:\n",
      "\tStarting cross validation\n",
      "\tFinished cross validation - mean Log Loss Binary: 0.343\n",
      "Random Forest Classifier w/ Label Encoder + Natural Language Featurizer + Imputer + Select Columns Transformer:\n",
      "\tStarting cross validation\n",
      "\tFinished cross validation - mean Log Loss Binary: 0.237\n",
      "Extra Trees Classifier w/ Label Encoder + Natural Language Featurizer + Imputer + Select Columns Transformer:\n",
      "\tStarting cross validation\n",
      "\tFinished cross validation - mean Log Loss Binary: 0.219\n",
      "XGBoost Classifier w/ Label Encoder + Natural Language Featurizer + Imputer + Select Columns Transformer:\n",
      "\tStarting cross validation\n",
      "\tFinished cross validation - mean Log Loss Binary: 0.304\n",
      "Random Forest Classifier w/ Label Encoder + Natural Language Featurizer + Imputer + Select Columns Transformer:\n",
      "\tStarting cross validation\n",
      "\tFinished cross validation - mean Log Loss Binary: 0.234\n",
      "Extra Trees Classifier w/ Label Encoder + Natural Language Featurizer + Imputer + Select Columns Transformer:\n",
      "\tStarting cross validation\n",
      "\tFinished cross validation - mean Log Loss Binary: 0.220\n",
      "XGBoost Classifier w/ Label Encoder + Natural Language Featurizer + Imputer + Select Columns Transformer:\n",
      "\tStarting cross validation\n",
      "\tFinished cross validation - mean Log Loss Binary: 0.336\n",
      "Random Forest Classifier w/ Label Encoder + Natural Language Featurizer + Imputer + Select Columns Transformer:\n",
      "\tStarting cross validation\n",
      "\tFinished cross validation - mean Log Loss Binary: 0.240\n",
      "Extra Trees Classifier w/ Label Encoder + Natural Language Featurizer + Imputer + Select Columns Transformer:\n",
      "\tStarting cross validation\n",
      "\tFinished cross validation - mean Log Loss Binary: 0.302\n",
      "XGBoost Classifier w/ Label Encoder + Natural Language Featurizer + Imputer + Select Columns Transformer:\n",
      "\tStarting cross validation\n",
      "\tFinished cross validation - mean Log Loss Binary: 0.317\n",
      "Random Forest Classifier w/ Label Encoder + Natural Language Featurizer + Imputer + Select Columns Transformer:\n",
      "\tStarting cross validation\n",
      "\tFinished cross validation - mean Log Loss Binary: 0.240\n",
      "Extra Trees Classifier w/ Label Encoder + Natural Language Featurizer + Imputer + Select Columns Transformer:\n",
      "\tStarting cross validation\n",
      "\tFinished cross validation - mean Log Loss Binary: 0.249\n",
      "XGBoost Classifier w/ Label Encoder + Natural Language Featurizer + Imputer + Select Columns Transformer:\n",
      "\tStarting cross validation\n",
      "\tFinished cross validation - mean Log Loss Binary: 0.310\n",
      "Random Forest Classifier w/ Label Encoder + Natural Language Featurizer + Imputer + Select Columns Transformer:\n",
      "\tStarting cross validation\n",
      "\tFinished cross validation - mean Log Loss Binary: 0.234\n",
      "Extra Trees Classifier w/ Label Encoder + Natural Language Featurizer + Imputer + Select Columns Transformer:\n",
      "\tStarting cross validation\n",
      "\tFinished cross validation - mean Log Loss Binary: 0.220\n",
      "XGBoost Classifier w/ Label Encoder + Natural Language Featurizer + Imputer + Select Columns Transformer:\n",
      "\tStarting cross validation\n",
      "\tFinished cross validation - mean Log Loss Binary: 0.338\n",
      "Random Forest Classifier w/ Label Encoder + Natural Language Featurizer + Imputer + Select Columns Transformer:\n",
      "\tStarting cross validation\n",
      "\tFinished cross validation - mean Log Loss Binary: 0.285\n",
      "Extra Trees Classifier w/ Label Encoder + Natural Language Featurizer + Imputer + Select Columns Transformer:\n",
      "\tStarting cross validation\n",
      "\tFinished cross validation - mean Log Loss Binary: 0.248\n",
      "XGBoost Classifier w/ Label Encoder + Natural Language Featurizer + Imputer + Select Columns Transformer:\n",
      "\tStarting cross validation\n",
      "\tFinished cross validation - mean Log Loss Binary: 0.354\n",
      "Random Forest Classifier w/ Label Encoder + Natural Language Featurizer + Imputer + Select Columns Transformer:\n",
      "\tStarting cross validation\n",
      "\tFinished cross validation - mean Log Loss Binary: 0.243\n",
      "Extra Trees Classifier w/ Label Encoder + Natural Language Featurizer + Imputer + Select Columns Transformer:\n",
      "\tStarting cross validation\n",
      "\tFinished cross validation - mean Log Loss Binary: 0.222\n",
      "XGBoost Classifier w/ Label Encoder + Natural Language Featurizer + Imputer + Select Columns Transformer:\n",
      "\tStarting cross validation\n",
      "\tFinished cross validation - mean Log Loss Binary: 0.366\n",
      "Random Forest Classifier w/ Label Encoder + Natural Language Featurizer + Imputer + Select Columns Transformer:\n",
      "\tStarting cross validation\n",
      "\tFinished cross validation - mean Log Loss Binary: 0.238\n",
      "Extra Trees Classifier w/ Label Encoder + Natural Language Featurizer + Imputer + Select Columns Transformer:\n",
      "\tStarting cross validation\n",
      "\tFinished cross validation - mean Log Loss Binary: 0.233\n",
      "XGBoost Classifier w/ Label Encoder + Natural Language Featurizer + Imputer + Select Columns Transformer:\n",
      "\tStarting cross validation\n",
      "\tFinished cross validation - mean Log Loss Binary: 0.304\n",
      "Random Forest Classifier w/ Label Encoder + Natural Language Featurizer + Imputer + Select Columns Transformer:\n",
      "\tStarting cross validation\n",
      "\tFinished cross validation - mean Log Loss Binary: 0.397\n",
      "Extra Trees Classifier w/ Label Encoder + Natural Language Featurizer + Imputer + Select Columns Transformer:\n",
      "\tStarting cross validation\n",
      "\tFinished cross validation - mean Log Loss Binary: 0.303\n",
      "XGBoost Classifier w/ Label Encoder + Natural Language Featurizer + Imputer + Select Columns Transformer:\n",
      "\tStarting cross validation\n",
      "\tFinished cross validation - mean Log Loss Binary: 0.292\n",
      "Random Forest Classifier w/ Label Encoder + Natural Language Featurizer + Imputer + Select Columns Transformer:\n",
      "\tStarting cross validation\n",
      "\tFinished cross validation - mean Log Loss Binary: 0.237\n",
      "Extra Trees Classifier w/ Label Encoder + Natural Language Featurizer + Imputer + Select Columns Transformer:\n",
      "\tStarting cross validation\n",
      "\tFinished cross validation - mean Log Loss Binary: 0.225\n",
      "XGBoost Classifier w/ Label Encoder + Natural Language Featurizer + Imputer + Select Columns Transformer:\n",
      "\tStarting cross validation\n",
      "\tFinished cross validation - mean Log Loss Binary: 0.325\n",
      "Random Forest Classifier w/ Label Encoder + Natural Language Featurizer + Imputer + Select Columns Transformer:\n",
      "\tStarting cross validation\n",
      "\tFinished cross validation - mean Log Loss Binary: 0.236\n",
      "Extra Trees Classifier w/ Label Encoder + Natural Language Featurizer + Imputer + Select Columns Transformer:\n",
      "\tStarting cross validation\n",
      "\tFinished cross validation - mean Log Loss Binary: 0.272\n",
      "XGBoost Classifier w/ Label Encoder + Natural Language Featurizer + Imputer + Select Columns Transformer:\n",
      "\tStarting cross validation\n",
      "\tFinished cross validation - mean Log Loss Binary: 0.333\n",
      "Random Forest Classifier w/ Label Encoder + Natural Language Featurizer + Imputer + Select Columns Transformer:\n",
      "\tStarting cross validation\n",
      "\tFinished cross validation - mean Log Loss Binary: 0.288\n",
      "Extra Trees Classifier w/ Label Encoder + Natural Language Featurizer + Imputer + Select Columns Transformer:\n"
     ]
    },
    {
     "name": "stdout",
     "output_type": "stream",
     "text": [
      "\tStarting cross validation\n",
      "\tFinished cross validation - mean Log Loss Binary: 0.226\n",
      "XGBoost Classifier w/ Label Encoder + Natural Language Featurizer + Imputer + Select Columns Transformer:\n",
      "\tStarting cross validation\n",
      "\tFinished cross validation - mean Log Loss Binary: 0.287\n",
      "Random Forest Classifier w/ Label Encoder + Natural Language Featurizer + Imputer + Select Columns Transformer:\n",
      "\tStarting cross validation\n",
      "\tFinished cross validation - mean Log Loss Binary: 0.235\n",
      "Extra Trees Classifier w/ Label Encoder + Natural Language Featurizer + Imputer + Select Columns Transformer:\n",
      "\tStarting cross validation\n",
      "\tFinished cross validation - mean Log Loss Binary: 0.234\n",
      "XGBoost Classifier w/ Label Encoder + Natural Language Featurizer + Imputer + Select Columns Transformer:\n",
      "\tStarting cross validation\n",
      "\tFinished cross validation - mean Log Loss Binary: 0.308\n",
      "Random Forest Classifier w/ Label Encoder + Natural Language Featurizer + Imputer + Select Columns Transformer:\n",
      "\tStarting cross validation\n",
      "\tFinished cross validation - mean Log Loss Binary: 0.301\n",
      "Extra Trees Classifier w/ Label Encoder + Natural Language Featurizer + Imputer + Select Columns Transformer:\n",
      "\tStarting cross validation\n",
      "\tFinished cross validation - mean Log Loss Binary: 0.270\n",
      "XGBoost Classifier w/ Label Encoder + Natural Language Featurizer + Imputer + Select Columns Transformer:\n",
      "\tStarting cross validation\n",
      "\tFinished cross validation - mean Log Loss Binary: 0.288\n",
      "Random Forest Classifier w/ Label Encoder + Natural Language Featurizer + Imputer + Select Columns Transformer:\n",
      "\tStarting cross validation\n",
      "\tFinished cross validation - mean Log Loss Binary: 0.237\n",
      "Extra Trees Classifier w/ Label Encoder + Natural Language Featurizer + Imputer + Select Columns Transformer:\n",
      "\tStarting cross validation\n",
      "\tFinished cross validation - mean Log Loss Binary: 0.271\n",
      "XGBoost Classifier w/ Label Encoder + Natural Language Featurizer + Imputer + Select Columns Transformer:\n",
      "\tStarting cross validation\n",
      "\tFinished cross validation - mean Log Loss Binary: 0.314\n",
      "Random Forest Classifier w/ Label Encoder + Natural Language Featurizer + Imputer + Select Columns Transformer:\n",
      "\tStarting cross validation\n",
      "\tFinished cross validation - mean Log Loss Binary: 0.374\n",
      "Extra Trees Classifier w/ Label Encoder + Natural Language Featurizer + Imputer + Select Columns Transformer:\n",
      "\tStarting cross validation\n",
      "\tFinished cross validation - mean Log Loss Binary: 0.248\n",
      "XGBoost Classifier w/ Label Encoder + Natural Language Featurizer + Imputer + Select Columns Transformer:\n",
      "\tStarting cross validation\n",
      "\tFinished cross validation - mean Log Loss Binary: 0.331\n",
      "Random Forest Classifier w/ Label Encoder + Natural Language Featurizer + Imputer + Select Columns Transformer:\n",
      "\tStarting cross validation\n",
      "\tFinished cross validation - mean Log Loss Binary: 0.283\n",
      "Extra Trees Classifier w/ Label Encoder + Natural Language Featurizer + Imputer + Select Columns Transformer:\n",
      "\tStarting cross validation\n",
      "\tFinished cross validation - mean Log Loss Binary: 0.233\n",
      "XGBoost Classifier w/ Label Encoder + Natural Language Featurizer + Imputer + Select Columns Transformer:\n",
      "\tStarting cross validation\n",
      "\tFinished cross validation - mean Log Loss Binary: 0.274\n",
      "Random Forest Classifier w/ Label Encoder + Natural Language Featurizer + Imputer + Select Columns Transformer:\n",
      "\tStarting cross validation\n",
      "\tFinished cross validation - mean Log Loss Binary: 0.282\n",
      "Extra Trees Classifier w/ Label Encoder + Natural Language Featurizer + Imputer + Select Columns Transformer:\n",
      "\tStarting cross validation\n",
      "\tFinished cross validation - mean Log Loss Binary: 0.221\n",
      "XGBoost Classifier w/ Label Encoder + Natural Language Featurizer + Imputer + Select Columns Transformer:\n",
      "\tStarting cross validation\n",
      "\tFinished cross validation - mean Log Loss Binary: 0.329\n",
      "Random Forest Classifier w/ Label Encoder + Natural Language Featurizer + Imputer + Select Columns Transformer:\n",
      "\tStarting cross validation\n",
      "\tFinished cross validation - mean Log Loss Binary: 0.257\n",
      "Extra Trees Classifier w/ Label Encoder + Natural Language Featurizer + Imputer + Select Columns Transformer:\n",
      "\tStarting cross validation\n",
      "\tFinished cross validation - mean Log Loss Binary: 0.270\n",
      "XGBoost Classifier w/ Label Encoder + Natural Language Featurizer + Imputer + Select Columns Transformer:\n",
      "\tStarting cross validation\n",
      "\tFinished cross validation - mean Log Loss Binary: 0.333\n",
      "Random Forest Classifier w/ Label Encoder + Natural Language Featurizer + Imputer + Select Columns Transformer:\n",
      "\tStarting cross validation\n",
      "\tFinished cross validation - mean Log Loss Binary: 0.230\n",
      "Extra Trees Classifier w/ Label Encoder + Natural Language Featurizer + Imputer + Select Columns Transformer:\n",
      "\tStarting cross validation\n",
      "\tFinished cross validation - mean Log Loss Binary: 0.233\n",
      "XGBoost Classifier w/ Label Encoder + Natural Language Featurizer + Imputer + Select Columns Transformer:\n",
      "\tStarting cross validation\n",
      "\tFinished cross validation - mean Log Loss Binary: 0.271\n",
      "Random Forest Classifier w/ Label Encoder + Natural Language Featurizer + Imputer + Select Columns Transformer:\n",
      "\tStarting cross validation\n",
      "\tFinished cross validation - mean Log Loss Binary: 0.235\n",
      "Extra Trees Classifier w/ Label Encoder + Natural Language Featurizer + Imputer + Select Columns Transformer:\n",
      "\tStarting cross validation\n",
      "\tFinished cross validation - mean Log Loss Binary: 0.222\n",
      "XGBoost Classifier w/ Label Encoder + Natural Language Featurizer + Imputer + Select Columns Transformer:\n",
      "\tStarting cross validation\n",
      "\tFinished cross validation - mean Log Loss Binary: 0.327\n",
      "Random Forest Classifier w/ Label Encoder + Natural Language Featurizer + Imputer + Select Columns Transformer:\n",
      "\tStarting cross validation\n",
      "\tFinished cross validation - mean Log Loss Binary: 0.241\n",
      "Extra Trees Classifier w/ Label Encoder + Natural Language Featurizer + Imputer + Select Columns Transformer:\n",
      "\tStarting cross validation\n",
      "\tFinished cross validation - mean Log Loss Binary: 0.270\n",
      "XGBoost Classifier w/ Label Encoder + Natural Language Featurizer + Imputer + Select Columns Transformer:\n",
      "\tStarting cross validation\n",
      "\tFinished cross validation - mean Log Loss Binary: 0.301\n",
      "Random Forest Classifier w/ Label Encoder + Natural Language Featurizer + Imputer + Select Columns Transformer:\n",
      "\tStarting cross validation\n",
      "\tFinished cross validation - mean Log Loss Binary: 0.257\n",
      "Extra Trees Classifier w/ Label Encoder + Natural Language Featurizer + Imputer + Select Columns Transformer:\n",
      "\tStarting cross validation\n",
      "\tFinished cross validation - mean Log Loss Binary: 0.221\n",
      "XGBoost Classifier w/ Label Encoder + Natural Language Featurizer + Imputer + Select Columns Transformer:\n",
      "\tStarting cross validation\n",
      "\tFinished cross validation - mean Log Loss Binary: 0.343\n",
      "Random Forest Classifier w/ Label Encoder + Natural Language Featurizer + Imputer + Select Columns Transformer:\n",
      "\tStarting cross validation\n",
      "\tFinished cross validation - mean Log Loss Binary: 0.374\n",
      "Extra Trees Classifier w/ Label Encoder + Natural Language Featurizer + Imputer + Select Columns Transformer:\n",
      "\tStarting cross validation\n",
      "\tFinished cross validation - mean Log Loss Binary: 0.219\n",
      "XGBoost Classifier w/ Label Encoder + Natural Language Featurizer + Imputer + Select Columns Transformer:\n",
      "\tStarting cross validation\n",
      "\tFinished cross validation - mean Log Loss Binary: 0.320\n",
      "\n",
      "*****************************\n",
      "* Evaluating Batch Number 5 *\n",
      "*****************************\n",
      "\n",
      "Random Forest Classifier w/ Label Encoder + Natural Language Featurizer + Imputer + Select Columns Transformer:\n",
      "\tStarting cross validation\n",
      "\tFinished cross validation - mean Log Loss Binary: 0.576\n",
      "\tHigh coefficient of variation (cv >= 0.5) within cross validation scores.\n",
      "\tRandom Forest Classifier w/ Label Encoder + Natural Language Featurizer + Imputer + Select Columns Transformer may not perform as estimated on unseen data.\n",
      "Extra Trees Classifier w/ Label Encoder + Natural Language Featurizer + Imputer + Select Columns Transformer:\n",
      "\tStarting cross validation\n",
      "\tFinished cross validation - mean Log Loss Binary: 0.216\n",
      "XGBoost Classifier w/ Label Encoder + Natural Language Featurizer + Imputer + Select Columns Transformer:\n",
      "\tStarting cross validation\n",
      "\tFinished cross validation - mean Log Loss Binary: 0.268\n",
      "Random Forest Classifier w/ Label Encoder + Natural Language Featurizer + Imputer + Select Columns Transformer:\n"
     ]
    },
    {
     "name": "stdout",
     "output_type": "stream",
     "text": [
      "\tStarting cross validation\n",
      "\tFinished cross validation - mean Log Loss Binary: 0.576\n",
      "\tHigh coefficient of variation (cv >= 0.5) within cross validation scores.\n",
      "\tRandom Forest Classifier w/ Label Encoder + Natural Language Featurizer + Imputer + Select Columns Transformer may not perform as estimated on unseen data.\n",
      "Extra Trees Classifier w/ Label Encoder + Natural Language Featurizer + Imputer + Select Columns Transformer:\n",
      "\tStarting cross validation\n",
      "\tFinished cross validation - mean Log Loss Binary: 0.216\n",
      "XGBoost Classifier w/ Label Encoder + Natural Language Featurizer + Imputer + Select Columns Transformer:\n",
      "\tStarting cross validation\n",
      "\tFinished cross validation - mean Log Loss Binary: 0.268\n",
      "Random Forest Classifier w/ Label Encoder + Natural Language Featurizer + Imputer + Select Columns Transformer:\n",
      "\tStarting cross validation\n",
      "\tFinished cross validation - mean Log Loss Binary: 0.576\n",
      "\tHigh coefficient of variation (cv >= 0.5) within cross validation scores.\n",
      "\tRandom Forest Classifier w/ Label Encoder + Natural Language Featurizer + Imputer + Select Columns Transformer may not perform as estimated on unseen data.\n",
      "Extra Trees Classifier w/ Label Encoder + Natural Language Featurizer + Imputer + Select Columns Transformer:\n",
      "\tStarting cross validation\n",
      "\tFinished cross validation - mean Log Loss Binary: 0.216\n",
      "XGBoost Classifier w/ Label Encoder + Natural Language Featurizer + Imputer + Select Columns Transformer:\n",
      "\tStarting cross validation\n",
      "\tFinished cross validation - mean Log Loss Binary: 0.268\n",
      "Random Forest Classifier w/ Label Encoder + Natural Language Featurizer + Imputer + Select Columns Transformer:\n",
      "\tStarting cross validation\n",
      "\tFinished cross validation - mean Log Loss Binary: 0.576\n",
      "\tHigh coefficient of variation (cv >= 0.5) within cross validation scores.\n",
      "\tRandom Forest Classifier w/ Label Encoder + Natural Language Featurizer + Imputer + Select Columns Transformer may not perform as estimated on unseen data.\n",
      "Extra Trees Classifier w/ Label Encoder + Natural Language Featurizer + Imputer + Select Columns Transformer:\n",
      "\tStarting cross validation\n",
      "\tFinished cross validation - mean Log Loss Binary: 0.216\n",
      "XGBoost Classifier w/ Label Encoder + Natural Language Featurizer + Imputer + Select Columns Transformer:\n",
      "\tStarting cross validation\n",
      "\tFinished cross validation - mean Log Loss Binary: 0.268\n",
      "Random Forest Classifier w/ Label Encoder + Natural Language Featurizer + Imputer + Select Columns Transformer:\n",
      "\tStarting cross validation\n",
      "\tFinished cross validation - mean Log Loss Binary: 0.576\n",
      "\tHigh coefficient of variation (cv >= 0.5) within cross validation scores.\n",
      "\tRandom Forest Classifier w/ Label Encoder + Natural Language Featurizer + Imputer + Select Columns Transformer may not perform as estimated on unseen data.\n",
      "Extra Trees Classifier w/ Label Encoder + Natural Language Featurizer + Imputer + Select Columns Transformer:\n",
      "\tStarting cross validation\n",
      "\tFinished cross validation - mean Log Loss Binary: 0.216\n",
      "XGBoost Classifier w/ Label Encoder + Natural Language Featurizer + Imputer + Select Columns Transformer:\n",
      "\tStarting cross validation\n",
      "\tFinished cross validation - mean Log Loss Binary: 0.268\n",
      "Random Forest Classifier w/ Label Encoder + Natural Language Featurizer + Imputer + Select Columns Transformer:\n",
      "\tStarting cross validation\n",
      "\tFinished cross validation - mean Log Loss Binary: 0.576\n",
      "\tHigh coefficient of variation (cv >= 0.5) within cross validation scores.\n",
      "\tRandom Forest Classifier w/ Label Encoder + Natural Language Featurizer + Imputer + Select Columns Transformer may not perform as estimated on unseen data.\n",
      "Extra Trees Classifier w/ Label Encoder + Natural Language Featurizer + Imputer + Select Columns Transformer:\n",
      "\tStarting cross validation\n",
      "\tFinished cross validation - mean Log Loss Binary: 0.216\n",
      "XGBoost Classifier w/ Label Encoder + Natural Language Featurizer + Imputer + Select Columns Transformer:\n",
      "\tStarting cross validation\n",
      "\tFinished cross validation - mean Log Loss Binary: 0.268\n",
      "Random Forest Classifier w/ Label Encoder + Natural Language Featurizer + Imputer + Select Columns Transformer:\n",
      "\tStarting cross validation\n",
      "\tFinished cross validation - mean Log Loss Binary: 0.576\n",
      "\tHigh coefficient of variation (cv >= 0.5) within cross validation scores.\n",
      "\tRandom Forest Classifier w/ Label Encoder + Natural Language Featurizer + Imputer + Select Columns Transformer may not perform as estimated on unseen data.\n",
      "Extra Trees Classifier w/ Label Encoder + Natural Language Featurizer + Imputer + Select Columns Transformer:\n",
      "\tStarting cross validation\n",
      "\tFinished cross validation - mean Log Loss Binary: 0.216\n",
      "XGBoost Classifier w/ Label Encoder + Natural Language Featurizer + Imputer + Select Columns Transformer:\n",
      "\tStarting cross validation\n",
      "\tFinished cross validation - mean Log Loss Binary: 0.268\n",
      "Random Forest Classifier w/ Label Encoder + Natural Language Featurizer + Imputer + Select Columns Transformer:\n",
      "\tStarting cross validation\n",
      "\tFinished cross validation - mean Log Loss Binary: 0.576\n",
      "\tHigh coefficient of variation (cv >= 0.5) within cross validation scores.\n",
      "\tRandom Forest Classifier w/ Label Encoder + Natural Language Featurizer + Imputer + Select Columns Transformer may not perform as estimated on unseen data.\n",
      "Extra Trees Classifier w/ Label Encoder + Natural Language Featurizer + Imputer + Select Columns Transformer:\n",
      "\tStarting cross validation\n",
      "\tFinished cross validation - mean Log Loss Binary: 0.216\n",
      "XGBoost Classifier w/ Label Encoder + Natural Language Featurizer + Imputer + Select Columns Transformer:\n",
      "\tStarting cross validation\n",
      "\tFinished cross validation - mean Log Loss Binary: 0.268\n",
      "Random Forest Classifier w/ Label Encoder + Natural Language Featurizer + Imputer + Select Columns Transformer:\n",
      "\tStarting cross validation\n",
      "\tFinished cross validation - mean Log Loss Binary: 0.576\n",
      "\tHigh coefficient of variation (cv >= 0.5) within cross validation scores.\n",
      "\tRandom Forest Classifier w/ Label Encoder + Natural Language Featurizer + Imputer + Select Columns Transformer may not perform as estimated on unseen data.\n",
      "Extra Trees Classifier w/ Label Encoder + Natural Language Featurizer + Imputer + Select Columns Transformer:\n",
      "\tStarting cross validation\n",
      "\tFinished cross validation - mean Log Loss Binary: 0.216\n",
      "XGBoost Classifier w/ Label Encoder + Natural Language Featurizer + Imputer + Select Columns Transformer:\n",
      "\tStarting cross validation\n",
      "\tFinished cross validation - mean Log Loss Binary: 0.268\n",
      "Random Forest Classifier w/ Label Encoder + Natural Language Featurizer + Imputer + Select Columns Transformer:\n",
      "\tStarting cross validation\n",
      "\tFinished cross validation - mean Log Loss Binary: 0.576\n",
      "\tHigh coefficient of variation (cv >= 0.5) within cross validation scores.\n",
      "\tRandom Forest Classifier w/ Label Encoder + Natural Language Featurizer + Imputer + Select Columns Transformer may not perform as estimated on unseen data.\n",
      "Extra Trees Classifier w/ Label Encoder + Natural Language Featurizer + Imputer + Select Columns Transformer:\n",
      "\tStarting cross validation\n",
      "\tFinished cross validation - mean Log Loss Binary: 0.216\n",
      "XGBoost Classifier w/ Label Encoder + Natural Language Featurizer + Imputer + Select Columns Transformer:\n",
      "\tStarting cross validation\n",
      "\tFinished cross validation - mean Log Loss Binary: 0.268\n",
      "\n",
      "Search finished after 1213.50 seconds  \n",
      "Best pipeline: Random Forest Classifier w/ Label Encoder + Natural Language Featurizer + Imputer\n",
      "Best pipeline Log Loss Binary: 0.212470\n"
     ]
    },
    {
     "data": {
      "application/vnd.plotly.v1+json": {
       "config": {
        "plotlyServerURL": "https://plot.ly"
       },
       "data": [
        {
         "mode": "lines+markers",
         "name": "Best Score",
         "type": "scatter",
         "uid": "34e5f3b2-8a42-41d4-b30c-9d9b9db956bd",
         "x": [
          0,
          1,
          2,
          3,
          4,
          5,
          6,
          7,
          8,
          9,
          10,
          11,
          12,
          13,
          14,
          15,
          16,
          17,
          18,
          19,
          20,
          21,
          22,
          23,
          24,
          25,
          26,
          27,
          28,
          29,
          30,
          31,
          32,
          33,
          34,
          35,
          36,
          37,
          38,
          39,
          40,
          41,
          42,
          43,
          44,
          45,
          46,
          47,
          48,
          49,
          50,
          51,
          52,
          53,
          54,
          55,
          56,
          57,
          58,
          59,
          60,
          61,
          62,
          63,
          64,
          65,
          66,
          67,
          68,
          69,
          70,
          71,
          72,
          73,
          74,
          75,
          76,
          77,
          78,
          79,
          80,
          81,
          82,
          83,
          84,
          85,
          86,
          87,
          88,
          89,
          90,
          91,
          92,
          93,
          94,
          95,
          96,
          97,
          98,
          99,
          100,
          101,
          102,
          103,
          104,
          105,
          106,
          107,
          108,
          109,
          110,
          111,
          112,
          113,
          114,
          115,
          116,
          117,
          118,
          119,
          120,
          121,
          122,
          123,
          124,
          125,
          126,
          127,
          128,
          129,
          130,
          131,
          132,
          133,
          134,
          135,
          136,
          137,
          138,
          139,
          140,
          141,
          142,
          143,
          144,
          145,
          146,
          147,
          148,
          149,
          150,
          151,
          152,
          153,
          154,
          155,
          156,
          157,
          158,
          159,
          160,
          161,
          162,
          163,
          164,
          165,
          166,
          167,
          168,
          169,
          170,
          171,
          172,
          173,
          174,
          175,
          176,
          177,
          178,
          179,
          180,
          181,
          182,
          183,
          184,
          185,
          186,
          187,
          188,
          189
         ],
         "y": [
          14.657752378240973,
          0.21247020132164773,
          0.21247020132164773,
          0.21247020132164773,
          0.21247020132164773,
          0.21247020132164773,
          0.21247020132164773,
          0.21247020132164773,
          0.21247020132164773,
          0.21247020132164773,
          0.21247020132164773,
          0.21247020132164773,
          0.21247020132164773,
          0.21247020132164773,
          0.21247020132164773,
          0.21247020132164773,
          0.21247020132164773,
          0.21247020132164773,
          0.21247020132164773,
          0.21247020132164773,
          0.21247020132164773,
          0.21247020132164773,
          0.21247020132164773,
          0.21247020132164773,
          0.21247020132164773,
          0.21247020132164773,
          0.21247020132164773,
          0.21247020132164773,
          0.21247020132164773,
          0.21247020132164773,
          0.21247020132164773,
          0.21247020132164773,
          0.21247020132164773,
          0.21247020132164773,
          0.21247020132164773,
          0.21247020132164773,
          0.21247020132164773,
          0.21247020132164773,
          0.21247020132164773,
          0.21247020132164773,
          0.21247020132164773,
          0.21247020132164773,
          0.21247020132164773,
          0.21247020132164773,
          0.21247020132164773,
          0.21247020132164773,
          0.21247020132164773,
          0.21247020132164773,
          0.21247020132164773,
          0.21247020132164773,
          0.21247020132164773,
          0.21247020132164773,
          0.21247020132164773,
          0.21247020132164773,
          0.21247020132164773,
          0.21247020132164773,
          0.21247020132164773,
          0.21247020132164773,
          0.21247020132164773,
          0.21247020132164773,
          0.21247020132164773,
          0.21247020132164773,
          0.21247020132164773,
          0.21247020132164773,
          0.21247020132164773,
          0.21247020132164773,
          0.21247020132164773,
          0.21247020132164773,
          0.21247020132164773,
          0.21247020132164773,
          0.21247020132164773,
          0.21247020132164773,
          0.21247020132164773,
          0.21247020132164773,
          0.21247020132164773,
          0.21247020132164773,
          0.21247020132164773,
          0.21247020132164773,
          0.21247020132164773,
          0.21247020132164773,
          0.21247020132164773,
          0.21247020132164773,
          0.21247020132164773,
          0.21247020132164773,
          0.21247020132164773,
          0.21247020132164773,
          0.21247020132164773,
          0.21247020132164773,
          0.21247020132164773,
          0.21247020132164773,
          0.21247020132164773,
          0.21247020132164773,
          0.21247020132164773,
          0.21247020132164773,
          0.21247020132164773,
          0.21247020132164773,
          0.21247020132164773,
          0.21247020132164773,
          0.21247020132164773,
          0.21247020132164773,
          0.21247020132164773,
          0.21247020132164773,
          0.21247020132164773,
          0.21247020132164773,
          0.21247020132164773,
          0.21247020132164773,
          0.21247020132164773,
          0.21247020132164773,
          0.21247020132164773,
          0.21247020132164773,
          0.21247020132164773,
          0.21247020132164773,
          0.21247020132164773,
          0.21247020132164773,
          0.21247020132164773,
          0.21247020132164773,
          0.21247020132164773,
          0.21247020132164773,
          0.21247020132164773,
          0.21247020132164773,
          0.21247020132164773,
          0.21247020132164773,
          0.21247020132164773,
          0.21247020132164773,
          0.21247020132164773,
          0.21247020132164773,
          0.21247020132164773,
          0.21247020132164773,
          0.21247020132164773,
          0.21247020132164773,
          0.21247020132164773,
          0.21247020132164773,
          0.21247020132164773,
          0.21247020132164773,
          0.21247020132164773,
          0.21247020132164773,
          0.21247020132164773,
          0.21247020132164773,
          0.21247020132164773,
          0.21247020132164773,
          0.21247020132164773,
          0.21247020132164773,
          0.21247020132164773,
          0.21247020132164773,
          0.21247020132164773,
          0.21247020132164773,
          0.21247020132164773,
          0.21247020132164773,
          0.21247020132164773,
          0.21247020132164773,
          0.21247020132164773,
          0.21247020132164773,
          0.21247020132164773,
          0.21247020132164773,
          0.21247020132164773,
          0.21247020132164773,
          0.21247020132164773,
          0.21247020132164773,
          0.21247020132164773,
          0.21247020132164773,
          0.21247020132164773,
          0.21247020132164773,
          0.21247020132164773,
          0.21247020132164773,
          0.21247020132164773,
          0.21247020132164773,
          0.21247020132164773,
          0.21247020132164773,
          0.21247020132164773,
          0.21247020132164773,
          0.21247020132164773,
          0.21247020132164773,
          0.21247020132164773,
          0.21247020132164773,
          0.21247020132164773,
          0.21247020132164773,
          0.21247020132164773,
          0.21247020132164773,
          0.21247020132164773,
          0.21247020132164773,
          0.21247020132164773,
          0.21247020132164773,
          0.21247020132164773,
          0.21247020132164773,
          0.21247020132164773,
          0.21247020132164773,
          0.21247020132164773,
          0.21247020132164773,
          0.21247020132164773,
          0.21247020132164773
         ]
        },
        {
         "marker": {
          "color": "gray"
         },
         "mode": "markers",
         "name": "Iter score",
         "type": "scatter",
         "uid": "8e04bd78-1290-422f-afcb-5cc4d36f4d5d",
         "x": [
          0,
          1,
          2,
          3,
          4,
          5,
          6,
          7,
          8,
          9,
          10,
          11,
          12,
          13,
          14,
          15,
          16,
          17,
          18,
          19,
          20,
          21,
          22,
          23,
          24,
          25,
          26,
          27,
          28,
          29,
          30,
          31,
          32,
          33,
          34,
          35,
          36,
          37,
          38,
          39,
          40,
          41,
          42,
          43,
          44,
          45,
          46,
          47,
          48,
          49,
          50,
          51,
          52,
          53,
          54,
          55,
          56,
          57,
          58,
          59,
          60,
          61,
          62,
          63,
          64,
          65,
          66,
          67,
          68,
          69,
          70,
          71,
          72,
          73,
          74,
          75,
          76,
          77,
          78,
          79,
          80,
          81,
          82,
          83,
          84,
          85,
          86,
          87,
          88,
          89,
          90,
          91,
          92,
          93,
          94,
          95,
          96,
          97,
          98,
          99,
          100,
          101,
          102,
          103,
          104,
          105,
          106,
          107,
          108,
          109,
          110,
          111,
          112,
          113,
          114,
          115,
          116,
          117,
          118,
          119,
          120,
          121,
          122,
          123,
          124,
          125,
          126,
          127,
          128,
          129,
          130,
          131,
          132,
          133,
          134,
          135,
          136,
          137,
          138,
          139,
          140,
          141,
          142,
          143,
          144,
          145,
          146,
          147,
          148,
          149,
          150,
          151,
          152,
          153,
          154,
          155,
          156,
          157,
          158,
          159,
          160,
          161,
          162,
          163,
          164,
          165,
          166,
          167,
          168,
          169,
          170,
          171,
          172,
          173,
          174,
          175,
          176,
          177,
          178,
          179,
          180,
          181,
          182,
          183,
          184,
          185,
          186,
          187,
          188,
          189
         ],
         "y": [
          14.657752378240973,
          0.21247020132164773,
          0.24876282485184062,
          3.1877384029268208,
          0.3220420992857434,
          0.24903855223211022,
          0.3690008193180734,
          0.5778293287202546,
          0.2875482696014146,
          0.3691054000584808,
          0.23215777715790198,
          0.22098988652793006,
          0.33088296024866476,
          0.23447919521984018,
          0.21994988299624482,
          0.3041720472504238,
          0.285382058031652,
          0.27019775566660315,
          0.2957340842397316,
          0.23945172606388873,
          0.2481643709528477,
          0.28807337134289585,
          0.25628342752040373,
          0.30375111556238366,
          0.3093662285562672,
          0.28305581381228634,
          0.2344265978276366,
          0.2735099299062235,
          0.23440610064051573,
          0.21947984039059554,
          0.2973685958302148,
          0.2645196230598142,
          0.24925535593455048,
          0.2887742333486096,
          0.23416873287316772,
          0.23021066195101716,
          0.3730832182770623,
          0.23539901861852108,
          0.24874003852640272,
          0.2985290888016988,
          0.23665633724037885,
          0.22592598737871758,
          0.2725091333111434,
          0.23286579019905104,
          0.2200390919973386,
          0.27880673101275366,
          0.23406402463830153,
          0.22152978510753044,
          0.3341362262328684,
          0.2856791216614954,
          0.24804463785733732,
          0.30901101274577303,
          0.23224702593642657,
          0.24936648954555407,
          0.5433950546975639,
          0.23146414538023505,
          0.23362810256291247,
          0.31015384043941635,
          0.23964448696219107,
          0.23381570083786637,
          0.3306009655182888,
          0.374475679013159,
          0.23316455182754478,
          0.31261403691331496,
          0.25703554547043833,
          0.24811525701903658,
          0.28130128710626323,
          0.25684093163632,
          0.23417232237719296,
          0.31527269836118804,
          0.23519407499927372,
          0.3019012628258802,
          0.3444378316485078,
          0.2568165862189724,
          0.22591297260644186,
          0.2893971728796039,
          0.23869603056271615,
          0.30126118960967346,
          0.2844909745107428,
          0.2569801751626238,
          0.21989255007209518,
          0.27910901862099635,
          0.28299015951560486,
          0.2718131373391082,
          0.27518907831567496,
          0.23816255198461475,
          0.2497621700256484,
          0.34309541565184315,
          0.23692778207298967,
          0.21911750927223003,
          0.30397375280997113,
          0.2340815549725501,
          0.21967964205288845,
          0.3360351949416979,
          0.2395167271381803,
          0.3017271102631747,
          0.31655333100930255,
          0.23983256785991655,
          0.24883852174691093,
          0.30953801695881084,
          0.23420657384318497,
          0.21982661009255458,
          0.3384956033721153,
          0.2848461529163872,
          0.2479947840989419,
          0.35372865130519154,
          0.2434763610747488,
          0.22158390458555058,
          0.36595417663716856,
          0.2384985837755138,
          0.23250974462721055,
          0.3042437592972386,
          0.3974220549993687,
          0.30307039388376295,
          0.29179584077959914,
          0.23661818919137745,
          0.2249778011272415,
          0.32490211302803823,
          0.2359450323422836,
          0.27205607964505535,
          0.333113801255891,
          0.2879860504517417,
          0.22575407138084444,
          0.2872808673819643,
          0.23520657322564167,
          0.23371431504609638,
          0.3078424098357248,
          0.3007908228867815,
          0.27036161364869576,
          0.2879718226901097,
          0.2368056485060559,
          0.2705582175735671,
          0.3139626458978049,
          0.37432538004353383,
          0.24795320737438128,
          0.33085759816067206,
          0.282699123167983,
          0.2333260984733666,
          0.27376596210337484,
          0.2815427818897139,
          0.22131354691719193,
          0.3290758495717647,
          0.25708262807147436,
          0.2702444050952471,
          0.3329228955624112,
          0.22970835809274073,
          0.23349118365768715,
          0.271463521713818,
          0.23529905603807832,
          0.22171864430554655,
          0.32705848216457895,
          0.24149347917138245,
          0.27047737935497573,
          0.30128382762113,
          0.25691659926592014,
          0.2211781213955448,
          0.3432622870319793,
          0.3744417844624052,
          0.21946285052426914,
          0.319593376277509,
          0.5758323172239629,
          0.2158109646145053,
          0.26791965995721473,
          0.5758323172239629,
          0.2158109646145053,
          0.26791965995721473,
          0.5758323172239629,
          0.2158109646145053,
          0.26791965995721473,
          0.5758323172239629,
          0.2158109646145053,
          0.26791965995721473,
          0.5758323172239629,
          0.2158109646145053,
          0.26791965995721473,
          0.5758323172239629,
          0.2158109646145053,
          0.26791965995721473,
          0.5758323172239629,
          0.2158109646145053,
          0.26791965995721473,
          0.5758323172239629,
          0.2158109646145053,
          0.26791965995721473,
          0.5758323172239629,
          0.2158109646145053,
          0.26791965995721473,
          0.5758323172239629,
          0.2158109646145053,
          0.26791965995721473
         ]
        }
       ],
       "layout": {
        "showlegend": false,
        "template": {
         "data": {
          "bar": [
           {
            "error_x": {
             "color": "#2a3f5f"
            },
            "error_y": {
             "color": "#2a3f5f"
            },
            "marker": {
             "line": {
              "color": "#E5ECF6",
              "width": 0.5
             },
             "pattern": {
              "fillmode": "overlay",
              "size": 10,
              "solidity": 0.2
             }
            },
            "type": "bar"
           }
          ],
          "barpolar": [
           {
            "marker": {
             "line": {
              "color": "#E5ECF6",
              "width": 0.5
             },
             "pattern": {
              "fillmode": "overlay",
              "size": 10,
              "solidity": 0.2
             }
            },
            "type": "barpolar"
           }
          ],
          "carpet": [
           {
            "aaxis": {
             "endlinecolor": "#2a3f5f",
             "gridcolor": "white",
             "linecolor": "white",
             "minorgridcolor": "white",
             "startlinecolor": "#2a3f5f"
            },
            "baxis": {
             "endlinecolor": "#2a3f5f",
             "gridcolor": "white",
             "linecolor": "white",
             "minorgridcolor": "white",
             "startlinecolor": "#2a3f5f"
            },
            "type": "carpet"
           }
          ],
          "choropleth": [
           {
            "colorbar": {
             "outlinewidth": 0,
             "ticks": ""
            },
            "type": "choropleth"
           }
          ],
          "contour": [
           {
            "colorbar": {
             "outlinewidth": 0,
             "ticks": ""
            },
            "colorscale": [
             [
              0,
              "#0d0887"
             ],
             [
              0.1111111111111111,
              "#46039f"
             ],
             [
              0.2222222222222222,
              "#7201a8"
             ],
             [
              0.3333333333333333,
              "#9c179e"
             ],
             [
              0.4444444444444444,
              "#bd3786"
             ],
             [
              0.5555555555555556,
              "#d8576b"
             ],
             [
              0.6666666666666666,
              "#ed7953"
             ],
             [
              0.7777777777777778,
              "#fb9f3a"
             ],
             [
              0.8888888888888888,
              "#fdca26"
             ],
             [
              1,
              "#f0f921"
             ]
            ],
            "type": "contour"
           }
          ],
          "contourcarpet": [
           {
            "colorbar": {
             "outlinewidth": 0,
             "ticks": ""
            },
            "type": "contourcarpet"
           }
          ],
          "heatmap": [
           {
            "colorbar": {
             "outlinewidth": 0,
             "ticks": ""
            },
            "colorscale": [
             [
              0,
              "#0d0887"
             ],
             [
              0.1111111111111111,
              "#46039f"
             ],
             [
              0.2222222222222222,
              "#7201a8"
             ],
             [
              0.3333333333333333,
              "#9c179e"
             ],
             [
              0.4444444444444444,
              "#bd3786"
             ],
             [
              0.5555555555555556,
              "#d8576b"
             ],
             [
              0.6666666666666666,
              "#ed7953"
             ],
             [
              0.7777777777777778,
              "#fb9f3a"
             ],
             [
              0.8888888888888888,
              "#fdca26"
             ],
             [
              1,
              "#f0f921"
             ]
            ],
            "type": "heatmap"
           }
          ],
          "heatmapgl": [
           {
            "colorbar": {
             "outlinewidth": 0,
             "ticks": ""
            },
            "colorscale": [
             [
              0,
              "#0d0887"
             ],
             [
              0.1111111111111111,
              "#46039f"
             ],
             [
              0.2222222222222222,
              "#7201a8"
             ],
             [
              0.3333333333333333,
              "#9c179e"
             ],
             [
              0.4444444444444444,
              "#bd3786"
             ],
             [
              0.5555555555555556,
              "#d8576b"
             ],
             [
              0.6666666666666666,
              "#ed7953"
             ],
             [
              0.7777777777777778,
              "#fb9f3a"
             ],
             [
              0.8888888888888888,
              "#fdca26"
             ],
             [
              1,
              "#f0f921"
             ]
            ],
            "type": "heatmapgl"
           }
          ],
          "histogram": [
           {
            "marker": {
             "pattern": {
              "fillmode": "overlay",
              "size": 10,
              "solidity": 0.2
             }
            },
            "type": "histogram"
           }
          ],
          "histogram2d": [
           {
            "colorbar": {
             "outlinewidth": 0,
             "ticks": ""
            },
            "colorscale": [
             [
              0,
              "#0d0887"
             ],
             [
              0.1111111111111111,
              "#46039f"
             ],
             [
              0.2222222222222222,
              "#7201a8"
             ],
             [
              0.3333333333333333,
              "#9c179e"
             ],
             [
              0.4444444444444444,
              "#bd3786"
             ],
             [
              0.5555555555555556,
              "#d8576b"
             ],
             [
              0.6666666666666666,
              "#ed7953"
             ],
             [
              0.7777777777777778,
              "#fb9f3a"
             ],
             [
              0.8888888888888888,
              "#fdca26"
             ],
             [
              1,
              "#f0f921"
             ]
            ],
            "type": "histogram2d"
           }
          ],
          "histogram2dcontour": [
           {
            "colorbar": {
             "outlinewidth": 0,
             "ticks": ""
            },
            "colorscale": [
             [
              0,
              "#0d0887"
             ],
             [
              0.1111111111111111,
              "#46039f"
             ],
             [
              0.2222222222222222,
              "#7201a8"
             ],
             [
              0.3333333333333333,
              "#9c179e"
             ],
             [
              0.4444444444444444,
              "#bd3786"
             ],
             [
              0.5555555555555556,
              "#d8576b"
             ],
             [
              0.6666666666666666,
              "#ed7953"
             ],
             [
              0.7777777777777778,
              "#fb9f3a"
             ],
             [
              0.8888888888888888,
              "#fdca26"
             ],
             [
              1,
              "#f0f921"
             ]
            ],
            "type": "histogram2dcontour"
           }
          ],
          "mesh3d": [
           {
            "colorbar": {
             "outlinewidth": 0,
             "ticks": ""
            },
            "type": "mesh3d"
           }
          ],
          "parcoords": [
           {
            "line": {
             "colorbar": {
              "outlinewidth": 0,
              "ticks": ""
             }
            },
            "type": "parcoords"
           }
          ],
          "pie": [
           {
            "automargin": true,
            "type": "pie"
           }
          ],
          "scatter": [
           {
            "fillpattern": {
             "fillmode": "overlay",
             "size": 10,
             "solidity": 0.2
            },
            "type": "scatter"
           }
          ],
          "scatter3d": [
           {
            "line": {
             "colorbar": {
              "outlinewidth": 0,
              "ticks": ""
             }
            },
            "marker": {
             "colorbar": {
              "outlinewidth": 0,
              "ticks": ""
             }
            },
            "type": "scatter3d"
           }
          ],
          "scattercarpet": [
           {
            "marker": {
             "colorbar": {
              "outlinewidth": 0,
              "ticks": ""
             }
            },
            "type": "scattercarpet"
           }
          ],
          "scattergeo": [
           {
            "marker": {
             "colorbar": {
              "outlinewidth": 0,
              "ticks": ""
             }
            },
            "type": "scattergeo"
           }
          ],
          "scattergl": [
           {
            "marker": {
             "colorbar": {
              "outlinewidth": 0,
              "ticks": ""
             }
            },
            "type": "scattergl"
           }
          ],
          "scattermapbox": [
           {
            "marker": {
             "colorbar": {
              "outlinewidth": 0,
              "ticks": ""
             }
            },
            "type": "scattermapbox"
           }
          ],
          "scatterpolar": [
           {
            "marker": {
             "colorbar": {
              "outlinewidth": 0,
              "ticks": ""
             }
            },
            "type": "scatterpolar"
           }
          ],
          "scatterpolargl": [
           {
            "marker": {
             "colorbar": {
              "outlinewidth": 0,
              "ticks": ""
             }
            },
            "type": "scatterpolargl"
           }
          ],
          "scatterternary": [
           {
            "marker": {
             "colorbar": {
              "outlinewidth": 0,
              "ticks": ""
             }
            },
            "type": "scatterternary"
           }
          ],
          "surface": [
           {
            "colorbar": {
             "outlinewidth": 0,
             "ticks": ""
            },
            "colorscale": [
             [
              0,
              "#0d0887"
             ],
             [
              0.1111111111111111,
              "#46039f"
             ],
             [
              0.2222222222222222,
              "#7201a8"
             ],
             [
              0.3333333333333333,
              "#9c179e"
             ],
             [
              0.4444444444444444,
              "#bd3786"
             ],
             [
              0.5555555555555556,
              "#d8576b"
             ],
             [
              0.6666666666666666,
              "#ed7953"
             ],
             [
              0.7777777777777778,
              "#fb9f3a"
             ],
             [
              0.8888888888888888,
              "#fdca26"
             ],
             [
              1,
              "#f0f921"
             ]
            ],
            "type": "surface"
           }
          ],
          "table": [
           {
            "cells": {
             "fill": {
              "color": "#EBF0F8"
             },
             "line": {
              "color": "white"
             }
            },
            "header": {
             "fill": {
              "color": "#C8D4E3"
             },
             "line": {
              "color": "white"
             }
            },
            "type": "table"
           }
          ]
         },
         "layout": {
          "annotationdefaults": {
           "arrowcolor": "#2a3f5f",
           "arrowhead": 0,
           "arrowwidth": 1
          },
          "autotypenumbers": "strict",
          "coloraxis": {
           "colorbar": {
            "outlinewidth": 0,
            "ticks": ""
           }
          },
          "colorscale": {
           "diverging": [
            [
             0,
             "#8e0152"
            ],
            [
             0.1,
             "#c51b7d"
            ],
            [
             0.2,
             "#de77ae"
            ],
            [
             0.3,
             "#f1b6da"
            ],
            [
             0.4,
             "#fde0ef"
            ],
            [
             0.5,
             "#f7f7f7"
            ],
            [
             0.6,
             "#e6f5d0"
            ],
            [
             0.7,
             "#b8e186"
            ],
            [
             0.8,
             "#7fbc41"
            ],
            [
             0.9,
             "#4d9221"
            ],
            [
             1,
             "#276419"
            ]
           ],
           "sequential": [
            [
             0,
             "#0d0887"
            ],
            [
             0.1111111111111111,
             "#46039f"
            ],
            [
             0.2222222222222222,
             "#7201a8"
            ],
            [
             0.3333333333333333,
             "#9c179e"
            ],
            [
             0.4444444444444444,
             "#bd3786"
            ],
            [
             0.5555555555555556,
             "#d8576b"
            ],
            [
             0.6666666666666666,
             "#ed7953"
            ],
            [
             0.7777777777777778,
             "#fb9f3a"
            ],
            [
             0.8888888888888888,
             "#fdca26"
            ],
            [
             1,
             "#f0f921"
            ]
           ],
           "sequentialminus": [
            [
             0,
             "#0d0887"
            ],
            [
             0.1111111111111111,
             "#46039f"
            ],
            [
             0.2222222222222222,
             "#7201a8"
            ],
            [
             0.3333333333333333,
             "#9c179e"
            ],
            [
             0.4444444444444444,
             "#bd3786"
            ],
            [
             0.5555555555555556,
             "#d8576b"
            ],
            [
             0.6666666666666666,
             "#ed7953"
            ],
            [
             0.7777777777777778,
             "#fb9f3a"
            ],
            [
             0.8888888888888888,
             "#fdca26"
            ],
            [
             1,
             "#f0f921"
            ]
           ]
          },
          "colorway": [
           "#636efa",
           "#EF553B",
           "#00cc96",
           "#ab63fa",
           "#FFA15A",
           "#19d3f3",
           "#FF6692",
           "#B6E880",
           "#FF97FF",
           "#FECB52"
          ],
          "font": {
           "color": "#2a3f5f"
          },
          "geo": {
           "bgcolor": "white",
           "lakecolor": "white",
           "landcolor": "#E5ECF6",
           "showlakes": true,
           "showland": true,
           "subunitcolor": "white"
          },
          "hoverlabel": {
           "align": "left"
          },
          "hovermode": "closest",
          "mapbox": {
           "style": "light"
          },
          "paper_bgcolor": "white",
          "plot_bgcolor": "#E5ECF6",
          "polar": {
           "angularaxis": {
            "gridcolor": "white",
            "linecolor": "white",
            "ticks": ""
           },
           "bgcolor": "#E5ECF6",
           "radialaxis": {
            "gridcolor": "white",
            "linecolor": "white",
            "ticks": ""
           }
          },
          "scene": {
           "xaxis": {
            "backgroundcolor": "#E5ECF6",
            "gridcolor": "white",
            "gridwidth": 2,
            "linecolor": "white",
            "showbackground": true,
            "ticks": "",
            "zerolinecolor": "white"
           },
           "yaxis": {
            "backgroundcolor": "#E5ECF6",
            "gridcolor": "white",
            "gridwidth": 2,
            "linecolor": "white",
            "showbackground": true,
            "ticks": "",
            "zerolinecolor": "white"
           },
           "zaxis": {
            "backgroundcolor": "#E5ECF6",
            "gridcolor": "white",
            "gridwidth": 2,
            "linecolor": "white",
            "showbackground": true,
            "ticks": "",
            "zerolinecolor": "white"
           }
          },
          "shapedefaults": {
           "line": {
            "color": "#2a3f5f"
           }
          },
          "ternary": {
           "aaxis": {
            "gridcolor": "white",
            "linecolor": "white",
            "ticks": ""
           },
           "baxis": {
            "gridcolor": "white",
            "linecolor": "white",
            "ticks": ""
           },
           "bgcolor": "#E5ECF6",
           "caxis": {
            "gridcolor": "white",
            "linecolor": "white",
            "ticks": ""
           }
          },
          "title": {
           "x": 0.05
          },
          "xaxis": {
           "automargin": true,
           "gridcolor": "white",
           "linecolor": "white",
           "ticks": "",
           "title": {
            "standoff": 15
           },
           "zerolinecolor": "white",
           "zerolinewidth": 2
          },
          "yaxis": {
           "automargin": true,
           "gridcolor": "white",
           "linecolor": "white",
           "ticks": "",
           "title": {
            "standoff": 15
           },
           "zerolinecolor": "white",
           "zerolinewidth": 2
          }
         }
        },
        "title": {
         "text": "Pipeline Search: Iteration vs. Log Loss Binary<br><sub>Gray marker indicates the score at current iteration</sub>"
        },
        "xaxis": {
         "rangemode": "tozero",
         "title": {
          "text": "Iteration"
         }
        },
        "yaxis": {
         "title": {
          "text": "Validation Score"
         }
        }
       }
      },
      "text/html": [
       "<div>                            <div id=\"bc727009-3602-48a4-91d4-ab49e1756e82\" class=\"plotly-graph-div\" style=\"height:525px; width:100%;\"></div>            <script type=\"text/javascript\">                require([\"plotly\"], function(Plotly) {                    window.PLOTLYENV=window.PLOTLYENV || {};                                    if (document.getElementById(\"bc727009-3602-48a4-91d4-ab49e1756e82\")) {                    Plotly.newPlot(                        \"bc727009-3602-48a4-91d4-ab49e1756e82\",                        [{\"mode\":\"lines+markers\",\"name\":\"Best Score\",\"uid\":\"34e5f3b2-8a42-41d4-b30c-9d9b9db956bd\",\"x\":[0,1,2,3,4,5,6,7,8,9,10,11,12,13,14,15,16,17,18,19,20,21,22,23,24,25,26,27,28,29,30,31,32,33,34,35,36,37,38,39,40,41,42,43,44,45,46,47,48,49,50,51,52,53,54,55,56,57,58,59,60,61,62,63,64,65,66,67,68,69,70,71,72,73,74,75,76,77,78,79,80,81,82,83,84,85,86,87,88,89,90,91,92,93,94,95,96,97,98,99,100,101,102,103,104,105,106,107,108,109,110,111,112,113,114,115,116,117,118,119,120,121,122,123,124,125,126,127,128,129,130,131,132,133,134,135,136,137,138,139,140,141,142,143,144,145,146,147,148,149,150,151,152,153,154,155,156,157,158,159,160,161,162,163,164,165,166,167,168,169,170,171,172,173,174,175,176,177,178,179,180,181,182,183,184,185,186,187,188,189],\"y\":[14.657752378240973,0.21247020132164773,0.21247020132164773,0.21247020132164773,0.21247020132164773,0.21247020132164773,0.21247020132164773,0.21247020132164773,0.21247020132164773,0.21247020132164773,0.21247020132164773,0.21247020132164773,0.21247020132164773,0.21247020132164773,0.21247020132164773,0.21247020132164773,0.21247020132164773,0.21247020132164773,0.21247020132164773,0.21247020132164773,0.21247020132164773,0.21247020132164773,0.21247020132164773,0.21247020132164773,0.21247020132164773,0.21247020132164773,0.21247020132164773,0.21247020132164773,0.21247020132164773,0.21247020132164773,0.21247020132164773,0.21247020132164773,0.21247020132164773,0.21247020132164773,0.21247020132164773,0.21247020132164773,0.21247020132164773,0.21247020132164773,0.21247020132164773,0.21247020132164773,0.21247020132164773,0.21247020132164773,0.21247020132164773,0.21247020132164773,0.21247020132164773,0.21247020132164773,0.21247020132164773,0.21247020132164773,0.21247020132164773,0.21247020132164773,0.21247020132164773,0.21247020132164773,0.21247020132164773,0.21247020132164773,0.21247020132164773,0.21247020132164773,0.21247020132164773,0.21247020132164773,0.21247020132164773,0.21247020132164773,0.21247020132164773,0.21247020132164773,0.21247020132164773,0.21247020132164773,0.21247020132164773,0.21247020132164773,0.21247020132164773,0.21247020132164773,0.21247020132164773,0.21247020132164773,0.21247020132164773,0.21247020132164773,0.21247020132164773,0.21247020132164773,0.21247020132164773,0.21247020132164773,0.21247020132164773,0.21247020132164773,0.21247020132164773,0.21247020132164773,0.21247020132164773,0.21247020132164773,0.21247020132164773,0.21247020132164773,0.21247020132164773,0.21247020132164773,0.21247020132164773,0.21247020132164773,0.21247020132164773,0.21247020132164773,0.21247020132164773,0.21247020132164773,0.21247020132164773,0.21247020132164773,0.21247020132164773,0.21247020132164773,0.21247020132164773,0.21247020132164773,0.21247020132164773,0.21247020132164773,0.21247020132164773,0.21247020132164773,0.21247020132164773,0.21247020132164773,0.21247020132164773,0.21247020132164773,0.21247020132164773,0.21247020132164773,0.21247020132164773,0.21247020132164773,0.21247020132164773,0.21247020132164773,0.21247020132164773,0.21247020132164773,0.21247020132164773,0.21247020132164773,0.21247020132164773,0.21247020132164773,0.21247020132164773,0.21247020132164773,0.21247020132164773,0.21247020132164773,0.21247020132164773,0.21247020132164773,0.21247020132164773,0.21247020132164773,0.21247020132164773,0.21247020132164773,0.21247020132164773,0.21247020132164773,0.21247020132164773,0.21247020132164773,0.21247020132164773,0.21247020132164773,0.21247020132164773,0.21247020132164773,0.21247020132164773,0.21247020132164773,0.21247020132164773,0.21247020132164773,0.21247020132164773,0.21247020132164773,0.21247020132164773,0.21247020132164773,0.21247020132164773,0.21247020132164773,0.21247020132164773,0.21247020132164773,0.21247020132164773,0.21247020132164773,0.21247020132164773,0.21247020132164773,0.21247020132164773,0.21247020132164773,0.21247020132164773,0.21247020132164773,0.21247020132164773,0.21247020132164773,0.21247020132164773,0.21247020132164773,0.21247020132164773,0.21247020132164773,0.21247020132164773,0.21247020132164773,0.21247020132164773,0.21247020132164773,0.21247020132164773,0.21247020132164773,0.21247020132164773,0.21247020132164773,0.21247020132164773,0.21247020132164773,0.21247020132164773,0.21247020132164773,0.21247020132164773,0.21247020132164773,0.21247020132164773,0.21247020132164773,0.21247020132164773,0.21247020132164773,0.21247020132164773,0.21247020132164773,0.21247020132164773,0.21247020132164773,0.21247020132164773,0.21247020132164773,0.21247020132164773,0.21247020132164773,0.21247020132164773,0.21247020132164773],\"type\":\"scatter\"},{\"marker\":{\"color\":\"gray\"},\"mode\":\"markers\",\"name\":\"Iter score\",\"uid\":\"8e04bd78-1290-422f-afcb-5cc4d36f4d5d\",\"x\":[0,1,2,3,4,5,6,7,8,9,10,11,12,13,14,15,16,17,18,19,20,21,22,23,24,25,26,27,28,29,30,31,32,33,34,35,36,37,38,39,40,41,42,43,44,45,46,47,48,49,50,51,52,53,54,55,56,57,58,59,60,61,62,63,64,65,66,67,68,69,70,71,72,73,74,75,76,77,78,79,80,81,82,83,84,85,86,87,88,89,90,91,92,93,94,95,96,97,98,99,100,101,102,103,104,105,106,107,108,109,110,111,112,113,114,115,116,117,118,119,120,121,122,123,124,125,126,127,128,129,130,131,132,133,134,135,136,137,138,139,140,141,142,143,144,145,146,147,148,149,150,151,152,153,154,155,156,157,158,159,160,161,162,163,164,165,166,167,168,169,170,171,172,173,174,175,176,177,178,179,180,181,182,183,184,185,186,187,188,189],\"y\":[14.657752378240973,0.21247020132164773,0.24876282485184062,3.1877384029268208,0.3220420992857434,0.24903855223211022,0.3690008193180734,0.5778293287202546,0.2875482696014146,0.3691054000584808,0.23215777715790198,0.22098988652793006,0.33088296024866476,0.23447919521984018,0.21994988299624482,0.3041720472504238,0.285382058031652,0.27019775566660315,0.2957340842397316,0.23945172606388873,0.2481643709528477,0.28807337134289585,0.25628342752040373,0.30375111556238366,0.3093662285562672,0.28305581381228634,0.2344265978276366,0.2735099299062235,0.23440610064051573,0.21947984039059554,0.2973685958302148,0.2645196230598142,0.24925535593455048,0.2887742333486096,0.23416873287316772,0.23021066195101716,0.3730832182770623,0.23539901861852108,0.24874003852640272,0.2985290888016988,0.23665633724037885,0.22592598737871758,0.2725091333111434,0.23286579019905104,0.2200390919973386,0.27880673101275366,0.23406402463830153,0.22152978510753044,0.3341362262328684,0.2856791216614954,0.24804463785733732,0.30901101274577303,0.23224702593642657,0.24936648954555407,0.5433950546975639,0.23146414538023505,0.23362810256291247,0.31015384043941635,0.23964448696219107,0.23381570083786637,0.3306009655182888,0.374475679013159,0.23316455182754478,0.31261403691331496,0.25703554547043833,0.24811525701903658,0.28130128710626323,0.25684093163632,0.23417232237719296,0.31527269836118804,0.23519407499927372,0.3019012628258802,0.3444378316485078,0.2568165862189724,0.22591297260644186,0.2893971728796039,0.23869603056271615,0.30126118960967346,0.2844909745107428,0.2569801751626238,0.21989255007209518,0.27910901862099635,0.28299015951560486,0.2718131373391082,0.27518907831567496,0.23816255198461475,0.2497621700256484,0.34309541565184315,0.23692778207298967,0.21911750927223003,0.30397375280997113,0.2340815549725501,0.21967964205288845,0.3360351949416979,0.2395167271381803,0.3017271102631747,0.31655333100930255,0.23983256785991655,0.24883852174691093,0.30953801695881084,0.23420657384318497,0.21982661009255458,0.3384956033721153,0.2848461529163872,0.2479947840989419,0.35372865130519154,0.2434763610747488,0.22158390458555058,0.36595417663716856,0.2384985837755138,0.23250974462721055,0.3042437592972386,0.3974220549993687,0.30307039388376295,0.29179584077959914,0.23661818919137745,0.2249778011272415,0.32490211302803823,0.2359450323422836,0.27205607964505535,0.333113801255891,0.2879860504517417,0.22575407138084444,0.2872808673819643,0.23520657322564167,0.23371431504609638,0.3078424098357248,0.3007908228867815,0.27036161364869576,0.2879718226901097,0.2368056485060559,0.2705582175735671,0.3139626458978049,0.37432538004353383,0.24795320737438128,0.33085759816067206,0.282699123167983,0.2333260984733666,0.27376596210337484,0.2815427818897139,0.22131354691719193,0.3290758495717647,0.25708262807147436,0.2702444050952471,0.3329228955624112,0.22970835809274073,0.23349118365768715,0.271463521713818,0.23529905603807832,0.22171864430554655,0.32705848216457895,0.24149347917138245,0.27047737935497573,0.30128382762113,0.25691659926592014,0.2211781213955448,0.3432622870319793,0.3744417844624052,0.21946285052426914,0.319593376277509,0.5758323172239629,0.2158109646145053,0.26791965995721473,0.5758323172239629,0.2158109646145053,0.26791965995721473,0.5758323172239629,0.2158109646145053,0.26791965995721473,0.5758323172239629,0.2158109646145053,0.26791965995721473,0.5758323172239629,0.2158109646145053,0.26791965995721473,0.5758323172239629,0.2158109646145053,0.26791965995721473,0.5758323172239629,0.2158109646145053,0.26791965995721473,0.5758323172239629,0.2158109646145053,0.26791965995721473,0.5758323172239629,0.2158109646145053,0.26791965995721473,0.5758323172239629,0.2158109646145053,0.26791965995721473],\"type\":\"scatter\"}],                        {\"showlegend\":false,\"template\":{\"data\":{\"barpolar\":[{\"marker\":{\"line\":{\"color\":\"#E5ECF6\",\"width\":0.5},\"pattern\":{\"fillmode\":\"overlay\",\"size\":10,\"solidity\":0.2}},\"type\":\"barpolar\"}],\"bar\":[{\"error_x\":{\"color\":\"#2a3f5f\"},\"error_y\":{\"color\":\"#2a3f5f\"},\"marker\":{\"line\":{\"color\":\"#E5ECF6\",\"width\":0.5},\"pattern\":{\"fillmode\":\"overlay\",\"size\":10,\"solidity\":0.2}},\"type\":\"bar\"}],\"carpet\":[{\"aaxis\":{\"endlinecolor\":\"#2a3f5f\",\"gridcolor\":\"white\",\"linecolor\":\"white\",\"minorgridcolor\":\"white\",\"startlinecolor\":\"#2a3f5f\"},\"baxis\":{\"endlinecolor\":\"#2a3f5f\",\"gridcolor\":\"white\",\"linecolor\":\"white\",\"minorgridcolor\":\"white\",\"startlinecolor\":\"#2a3f5f\"},\"type\":\"carpet\"}],\"choropleth\":[{\"colorbar\":{\"outlinewidth\":0,\"ticks\":\"\"},\"type\":\"choropleth\"}],\"contourcarpet\":[{\"colorbar\":{\"outlinewidth\":0,\"ticks\":\"\"},\"type\":\"contourcarpet\"}],\"contour\":[{\"colorbar\":{\"outlinewidth\":0,\"ticks\":\"\"},\"colorscale\":[[0.0,\"#0d0887\"],[0.1111111111111111,\"#46039f\"],[0.2222222222222222,\"#7201a8\"],[0.3333333333333333,\"#9c179e\"],[0.4444444444444444,\"#bd3786\"],[0.5555555555555556,\"#d8576b\"],[0.6666666666666666,\"#ed7953\"],[0.7777777777777778,\"#fb9f3a\"],[0.8888888888888888,\"#fdca26\"],[1.0,\"#f0f921\"]],\"type\":\"contour\"}],\"heatmapgl\":[{\"colorbar\":{\"outlinewidth\":0,\"ticks\":\"\"},\"colorscale\":[[0.0,\"#0d0887\"],[0.1111111111111111,\"#46039f\"],[0.2222222222222222,\"#7201a8\"],[0.3333333333333333,\"#9c179e\"],[0.4444444444444444,\"#bd3786\"],[0.5555555555555556,\"#d8576b\"],[0.6666666666666666,\"#ed7953\"],[0.7777777777777778,\"#fb9f3a\"],[0.8888888888888888,\"#fdca26\"],[1.0,\"#f0f921\"]],\"type\":\"heatmapgl\"}],\"heatmap\":[{\"colorbar\":{\"outlinewidth\":0,\"ticks\":\"\"},\"colorscale\":[[0.0,\"#0d0887\"],[0.1111111111111111,\"#46039f\"],[0.2222222222222222,\"#7201a8\"],[0.3333333333333333,\"#9c179e\"],[0.4444444444444444,\"#bd3786\"],[0.5555555555555556,\"#d8576b\"],[0.6666666666666666,\"#ed7953\"],[0.7777777777777778,\"#fb9f3a\"],[0.8888888888888888,\"#fdca26\"],[1.0,\"#f0f921\"]],\"type\":\"heatmap\"}],\"histogram2dcontour\":[{\"colorbar\":{\"outlinewidth\":0,\"ticks\":\"\"},\"colorscale\":[[0.0,\"#0d0887\"],[0.1111111111111111,\"#46039f\"],[0.2222222222222222,\"#7201a8\"],[0.3333333333333333,\"#9c179e\"],[0.4444444444444444,\"#bd3786\"],[0.5555555555555556,\"#d8576b\"],[0.6666666666666666,\"#ed7953\"],[0.7777777777777778,\"#fb9f3a\"],[0.8888888888888888,\"#fdca26\"],[1.0,\"#f0f921\"]],\"type\":\"histogram2dcontour\"}],\"histogram2d\":[{\"colorbar\":{\"outlinewidth\":0,\"ticks\":\"\"},\"colorscale\":[[0.0,\"#0d0887\"],[0.1111111111111111,\"#46039f\"],[0.2222222222222222,\"#7201a8\"],[0.3333333333333333,\"#9c179e\"],[0.4444444444444444,\"#bd3786\"],[0.5555555555555556,\"#d8576b\"],[0.6666666666666666,\"#ed7953\"],[0.7777777777777778,\"#fb9f3a\"],[0.8888888888888888,\"#fdca26\"],[1.0,\"#f0f921\"]],\"type\":\"histogram2d\"}],\"histogram\":[{\"marker\":{\"pattern\":{\"fillmode\":\"overlay\",\"size\":10,\"solidity\":0.2}},\"type\":\"histogram\"}],\"mesh3d\":[{\"colorbar\":{\"outlinewidth\":0,\"ticks\":\"\"},\"type\":\"mesh3d\"}],\"parcoords\":[{\"line\":{\"colorbar\":{\"outlinewidth\":0,\"ticks\":\"\"}},\"type\":\"parcoords\"}],\"pie\":[{\"automargin\":true,\"type\":\"pie\"}],\"scatter3d\":[{\"line\":{\"colorbar\":{\"outlinewidth\":0,\"ticks\":\"\"}},\"marker\":{\"colorbar\":{\"outlinewidth\":0,\"ticks\":\"\"}},\"type\":\"scatter3d\"}],\"scattercarpet\":[{\"marker\":{\"colorbar\":{\"outlinewidth\":0,\"ticks\":\"\"}},\"type\":\"scattercarpet\"}],\"scattergeo\":[{\"marker\":{\"colorbar\":{\"outlinewidth\":0,\"ticks\":\"\"}},\"type\":\"scattergeo\"}],\"scattergl\":[{\"marker\":{\"colorbar\":{\"outlinewidth\":0,\"ticks\":\"\"}},\"type\":\"scattergl\"}],\"scattermapbox\":[{\"marker\":{\"colorbar\":{\"outlinewidth\":0,\"ticks\":\"\"}},\"type\":\"scattermapbox\"}],\"scatterpolargl\":[{\"marker\":{\"colorbar\":{\"outlinewidth\":0,\"ticks\":\"\"}},\"type\":\"scatterpolargl\"}],\"scatterpolar\":[{\"marker\":{\"colorbar\":{\"outlinewidth\":0,\"ticks\":\"\"}},\"type\":\"scatterpolar\"}],\"scatter\":[{\"fillpattern\":{\"fillmode\":\"overlay\",\"size\":10,\"solidity\":0.2},\"type\":\"scatter\"}],\"scatterternary\":[{\"marker\":{\"colorbar\":{\"outlinewidth\":0,\"ticks\":\"\"}},\"type\":\"scatterternary\"}],\"surface\":[{\"colorbar\":{\"outlinewidth\":0,\"ticks\":\"\"},\"colorscale\":[[0.0,\"#0d0887\"],[0.1111111111111111,\"#46039f\"],[0.2222222222222222,\"#7201a8\"],[0.3333333333333333,\"#9c179e\"],[0.4444444444444444,\"#bd3786\"],[0.5555555555555556,\"#d8576b\"],[0.6666666666666666,\"#ed7953\"],[0.7777777777777778,\"#fb9f3a\"],[0.8888888888888888,\"#fdca26\"],[1.0,\"#f0f921\"]],\"type\":\"surface\"}],\"table\":[{\"cells\":{\"fill\":{\"color\":\"#EBF0F8\"},\"line\":{\"color\":\"white\"}},\"header\":{\"fill\":{\"color\":\"#C8D4E3\"},\"line\":{\"color\":\"white\"}},\"type\":\"table\"}]},\"layout\":{\"annotationdefaults\":{\"arrowcolor\":\"#2a3f5f\",\"arrowhead\":0,\"arrowwidth\":1},\"autotypenumbers\":\"strict\",\"coloraxis\":{\"colorbar\":{\"outlinewidth\":0,\"ticks\":\"\"}},\"colorscale\":{\"diverging\":[[0,\"#8e0152\"],[0.1,\"#c51b7d\"],[0.2,\"#de77ae\"],[0.3,\"#f1b6da\"],[0.4,\"#fde0ef\"],[0.5,\"#f7f7f7\"],[0.6,\"#e6f5d0\"],[0.7,\"#b8e186\"],[0.8,\"#7fbc41\"],[0.9,\"#4d9221\"],[1,\"#276419\"]],\"sequential\":[[0.0,\"#0d0887\"],[0.1111111111111111,\"#46039f\"],[0.2222222222222222,\"#7201a8\"],[0.3333333333333333,\"#9c179e\"],[0.4444444444444444,\"#bd3786\"],[0.5555555555555556,\"#d8576b\"],[0.6666666666666666,\"#ed7953\"],[0.7777777777777778,\"#fb9f3a\"],[0.8888888888888888,\"#fdca26\"],[1.0,\"#f0f921\"]],\"sequentialminus\":[[0.0,\"#0d0887\"],[0.1111111111111111,\"#46039f\"],[0.2222222222222222,\"#7201a8\"],[0.3333333333333333,\"#9c179e\"],[0.4444444444444444,\"#bd3786\"],[0.5555555555555556,\"#d8576b\"],[0.6666666666666666,\"#ed7953\"],[0.7777777777777778,\"#fb9f3a\"],[0.8888888888888888,\"#fdca26\"],[1.0,\"#f0f921\"]]},\"colorway\":[\"#636efa\",\"#EF553B\",\"#00cc96\",\"#ab63fa\",\"#FFA15A\",\"#19d3f3\",\"#FF6692\",\"#B6E880\",\"#FF97FF\",\"#FECB52\"],\"font\":{\"color\":\"#2a3f5f\"},\"geo\":{\"bgcolor\":\"white\",\"lakecolor\":\"white\",\"landcolor\":\"#E5ECF6\",\"showlakes\":true,\"showland\":true,\"subunitcolor\":\"white\"},\"hoverlabel\":{\"align\":\"left\"},\"hovermode\":\"closest\",\"mapbox\":{\"style\":\"light\"},\"paper_bgcolor\":\"white\",\"plot_bgcolor\":\"#E5ECF6\",\"polar\":{\"angularaxis\":{\"gridcolor\":\"white\",\"linecolor\":\"white\",\"ticks\":\"\"},\"bgcolor\":\"#E5ECF6\",\"radialaxis\":{\"gridcolor\":\"white\",\"linecolor\":\"white\",\"ticks\":\"\"}},\"scene\":{\"xaxis\":{\"backgroundcolor\":\"#E5ECF6\",\"gridcolor\":\"white\",\"gridwidth\":2,\"linecolor\":\"white\",\"showbackground\":true,\"ticks\":\"\",\"zerolinecolor\":\"white\"},\"yaxis\":{\"backgroundcolor\":\"#E5ECF6\",\"gridcolor\":\"white\",\"gridwidth\":2,\"linecolor\":\"white\",\"showbackground\":true,\"ticks\":\"\",\"zerolinecolor\":\"white\"},\"zaxis\":{\"backgroundcolor\":\"#E5ECF6\",\"gridcolor\":\"white\",\"gridwidth\":2,\"linecolor\":\"white\",\"showbackground\":true,\"ticks\":\"\",\"zerolinecolor\":\"white\"}},\"shapedefaults\":{\"line\":{\"color\":\"#2a3f5f\"}},\"ternary\":{\"aaxis\":{\"gridcolor\":\"white\",\"linecolor\":\"white\",\"ticks\":\"\"},\"baxis\":{\"gridcolor\":\"white\",\"linecolor\":\"white\",\"ticks\":\"\"},\"bgcolor\":\"#E5ECF6\",\"caxis\":{\"gridcolor\":\"white\",\"linecolor\":\"white\",\"ticks\":\"\"}},\"title\":{\"x\":0.05},\"xaxis\":{\"automargin\":true,\"gridcolor\":\"white\",\"linecolor\":\"white\",\"ticks\":\"\",\"title\":{\"standoff\":15},\"zerolinecolor\":\"white\",\"zerolinewidth\":2},\"yaxis\":{\"automargin\":true,\"gridcolor\":\"white\",\"linecolor\":\"white\",\"ticks\":\"\",\"title\":{\"standoff\":15},\"zerolinecolor\":\"white\",\"zerolinewidth\":2}}},\"title\":{\"text\":\"Pipeline Search: Iteration vs. Log Loss Binary\\u003cbr\\u003e\\u003csub\\u003eGray marker indicates the score at current iteration\\u003c\\u002fsub\\u003e\"},\"xaxis\":{\"rangemode\":\"tozero\",\"title\":{\"text\":\"Iteration\"}},\"yaxis\":{\"title\":{\"text\":\"Validation Score\"}}},                        {\"responsive\": true}                    ).then(function(){\n",
       "                            \n",
       "var gd = document.getElementById('bc727009-3602-48a4-91d4-ab49e1756e82');\n",
       "var x = new MutationObserver(function (mutations, observer) {{\n",
       "        var display = window.getComputedStyle(gd).display;\n",
       "        if (!display || display === 'none') {{\n",
       "            console.log([gd, 'removed!']);\n",
       "            Plotly.purge(gd);\n",
       "            observer.disconnect();\n",
       "        }}\n",
       "}});\n",
       "\n",
       "// Listen for the removal of the full notebook cells\n",
       "var notebookContainer = gd.closest('#notebook-container');\n",
       "if (notebookContainer) {{\n",
       "    x.observe(notebookContainer, {childList: true});\n",
       "}}\n",
       "\n",
       "// Listen for the clearing of the current output cell\n",
       "var outputEl = gd.closest('.output');\n",
       "if (outputEl) {{\n",
       "    x.observe(outputEl, {childList: true});\n",
       "}}\n",
       "\n",
       "                        })                };                });            </script>        </div>"
      ]
     },
     "metadata": {},
     "output_type": "display_data"
    },
    {
     "data": {
      "text/plain": [
       "{1: {'Random Forest Classifier w/ Label Encoder + Natural Language Featurizer + Imputer': 5.072690010070801,\n",
       "  'Total time of batch': 5.206547260284424},\n",
       " 2: {'Random Forest Classifier w/ Label Encoder + Natural Language Featurizer + Imputer + RF Classifier Select From Model': 5.553283452987671,\n",
       "  'Total time of batch': 5.689086437225342},\n",
       " 3: {'Decision Tree Classifier w/ Label Encoder + Natural Language Featurizer + Imputer + Select Columns Transformer': 4.57648491859436,\n",
       "  'LightGBM Classifier w/ Label Encoder + Natural Language Featurizer + Imputer + Select Columns Transformer': 5.0739476680755615,\n",
       "  'Extra Trees Classifier w/ Label Encoder + Natural Language Featurizer + Imputer + Select Columns Transformer': 5.574789524078369,\n",
       "  'Elastic Net Classifier w/ Label Encoder + Natural Language Featurizer + Imputer + Standard Scaler + Select Columns Transformer': 4.728957891464233,\n",
       "  'CatBoost Classifier w/ Label Encoder + Natural Language Featurizer + Imputer + Select Columns Transformer': 4.919961929321289,\n",
       "  'XGBoost Classifier w/ Label Encoder + Natural Language Featurizer + Imputer + Select Columns Transformer': 6.262187957763672,\n",
       "  'Logistic Regression Classifier w/ Label Encoder + Natural Language Featurizer + Imputer + Standard Scaler + Select Columns Transformer': 9.528953075408936,\n",
       "  'Total time of batch': 41.561158180236816},\n",
       " 4: {'Random Forest Classifier w/ Label Encoder + Natural Language Featurizer + Imputer + Select Columns Transformer': 8.15263295173645,\n",
       "  'Extra Trees Classifier w/ Label Encoder + Natural Language Featurizer + Imputer + Select Columns Transformer': 9.201347589492798,\n",
       "  'XGBoost Classifier w/ Label Encoder + Natural Language Featurizer + Imputer + Select Columns Transformer': 5.780051946640015,\n",
       "  'Total time of batch': 1006.8720579147339},\n",
       " 5: {'Random Forest Classifier w/ Label Encoder + Natural Language Featurizer + Imputer + Select Columns Transformer': 4.474065065383911,\n",
       "  'Extra Trees Classifier w/ Label Encoder + Natural Language Featurizer + Imputer + Select Columns Transformer': 5.282230854034424,\n",
       "  'XGBoost Classifier w/ Label Encoder + Natural Language Featurizer + Imputer + Select Columns Transformer': 5.064955234527588,\n",
       "  'Total time of batch': 153.6571397781372}}"
      ]
     },
     "execution_count": 12,
     "metadata": {},
     "output_type": "execute_result"
    }
   ],
   "source": [
    "automl = AutoMLSearch(\n",
    "    X_train=X_train,\n",
    "    y_train=y_train,\n",
    "    problem_type=\"binary\",\n",
    "    max_batches=3,\n",
    "    verbose=True,\n",
    "    optimize_thresholds=True,\n",
    ")\n",
    "\n",
    "automl.search(interactive_plot=False)"
   ]
  },
  {
   "cell_type": "code",
   "execution_count": 13,
   "id": "2e8e5f65",
   "metadata": {},
   "outputs": [
    {
     "data": {
      "text/html": [
       "<div>\n",
       "<style scoped>\n",
       "    .dataframe tbody tr th:only-of-type {\n",
       "        vertical-align: middle;\n",
       "    }\n",
       "\n",
       "    .dataframe tbody tr th {\n",
       "        vertical-align: top;\n",
       "    }\n",
       "\n",
       "    .dataframe thead th {\n",
       "        text-align: right;\n",
       "    }\n",
       "</style>\n",
       "<table border=\"1\" class=\"dataframe\">\n",
       "  <thead>\n",
       "    <tr style=\"text-align: right;\">\n",
       "      <th></th>\n",
       "      <th>id</th>\n",
       "      <th>pipeline_name</th>\n",
       "      <th>search_order</th>\n",
       "      <th>ranking_score</th>\n",
       "      <th>mean_cv_score</th>\n",
       "      <th>standard_deviation_cv_score</th>\n",
       "      <th>percent_better_than_baseline</th>\n",
       "      <th>high_variance_cv</th>\n",
       "      <th>parameters</th>\n",
       "    </tr>\n",
       "  </thead>\n",
       "  <tbody>\n",
       "    <tr>\n",
       "      <th>0</th>\n",
       "      <td>1</td>\n",
       "      <td>Random Forest Classifier w/ Label Encoder + Na...</td>\n",
       "      <td>1</td>\n",
       "      <td>0.212470</td>\n",
       "      <td>0.212470</td>\n",
       "      <td>0.043953</td>\n",
       "      <td>98.550459</td>\n",
       "      <td>False</td>\n",
       "      <td>{'Label Encoder': {'positive_label': None}, 'I...</td>\n",
       "    </tr>\n",
       "    <tr>\n",
       "      <th>1</th>\n",
       "      <td>167</td>\n",
       "      <td>Extra Trees Classifier w/ Label Encoder + Natu...</td>\n",
       "      <td>167</td>\n",
       "      <td>0.215811</td>\n",
       "      <td>0.215811</td>\n",
       "      <td>0.040340</td>\n",
       "      <td>98.527667</td>\n",
       "      <td>False</td>\n",
       "      <td>{'Label Encoder': {'positive_label': None}, 'I...</td>\n",
       "    </tr>\n",
       "    <tr>\n",
       "      <th>29</th>\n",
       "      <td>145</td>\n",
       "      <td>Random Forest Classifier w/ Label Encoder + Na...</td>\n",
       "      <td>145</td>\n",
       "      <td>0.229708</td>\n",
       "      <td>0.229708</td>\n",
       "      <td>0.063129</td>\n",
       "      <td>98.432854</td>\n",
       "      <td>False</td>\n",
       "      <td>{'Label Encoder': {'positive_label': None}, 'I...</td>\n",
       "    </tr>\n",
       "    <tr>\n",
       "      <th>74</th>\n",
       "      <td>2</td>\n",
       "      <td>Random Forest Classifier w/ Label Encoder + Na...</td>\n",
       "      <td>2</td>\n",
       "      <td>0.248763</td>\n",
       "      <td>0.248763</td>\n",
       "      <td>0.056686</td>\n",
       "      <td>98.302858</td>\n",
       "      <td>False</td>\n",
       "      <td>{'Label Encoder': {'positive_label': None}, 'I...</td>\n",
       "    </tr>\n",
       "    <tr>\n",
       "      <th>88</th>\n",
       "      <td>168</td>\n",
       "      <td>XGBoost Classifier w/ Label Encoder + Natural ...</td>\n",
       "      <td>168</td>\n",
       "      <td>0.267920</td>\n",
       "      <td>0.267920</td>\n",
       "      <td>0.034921</td>\n",
       "      <td>98.172164</td>\n",
       "      <td>False</td>\n",
       "      <td>{'Label Encoder': {'positive_label': None}, 'I...</td>\n",
       "    </tr>\n",
       "    <tr>\n",
       "      <th>152</th>\n",
       "      <td>4</td>\n",
       "      <td>LightGBM Classifier w/ Label Encoder + Natural...</td>\n",
       "      <td>4</td>\n",
       "      <td>0.322042</td>\n",
       "      <td>0.322042</td>\n",
       "      <td>0.153554</td>\n",
       "      <td>97.802923</td>\n",
       "      <td>False</td>\n",
       "      <td>{'Label Encoder': {'positive_label': None}, 'I...</td>\n",
       "    </tr>\n",
       "    <tr>\n",
       "      <th>169</th>\n",
       "      <td>6</td>\n",
       "      <td>Elastic Net Classifier w/ Label Encoder + Natu...</td>\n",
       "      <td>6</td>\n",
       "      <td>0.369001</td>\n",
       "      <td>0.369001</td>\n",
       "      <td>0.094933</td>\n",
       "      <td>97.482555</td>\n",
       "      <td>False</td>\n",
       "      <td>{'Label Encoder': {'positive_label': None}, 'I...</td>\n",
       "    </tr>\n",
       "    <tr>\n",
       "      <th>170</th>\n",
       "      <td>9</td>\n",
       "      <td>Logistic Regression Classifier w/ Label Encode...</td>\n",
       "      <td>9</td>\n",
       "      <td>0.369105</td>\n",
       "      <td>0.369105</td>\n",
       "      <td>0.095089</td>\n",
       "      <td>97.481842</td>\n",
       "      <td>False</td>\n",
       "      <td>{'Label Encoder': {'positive_label': None}, 'I...</td>\n",
       "    </tr>\n",
       "    <tr>\n",
       "      <th>187</th>\n",
       "      <td>7</td>\n",
       "      <td>CatBoost Classifier w/ Label Encoder + Natural...</td>\n",
       "      <td>7</td>\n",
       "      <td>0.577829</td>\n",
       "      <td>0.577829</td>\n",
       "      <td>0.004883</td>\n",
       "      <td>96.057859</td>\n",
       "      <td>False</td>\n",
       "      <td>{'Label Encoder': {'positive_label': None}, 'I...</td>\n",
       "    </tr>\n",
       "    <tr>\n",
       "      <th>188</th>\n",
       "      <td>3</td>\n",
       "      <td>Decision Tree Classifier w/ Label Encoder + Na...</td>\n",
       "      <td>3</td>\n",
       "      <td>3.187738</td>\n",
       "      <td>3.187738</td>\n",
       "      <td>1.186460</td>\n",
       "      <td>78.252202</td>\n",
       "      <td>True</td>\n",
       "      <td>{'Label Encoder': {'positive_label': None}, 'I...</td>\n",
       "    </tr>\n",
       "    <tr>\n",
       "      <th>189</th>\n",
       "      <td>0</td>\n",
       "      <td>Mode Baseline Binary Classification Pipeline</td>\n",
       "      <td>0</td>\n",
       "      <td>14.657752</td>\n",
       "      <td>14.657752</td>\n",
       "      <td>0.104049</td>\n",
       "      <td>0.000000</td>\n",
       "      <td>False</td>\n",
       "      <td>{'Label Encoder': {'positive_label': None}, 'B...</td>\n",
       "    </tr>\n",
       "  </tbody>\n",
       "</table>\n",
       "</div>"
      ],
      "text/plain": [
       "      id                                      pipeline_name  search_order  \\\n",
       "0      1  Random Forest Classifier w/ Label Encoder + Na...             1   \n",
       "1    167  Extra Trees Classifier w/ Label Encoder + Natu...           167   \n",
       "29   145  Random Forest Classifier w/ Label Encoder + Na...           145   \n",
       "74     2  Random Forest Classifier w/ Label Encoder + Na...             2   \n",
       "88   168  XGBoost Classifier w/ Label Encoder + Natural ...           168   \n",
       "152    4  LightGBM Classifier w/ Label Encoder + Natural...             4   \n",
       "169    6  Elastic Net Classifier w/ Label Encoder + Natu...             6   \n",
       "170    9  Logistic Regression Classifier w/ Label Encode...             9   \n",
       "187    7  CatBoost Classifier w/ Label Encoder + Natural...             7   \n",
       "188    3  Decision Tree Classifier w/ Label Encoder + Na...             3   \n",
       "189    0       Mode Baseline Binary Classification Pipeline             0   \n",
       "\n",
       "     ranking_score  mean_cv_score  standard_deviation_cv_score  \\\n",
       "0         0.212470       0.212470                     0.043953   \n",
       "1         0.215811       0.215811                     0.040340   \n",
       "29        0.229708       0.229708                     0.063129   \n",
       "74        0.248763       0.248763                     0.056686   \n",
       "88        0.267920       0.267920                     0.034921   \n",
       "152       0.322042       0.322042                     0.153554   \n",
       "169       0.369001       0.369001                     0.094933   \n",
       "170       0.369105       0.369105                     0.095089   \n",
       "187       0.577829       0.577829                     0.004883   \n",
       "188       3.187738       3.187738                     1.186460   \n",
       "189      14.657752      14.657752                     0.104049   \n",
       "\n",
       "     percent_better_than_baseline  high_variance_cv  \\\n",
       "0                       98.550459             False   \n",
       "1                       98.527667             False   \n",
       "29                      98.432854             False   \n",
       "74                      98.302858             False   \n",
       "88                      98.172164             False   \n",
       "152                     97.802923             False   \n",
       "169                     97.482555             False   \n",
       "170                     97.481842             False   \n",
       "187                     96.057859             False   \n",
       "188                     78.252202              True   \n",
       "189                      0.000000             False   \n",
       "\n",
       "                                            parameters  \n",
       "0    {'Label Encoder': {'positive_label': None}, 'I...  \n",
       "1    {'Label Encoder': {'positive_label': None}, 'I...  \n",
       "29   {'Label Encoder': {'positive_label': None}, 'I...  \n",
       "74   {'Label Encoder': {'positive_label': None}, 'I...  \n",
       "88   {'Label Encoder': {'positive_label': None}, 'I...  \n",
       "152  {'Label Encoder': {'positive_label': None}, 'I...  \n",
       "169  {'Label Encoder': {'positive_label': None}, 'I...  \n",
       "170  {'Label Encoder': {'positive_label': None}, 'I...  \n",
       "187  {'Label Encoder': {'positive_label': None}, 'I...  \n",
       "188  {'Label Encoder': {'positive_label': None}, 'I...  \n",
       "189  {'Label Encoder': {'positive_label': None}, 'B...  "
      ]
     },
     "execution_count": 13,
     "metadata": {},
     "output_type": "execute_result"
    }
   ],
   "source": [
    "automl.rankings"
   ]
  },
  {
   "cell_type": "code",
   "execution_count": 17,
   "id": "d1f8daf6",
   "metadata": {},
   "outputs": [],
   "source": [
    "best_pipeline = automl.best_pipeline"
   ]
  },
  {
   "cell_type": "code",
   "execution_count": 18,
   "id": "577f7ce4",
   "metadata": {},
   "outputs": [
    {
     "name": "stdout",
     "output_type": "stream",
     "text": [
      "\n",
      "*************************************************************************************\n",
      "* Random Forest Classifier w/ Label Encoder + Natural Language Featurizer + Imputer *\n",
      "*************************************************************************************\n",
      "\n",
      "Problem Type: binary\n",
      "Model Family: Random Forest\n",
      "\n",
      "Pipeline Steps\n",
      "==============\n",
      "1. Label Encoder\n",
      "\t * positive_label : None\n",
      "2. Natural Language Featurizer\n",
      "3. Imputer\n",
      "\t * categorical_impute_strategy : most_frequent\n",
      "\t * numeric_impute_strategy : mean\n",
      "\t * boolean_impute_strategy : most_frequent\n",
      "\t * categorical_fill_value : None\n",
      "\t * numeric_fill_value : None\n",
      "\t * boolean_fill_value : None\n",
      "4. Random Forest Classifier\n",
      "\t * n_estimators : 100\n",
      "\t * max_depth : 6\n",
      "\t * n_jobs : -1\n",
      "\n",
      "Training\n",
      "========\n",
      "Training for binary problems.\n",
      "Total training time (including CV): 5.1 seconds\n",
      "\n",
      "Cross Validation\n",
      "----------------\n",
      "             Log Loss Binary  MCC Binary  Gini   AUC  Precision    F1  Balanced Accuracy Binary  Accuracy Binary # Training # Validation\n",
      "0                      0.213       0.876 0.948 0.974      0.916 0.927                     0.940            0.940        400          200\n",
      "1                      0.168       0.865 0.976 0.988      0.947 0.917                     0.928            0.935        400          200\n",
      "2                      0.256       0.782 0.920 0.960      0.896 0.868                     0.887            0.895        400          200\n",
      "mean                   0.212       0.841 0.948 0.974      0.920 0.904                     0.918            0.923          -            -\n",
      "std                    0.044       0.051 0.028 0.014      0.026 0.032                     0.028            0.025          -            -\n",
      "coef of var            0.207       0.061 0.030 0.014      0.028 0.035                     0.030            0.027          -            -\n"
     ]
    }
   ],
   "source": [
    "automl.describe_pipeline(automl.rankings.iloc[0][\"id\"])"
   ]
  },
  {
   "cell_type": "markdown",
   "id": "22959f6f",
   "metadata": {},
   "source": [
    "#### view pipeline graph"
   ]
  },
  {
   "cell_type": "code",
   "execution_count": null,
   "id": "42d7d025",
   "metadata": {},
   "outputs": [],
   "source": []
  },
  {
   "cell_type": "code",
   "execution_count": 19,
   "id": "bed8af6d",
   "metadata": {},
   "outputs": [
    {
     "name": "stdout",
     "output_type": "stream",
     "text": [
      "Accuracy Binary: 0.9333333333333333\n",
      "Accuracy Binary: OrderedDict([('MCC Binary', 0.861853011604347), ('Log Loss Binary', 0.18123361648635386), ('Gini', 0.9734757782280345), ('AUC', 0.9867378891140173), ('Recall', 0.9438202247191011), ('Precision', 0.9438202247191011), ('F1', 0.9438202247191011), ('Balanced Accuracy Binary', 0.9309265058021735), ('Accuracy Binary', 0.9333333333333333)])\n"
     ]
    }
   ],
   "source": [
    "scores = best_pipeline.score(\n",
    "    X_holdout, y_holdout, objectives=evalml.objectives.get_ranking_objectives(\"binary\")\n",
    ")\n",
    "print(f'Accuracy Binary: {scores[\"Accuracy Binary\"]}')\n",
    "print(f'Accuracy Binary: {scores}')"
   ]
  },
  {
   "cell_type": "code",
   "execution_count": 23,
   "id": "0c409fcb",
   "metadata": {},
   "outputs": [
    {
     "data": {
      "application/vnd.plotly.v1+json": {
       "config": {
        "plotlyServerURL": "https://plot.ly"
       },
       "data": [
        {
         "colorscale": [
          [
           0,
           "rgb(247,251,255)"
          ],
          [
           0.125,
           "rgb(222,235,247)"
          ],
          [
           0.25,
           "rgb(198,219,239)"
          ],
          [
           0.375,
           "rgb(158,202,225)"
          ],
          [
           0.5,
           "rgb(107,174,214)"
          ],
          [
           0.625,
           "rgb(66,146,198)"
          ],
          [
           0.75,
           "rgb(33,113,181)"
          ],
          [
           0.875,
           "rgb(8,81,156)"
          ],
          [
           1,
           "rgb(8,48,107)"
          ]
         ],
         "customdata": [
          [
           56,
           5
          ],
          [
           5,
           84
          ]
         ],
         "hovertemplate": "<b>True</b>: %{y}<br><b>Predicted</b>: %{x}<br><b>Normalized Count</b>: %{z}<br><b>Raw Count</b>: %{customdata} <br><extra></extra>",
         "reversescale": false,
         "showscale": true,
         "type": "heatmap",
         "x": [
          "ham",
          "spam"
         ],
         "y": [
          "ham",
          "spam"
         ],
         "z": [
          [
           0.9180327868852459,
           0.08196721311475409
          ],
          [
           0.056179775280898875,
           0.9438202247191011
          ]
         ]
        }
       ],
       "layout": {
        "annotations": [
         {
          "font": {
           "color": "#FFFFFF"
          },
          "showarrow": false,
          "text": "0.918",
          "x": "ham",
          "xref": "x",
          "y": "ham",
          "yref": "y"
         },
         {
          "font": {
           "color": "#000000"
          },
          "showarrow": false,
          "text": "0.082",
          "x": "spam",
          "xref": "x",
          "y": "ham",
          "yref": "y"
         },
         {
          "font": {
           "color": "#000000"
          },
          "showarrow": false,
          "text": "0.056",
          "x": "ham",
          "xref": "x",
          "y": "spam",
          "yref": "y"
         },
         {
          "font": {
           "color": "#FFFFFF"
          },
          "showarrow": false,
          "text": "0.944",
          "x": "spam",
          "xref": "x",
          "y": "spam",
          "yref": "y"
         }
        ],
        "template": {
         "data": {
          "bar": [
           {
            "error_x": {
             "color": "#2a3f5f"
            },
            "error_y": {
             "color": "#2a3f5f"
            },
            "marker": {
             "line": {
              "color": "#E5ECF6",
              "width": 0.5
             },
             "pattern": {
              "fillmode": "overlay",
              "size": 10,
              "solidity": 0.2
             }
            },
            "type": "bar"
           }
          ],
          "barpolar": [
           {
            "marker": {
             "line": {
              "color": "#E5ECF6",
              "width": 0.5
             },
             "pattern": {
              "fillmode": "overlay",
              "size": 10,
              "solidity": 0.2
             }
            },
            "type": "barpolar"
           }
          ],
          "carpet": [
           {
            "aaxis": {
             "endlinecolor": "#2a3f5f",
             "gridcolor": "white",
             "linecolor": "white",
             "minorgridcolor": "white",
             "startlinecolor": "#2a3f5f"
            },
            "baxis": {
             "endlinecolor": "#2a3f5f",
             "gridcolor": "white",
             "linecolor": "white",
             "minorgridcolor": "white",
             "startlinecolor": "#2a3f5f"
            },
            "type": "carpet"
           }
          ],
          "choropleth": [
           {
            "colorbar": {
             "outlinewidth": 0,
             "ticks": ""
            },
            "type": "choropleth"
           }
          ],
          "contour": [
           {
            "colorbar": {
             "outlinewidth": 0,
             "ticks": ""
            },
            "colorscale": [
             [
              0,
              "#0d0887"
             ],
             [
              0.1111111111111111,
              "#46039f"
             ],
             [
              0.2222222222222222,
              "#7201a8"
             ],
             [
              0.3333333333333333,
              "#9c179e"
             ],
             [
              0.4444444444444444,
              "#bd3786"
             ],
             [
              0.5555555555555556,
              "#d8576b"
             ],
             [
              0.6666666666666666,
              "#ed7953"
             ],
             [
              0.7777777777777778,
              "#fb9f3a"
             ],
             [
              0.8888888888888888,
              "#fdca26"
             ],
             [
              1,
              "#f0f921"
             ]
            ],
            "type": "contour"
           }
          ],
          "contourcarpet": [
           {
            "colorbar": {
             "outlinewidth": 0,
             "ticks": ""
            },
            "type": "contourcarpet"
           }
          ],
          "heatmap": [
           {
            "colorbar": {
             "outlinewidth": 0,
             "ticks": ""
            },
            "colorscale": [
             [
              0,
              "#0d0887"
             ],
             [
              0.1111111111111111,
              "#46039f"
             ],
             [
              0.2222222222222222,
              "#7201a8"
             ],
             [
              0.3333333333333333,
              "#9c179e"
             ],
             [
              0.4444444444444444,
              "#bd3786"
             ],
             [
              0.5555555555555556,
              "#d8576b"
             ],
             [
              0.6666666666666666,
              "#ed7953"
             ],
             [
              0.7777777777777778,
              "#fb9f3a"
             ],
             [
              0.8888888888888888,
              "#fdca26"
             ],
             [
              1,
              "#f0f921"
             ]
            ],
            "type": "heatmap"
           }
          ],
          "heatmapgl": [
           {
            "colorbar": {
             "outlinewidth": 0,
             "ticks": ""
            },
            "colorscale": [
             [
              0,
              "#0d0887"
             ],
             [
              0.1111111111111111,
              "#46039f"
             ],
             [
              0.2222222222222222,
              "#7201a8"
             ],
             [
              0.3333333333333333,
              "#9c179e"
             ],
             [
              0.4444444444444444,
              "#bd3786"
             ],
             [
              0.5555555555555556,
              "#d8576b"
             ],
             [
              0.6666666666666666,
              "#ed7953"
             ],
             [
              0.7777777777777778,
              "#fb9f3a"
             ],
             [
              0.8888888888888888,
              "#fdca26"
             ],
             [
              1,
              "#f0f921"
             ]
            ],
            "type": "heatmapgl"
           }
          ],
          "histogram": [
           {
            "marker": {
             "pattern": {
              "fillmode": "overlay",
              "size": 10,
              "solidity": 0.2
             }
            },
            "type": "histogram"
           }
          ],
          "histogram2d": [
           {
            "colorbar": {
             "outlinewidth": 0,
             "ticks": ""
            },
            "colorscale": [
             [
              0,
              "#0d0887"
             ],
             [
              0.1111111111111111,
              "#46039f"
             ],
             [
              0.2222222222222222,
              "#7201a8"
             ],
             [
              0.3333333333333333,
              "#9c179e"
             ],
             [
              0.4444444444444444,
              "#bd3786"
             ],
             [
              0.5555555555555556,
              "#d8576b"
             ],
             [
              0.6666666666666666,
              "#ed7953"
             ],
             [
              0.7777777777777778,
              "#fb9f3a"
             ],
             [
              0.8888888888888888,
              "#fdca26"
             ],
             [
              1,
              "#f0f921"
             ]
            ],
            "type": "histogram2d"
           }
          ],
          "histogram2dcontour": [
           {
            "colorbar": {
             "outlinewidth": 0,
             "ticks": ""
            },
            "colorscale": [
             [
              0,
              "#0d0887"
             ],
             [
              0.1111111111111111,
              "#46039f"
             ],
             [
              0.2222222222222222,
              "#7201a8"
             ],
             [
              0.3333333333333333,
              "#9c179e"
             ],
             [
              0.4444444444444444,
              "#bd3786"
             ],
             [
              0.5555555555555556,
              "#d8576b"
             ],
             [
              0.6666666666666666,
              "#ed7953"
             ],
             [
              0.7777777777777778,
              "#fb9f3a"
             ],
             [
              0.8888888888888888,
              "#fdca26"
             ],
             [
              1,
              "#f0f921"
             ]
            ],
            "type": "histogram2dcontour"
           }
          ],
          "mesh3d": [
           {
            "colorbar": {
             "outlinewidth": 0,
             "ticks": ""
            },
            "type": "mesh3d"
           }
          ],
          "parcoords": [
           {
            "line": {
             "colorbar": {
              "outlinewidth": 0,
              "ticks": ""
             }
            },
            "type": "parcoords"
           }
          ],
          "pie": [
           {
            "automargin": true,
            "type": "pie"
           }
          ],
          "scatter": [
           {
            "fillpattern": {
             "fillmode": "overlay",
             "size": 10,
             "solidity": 0.2
            },
            "type": "scatter"
           }
          ],
          "scatter3d": [
           {
            "line": {
             "colorbar": {
              "outlinewidth": 0,
              "ticks": ""
             }
            },
            "marker": {
             "colorbar": {
              "outlinewidth": 0,
              "ticks": ""
             }
            },
            "type": "scatter3d"
           }
          ],
          "scattercarpet": [
           {
            "marker": {
             "colorbar": {
              "outlinewidth": 0,
              "ticks": ""
             }
            },
            "type": "scattercarpet"
           }
          ],
          "scattergeo": [
           {
            "marker": {
             "colorbar": {
              "outlinewidth": 0,
              "ticks": ""
             }
            },
            "type": "scattergeo"
           }
          ],
          "scattergl": [
           {
            "marker": {
             "colorbar": {
              "outlinewidth": 0,
              "ticks": ""
             }
            },
            "type": "scattergl"
           }
          ],
          "scattermapbox": [
           {
            "marker": {
             "colorbar": {
              "outlinewidth": 0,
              "ticks": ""
             }
            },
            "type": "scattermapbox"
           }
          ],
          "scatterpolar": [
           {
            "marker": {
             "colorbar": {
              "outlinewidth": 0,
              "ticks": ""
             }
            },
            "type": "scatterpolar"
           }
          ],
          "scatterpolargl": [
           {
            "marker": {
             "colorbar": {
              "outlinewidth": 0,
              "ticks": ""
             }
            },
            "type": "scatterpolargl"
           }
          ],
          "scatterternary": [
           {
            "marker": {
             "colorbar": {
              "outlinewidth": 0,
              "ticks": ""
             }
            },
            "type": "scatterternary"
           }
          ],
          "surface": [
           {
            "colorbar": {
             "outlinewidth": 0,
             "ticks": ""
            },
            "colorscale": [
             [
              0,
              "#0d0887"
             ],
             [
              0.1111111111111111,
              "#46039f"
             ],
             [
              0.2222222222222222,
              "#7201a8"
             ],
             [
              0.3333333333333333,
              "#9c179e"
             ],
             [
              0.4444444444444444,
              "#bd3786"
             ],
             [
              0.5555555555555556,
              "#d8576b"
             ],
             [
              0.6666666666666666,
              "#ed7953"
             ],
             [
              0.7777777777777778,
              "#fb9f3a"
             ],
             [
              0.8888888888888888,
              "#fdca26"
             ],
             [
              1,
              "#f0f921"
             ]
            ],
            "type": "surface"
           }
          ],
          "table": [
           {
            "cells": {
             "fill": {
              "color": "#EBF0F8"
             },
             "line": {
              "color": "white"
             }
            },
            "header": {
             "fill": {
              "color": "#C8D4E3"
             },
             "line": {
              "color": "white"
             }
            },
            "type": "table"
           }
          ]
         },
         "layout": {
          "annotationdefaults": {
           "arrowcolor": "#2a3f5f",
           "arrowhead": 0,
           "arrowwidth": 1
          },
          "autotypenumbers": "strict",
          "coloraxis": {
           "colorbar": {
            "outlinewidth": 0,
            "ticks": ""
           }
          },
          "colorscale": {
           "diverging": [
            [
             0,
             "#8e0152"
            ],
            [
             0.1,
             "#c51b7d"
            ],
            [
             0.2,
             "#de77ae"
            ],
            [
             0.3,
             "#f1b6da"
            ],
            [
             0.4,
             "#fde0ef"
            ],
            [
             0.5,
             "#f7f7f7"
            ],
            [
             0.6,
             "#e6f5d0"
            ],
            [
             0.7,
             "#b8e186"
            ],
            [
             0.8,
             "#7fbc41"
            ],
            [
             0.9,
             "#4d9221"
            ],
            [
             1,
             "#276419"
            ]
           ],
           "sequential": [
            [
             0,
             "#0d0887"
            ],
            [
             0.1111111111111111,
             "#46039f"
            ],
            [
             0.2222222222222222,
             "#7201a8"
            ],
            [
             0.3333333333333333,
             "#9c179e"
            ],
            [
             0.4444444444444444,
             "#bd3786"
            ],
            [
             0.5555555555555556,
             "#d8576b"
            ],
            [
             0.6666666666666666,
             "#ed7953"
            ],
            [
             0.7777777777777778,
             "#fb9f3a"
            ],
            [
             0.8888888888888888,
             "#fdca26"
            ],
            [
             1,
             "#f0f921"
            ]
           ],
           "sequentialminus": [
            [
             0,
             "#0d0887"
            ],
            [
             0.1111111111111111,
             "#46039f"
            ],
            [
             0.2222222222222222,
             "#7201a8"
            ],
            [
             0.3333333333333333,
             "#9c179e"
            ],
            [
             0.4444444444444444,
             "#bd3786"
            ],
            [
             0.5555555555555556,
             "#d8576b"
            ],
            [
             0.6666666666666666,
             "#ed7953"
            ],
            [
             0.7777777777777778,
             "#fb9f3a"
            ],
            [
             0.8888888888888888,
             "#fdca26"
            ],
            [
             1,
             "#f0f921"
            ]
           ]
          },
          "colorway": [
           "#636efa",
           "#EF553B",
           "#00cc96",
           "#ab63fa",
           "#FFA15A",
           "#19d3f3",
           "#FF6692",
           "#B6E880",
           "#FF97FF",
           "#FECB52"
          ],
          "font": {
           "color": "#2a3f5f"
          },
          "geo": {
           "bgcolor": "white",
           "lakecolor": "white",
           "landcolor": "#E5ECF6",
           "showlakes": true,
           "showland": true,
           "subunitcolor": "white"
          },
          "hoverlabel": {
           "align": "left"
          },
          "hovermode": "closest",
          "mapbox": {
           "style": "light"
          },
          "paper_bgcolor": "white",
          "plot_bgcolor": "#E5ECF6",
          "polar": {
           "angularaxis": {
            "gridcolor": "white",
            "linecolor": "white",
            "ticks": ""
           },
           "bgcolor": "#E5ECF6",
           "radialaxis": {
            "gridcolor": "white",
            "linecolor": "white",
            "ticks": ""
           }
          },
          "scene": {
           "xaxis": {
            "backgroundcolor": "#E5ECF6",
            "gridcolor": "white",
            "gridwidth": 2,
            "linecolor": "white",
            "showbackground": true,
            "ticks": "",
            "zerolinecolor": "white"
           },
           "yaxis": {
            "backgroundcolor": "#E5ECF6",
            "gridcolor": "white",
            "gridwidth": 2,
            "linecolor": "white",
            "showbackground": true,
            "ticks": "",
            "zerolinecolor": "white"
           },
           "zaxis": {
            "backgroundcolor": "#E5ECF6",
            "gridcolor": "white",
            "gridwidth": 2,
            "linecolor": "white",
            "showbackground": true,
            "ticks": "",
            "zerolinecolor": "white"
           }
          },
          "shapedefaults": {
           "line": {
            "color": "#2a3f5f"
           }
          },
          "ternary": {
           "aaxis": {
            "gridcolor": "white",
            "linecolor": "white",
            "ticks": ""
           },
           "baxis": {
            "gridcolor": "white",
            "linecolor": "white",
            "ticks": ""
           },
           "bgcolor": "#E5ECF6",
           "caxis": {
            "gridcolor": "white",
            "linecolor": "white",
            "ticks": ""
           }
          },
          "title": {
           "x": 0.05
          },
          "xaxis": {
           "automargin": true,
           "gridcolor": "white",
           "linecolor": "white",
           "ticks": "",
           "title": {
            "standoff": 15
           },
           "zerolinecolor": "white",
           "zerolinewidth": 2
          },
          "yaxis": {
           "automargin": true,
           "gridcolor": "white",
           "linecolor": "white",
           "ticks": "",
           "title": {
            "standoff": 15
           },
           "zerolinecolor": "white",
           "zerolinewidth": 2
          }
         }
        },
        "title": {
         "text": "Confusion matrix, normalized using method \"true\""
        },
        "xaxis": {
         "dtick": 1,
         "gridcolor": "rgb(0, 0, 0)",
         "side": "bottom",
         "ticks": "",
         "tickvals": [
          "ham",
          "spam"
         ],
         "title": {
          "text": "Predicted Label"
         },
         "type": "category"
        },
        "yaxis": {
         "autorange": "reversed",
         "dtick": 1,
         "ticks": "",
         "ticksuffix": "  ",
         "tickvals": [
          "ham",
          "spam"
         ],
         "title": {
          "text": "True Label"
         },
         "type": "category"
        }
       }
      },
      "text/html": [
       "<div>                            <div id=\"bd61e4bb-976c-4ed0-a7da-7ef220eae159\" class=\"plotly-graph-div\" style=\"height:525px; width:100%;\"></div>            <script type=\"text/javascript\">                require([\"plotly\"], function(Plotly) {                    window.PLOTLYENV=window.PLOTLYENV || {};                                    if (document.getElementById(\"bd61e4bb-976c-4ed0-a7da-7ef220eae159\")) {                    Plotly.newPlot(                        \"bd61e4bb-976c-4ed0-a7da-7ef220eae159\",                        [{\"colorscale\":[[0.0,\"rgb(247,251,255)\"],[0.125,\"rgb(222,235,247)\"],[0.25,\"rgb(198,219,239)\"],[0.375,\"rgb(158,202,225)\"],[0.5,\"rgb(107,174,214)\"],[0.625,\"rgb(66,146,198)\"],[0.75,\"rgb(33,113,181)\"],[0.875,\"rgb(8,81,156)\"],[1.0,\"rgb(8,48,107)\"]],\"customdata\":[[56,5],[5,84]],\"hovertemplate\":\"\\u003cb\\u003eTrue\\u003c\\u002fb\\u003e: %{y}\\u003cbr\\u003e\\u003cb\\u003ePredicted\\u003c\\u002fb\\u003e: %{x}\\u003cbr\\u003e\\u003cb\\u003eNormalized Count\\u003c\\u002fb\\u003e: %{z}\\u003cbr\\u003e\\u003cb\\u003eRaw Count\\u003c\\u002fb\\u003e: %{customdata} \\u003cbr\\u003e\\u003cextra\\u003e\\u003c\\u002fextra\\u003e\",\"reversescale\":false,\"showscale\":true,\"x\":[\"ham\",\"spam\"],\"y\":[\"ham\",\"spam\"],\"z\":[[0.9180327868852459,0.08196721311475409],[0.056179775280898875,0.9438202247191011]],\"type\":\"heatmap\"}],                        {\"annotations\":[{\"font\":{\"color\":\"#FFFFFF\"},\"showarrow\":false,\"text\":\"0.918\",\"x\":\"ham\",\"xref\":\"x\",\"y\":\"ham\",\"yref\":\"y\"},{\"font\":{\"color\":\"#000000\"},\"showarrow\":false,\"text\":\"0.082\",\"x\":\"spam\",\"xref\":\"x\",\"y\":\"ham\",\"yref\":\"y\"},{\"font\":{\"color\":\"#000000\"},\"showarrow\":false,\"text\":\"0.056\",\"x\":\"ham\",\"xref\":\"x\",\"y\":\"spam\",\"yref\":\"y\"},{\"font\":{\"color\":\"#FFFFFF\"},\"showarrow\":false,\"text\":\"0.944\",\"x\":\"spam\",\"xref\":\"x\",\"y\":\"spam\",\"yref\":\"y\"}],\"xaxis\":{\"dtick\":1,\"gridcolor\":\"rgb(0, 0, 0)\",\"side\":\"bottom\",\"ticks\":\"\",\"title\":{\"text\":\"Predicted Label\"},\"tickvals\":[\"ham\",\"spam\"],\"type\":\"category\"},\"yaxis\":{\"dtick\":1,\"ticks\":\"\",\"ticksuffix\":\"  \",\"title\":{\"text\":\"True Label\"},\"tickvals\":[\"ham\",\"spam\"],\"type\":\"category\",\"autorange\":\"reversed\"},\"template\":{\"data\":{\"histogram2dcontour\":[{\"type\":\"histogram2dcontour\",\"colorbar\":{\"outlinewidth\":0,\"ticks\":\"\"},\"colorscale\":[[0.0,\"#0d0887\"],[0.1111111111111111,\"#46039f\"],[0.2222222222222222,\"#7201a8\"],[0.3333333333333333,\"#9c179e\"],[0.4444444444444444,\"#bd3786\"],[0.5555555555555556,\"#d8576b\"],[0.6666666666666666,\"#ed7953\"],[0.7777777777777778,\"#fb9f3a\"],[0.8888888888888888,\"#fdca26\"],[1.0,\"#f0f921\"]]}],\"choropleth\":[{\"type\":\"choropleth\",\"colorbar\":{\"outlinewidth\":0,\"ticks\":\"\"}}],\"histogram2d\":[{\"type\":\"histogram2d\",\"colorbar\":{\"outlinewidth\":0,\"ticks\":\"\"},\"colorscale\":[[0.0,\"#0d0887\"],[0.1111111111111111,\"#46039f\"],[0.2222222222222222,\"#7201a8\"],[0.3333333333333333,\"#9c179e\"],[0.4444444444444444,\"#bd3786\"],[0.5555555555555556,\"#d8576b\"],[0.6666666666666666,\"#ed7953\"],[0.7777777777777778,\"#fb9f3a\"],[0.8888888888888888,\"#fdca26\"],[1.0,\"#f0f921\"]]}],\"heatmap\":[{\"type\":\"heatmap\",\"colorbar\":{\"outlinewidth\":0,\"ticks\":\"\"},\"colorscale\":[[0.0,\"#0d0887\"],[0.1111111111111111,\"#46039f\"],[0.2222222222222222,\"#7201a8\"],[0.3333333333333333,\"#9c179e\"],[0.4444444444444444,\"#bd3786\"],[0.5555555555555556,\"#d8576b\"],[0.6666666666666666,\"#ed7953\"],[0.7777777777777778,\"#fb9f3a\"],[0.8888888888888888,\"#fdca26\"],[1.0,\"#f0f921\"]]}],\"heatmapgl\":[{\"type\":\"heatmapgl\",\"colorbar\":{\"outlinewidth\":0,\"ticks\":\"\"},\"colorscale\":[[0.0,\"#0d0887\"],[0.1111111111111111,\"#46039f\"],[0.2222222222222222,\"#7201a8\"],[0.3333333333333333,\"#9c179e\"],[0.4444444444444444,\"#bd3786\"],[0.5555555555555556,\"#d8576b\"],[0.6666666666666666,\"#ed7953\"],[0.7777777777777778,\"#fb9f3a\"],[0.8888888888888888,\"#fdca26\"],[1.0,\"#f0f921\"]]}],\"contourcarpet\":[{\"type\":\"contourcarpet\",\"colorbar\":{\"outlinewidth\":0,\"ticks\":\"\"}}],\"contour\":[{\"type\":\"contour\",\"colorbar\":{\"outlinewidth\":0,\"ticks\":\"\"},\"colorscale\":[[0.0,\"#0d0887\"],[0.1111111111111111,\"#46039f\"],[0.2222222222222222,\"#7201a8\"],[0.3333333333333333,\"#9c179e\"],[0.4444444444444444,\"#bd3786\"],[0.5555555555555556,\"#d8576b\"],[0.6666666666666666,\"#ed7953\"],[0.7777777777777778,\"#fb9f3a\"],[0.8888888888888888,\"#fdca26\"],[1.0,\"#f0f921\"]]}],\"surface\":[{\"type\":\"surface\",\"colorbar\":{\"outlinewidth\":0,\"ticks\":\"\"},\"colorscale\":[[0.0,\"#0d0887\"],[0.1111111111111111,\"#46039f\"],[0.2222222222222222,\"#7201a8\"],[0.3333333333333333,\"#9c179e\"],[0.4444444444444444,\"#bd3786\"],[0.5555555555555556,\"#d8576b\"],[0.6666666666666666,\"#ed7953\"],[0.7777777777777778,\"#fb9f3a\"],[0.8888888888888888,\"#fdca26\"],[1.0,\"#f0f921\"]]}],\"mesh3d\":[{\"type\":\"mesh3d\",\"colorbar\":{\"outlinewidth\":0,\"ticks\":\"\"}}],\"scatter\":[{\"fillpattern\":{\"fillmode\":\"overlay\",\"size\":10,\"solidity\":0.2},\"type\":\"scatter\"}],\"parcoords\":[{\"type\":\"parcoords\",\"line\":{\"colorbar\":{\"outlinewidth\":0,\"ticks\":\"\"}}}],\"scatterpolargl\":[{\"type\":\"scatterpolargl\",\"marker\":{\"colorbar\":{\"outlinewidth\":0,\"ticks\":\"\"}}}],\"bar\":[{\"error_x\":{\"color\":\"#2a3f5f\"},\"error_y\":{\"color\":\"#2a3f5f\"},\"marker\":{\"line\":{\"color\":\"#E5ECF6\",\"width\":0.5},\"pattern\":{\"fillmode\":\"overlay\",\"size\":10,\"solidity\":0.2}},\"type\":\"bar\"}],\"scattergeo\":[{\"type\":\"scattergeo\",\"marker\":{\"colorbar\":{\"outlinewidth\":0,\"ticks\":\"\"}}}],\"scatterpolar\":[{\"type\":\"scatterpolar\",\"marker\":{\"colorbar\":{\"outlinewidth\":0,\"ticks\":\"\"}}}],\"histogram\":[{\"marker\":{\"pattern\":{\"fillmode\":\"overlay\",\"size\":10,\"solidity\":0.2}},\"type\":\"histogram\"}],\"scattergl\":[{\"type\":\"scattergl\",\"marker\":{\"colorbar\":{\"outlinewidth\":0,\"ticks\":\"\"}}}],\"scatter3d\":[{\"type\":\"scatter3d\",\"line\":{\"colorbar\":{\"outlinewidth\":0,\"ticks\":\"\"}},\"marker\":{\"colorbar\":{\"outlinewidth\":0,\"ticks\":\"\"}}}],\"scattermapbox\":[{\"type\":\"scattermapbox\",\"marker\":{\"colorbar\":{\"outlinewidth\":0,\"ticks\":\"\"}}}],\"scatterternary\":[{\"type\":\"scatterternary\",\"marker\":{\"colorbar\":{\"outlinewidth\":0,\"ticks\":\"\"}}}],\"scattercarpet\":[{\"type\":\"scattercarpet\",\"marker\":{\"colorbar\":{\"outlinewidth\":0,\"ticks\":\"\"}}}],\"carpet\":[{\"aaxis\":{\"endlinecolor\":\"#2a3f5f\",\"gridcolor\":\"white\",\"linecolor\":\"white\",\"minorgridcolor\":\"white\",\"startlinecolor\":\"#2a3f5f\"},\"baxis\":{\"endlinecolor\":\"#2a3f5f\",\"gridcolor\":\"white\",\"linecolor\":\"white\",\"minorgridcolor\":\"white\",\"startlinecolor\":\"#2a3f5f\"},\"type\":\"carpet\"}],\"table\":[{\"cells\":{\"fill\":{\"color\":\"#EBF0F8\"},\"line\":{\"color\":\"white\"}},\"header\":{\"fill\":{\"color\":\"#C8D4E3\"},\"line\":{\"color\":\"white\"}},\"type\":\"table\"}],\"barpolar\":[{\"marker\":{\"line\":{\"color\":\"#E5ECF6\",\"width\":0.5},\"pattern\":{\"fillmode\":\"overlay\",\"size\":10,\"solidity\":0.2}},\"type\":\"barpolar\"}],\"pie\":[{\"automargin\":true,\"type\":\"pie\"}]},\"layout\":{\"autotypenumbers\":\"strict\",\"colorway\":[\"#636efa\",\"#EF553B\",\"#00cc96\",\"#ab63fa\",\"#FFA15A\",\"#19d3f3\",\"#FF6692\",\"#B6E880\",\"#FF97FF\",\"#FECB52\"],\"font\":{\"color\":\"#2a3f5f\"},\"hovermode\":\"closest\",\"hoverlabel\":{\"align\":\"left\"},\"paper_bgcolor\":\"white\",\"plot_bgcolor\":\"#E5ECF6\",\"polar\":{\"bgcolor\":\"#E5ECF6\",\"angularaxis\":{\"gridcolor\":\"white\",\"linecolor\":\"white\",\"ticks\":\"\"},\"radialaxis\":{\"gridcolor\":\"white\",\"linecolor\":\"white\",\"ticks\":\"\"}},\"ternary\":{\"bgcolor\":\"#E5ECF6\",\"aaxis\":{\"gridcolor\":\"white\",\"linecolor\":\"white\",\"ticks\":\"\"},\"baxis\":{\"gridcolor\":\"white\",\"linecolor\":\"white\",\"ticks\":\"\"},\"caxis\":{\"gridcolor\":\"white\",\"linecolor\":\"white\",\"ticks\":\"\"}},\"coloraxis\":{\"colorbar\":{\"outlinewidth\":0,\"ticks\":\"\"}},\"colorscale\":{\"sequential\":[[0.0,\"#0d0887\"],[0.1111111111111111,\"#46039f\"],[0.2222222222222222,\"#7201a8\"],[0.3333333333333333,\"#9c179e\"],[0.4444444444444444,\"#bd3786\"],[0.5555555555555556,\"#d8576b\"],[0.6666666666666666,\"#ed7953\"],[0.7777777777777778,\"#fb9f3a\"],[0.8888888888888888,\"#fdca26\"],[1.0,\"#f0f921\"]],\"sequentialminus\":[[0.0,\"#0d0887\"],[0.1111111111111111,\"#46039f\"],[0.2222222222222222,\"#7201a8\"],[0.3333333333333333,\"#9c179e\"],[0.4444444444444444,\"#bd3786\"],[0.5555555555555556,\"#d8576b\"],[0.6666666666666666,\"#ed7953\"],[0.7777777777777778,\"#fb9f3a\"],[0.8888888888888888,\"#fdca26\"],[1.0,\"#f0f921\"]],\"diverging\":[[0,\"#8e0152\"],[0.1,\"#c51b7d\"],[0.2,\"#de77ae\"],[0.3,\"#f1b6da\"],[0.4,\"#fde0ef\"],[0.5,\"#f7f7f7\"],[0.6,\"#e6f5d0\"],[0.7,\"#b8e186\"],[0.8,\"#7fbc41\"],[0.9,\"#4d9221\"],[1,\"#276419\"]]},\"xaxis\":{\"gridcolor\":\"white\",\"linecolor\":\"white\",\"ticks\":\"\",\"title\":{\"standoff\":15},\"zerolinecolor\":\"white\",\"automargin\":true,\"zerolinewidth\":2},\"yaxis\":{\"gridcolor\":\"white\",\"linecolor\":\"white\",\"ticks\":\"\",\"title\":{\"standoff\":15},\"zerolinecolor\":\"white\",\"automargin\":true,\"zerolinewidth\":2},\"scene\":{\"xaxis\":{\"backgroundcolor\":\"#E5ECF6\",\"gridcolor\":\"white\",\"linecolor\":\"white\",\"showbackground\":true,\"ticks\":\"\",\"zerolinecolor\":\"white\",\"gridwidth\":2},\"yaxis\":{\"backgroundcolor\":\"#E5ECF6\",\"gridcolor\":\"white\",\"linecolor\":\"white\",\"showbackground\":true,\"ticks\":\"\",\"zerolinecolor\":\"white\",\"gridwidth\":2},\"zaxis\":{\"backgroundcolor\":\"#E5ECF6\",\"gridcolor\":\"white\",\"linecolor\":\"white\",\"showbackground\":true,\"ticks\":\"\",\"zerolinecolor\":\"white\",\"gridwidth\":2}},\"shapedefaults\":{\"line\":{\"color\":\"#2a3f5f\"}},\"annotationdefaults\":{\"arrowcolor\":\"#2a3f5f\",\"arrowhead\":0,\"arrowwidth\":1},\"geo\":{\"bgcolor\":\"white\",\"landcolor\":\"#E5ECF6\",\"subunitcolor\":\"white\",\"showland\":true,\"showlakes\":true,\"lakecolor\":\"white\"},\"title\":{\"x\":0.05},\"mapbox\":{\"style\":\"light\"}}},\"title\":{\"text\":\"Confusion matrix, normalized using method \\\"true\\\"\"}},                        {\"responsive\": true}                    ).then(function(){\n",
       "                            \n",
       "var gd = document.getElementById('bd61e4bb-976c-4ed0-a7da-7ef220eae159');\n",
       "var x = new MutationObserver(function (mutations, observer) {{\n",
       "        var display = window.getComputedStyle(gd).display;\n",
       "        if (!display || display === 'none') {{\n",
       "            console.log([gd, 'removed!']);\n",
       "            Plotly.purge(gd);\n",
       "            observer.disconnect();\n",
       "        }}\n",
       "}});\n",
       "\n",
       "// Listen for the removal of the full notebook cells\n",
       "var notebookContainer = gd.closest('#notebook-container');\n",
       "if (notebookContainer) {{\n",
       "    x.observe(notebookContainer, {childList: true});\n",
       "}}\n",
       "\n",
       "// Listen for the clearing of the current output cell\n",
       "var outputEl = gd.closest('.output');\n",
       "if (outputEl) {{\n",
       "    x.observe(outputEl, {childList: true});\n",
       "}}\n",
       "\n",
       "                        })                };                });            </script>        </div>"
      ]
     },
     "metadata": {},
     "output_type": "display_data"
    }
   ],
   "source": [
    "y_pred = best_pipeline.predict(X_holdout)\n",
    "graph_confusion_matrix(y_holdout, y_pred)"
   ]
  },
  {
   "cell_type": "code",
   "execution_count": 16,
   "id": "d9180dfc",
   "metadata": {},
   "outputs": [
    {
     "ename": "RuntimeError",
     "evalue": "To graph pipelines, a graphviz backend is required.\nInstall the backend using one of the following commands:\n  Mac OS: brew install graphviz\n  Linux (Ubuntu): sudo apt-get install graphviz\n  Windows: conda install python-graphviz\n",
     "output_type": "error",
     "traceback": [
      "\u001b[1;31m---------------------------------------------------------------------------\u001b[0m",
      "\u001b[1;31mFileNotFoundError\u001b[0m                         Traceback (most recent call last)",
      "File \u001b[1;32m~\\.conda\\envs\\alteryx\\lib\\site-packages\\graphviz\\backend\\execute.py:79\u001b[0m, in \u001b[0;36mrun_check\u001b[1;34m(cmd, input_lines, encoding, quiet, **kwargs)\u001b[0m\n\u001b[0;32m     78\u001b[0m         kwargs[\u001b[38;5;124m'\u001b[39m\u001b[38;5;124mstdout\u001b[39m\u001b[38;5;124m'\u001b[39m] \u001b[38;5;241m=\u001b[39m kwargs[\u001b[38;5;124m'\u001b[39m\u001b[38;5;124mstderr\u001b[39m\u001b[38;5;124m'\u001b[39m] \u001b[38;5;241m=\u001b[39m subprocess\u001b[38;5;241m.\u001b[39mPIPE\n\u001b[1;32m---> 79\u001b[0m     proc \u001b[38;5;241m=\u001b[39m \u001b[43m_run_input_lines\u001b[49m\u001b[43m(\u001b[49m\u001b[43mcmd\u001b[49m\u001b[43m,\u001b[49m\u001b[43m \u001b[49m\u001b[43minput_lines\u001b[49m\u001b[43m,\u001b[49m\u001b[43m \u001b[49m\u001b[43mkwargs\u001b[49m\u001b[38;5;241;43m=\u001b[39;49m\u001b[43mkwargs\u001b[49m\u001b[43m)\u001b[49m\n\u001b[0;32m     80\u001b[0m \u001b[38;5;28;01melse\u001b[39;00m:\n",
      "File \u001b[1;32m~\\.conda\\envs\\alteryx\\lib\\site-packages\\graphviz\\backend\\execute.py:99\u001b[0m, in \u001b[0;36m_run_input_lines\u001b[1;34m(cmd, input_lines, kwargs)\u001b[0m\n\u001b[0;32m     98\u001b[0m \u001b[38;5;28;01mdef\u001b[39;00m \u001b[38;5;21m_run_input_lines\u001b[39m(cmd, input_lines, \u001b[38;5;241m*\u001b[39m, kwargs):\n\u001b[1;32m---> 99\u001b[0m     popen \u001b[38;5;241m=\u001b[39m subprocess\u001b[38;5;241m.\u001b[39mPopen(cmd, stdin\u001b[38;5;241m=\u001b[39msubprocess\u001b[38;5;241m.\u001b[39mPIPE, \u001b[38;5;241m*\u001b[39m\u001b[38;5;241m*\u001b[39mkwargs)\n\u001b[0;32m    101\u001b[0m     stdin_write \u001b[38;5;241m=\u001b[39m popen\u001b[38;5;241m.\u001b[39mstdin\u001b[38;5;241m.\u001b[39mwrite\n",
      "File \u001b[1;32m~\\.conda\\envs\\alteryx\\lib\\subprocess.py:951\u001b[0m, in \u001b[0;36mPopen.__init__\u001b[1;34m(self, args, bufsize, executable, stdin, stdout, stderr, preexec_fn, close_fds, shell, cwd, env, universal_newlines, startupinfo, creationflags, restore_signals, start_new_session, pass_fds, user, group, extra_groups, encoding, errors, text, umask)\u001b[0m\n\u001b[0;32m    948\u001b[0m             \u001b[38;5;28mself\u001b[39m\u001b[38;5;241m.\u001b[39mstderr \u001b[38;5;241m=\u001b[39m io\u001b[38;5;241m.\u001b[39mTextIOWrapper(\u001b[38;5;28mself\u001b[39m\u001b[38;5;241m.\u001b[39mstderr,\n\u001b[0;32m    949\u001b[0m                     encoding\u001b[38;5;241m=\u001b[39mencoding, errors\u001b[38;5;241m=\u001b[39merrors)\n\u001b[1;32m--> 951\u001b[0m     \u001b[38;5;28;43mself\u001b[39;49m\u001b[38;5;241;43m.\u001b[39;49m\u001b[43m_execute_child\u001b[49m\u001b[43m(\u001b[49m\u001b[43margs\u001b[49m\u001b[43m,\u001b[49m\u001b[43m \u001b[49m\u001b[43mexecutable\u001b[49m\u001b[43m,\u001b[49m\u001b[43m \u001b[49m\u001b[43mpreexec_fn\u001b[49m\u001b[43m,\u001b[49m\u001b[43m \u001b[49m\u001b[43mclose_fds\u001b[49m\u001b[43m,\u001b[49m\n\u001b[0;32m    952\u001b[0m \u001b[43m                        \u001b[49m\u001b[43mpass_fds\u001b[49m\u001b[43m,\u001b[49m\u001b[43m \u001b[49m\u001b[43mcwd\u001b[49m\u001b[43m,\u001b[49m\u001b[43m \u001b[49m\u001b[43menv\u001b[49m\u001b[43m,\u001b[49m\n\u001b[0;32m    953\u001b[0m \u001b[43m                        \u001b[49m\u001b[43mstartupinfo\u001b[49m\u001b[43m,\u001b[49m\u001b[43m \u001b[49m\u001b[43mcreationflags\u001b[49m\u001b[43m,\u001b[49m\u001b[43m \u001b[49m\u001b[43mshell\u001b[49m\u001b[43m,\u001b[49m\n\u001b[0;32m    954\u001b[0m \u001b[43m                        \u001b[49m\u001b[43mp2cread\u001b[49m\u001b[43m,\u001b[49m\u001b[43m \u001b[49m\u001b[43mp2cwrite\u001b[49m\u001b[43m,\u001b[49m\n\u001b[0;32m    955\u001b[0m \u001b[43m                        \u001b[49m\u001b[43mc2pread\u001b[49m\u001b[43m,\u001b[49m\u001b[43m \u001b[49m\u001b[43mc2pwrite\u001b[49m\u001b[43m,\u001b[49m\n\u001b[0;32m    956\u001b[0m \u001b[43m                        \u001b[49m\u001b[43merrread\u001b[49m\u001b[43m,\u001b[49m\u001b[43m \u001b[49m\u001b[43merrwrite\u001b[49m\u001b[43m,\u001b[49m\n\u001b[0;32m    957\u001b[0m \u001b[43m                        \u001b[49m\u001b[43mrestore_signals\u001b[49m\u001b[43m,\u001b[49m\n\u001b[0;32m    958\u001b[0m \u001b[43m                        \u001b[49m\u001b[43mgid\u001b[49m\u001b[43m,\u001b[49m\u001b[43m \u001b[49m\u001b[43mgids\u001b[49m\u001b[43m,\u001b[49m\u001b[43m \u001b[49m\u001b[43muid\u001b[49m\u001b[43m,\u001b[49m\u001b[43m \u001b[49m\u001b[43mumask\u001b[49m\u001b[43m,\u001b[49m\n\u001b[0;32m    959\u001b[0m \u001b[43m                        \u001b[49m\u001b[43mstart_new_session\u001b[49m\u001b[43m)\u001b[49m\n\u001b[0;32m    960\u001b[0m \u001b[38;5;28;01mexcept\u001b[39;00m:\n\u001b[0;32m    961\u001b[0m     \u001b[38;5;66;03m# Cleanup if the child failed starting.\u001b[39;00m\n",
      "File \u001b[1;32m~\\.conda\\envs\\alteryx\\lib\\subprocess.py:1420\u001b[0m, in \u001b[0;36mPopen._execute_child\u001b[1;34m(self, args, executable, preexec_fn, close_fds, pass_fds, cwd, env, startupinfo, creationflags, shell, p2cread, p2cwrite, c2pread, c2pwrite, errread, errwrite, unused_restore_signals, unused_gid, unused_gids, unused_uid, unused_umask, unused_start_new_session)\u001b[0m\n\u001b[0;32m   1419\u001b[0m \u001b[38;5;28;01mtry\u001b[39;00m:\n\u001b[1;32m-> 1420\u001b[0m     hp, ht, pid, tid \u001b[38;5;241m=\u001b[39m \u001b[43m_winapi\u001b[49m\u001b[38;5;241;43m.\u001b[39;49m\u001b[43mCreateProcess\u001b[49m\u001b[43m(\u001b[49m\u001b[43mexecutable\u001b[49m\u001b[43m,\u001b[49m\u001b[43m \u001b[49m\u001b[43margs\u001b[49m\u001b[43m,\u001b[49m\n\u001b[0;32m   1421\u001b[0m \u001b[43m                             \u001b[49m\u001b[38;5;66;43;03m# no special security\u001b[39;49;00m\n\u001b[0;32m   1422\u001b[0m \u001b[43m                             \u001b[49m\u001b[38;5;28;43;01mNone\u001b[39;49;00m\u001b[43m,\u001b[49m\u001b[43m \u001b[49m\u001b[38;5;28;43;01mNone\u001b[39;49;00m\u001b[43m,\u001b[49m\n\u001b[0;32m   1423\u001b[0m \u001b[43m                             \u001b[49m\u001b[38;5;28;43mint\u001b[39;49m\u001b[43m(\u001b[49m\u001b[38;5;129;43;01mnot\u001b[39;49;00m\u001b[43m \u001b[49m\u001b[43mclose_fds\u001b[49m\u001b[43m)\u001b[49m\u001b[43m,\u001b[49m\n\u001b[0;32m   1424\u001b[0m \u001b[43m                             \u001b[49m\u001b[43mcreationflags\u001b[49m\u001b[43m,\u001b[49m\n\u001b[0;32m   1425\u001b[0m \u001b[43m                             \u001b[49m\u001b[43menv\u001b[49m\u001b[43m,\u001b[49m\n\u001b[0;32m   1426\u001b[0m \u001b[43m                             \u001b[49m\u001b[43mcwd\u001b[49m\u001b[43m,\u001b[49m\n\u001b[0;32m   1427\u001b[0m \u001b[43m                             \u001b[49m\u001b[43mstartupinfo\u001b[49m\u001b[43m)\u001b[49m\n\u001b[0;32m   1428\u001b[0m \u001b[38;5;28;01mfinally\u001b[39;00m:\n\u001b[0;32m   1429\u001b[0m     \u001b[38;5;66;03m# Child is launched. Close the parent's copy of those pipe\u001b[39;00m\n\u001b[0;32m   1430\u001b[0m     \u001b[38;5;66;03m# handles that only the child should have open.  You need\u001b[39;00m\n\u001b[1;32m   (...)\u001b[0m\n\u001b[0;32m   1433\u001b[0m     \u001b[38;5;66;03m# pipe will not close when the child process exits and the\u001b[39;00m\n\u001b[0;32m   1434\u001b[0m     \u001b[38;5;66;03m# ReadFile will hang.\u001b[39;00m\n",
      "\u001b[1;31mFileNotFoundError\u001b[0m: [WinError 2] The system cannot find the file specified",
      "\nThe above exception was the direct cause of the following exception:\n",
      "\u001b[1;31mExecutableNotFound\u001b[0m                        Traceback (most recent call last)",
      "File \u001b[1;32m~\\.conda\\envs\\alteryx\\lib\\site-packages\\evalml\\pipelines\\pipeline_base.py:532\u001b[0m, in \u001b[0;36mPipelineBase.graph\u001b[1;34m(self, filepath)\u001b[0m\n\u001b[0;32m    531\u001b[0m \u001b[38;5;28;01mtry\u001b[39;00m:\n\u001b[1;32m--> 532\u001b[0m     \u001b[43mgraphviz\u001b[49m\u001b[38;5;241;43m.\u001b[39;49m\u001b[43mDigraph\u001b[49m\u001b[43m(\u001b[49m\u001b[43m)\u001b[49m\u001b[38;5;241;43m.\u001b[39;49m\u001b[43mpipe\u001b[49m\u001b[43m(\u001b[49m\u001b[43m)\u001b[49m\n\u001b[0;32m    533\u001b[0m \u001b[38;5;28;01mexcept\u001b[39;00m graphviz\u001b[38;5;241m.\u001b[39mbackend\u001b[38;5;241m.\u001b[39mExecutableNotFound:\n",
      "File \u001b[1;32m~\\.conda\\envs\\alteryx\\lib\\site-packages\\graphviz\\piping.py:104\u001b[0m, in \u001b[0;36mPipe.pipe\u001b[1;34m(self, format, renderer, formatter, neato_no_op, quiet, engine, encoding)\u001b[0m\n\u001b[0;32m     63\u001b[0m \u001b[38;5;250m\u001b[39m\u001b[38;5;124;03m\"\"\"Return the source piped through the Graphviz layout command.\u001b[39;00m\n\u001b[0;32m     64\u001b[0m \n\u001b[0;32m     65\u001b[0m \u001b[38;5;124;03mArgs:\u001b[39;00m\n\u001b[1;32m   (...)\u001b[0m\n\u001b[0;32m    102\u001b[0m \u001b[38;5;124;03m    '<?xml version='\u001b[39;00m\n\u001b[0;32m    103\u001b[0m \u001b[38;5;124;03m\"\"\"\u001b[39;00m\n\u001b[1;32m--> 104\u001b[0m \u001b[38;5;28;01mreturn\u001b[39;00m \u001b[38;5;28;43mself\u001b[39;49m\u001b[38;5;241;43m.\u001b[39;49m\u001b[43m_pipe_legacy\u001b[49m\u001b[43m(\u001b[49m\u001b[38;5;28;43mformat\u001b[39;49m\u001b[43m,\u001b[49m\n\u001b[0;32m    105\u001b[0m \u001b[43m                         \u001b[49m\u001b[43mrenderer\u001b[49m\u001b[38;5;241;43m=\u001b[39;49m\u001b[43mrenderer\u001b[49m\u001b[43m,\u001b[49m\n\u001b[0;32m    106\u001b[0m \u001b[43m                         \u001b[49m\u001b[43mformatter\u001b[49m\u001b[38;5;241;43m=\u001b[39;49m\u001b[43mformatter\u001b[49m\u001b[43m,\u001b[49m\n\u001b[0;32m    107\u001b[0m \u001b[43m                         \u001b[49m\u001b[43mneato_no_op\u001b[49m\u001b[38;5;241;43m=\u001b[39;49m\u001b[43mneato_no_op\u001b[49m\u001b[43m,\u001b[49m\n\u001b[0;32m    108\u001b[0m \u001b[43m                         \u001b[49m\u001b[43mquiet\u001b[49m\u001b[38;5;241;43m=\u001b[39;49m\u001b[43mquiet\u001b[49m\u001b[43m,\u001b[49m\n\u001b[0;32m    109\u001b[0m \u001b[43m                         \u001b[49m\u001b[43mengine\u001b[49m\u001b[38;5;241;43m=\u001b[39;49m\u001b[43mengine\u001b[49m\u001b[43m,\u001b[49m\n\u001b[0;32m    110\u001b[0m \u001b[43m                         \u001b[49m\u001b[43mencoding\u001b[49m\u001b[38;5;241;43m=\u001b[39;49m\u001b[43mencoding\u001b[49m\u001b[43m)\u001b[49m\n",
      "File \u001b[1;32m~\\.conda\\envs\\alteryx\\lib\\site-packages\\graphviz\\_tools.py:171\u001b[0m, in \u001b[0;36mdeprecate_positional_args.<locals>.decorator.<locals>.wrapper\u001b[1;34m(*args, **kwargs)\u001b[0m\n\u001b[0;32m    164\u001b[0m     warnings\u001b[38;5;241m.\u001b[39mwarn(\u001b[38;5;124mf\u001b[39m\u001b[38;5;124m'\u001b[39m\u001b[38;5;124mThe signature of \u001b[39m\u001b[38;5;132;01m{\u001b[39;00mfunc\u001b[38;5;241m.\u001b[39m\u001b[38;5;18m__name__\u001b[39m\u001b[38;5;132;01m}\u001b[39;00m\u001b[38;5;124m will be reduced\u001b[39m\u001b[38;5;124m'\u001b[39m\n\u001b[0;32m    165\u001b[0m                   \u001b[38;5;124mf\u001b[39m\u001b[38;5;124m'\u001b[39m\u001b[38;5;124m to \u001b[39m\u001b[38;5;132;01m{\u001b[39;00msupported_number\u001b[38;5;132;01m}\u001b[39;00m\u001b[38;5;124m positional args\u001b[39m\u001b[38;5;124m'\u001b[39m\n\u001b[0;32m    166\u001b[0m                   \u001b[38;5;124mf\u001b[39m\u001b[38;5;124m'\u001b[39m\u001b[38;5;124m \u001b[39m\u001b[38;5;132;01m{\u001b[39;00m\u001b[38;5;28mlist\u001b[39m(supported)\u001b[38;5;132;01m}\u001b[39;00m\u001b[38;5;124m: pass \u001b[39m\u001b[38;5;132;01m{\u001b[39;00mwanted\u001b[38;5;132;01m}\u001b[39;00m\u001b[38;5;124m'\u001b[39m\n\u001b[0;32m    167\u001b[0m                   \u001b[38;5;124m'\u001b[39m\u001b[38;5;124m as keyword arg(s)\u001b[39m\u001b[38;5;124m'\u001b[39m,\n\u001b[0;32m    168\u001b[0m                   stacklevel\u001b[38;5;241m=\u001b[39mstacklevel,\n\u001b[0;32m    169\u001b[0m                   category\u001b[38;5;241m=\u001b[39mcategory)\n\u001b[1;32m--> 171\u001b[0m \u001b[38;5;28;01mreturn\u001b[39;00m func(\u001b[38;5;241m*\u001b[39margs, \u001b[38;5;241m*\u001b[39m\u001b[38;5;241m*\u001b[39mkwargs)\n",
      "File \u001b[1;32m~\\.conda\\envs\\alteryx\\lib\\site-packages\\graphviz\\piping.py:121\u001b[0m, in \u001b[0;36mPipe._pipe_legacy\u001b[1;34m(self, format, renderer, formatter, neato_no_op, quiet, engine, encoding)\u001b[0m\n\u001b[0;32m    112\u001b[0m \u001b[38;5;129m@_tools\u001b[39m\u001b[38;5;241m.\u001b[39mdeprecate_positional_args(supported_number\u001b[38;5;241m=\u001b[39m\u001b[38;5;241m2\u001b[39m)\n\u001b[0;32m    113\u001b[0m \u001b[38;5;28;01mdef\u001b[39;00m \u001b[38;5;21m_pipe_legacy\u001b[39m(\u001b[38;5;28mself\u001b[39m,\n\u001b[0;32m    114\u001b[0m                  \u001b[38;5;28mformat\u001b[39m: typing\u001b[38;5;241m.\u001b[39mOptional[\u001b[38;5;28mstr\u001b[39m] \u001b[38;5;241m=\u001b[39m \u001b[38;5;28;01mNone\u001b[39;00m,\n\u001b[1;32m   (...)\u001b[0m\n\u001b[0;32m    119\u001b[0m                  engine: typing\u001b[38;5;241m.\u001b[39mOptional[\u001b[38;5;28mstr\u001b[39m] \u001b[38;5;241m=\u001b[39m \u001b[38;5;28;01mNone\u001b[39;00m,\n\u001b[0;32m    120\u001b[0m                  encoding: typing\u001b[38;5;241m.\u001b[39mOptional[\u001b[38;5;28mstr\u001b[39m] \u001b[38;5;241m=\u001b[39m \u001b[38;5;28;01mNone\u001b[39;00m) \u001b[38;5;241m-\u001b[39m\u001b[38;5;241m>\u001b[39m typing\u001b[38;5;241m.\u001b[39mUnion[\u001b[38;5;28mbytes\u001b[39m, \u001b[38;5;28mstr\u001b[39m]:\n\u001b[1;32m--> 121\u001b[0m     \u001b[38;5;28;01mreturn\u001b[39;00m \u001b[38;5;28;43mself\u001b[39;49m\u001b[38;5;241;43m.\u001b[39;49m\u001b[43m_pipe_future\u001b[49m\u001b[43m(\u001b[49m\u001b[38;5;28;43mformat\u001b[39;49m\u001b[43m,\u001b[49m\n\u001b[0;32m    122\u001b[0m \u001b[43m                             \u001b[49m\u001b[43mrenderer\u001b[49m\u001b[38;5;241;43m=\u001b[39;49m\u001b[43mrenderer\u001b[49m\u001b[43m,\u001b[49m\n\u001b[0;32m    123\u001b[0m \u001b[43m                             \u001b[49m\u001b[43mformatter\u001b[49m\u001b[38;5;241;43m=\u001b[39;49m\u001b[43mformatter\u001b[49m\u001b[43m,\u001b[49m\n\u001b[0;32m    124\u001b[0m \u001b[43m                             \u001b[49m\u001b[43mneato_no_op\u001b[49m\u001b[38;5;241;43m=\u001b[39;49m\u001b[43mneato_no_op\u001b[49m\u001b[43m,\u001b[49m\n\u001b[0;32m    125\u001b[0m \u001b[43m                             \u001b[49m\u001b[43mquiet\u001b[49m\u001b[38;5;241;43m=\u001b[39;49m\u001b[43mquiet\u001b[49m\u001b[43m,\u001b[49m\n\u001b[0;32m    126\u001b[0m \u001b[43m                             \u001b[49m\u001b[43mengine\u001b[49m\u001b[38;5;241;43m=\u001b[39;49m\u001b[43mengine\u001b[49m\u001b[43m,\u001b[49m\n\u001b[0;32m    127\u001b[0m \u001b[43m                             \u001b[49m\u001b[43mencoding\u001b[49m\u001b[38;5;241;43m=\u001b[39;49m\u001b[43mencoding\u001b[49m\u001b[43m)\u001b[49m\n",
      "File \u001b[1;32m~\\.conda\\envs\\alteryx\\lib\\site-packages\\graphviz\\piping.py:161\u001b[0m, in \u001b[0;36mPipe._pipe_future\u001b[1;34m(self, format, renderer, formatter, neato_no_op, quiet, engine, encoding)\u001b[0m\n\u001b[0;32m    160\u001b[0m         \u001b[38;5;28;01mreturn\u001b[39;00m raw\u001b[38;5;241m.\u001b[39mdecode(encoding)\n\u001b[1;32m--> 161\u001b[0m \u001b[38;5;28;01mreturn\u001b[39;00m \u001b[38;5;28mself\u001b[39m\u001b[38;5;241m.\u001b[39m_pipe_lines(\u001b[38;5;241m*\u001b[39margs, input_encoding\u001b[38;5;241m=\u001b[39m\u001b[38;5;28mself\u001b[39m\u001b[38;5;241m.\u001b[39mencoding, \u001b[38;5;241m*\u001b[39m\u001b[38;5;241m*\u001b[39mkwargs)\n",
      "File \u001b[1;32m~\\.conda\\envs\\alteryx\\lib\\site-packages\\graphviz\\backend\\piping.py:161\u001b[0m, in \u001b[0;36mpipe_lines\u001b[1;34m(engine, format, input_lines, input_encoding, renderer, formatter, neato_no_op, quiet)\u001b[0m\n\u001b[0;32m    159\u001b[0m kwargs \u001b[38;5;241m=\u001b[39m {\u001b[38;5;124m'\u001b[39m\u001b[38;5;124minput_lines\u001b[39m\u001b[38;5;124m'\u001b[39m: (line\u001b[38;5;241m.\u001b[39mencode(input_encoding) \u001b[38;5;28;01mfor\u001b[39;00m line \u001b[38;5;129;01min\u001b[39;00m input_lines)}\n\u001b[1;32m--> 161\u001b[0m proc \u001b[38;5;241m=\u001b[39m execute\u001b[38;5;241m.\u001b[39mrun_check(cmd, capture_output\u001b[38;5;241m=\u001b[39m\u001b[38;5;28;01mTrue\u001b[39;00m, quiet\u001b[38;5;241m=\u001b[39mquiet, \u001b[38;5;241m*\u001b[39m\u001b[38;5;241m*\u001b[39mkwargs)\n\u001b[0;32m    162\u001b[0m \u001b[38;5;28;01mreturn\u001b[39;00m proc\u001b[38;5;241m.\u001b[39mstdout\n",
      "File \u001b[1;32m~\\.conda\\envs\\alteryx\\lib\\site-packages\\graphviz\\backend\\execute.py:84\u001b[0m, in \u001b[0;36mrun_check\u001b[1;34m(cmd, input_lines, encoding, quiet, **kwargs)\u001b[0m\n\u001b[0;32m     83\u001b[0m \u001b[38;5;28;01mif\u001b[39;00m e\u001b[38;5;241m.\u001b[39merrno \u001b[38;5;241m==\u001b[39m errno\u001b[38;5;241m.\u001b[39mENOENT:\n\u001b[1;32m---> 84\u001b[0m     \u001b[38;5;28;01mraise\u001b[39;00m ExecutableNotFound(cmd) \u001b[38;5;28;01mfrom\u001b[39;00m \u001b[38;5;21;01me\u001b[39;00m\n\u001b[0;32m     85\u001b[0m \u001b[38;5;28;01mraise\u001b[39;00m\n",
      "\u001b[1;31mExecutableNotFound\u001b[0m: failed to execute WindowsPath('dot'), make sure the Graphviz executables are on your systems' PATH",
      "\nDuring handling of the above exception, another exception occurred:\n",
      "\u001b[1;31mRuntimeError\u001b[0m                              Traceback (most recent call last)",
      "Cell \u001b[1;32mIn[16], line 1\u001b[0m\n\u001b[1;32m----> 1\u001b[0m \u001b[43mbest_pipeline\u001b[49m\u001b[38;5;241;43m.\u001b[39;49m\u001b[43mgraph\u001b[49m\u001b[43m(\u001b[49m\u001b[43m)\u001b[49m\n",
      "File \u001b[1;32m~\\.conda\\envs\\alteryx\\lib\\site-packages\\evalml\\pipelines\\pipeline_base.py:534\u001b[0m, in \u001b[0;36mPipelineBase.graph\u001b[1;34m(self, filepath)\u001b[0m\n\u001b[0;32m    532\u001b[0m     graphviz\u001b[38;5;241m.\u001b[39mDigraph()\u001b[38;5;241m.\u001b[39mpipe()\n\u001b[0;32m    533\u001b[0m \u001b[38;5;28;01mexcept\u001b[39;00m graphviz\u001b[38;5;241m.\u001b[39mbackend\u001b[38;5;241m.\u001b[39mExecutableNotFound:\n\u001b[1;32m--> 534\u001b[0m     \u001b[38;5;28;01mraise\u001b[39;00m \u001b[38;5;167;01mRuntimeError\u001b[39;00m(\n\u001b[0;32m    535\u001b[0m         \u001b[38;5;124m\"\u001b[39m\u001b[38;5;124mTo graph pipelines, a graphviz backend is required.\u001b[39m\u001b[38;5;130;01m\\n\u001b[39;00m\u001b[38;5;124m\"\u001b[39m\n\u001b[0;32m    536\u001b[0m         \u001b[38;5;241m+\u001b[39m \u001b[38;5;124m\"\u001b[39m\u001b[38;5;124mInstall the backend using one of the following commands:\u001b[39m\u001b[38;5;130;01m\\n\u001b[39;00m\u001b[38;5;124m\"\u001b[39m\n\u001b[0;32m    537\u001b[0m         \u001b[38;5;241m+\u001b[39m \u001b[38;5;124m\"\u001b[39m\u001b[38;5;124m  Mac OS: brew install graphviz\u001b[39m\u001b[38;5;130;01m\\n\u001b[39;00m\u001b[38;5;124m\"\u001b[39m\n\u001b[0;32m    538\u001b[0m         \u001b[38;5;241m+\u001b[39m \u001b[38;5;124m\"\u001b[39m\u001b[38;5;124m  Linux (Ubuntu): sudo apt-get install graphviz\u001b[39m\u001b[38;5;130;01m\\n\u001b[39;00m\u001b[38;5;124m\"\u001b[39m\n\u001b[0;32m    539\u001b[0m         \u001b[38;5;241m+\u001b[39m \u001b[38;5;124m\"\u001b[39m\u001b[38;5;124m  Windows: conda install python-graphviz\u001b[39m\u001b[38;5;130;01m\\n\u001b[39;00m\u001b[38;5;124m\"\u001b[39m,\n\u001b[0;32m    540\u001b[0m     )\n\u001b[0;32m    542\u001b[0m graph_format \u001b[38;5;241m=\u001b[39m \u001b[38;5;28;01mNone\u001b[39;00m\n\u001b[0;32m    543\u001b[0m path_and_name \u001b[38;5;241m=\u001b[39m \u001b[38;5;28;01mNone\u001b[39;00m\n",
      "\u001b[1;31mRuntimeError\u001b[0m: To graph pipelines, a graphviz backend is required.\nInstall the backend using one of the following commands:\n  Mac OS: brew install graphviz\n  Linux (Ubuntu): sudo apt-get install graphviz\n  Windows: conda install python-graphviz\n"
     ]
    }
   ],
   "source": [
    "best_pipeline.graph()"
   ]
  },
  {
   "cell_type": "code",
   "execution_count": null,
   "id": "bd49ce76",
   "metadata": {},
   "outputs": [],
   "source": []
  },
  {
   "cell_type": "code",
   "execution_count": null,
   "id": "ab95da8a",
   "metadata": {},
   "outputs": [],
   "source": []
  },
  {
   "cell_type": "code",
   "execution_count": null,
   "id": "1b676478",
   "metadata": {},
   "outputs": [],
   "source": [
    "best_pipeline.input_feature_names"
   ]
  },
  {
   "cell_type": "code",
   "execution_count": null,
   "id": "6c26f1d9",
   "metadata": {},
   "outputs": [],
   "source": []
  }
 ],
 "metadata": {
  "kernelspec": {
   "display_name": "Python 3 (ipykernel)",
   "language": "python",
   "name": "python3"
  },
  "language_info": {
   "codemirror_mode": {
    "name": "ipython",
    "version": 3
   },
   "file_extension": ".py",
   "mimetype": "text/x-python",
   "name": "python",
   "nbconvert_exporter": "python",
   "pygments_lexer": "ipython3",
   "version": "3.9.16"
  }
 },
 "nbformat": 4,
 "nbformat_minor": 5
}
