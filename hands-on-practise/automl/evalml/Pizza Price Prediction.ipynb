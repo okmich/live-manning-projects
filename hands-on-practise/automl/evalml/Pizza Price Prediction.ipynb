{
 "cells": [
  {
   "cell_type": "code",
   "execution_count": 1,
   "id": "ee4b52bd-3472-420d-8b99-612b1e732bb5",
   "metadata": {},
   "outputs": [
    {
     "name": "stderr",
     "output_type": "stream",
     "text": [
      "C:\\Users\\okmic\\.conda\\envs\\alteryx\\lib\\site-packages\\shap\\utils\\_clustering.py:35: NumbaDeprecationWarning: \u001b[1mThe 'nopython' keyword argument was not supplied to the 'numba.jit' decorator. The implicit default value for this argument is currently False, but it will be changed to True in Numba 0.59.0. See https://numba.readthedocs.io/en/stable/reference/deprecation.html#deprecation-of-object-mode-fall-back-behaviour-when-using-jit for details.\u001b[0m\n",
      "  def _pt_shuffle_rec(i, indexes, index_mask, partition_tree, M, pos):\n",
      "C:\\Users\\okmic\\.conda\\envs\\alteryx\\lib\\site-packages\\shap\\utils\\_clustering.py:54: NumbaDeprecationWarning: \u001b[1mThe 'nopython' keyword argument was not supplied to the 'numba.jit' decorator. The implicit default value for this argument is currently False, but it will be changed to True in Numba 0.59.0. See https://numba.readthedocs.io/en/stable/reference/deprecation.html#deprecation-of-object-mode-fall-back-behaviour-when-using-jit for details.\u001b[0m\n",
      "  def delta_minimization_order(all_masks, max_swap_size=100, num_passes=2):\n",
      "C:\\Users\\okmic\\.conda\\envs\\alteryx\\lib\\site-packages\\shap\\utils\\_clustering.py:63: NumbaDeprecationWarning: \u001b[1mThe 'nopython' keyword argument was not supplied to the 'numba.jit' decorator. The implicit default value for this argument is currently False, but it will be changed to True in Numba 0.59.0. See https://numba.readthedocs.io/en/stable/reference/deprecation.html#deprecation-of-object-mode-fall-back-behaviour-when-using-jit for details.\u001b[0m\n",
      "  def _reverse_window(order, start, length):\n",
      "C:\\Users\\okmic\\.conda\\envs\\alteryx\\lib\\site-packages\\shap\\utils\\_clustering.py:69: NumbaDeprecationWarning: \u001b[1mThe 'nopython' keyword argument was not supplied to the 'numba.jit' decorator. The implicit default value for this argument is currently False, but it will be changed to True in Numba 0.59.0. See https://numba.readthedocs.io/en/stable/reference/deprecation.html#deprecation-of-object-mode-fall-back-behaviour-when-using-jit for details.\u001b[0m\n",
      "  def _reverse_window_score_gain(masks, order, start, length):\n",
      "C:\\Users\\okmic\\.conda\\envs\\alteryx\\lib\\site-packages\\shap\\utils\\_clustering.py:77: NumbaDeprecationWarning: \u001b[1mThe 'nopython' keyword argument was not supplied to the 'numba.jit' decorator. The implicit default value for this argument is currently False, but it will be changed to True in Numba 0.59.0. See https://numba.readthedocs.io/en/stable/reference/deprecation.html#deprecation-of-object-mode-fall-back-behaviour-when-using-jit for details.\u001b[0m\n",
      "  def _mask_delta_score(m1, m2):\n",
      "C:\\Users\\okmic\\.conda\\envs\\alteryx\\lib\\site-packages\\shap\\links.py:5: NumbaDeprecationWarning: \u001b[1mThe 'nopython' keyword argument was not supplied to the 'numba.jit' decorator. The implicit default value for this argument is currently False, but it will be changed to True in Numba 0.59.0. See https://numba.readthedocs.io/en/stable/reference/deprecation.html#deprecation-of-object-mode-fall-back-behaviour-when-using-jit for details.\u001b[0m\n",
      "  def identity(x):\n",
      "C:\\Users\\okmic\\.conda\\envs\\alteryx\\lib\\site-packages\\shap\\links.py:10: NumbaDeprecationWarning: \u001b[1mThe 'nopython' keyword argument was not supplied to the 'numba.jit' decorator. The implicit default value for this argument is currently False, but it will be changed to True in Numba 0.59.0. See https://numba.readthedocs.io/en/stable/reference/deprecation.html#deprecation-of-object-mode-fall-back-behaviour-when-using-jit for details.\u001b[0m\n",
      "  def _identity_inverse(x):\n",
      "C:\\Users\\okmic\\.conda\\envs\\alteryx\\lib\\site-packages\\shap\\links.py:15: NumbaDeprecationWarning: \u001b[1mThe 'nopython' keyword argument was not supplied to the 'numba.jit' decorator. The implicit default value for this argument is currently False, but it will be changed to True in Numba 0.59.0. See https://numba.readthedocs.io/en/stable/reference/deprecation.html#deprecation-of-object-mode-fall-back-behaviour-when-using-jit for details.\u001b[0m\n",
      "  def logit(x):\n",
      "C:\\Users\\okmic\\.conda\\envs\\alteryx\\lib\\site-packages\\shap\\links.py:20: NumbaDeprecationWarning: \u001b[1mThe 'nopython' keyword argument was not supplied to the 'numba.jit' decorator. The implicit default value for this argument is currently False, but it will be changed to True in Numba 0.59.0. See https://numba.readthedocs.io/en/stable/reference/deprecation.html#deprecation-of-object-mode-fall-back-behaviour-when-using-jit for details.\u001b[0m\n",
      "  def _logit_inverse(x):\n",
      "C:\\Users\\okmic\\.conda\\envs\\alteryx\\lib\\site-packages\\shap\\utils\\_masked_model.py:363: NumbaDeprecationWarning: \u001b[1mThe 'nopython' keyword argument was not supplied to the 'numba.jit' decorator. The implicit default value for this argument is currently False, but it will be changed to True in Numba 0.59.0. See https://numba.readthedocs.io/en/stable/reference/deprecation.html#deprecation-of-object-mode-fall-back-behaviour-when-using-jit for details.\u001b[0m\n",
      "  def _build_fixed_single_output(averaged_outs, last_outs, outputs, batch_positions, varying_rows, num_varying_rows, link, linearizing_weights):\n",
      "C:\\Users\\okmic\\.conda\\envs\\alteryx\\lib\\site-packages\\shap\\utils\\_masked_model.py:385: NumbaDeprecationWarning: \u001b[1mThe 'nopython' keyword argument was not supplied to the 'numba.jit' decorator. The implicit default value for this argument is currently False, but it will be changed to True in Numba 0.59.0. See https://numba.readthedocs.io/en/stable/reference/deprecation.html#deprecation-of-object-mode-fall-back-behaviour-when-using-jit for details.\u001b[0m\n",
      "  def _build_fixed_multi_output(averaged_outs, last_outs, outputs, batch_positions, varying_rows, num_varying_rows, link, linearizing_weights):\n",
      "C:\\Users\\okmic\\.conda\\envs\\alteryx\\lib\\site-packages\\shap\\utils\\_masked_model.py:428: NumbaDeprecationWarning: \u001b[1mThe 'nopython' keyword argument was not supplied to the 'numba.jit' decorator. The implicit default value for this argument is currently False, but it will be changed to True in Numba 0.59.0. See https://numba.readthedocs.io/en/stable/reference/deprecation.html#deprecation-of-object-mode-fall-back-behaviour-when-using-jit for details.\u001b[0m\n",
      "  def _init_masks(cluster_matrix, M, indices_row_pos, indptr):\n",
      "C:\\Users\\okmic\\.conda\\envs\\alteryx\\lib\\site-packages\\shap\\utils\\_masked_model.py:439: NumbaDeprecationWarning: \u001b[1mThe 'nopython' keyword argument was not supplied to the 'numba.jit' decorator. The implicit default value for this argument is currently False, but it will be changed to True in Numba 0.59.0. See https://numba.readthedocs.io/en/stable/reference/deprecation.html#deprecation-of-object-mode-fall-back-behaviour-when-using-jit for details.\u001b[0m\n",
      "  def _rec_fill_masks(cluster_matrix, indices_row_pos, indptr, indices, M, ind):\n",
      "C:\\Users\\okmic\\.conda\\envs\\alteryx\\lib\\site-packages\\shap\\maskers\\_tabular.py:186: NumbaDeprecationWarning: \u001b[1mThe 'nopython' keyword argument was not supplied to the 'numba.jit' decorator. The implicit default value for this argument is currently False, but it will be changed to True in Numba 0.59.0. See https://numba.readthedocs.io/en/stable/reference/deprecation.html#deprecation-of-object-mode-fall-back-behaviour-when-using-jit for details.\u001b[0m\n",
      "  def _single_delta_mask(dind, masked_inputs, last_mask, data, x, noop_code):\n",
      "C:\\Users\\okmic\\.conda\\envs\\alteryx\\lib\\site-packages\\shap\\maskers\\_tabular.py:197: NumbaDeprecationWarning: \u001b[1mThe 'nopython' keyword argument was not supplied to the 'numba.jit' decorator. The implicit default value for this argument is currently False, but it will be changed to True in Numba 0.59.0. See https://numba.readthedocs.io/en/stable/reference/deprecation.html#deprecation-of-object-mode-fall-back-behaviour-when-using-jit for details.\u001b[0m\n",
      "  def _delta_masking(masks, x, curr_delta_inds, varying_rows_out,\n",
      "C:\\Users\\okmic\\.conda\\envs\\alteryx\\lib\\site-packages\\shap\\maskers\\_image.py:175: NumbaDeprecationWarning: \u001b[1mThe 'nopython' keyword argument was not supplied to the 'numba.jit' decorator. The implicit default value for this argument is currently False, but it will be changed to True in Numba 0.59.0. See https://numba.readthedocs.io/en/stable/reference/deprecation.html#deprecation-of-object-mode-fall-back-behaviour-when-using-jit for details.\u001b[0m\n",
      "  def _jit_build_partition_tree(xmin, xmax, ymin, ymax, zmin, zmax, total_ywidth, total_zwidth, M, clustering, q):\n",
      "C:\\Users\\okmic\\.conda\\envs\\alteryx\\lib\\site-packages\\shap\\explainers\\_partition.py:676: NumbaDeprecationWarning: \u001b[1mThe 'nopython' keyword argument was not supplied to the 'numba.jit' decorator. The implicit default value for this argument is currently False, but it will be changed to True in Numba 0.59.0. See https://numba.readthedocs.io/en/stable/reference/deprecation.html#deprecation-of-object-mode-fall-back-behaviour-when-using-jit for details.\u001b[0m\n",
      "  def lower_credit(i, value, M, values, clustering):\n",
      "\u001b[1mThe 'nopython' keyword argument was not supplied to the 'numba.jit' decorator. The implicit default value for this argument is currently False, but it will be changed to True in Numba 0.59.0. See https://numba.readthedocs.io/en/stable/reference/deprecation.html#deprecation-of-object-mode-fall-back-behaviour-when-using-jit for details.\u001b[0m\n",
      "\u001b[1mThe 'nopython' keyword argument was not supplied to the 'numba.jit' decorator. The implicit default value for this argument is currently False, but it will be changed to True in Numba 0.59.0. See https://numba.readthedocs.io/en/stable/reference/deprecation.html#deprecation-of-object-mode-fall-back-behaviour-when-using-jit for details.\u001b[0m\n"
     ]
    }
   ],
   "source": [
    "import evalml\n",
    "from evalml import AutoMLSearch\n",
    "\n",
    "import numpy as np\n",
    "import pandas as pd\n",
    "import matplotlib.pyplot as plt\n",
    "import seaborn as sns\n",
    "\n",
    "from sklearn.preprocessing import OneHotEncoder"
   ]
  },
  {
   "cell_type": "markdown",
   "id": "9fdb146d",
   "metadata": {},
   "source": [
    "### Dataset"
   ]
  },
  {
   "cell_type": "code",
   "execution_count": 2,
   "id": "95c96415",
   "metadata": {},
   "outputs": [
    {
     "data": {
      "text/html": [
       "<div>\n",
       "<style scoped>\n",
       "    .dataframe tbody tr th:only-of-type {\n",
       "        vertical-align: middle;\n",
       "    }\n",
       "\n",
       "    .dataframe tbody tr th {\n",
       "        vertical-align: top;\n",
       "    }\n",
       "\n",
       "    .dataframe thead th {\n",
       "        text-align: right;\n",
       "    }\n",
       "</style>\n",
       "<table border=\"1\" class=\"dataframe\">\n",
       "  <thead>\n",
       "    <tr style=\"text-align: right;\">\n",
       "      <th></th>\n",
       "      <th>company</th>\n",
       "      <th>price_rupiah</th>\n",
       "      <th>diameter</th>\n",
       "      <th>topping</th>\n",
       "      <th>variant</th>\n",
       "      <th>size</th>\n",
       "      <th>extra_sauce</th>\n",
       "      <th>extra_cheese</th>\n",
       "      <th>extra_mushrooms</th>\n",
       "    </tr>\n",
       "  </thead>\n",
       "  <tbody>\n",
       "    <tr>\n",
       "      <th>0</th>\n",
       "      <td>A</td>\n",
       "      <td>Rp235,000</td>\n",
       "      <td>22 inch</td>\n",
       "      <td>chicken</td>\n",
       "      <td>double_signature</td>\n",
       "      <td>jumbo</td>\n",
       "      <td>yes</td>\n",
       "      <td>yes</td>\n",
       "      <td>no</td>\n",
       "    </tr>\n",
       "    <tr>\n",
       "      <th>1</th>\n",
       "      <td>A</td>\n",
       "      <td>Rp198,000</td>\n",
       "      <td>20 inch</td>\n",
       "      <td>papperoni</td>\n",
       "      <td>double_signature</td>\n",
       "      <td>jumbo</td>\n",
       "      <td>yes</td>\n",
       "      <td>yes</td>\n",
       "      <td>no</td>\n",
       "    </tr>\n",
       "    <tr>\n",
       "      <th>2</th>\n",
       "      <td>A</td>\n",
       "      <td>Rp120,000</td>\n",
       "      <td>16 inch</td>\n",
       "      <td>mushrooms</td>\n",
       "      <td>double_signature</td>\n",
       "      <td>reguler</td>\n",
       "      <td>yes</td>\n",
       "      <td>yes</td>\n",
       "      <td>yes</td>\n",
       "    </tr>\n",
       "    <tr>\n",
       "      <th>3</th>\n",
       "      <td>A</td>\n",
       "      <td>Rp155,000</td>\n",
       "      <td>14 inch</td>\n",
       "      <td>smoked_beef</td>\n",
       "      <td>double_signature</td>\n",
       "      <td>reguler</td>\n",
       "      <td>yes</td>\n",
       "      <td>no</td>\n",
       "      <td>yes</td>\n",
       "    </tr>\n",
       "    <tr>\n",
       "      <th>4</th>\n",
       "      <td>A</td>\n",
       "      <td>Rp248,000</td>\n",
       "      <td>18 inch</td>\n",
       "      <td>mozzarella</td>\n",
       "      <td>double_signature</td>\n",
       "      <td>jumbo</td>\n",
       "      <td>yes</td>\n",
       "      <td>no</td>\n",
       "      <td>yes</td>\n",
       "    </tr>\n",
       "  </tbody>\n",
       "</table>\n",
       "</div>"
      ],
      "text/plain": [
       "  company price_rupiah diameter      topping           variant     size  \\\n",
       "0       A    Rp235,000  22 inch      chicken  double_signature    jumbo   \n",
       "1       A    Rp198,000  20 inch    papperoni  double_signature    jumbo   \n",
       "2       A    Rp120,000  16 inch    mushrooms  double_signature  reguler   \n",
       "3       A    Rp155,000  14 inch  smoked_beef  double_signature  reguler   \n",
       "4       A    Rp248,000  18 inch   mozzarella  double_signature    jumbo   \n",
       "\n",
       "  extra_sauce extra_cheese extra_mushrooms  \n",
       "0         yes          yes              no  \n",
       "1         yes          yes              no  \n",
       "2         yes          yes             yes  \n",
       "3         yes           no             yes  \n",
       "4         yes           no             yes  "
      ]
     },
     "execution_count": 2,
     "metadata": {},
     "output_type": "execute_result"
    }
   ],
   "source": [
    "raw_data = pd.read_csv('../../data/pizza_v2.csv')\n",
    "raw_data.head()"
   ]
  },
  {
   "cell_type": "code",
   "execution_count": 3,
   "id": "9a9469ff",
   "metadata": {},
   "outputs": [
    {
     "name": "stdout",
     "output_type": "stream",
     "text": [
      "<class 'pandas.core.frame.DataFrame'>\n",
      "RangeIndex: 129 entries, 0 to 128\n",
      "Data columns (total 9 columns):\n",
      " #   Column           Non-Null Count  Dtype \n",
      "---  ------           --------------  ----- \n",
      " 0   company          129 non-null    object\n",
      " 1   price_rupiah     129 non-null    object\n",
      " 2   diameter         129 non-null    object\n",
      " 3   topping          129 non-null    object\n",
      " 4   variant          129 non-null    object\n",
      " 5   size             129 non-null    object\n",
      " 6   extra_sauce      129 non-null    object\n",
      " 7   extra_cheese     129 non-null    object\n",
      " 8   extra_mushrooms  129 non-null    object\n",
      "dtypes: object(9)\n",
      "memory usage: 9.2+ KB\n"
     ]
    }
   ],
   "source": [
    "raw_data.info() # notice that there is not na/null value"
   ]
  },
  {
   "cell_type": "markdown",
   "id": "c5a382c5",
   "metadata": {},
   "source": [
    "### Feature Engineering"
   ]
  },
  {
   "cell_type": "code",
   "execution_count": 4,
   "id": "8752e36d",
   "metadata": {},
   "outputs": [],
   "source": [
    "dep_var_col = 'price_rupiah'"
   ]
  },
  {
   "cell_type": "code",
   "execution_count": 5,
   "id": "845d657d",
   "metadata": {
    "scrolled": false
   },
   "outputs": [
    {
     "data": {
      "text/html": [
       "<div>\n",
       "<style scoped>\n",
       "    .dataframe tbody tr th:only-of-type {\n",
       "        vertical-align: middle;\n",
       "    }\n",
       "\n",
       "    .dataframe tbody tr th {\n",
       "        vertical-align: top;\n",
       "    }\n",
       "\n",
       "    .dataframe thead th {\n",
       "        text-align: right;\n",
       "    }\n",
       "</style>\n",
       "<table border=\"1\" class=\"dataframe\">\n",
       "  <thead>\n",
       "    <tr style=\"text-align: right;\">\n",
       "      <th></th>\n",
       "      <th>company</th>\n",
       "      <th>price_rupiah</th>\n",
       "      <th>diameter</th>\n",
       "      <th>topping</th>\n",
       "      <th>variant</th>\n",
       "      <th>size</th>\n",
       "      <th>extra_sauce</th>\n",
       "      <th>extra_cheese</th>\n",
       "      <th>extra_mushrooms</th>\n",
       "    </tr>\n",
       "  </thead>\n",
       "  <tbody>\n",
       "    <tr>\n",
       "      <th>0</th>\n",
       "      <td>A</td>\n",
       "      <td>235000.0</td>\n",
       "      <td>22.0</td>\n",
       "      <td>chicken</td>\n",
       "      <td>double_signature</td>\n",
       "      <td>jumbo</td>\n",
       "      <td>yes</td>\n",
       "      <td>yes</td>\n",
       "      <td>no</td>\n",
       "    </tr>\n",
       "    <tr>\n",
       "      <th>1</th>\n",
       "      <td>A</td>\n",
       "      <td>198000.0</td>\n",
       "      <td>20.0</td>\n",
       "      <td>papperoni</td>\n",
       "      <td>double_signature</td>\n",
       "      <td>jumbo</td>\n",
       "      <td>yes</td>\n",
       "      <td>yes</td>\n",
       "      <td>no</td>\n",
       "    </tr>\n",
       "    <tr>\n",
       "      <th>2</th>\n",
       "      <td>A</td>\n",
       "      <td>120000.0</td>\n",
       "      <td>16.0</td>\n",
       "      <td>mushrooms</td>\n",
       "      <td>double_signature</td>\n",
       "      <td>reguler</td>\n",
       "      <td>yes</td>\n",
       "      <td>yes</td>\n",
       "      <td>yes</td>\n",
       "    </tr>\n",
       "    <tr>\n",
       "      <th>3</th>\n",
       "      <td>A</td>\n",
       "      <td>155000.0</td>\n",
       "      <td>14.0</td>\n",
       "      <td>smoked_beef</td>\n",
       "      <td>double_signature</td>\n",
       "      <td>reguler</td>\n",
       "      <td>yes</td>\n",
       "      <td>no</td>\n",
       "      <td>yes</td>\n",
       "    </tr>\n",
       "    <tr>\n",
       "      <th>4</th>\n",
       "      <td>A</td>\n",
       "      <td>248000.0</td>\n",
       "      <td>18.0</td>\n",
       "      <td>mozzarella</td>\n",
       "      <td>double_signature</td>\n",
       "      <td>jumbo</td>\n",
       "      <td>yes</td>\n",
       "      <td>no</td>\n",
       "      <td>yes</td>\n",
       "    </tr>\n",
       "  </tbody>\n",
       "</table>\n",
       "</div>"
      ],
      "text/plain": [
       "  company  price_rupiah  diameter      topping           variant     size  \\\n",
       "0       A      235000.0      22.0      chicken  double_signature    jumbo   \n",
       "1       A      198000.0      20.0    papperoni  double_signature    jumbo   \n",
       "2       A      120000.0      16.0    mushrooms  double_signature  reguler   \n",
       "3       A      155000.0      14.0  smoked_beef  double_signature  reguler   \n",
       "4       A      248000.0      18.0   mozzarella  double_signature    jumbo   \n",
       "\n",
       "  extra_sauce extra_cheese extra_mushrooms  \n",
       "0         yes          yes              no  \n",
       "1         yes          yes              no  \n",
       "2         yes          yes             yes  \n",
       "3         yes           no             yes  \n",
       "4         yes           no             yes  "
      ]
     },
     "execution_count": 5,
     "metadata": {},
     "output_type": "execute_result"
    }
   ],
   "source": [
    "data = raw_data.copy()\n",
    "data['diameter'] = (data['diameter'].str.replace(' inch', '')).astype(float)\n",
    "data['price_rupiah'] = (data['price_rupiah'].str.replace('Rp', ''))\n",
    "data['price_rupiah'] = (data['price_rupiah'].str.replace(',', '')).astype(float)\n",
    "\n",
    "data.head()"
   ]
  },
  {
   "cell_type": "markdown",
   "id": "b14ebd02",
   "metadata": {},
   "source": [
    "### Data analysis"
   ]
  },
  {
   "cell_type": "code",
   "execution_count": 6,
   "id": "49107d62",
   "metadata": {},
   "outputs": [
    {
     "ename": "SyntaxError",
     "evalue": "invalid syntax (1571783160.py, line 1)",
     "output_type": "error",
     "traceback": [
      "\u001b[1;36m  Cell \u001b[1;32mIn[6], line 1\u001b[1;36m\u001b[0m\n\u001b[1;33m    = data['topping'].value_counts()\u001b[0m\n\u001b[1;37m    ^\u001b[0m\n\u001b[1;31mSyntaxError\u001b[0m\u001b[1;31m:\u001b[0m invalid syntax\n"
     ]
    }
   ],
   "source": [
    " = data['topping'].value_counts()\n",
    "toppings_value_count"
   ]
  },
  {
   "cell_type": "code",
   "execution_count": null,
   "id": "76185f93",
   "metadata": {},
   "outputs": [],
   "source": [
    "fig, axs = plt.subplots(ncols=2, nrows=3, figsize=(20, 14))\n",
    "\n",
    "sns.boxplot(data=data, x='company', y='price_rupiah', hue='size', ax=axs[0][0])\n",
    "sns.boxplot(data=data, x='company', y='price_rupiah', hue='extra_mushrooms', ax=axs[0][1])\n",
    "sns.boxplot(data=data, x='company', y='price_rupiah', hue='extra_cheese', ax=axs[1][0])\n",
    "sns.boxplot(data=data, x='company', y='price_rupiah', hue='extra_sauce', ax=axs[1][1])\n",
    "\n",
    "toppings_value_count = data['topping'].value_counts()\n",
    "axs[2][0].pie(toppings_value_count, labels=toppings_value_count.index, autopct='%1.1f%%')\n",
    "\n",
    "sns.scatterplot(data=data, x='diameter', y='price_rupiah', hue='company', ax=axs[2][1]);\n",
    "plt.show()"
   ]
  },
  {
   "cell_type": "code",
   "execution_count": null,
   "id": "952bbb42",
   "metadata": {},
   "outputs": [],
   "source": [
    "encoder = OneHotEncoder()\n",
    "\n",
    "def onehotEncode(data, column):\n",
    "    encoded_data = encoder.fit_transform(data[[column]]).toarray()\n",
    "    data[encoder.get_feature_names_out([column]).tolist()] = encoded_data\n",
    "    data.drop(columns=[column], axis=1, inplace=True)\n",
    "    return data\n",
    "    \n",
    "data=onehotEncode(data, 'company')\n",
    "data=onehotEncode(data, 'topping')\n",
    "data=onehotEncode(data, 'variant')\n",
    "data=onehotEncode(data, 'size')\n",
    "data=onehotEncode(data, 'extra_sauce')\n",
    "data=onehotEncode(data, 'extra_cheese')\n",
    "data=onehotEncode(data, 'extra_mushrooms')\n",
    "\n",
    "data.head()"
   ]
  },
  {
   "cell_type": "code",
   "execution_count": null,
   "id": "13b5259e",
   "metadata": {},
   "outputs": [],
   "source": [
    "y = data[dep_var_col]\n",
    "X = data.drop(columns=[dep_var_col], axis=1)"
   ]
  },
  {
   "cell_type": "code",
   "execution_count": null,
   "id": "e8dde586",
   "metadata": {},
   "outputs": [],
   "source": [
    "print(y)\n",
    "X.head()"
   ]
  },
  {
   "cell_type": "code",
   "execution_count": null,
   "id": "47e2760f",
   "metadata": {},
   "outputs": [],
   "source": [
    "X_train, X_evaluate, y_train, y_evaluate = evalml.preprocessing.split_data(X, y, problem_type='regression', \n",
    "                                                                           test_size=0.15, random_seed=22)\n",
    "\n",
    "print('X_train: ', X_train.shape)\n",
    "print('X_evaluate: ', X_evaluate.shape)\n",
    "print('y_train: ', y_train.shape)\n",
    "print('y_evaluate: ', y_evaluate.shape)"
   ]
  },
  {
   "cell_type": "code",
   "execution_count": null,
   "id": "2260b4dd",
   "metadata": {},
   "outputs": [],
   "source": [
    "y_train"
   ]
  },
  {
   "cell_type": "markdown",
   "id": "9da8118b",
   "metadata": {},
   "source": [
    "### AutoML training"
   ]
  },
  {
   "cell_type": "code",
   "execution_count": null,
   "id": "4d9d1d43",
   "metadata": {
    "scrolled": false
   },
   "outputs": [],
   "source": [
    "automl = AutoMLSearch(\n",
    "    X_train=X_train,\n",
    "    y_train=y_train,\n",
    "    problem_type='regression',\n",
    "    max_batches=3, # default is 3\n",
    "    verbose=True\n",
    ")\n",
    "\n",
    "automl.search(interactive_plot=False)"
   ]
  },
  {
   "cell_type": "code",
   "execution_count": null,
   "id": "eba9b2d1",
   "metadata": {},
   "outputs": [],
   "source": [
    "automl.rankings"
   ]
  },
  {
   "cell_type": "code",
   "execution_count": null,
   "id": "6cf3643c",
   "metadata": {},
   "outputs": [],
   "source": [
    "best_pipeline = automl.best_pipeline"
   ]
  },
  {
   "cell_type": "code",
   "execution_count": null,
   "id": "e116c8f8",
   "metadata": {},
   "outputs": [],
   "source": [
    "best_pipeline.describe()"
   ]
  },
  {
   "cell_type": "code",
   "execution_count": null,
   "id": "6a88beff",
   "metadata": {},
   "outputs": [],
   "source": [
    "model_objectives = [\n",
    "    'medianae',\n",
    "     'mse',\n",
    "     'mae',\n",
    "     'r2',\n",
    "     'mean squared log error',\n",
    "     'root mean squared log error',\n",
    "     'root mean squared error',\n",
    "]\n",
    "\n",
    "best_pipeline_score = best_pipeline.score(X_train, y_train, objectives=model_objectives)\n",
    "best_pipeline_score"
   ]
  },
  {
   "cell_type": "markdown",
   "id": "8838e017",
   "metadata": {},
   "source": [
    "### Evaluate model"
   ]
  },
  {
   "cell_type": "code",
   "execution_count": null,
   "id": "30a9744a",
   "metadata": {
    "scrolled": true
   },
   "outputs": [],
   "source": [
    "y_pred = best_pipeline.predict(X_evaluate)\n",
    "resid = y_evaluate - y_pred"
   ]
  },
  {
   "cell_type": "code",
   "execution_count": null,
   "id": "86d5c818",
   "metadata": {},
   "outputs": [],
   "source": [
    "best_pipeline.score(X_evaluate, y_evaluate, objectives=model_objectives)"
   ]
  },
  {
   "cell_type": "markdown",
   "id": "804f5d6f",
   "metadata": {},
   "source": [
    "Faired badly on the test set"
   ]
  },
  {
   "cell_type": "code",
   "execution_count": null,
   "id": "7eedcfdb",
   "metadata": {
    "scrolled": false
   },
   "outputs": [],
   "source": [
    "sns.displot(resid)"
   ]
  },
  {
   "cell_type": "markdown",
   "id": "b77ea500",
   "metadata": {},
   "source": [
    "### try another pipeline"
   ]
  },
  {
   "cell_type": "code",
   "execution_count": null,
   "id": "69db7657",
   "metadata": {},
   "outputs": [],
   "source": [
    "xgboost_pipeline = automl.get_pipeline(5)\n",
    "xgboost_pipeline.fit(X_train, y_train)\n",
    "xgboost_pipeline.score(X_train, y_train, objectives=model_objectives)"
   ]
  },
  {
   "cell_type": "code",
   "execution_count": null,
   "id": "f3913c10",
   "metadata": {},
   "outputs": [],
   "source": [
    "y_pred_2 = xgboost_pipeline.predict(X_evaluate)\n",
    "xgboost_pipeline.score(X_evaluate, y_evaluate, objectives=model_objectives)"
   ]
  },
  {
   "cell_type": "code",
   "execution_count": null,
   "id": "08d2afdf",
   "metadata": {
    "scrolled": false
   },
   "outputs": [],
   "source": [
    "resid_2 = y_evaluate - y_pred_2\n",
    "sns.displot(resid_2)"
   ]
  },
  {
   "cell_type": "code",
   "execution_count": null,
   "id": "2fe3de9e",
   "metadata": {},
   "outputs": [],
   "source": [
    "resid_train = y_train - best_pipeline.predict(X_train)\n",
    "sns.displot(resid_train)"
   ]
  },
  {
   "cell_type": "markdown",
   "id": "e0f6b48b",
   "metadata": {},
   "source": [
    "### Analyzing the residual"
   ]
  },
  {
   "cell_type": "code",
   "execution_count": null,
   "id": "a0d08c11",
   "metadata": {},
   "outputs": [],
   "source": [
    "from statsmodels.stats.diagnostic import acorr_ljungbox\n",
    "from statsmodels.graphics.gofplots import qqplot"
   ]
  },
  {
   "cell_type": "code",
   "execution_count": null,
   "id": "eb6fa076",
   "metadata": {},
   "outputs": [],
   "source": [
    "acorr_ljungbox(resid, np.arange(1, 11, 1))"
   ]
  },
  {
   "cell_type": "code",
   "execution_count": null,
   "id": "c70d0632",
   "metadata": {},
   "outputs": [],
   "source": [
    "acorr_ljungbox(resid_2, np.arange(1, 11, 1))"
   ]
  },
  {
   "cell_type": "code",
   "execution_count": null,
   "id": "6117e8dd",
   "metadata": {
    "scrolled": true
   },
   "outputs": [],
   "source": [
    "fig, axs = plt.subplots(ncols=2, figsize=(20, 6))\n",
    "\n",
    "qqplot(resid, line='45', ax=axs[0]);\n",
    "qqplot(resid_2, line='45', ax=axs[1]);\n",
    "\n",
    "axs[0].set_title(f'{best_pipeline.summary}')\n",
    "axs[1].set_title(f'{xgboost_pipeline.summary}')\n",
    "\n",
    "plt.show()"
   ]
  },
  {
   "cell_type": "markdown",
   "id": "2fbb249a",
   "metadata": {},
   "source": [
    "### Conclusion\n",
    "While the metrics and results of the train and test sets look impressive the residuals shows non-normality in their distribution. \n",
    "\n",
    "More data points are therefore needed and feature to get a better generalize model than these."
   ]
  }
 ],
 "metadata": {
  "kernelspec": {
   "display_name": "Python 3 (ipykernel)",
   "language": "python",
   "name": "python3"
  },
  "language_info": {
   "codemirror_mode": {
    "name": "ipython",
    "version": 3
   },
   "file_extension": ".py",
   "mimetype": "text/x-python",
   "name": "python",
   "nbconvert_exporter": "python",
   "pygments_lexer": "ipython3",
   "version": "3.9.16"
  }
 },
 "nbformat": 4,
 "nbformat_minor": 5
}
