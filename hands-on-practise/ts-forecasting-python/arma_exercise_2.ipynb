{
 "cells": [
  {
   "cell_type": "code",
   "execution_count": 2,
   "id": "27f8180d-7612-4aae-8804-9a95302ebf7c",
   "metadata": {},
   "outputs": [],
   "source": [
    "import numpy as np\n",
    "import pandas as pd\n",
    "import matplotlib.pyplot as plt\n",
    "\n",
    "from statsmodels.stats.diagnostic import acorr_ljungbox\n",
    "from statsmodels.tsa.stattools import adfuller\n",
    "from statsmodels.tsa.arima.model import ARIMA\n",
    "from statsmodels.tsa.arima_process import ArmaProcess\n",
    "\n",
    "from pmdarima.model_selection import train_test_split\n"
   ]
  },
  {
   "cell_type": "markdown",
   "id": "19e49a8a-6c46-4248-b5ee-2ca170ad3b35",
   "metadata": {},
   "source": [
    "### Generate data from ARMA process"
   ]
  },
  {
   "cell_type": "code",
   "execution_count": 6,
   "id": "ffd0dc4b-f2a3-432f-9a1c-e02dae54410a",
   "metadata": {},
   "outputs": [],
   "source": [
    "np.random.seed(42)\n",
    "\n",
    "ma1 = np.array([1, 0.79])\n",
    "ar1 = np.array([1, -0.33])\n",
    "\n",
    "arma_process = ArmaProcess(ar=ar1, ma=ma1).generate_sample(1000)"
   ]
  },
  {
   "cell_type": "code",
   "execution_count": null,
   "id": "0f63a105-b50c-4ce2-afba-bd882df7341c",
   "metadata": {},
   "outputs": [],
   "source": []
  }
 ],
 "metadata": {
  "kernelspec": {
   "display_name": "Python 3 (ipykernel)",
   "language": "python",
   "name": "python3"
  },
  "language_info": {
   "codemirror_mode": {
    "name": "ipython",
    "version": 3
   },
   "file_extension": ".py",
   "mimetype": "text/x-python",
   "name": "python",
   "nbconvert_exporter": "python",
   "pygments_lexer": "ipython3",
   "version": "3.8.8"
  }
 },
 "nbformat": 4,
 "nbformat_minor": 5
}
