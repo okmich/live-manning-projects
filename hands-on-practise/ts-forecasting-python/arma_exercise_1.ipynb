{
 "cells": [
  {
   "cell_type": "code",
   "execution_count": 3,
   "id": "9a0b1769-03eb-4d41-8091-d844afbb73f0",
   "metadata": {},
   "outputs": [],
   "source": [
    "import numpy as np\n",
    "import pandas as pd\n",
    "import matplotlib.pyplot as plt\n",
    "\n",
    "from statsmodels.stats.diagnostic import acorr_ljungbox\n",
    "from statsmodels.tsa.stattools import adfuller\n",
    "from statsmodels.tsa.arima.model import ARIMA\n",
    "from statsmodels.tsa.arima_process import ArmaProcess\n",
    "\n",
    "from pmdarima.model_selection import train_test_split\n"
   ]
  },
  {
   "cell_type": "markdown",
   "id": "7dcf340f-2c94-4040-b7f4-5284c8e26f83",
   "metadata": {},
   "source": [
    "### Generate data from ARMA process"
   ]
  },
  {
   "cell_type": "code",
   "execution_count": 4,
   "id": "46916543-b182-42ab-9c94-2793b4a8175f",
   "metadata": {},
   "outputs": [],
   "source": [
    "np.random.seed(42)\n",
    "\n",
    "ma2 = np.array([1, 0.9, 0.3])\n",
    "ar2 = np.array([1, -0.33, -0.5])\n",
    "\n",
    "ARMA_2_2 = ArmaProcess(ar2, ma2).generate_sample(nsample=10000)"
   ]
  },
  {
   "cell_type": "code",
   "execution_count": null,
   "id": "15999be4-61d1-4dcd-8284-123adeca00d4",
   "metadata": {},
   "outputs": [],
   "source": []
  }
 ],
 "metadata": {
  "kernelspec": {
   "display_name": "Python 3 (ipykernel)",
   "language": "python",
   "name": "python3"
  },
  "language_info": {
   "codemirror_mode": {
    "name": "ipython",
    "version": 3
   },
   "file_extension": ".py",
   "mimetype": "text/x-python",
   "name": "python",
   "nbconvert_exporter": "python",
   "pygments_lexer": "ipython3",
   "version": "3.8.8"
  }
 },
 "nbformat": 4,
 "nbformat_minor": 5
}
