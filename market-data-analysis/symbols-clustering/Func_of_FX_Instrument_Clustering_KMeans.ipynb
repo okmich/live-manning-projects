{
 "cells": [
  {
   "cell_type": "markdown",
   "id": "2caade3d-e8f0-407e-a2e6-0981672bfc57",
   "metadata": {},
   "source": [
    "## Imports"
   ]
  },
  {
   "cell_type": "code",
   "execution_count": 1,
   "id": "23fe508c-9bdb-48cc-adec-c58eb9792732",
   "metadata": {
    "tags": []
   },
   "outputs": [],
   "source": [
    "# Remove unwanted warnings\n",
    "import warnings\n",
    "warnings.simplefilter(action='ignore', category=FutureWarning)\n",
    "\n",
    "# Data extraction and management\n",
    "import pandas as pd\n",
    "import numpy as np\n",
    "\n",
    "# Feature Engineering\n",
    "from sklearn.preprocessing import StandardScaler\n",
    "\n",
    "# Machine Learning\n",
    "from sklearn.cluster import KMeans\n",
    "from sklearn import metrics\n",
    "from kneed import KneeLocator\n",
    "\n",
    "import statsmodels.api as sm\n",
    "\n",
    "# Reporting visualization\n",
    "from sklearn.manifold import TSNE\n",
    "import matplotlib.pyplot as plt\n",
    "import matplotlib.cm as cm\n",
    "%matplotlib inline\n",
    "\n",
    "data_location = \"D:\\\\data_dump\\\\deriv_market_data-5M-20221231-20110101.hd5\""
   ]
  },
  {
   "cell_type": "markdown",
   "id": "620f4a8d-4cf1-471f-8f69-2b10c2ab2c2f",
   "metadata": {},
   "source": [
    "### Data Extraction"
   ]
  },
  {
   "cell_type": "code",
   "execution_count": 2,
   "id": "2e580fcf-5ce3-413b-89e1-e0859fde264c",
   "metadata": {
    "tags": []
   },
   "outputs": [],
   "source": [
    "# get a list of all the symbols we will be working with\n",
    "symbols = []\n",
    "with pd.HDFStore(data_location) as hdf:\n",
    "    keys = hdf.keys()\n",
    "    for k in keys:\n",
    "        symbols.append(k[1:])\n",
    "\n",
    "# for testing only fx pairs\n",
    "symbols = ['AUDCAD', 'AUDCHF', 'AUDJPY', 'AUDNZD', 'CADCHF', 'CADJPY', 'CHFJPY', 'EURAUD', 'EURCAD', 'EURCHF', 'EURGBP', 'EURJPY', 'EURNOK', 'EURNZD', 'EURUSD', 'GBPAUD', 'GBPCAD', 'GBPCHF', 'GBPJPY', 'GBPNOK', 'GBPNZD', 'GBPUSD', 'NZDCAD', 'NZDJPY', 'NZDUSD', 'USDCAD', 'USDCHF', 'USDJPY', 'XAUEUR']"
   ]
  },
  {
   "cell_type": "markdown",
   "id": "bb9aca19-3ddd-4358-9cc2-526a9e827a54",
   "metadata": {
    "tags": []
   },
   "source": [
    "## K-Means Clustering"
   ]
  },
  {
   "cell_type": "code",
   "execution_count": 5,
   "id": "c3849cba-f62d-4890-b4e8-79f03869a27d",
   "metadata": {},
   "outputs": [],
   "source": [
    "## func to return a list of features from each market data \n",
    "def get_market_features(sym, tf_rule='1D'):\n",
    "    df = pd.read_hdf(data_location, key=sym)\n",
    "    df.asfreq(freq='5T')\n",
    "    df.set_index(['time'], inplace=True)\n",
    "    agg_dict = {'open': 'first', 'high': 'max', 'low': 'min', 'close': 'last', 'tick_volume': 'sum', 'spread': 'mean'}\n",
    "    df = df.resample(rule=tf_rule).agg(agg_dict) # 1 Day\n",
    "    df.dropna(how='all', subset=['open', 'high', 'low', 'close', 'spread'], axis=0, inplace=True)\n",
    "    \n",
    "    # feature engineering \n",
    "    df['returns'] = df['close'].pct_change()\n",
    "    ann_returns =  df['returns'].mean() * 255\n",
    "    ann_volatility = df['returns'].std() * np.sqrt(255)\n",
    "        \n",
    "    return (sym, ann_returns, ann_volatility)\n",
    "\n",
    "\n",
    "def do_kmeans_clustering(tf_rule='1D'):\n",
    "    ## run get_market_features on all symbols to build our new data frame\n",
    "    all_market_features = [get_market_features(sym, tf_rule) for sym in symbols]\n",
    "    data = pd.DataFrame.from_records(all_market_features, columns=['ticker', 'ann_returns', 'ann_volatility'], index='ticker')\n",
    "\n",
    "    # Scale Features\n",
    "    scaler = StandardScaler()\n",
    "    scaler = scaler.fit_transform(data)\n",
    "    scaled_data = pd.DataFrame(scaler, columns=data.columns, index=data.index)\n",
    "    \n",
    "    # Find the optimum number of clusters\n",
    "    X = scaled_data.copy()\n",
    "    K = range(1, 15)\n",
    "    distortions = []\n",
    "    for k in K:\n",
    "        kmeans = KMeans(n_clusters=k)\n",
    "        kmeans.fit(X)\n",
    "        distortions.append(kmeans.inertia_)\n",
    "\n",
    "    kl = KneeLocator(K, distortions, curve=\"convex\", direction=\"decreasing\")\n",
    "    c = kl.elbow\n",
    "    \n",
    "    # Fit K-Means Model\n",
    "    k_means = KMeans(n_clusters=c)\n",
    "    k_means.fit(X)\n",
    "    prediction = k_means.predict(scaled_data)\n",
    "    \n",
    "    groupings = {}\n",
    "    for k, v in zip(X.index, k_means.labels_.flatten()):\n",
    "        if v in groupings:\n",
    "            groupings[v].append(k)\n",
    "        else:\n",
    "            groupings[v] = [k]\n",
    "            \n",
    "    return c, groupings\n",
    "    \n",
    "    "
   ]
  },
  {
   "cell_type": "code",
   "execution_count": 6,
   "id": "a2c4ccc3-f086-433f-8eee-9705c1426bb7",
   "metadata": {},
   "outputs": [
    {
     "name": "stderr",
     "output_type": "stream",
     "text": [
      "C:\\Anaconda3\\lib\\site-packages\\sklearn\\cluster\\_kmeans.py:1036: UserWarning: KMeans is known to have a memory leak on Windows with MKL, when there are less chunks than available threads. You can avoid it by setting the environment variable OMP_NUM_THREADS=1.\n",
      "  warnings.warn(\n"
     ]
    },
    {
     "name": "stdout",
     "output_type": "stream",
     "text": [
      "5\n",
      "{4: ['AUDCAD', 'AUDNZD', 'EURCHF', 'EURGBP', 'EURUSD', 'GBPUSD'], 3: ['AUDCHF', 'CADCHF', 'GBPCHF', 'GBPNZD', 'NZDUSD'], 0: ['AUDJPY', 'CADJPY', 'CHFJPY', 'GBPJPY', 'GBPNOK', 'NZDJPY'], 1: ['EURAUD', 'EURCAD', 'EURJPY', 'EURNOK', 'EURNZD', 'GBPAUD', 'GBPCAD', 'NZDCAD', 'USDCAD', 'USDCHF', 'USDJPY'], 2: ['XAUEUR']}\n"
     ]
    }
   ],
   "source": [
    "(k, groupings) = do_kmeans_clustering()\n",
    "print(k)\n",
    "print(groupings)"
   ]
  },
  {
   "cell_type": "code",
   "execution_count": 7,
   "id": "096f7fb6-d399-4b7f-a51c-33727a39fda2",
   "metadata": {},
   "outputs": [
    {
     "name": "stderr",
     "output_type": "stream",
     "text": [
      "C:\\Anaconda3\\lib\\site-packages\\sklearn\\cluster\\_kmeans.py:1036: UserWarning: KMeans is known to have a memory leak on Windows with MKL, when there are less chunks than available threads. You can avoid it by setting the environment variable OMP_NUM_THREADS=1.\n",
      "  warnings.warn(\n",
      "C:\\Anaconda3\\lib\\site-packages\\sklearn\\cluster\\_kmeans.py:1036: UserWarning: KMeans is known to have a memory leak on Windows with MKL, when there are less chunks than available threads. You can avoid it by setting the environment variable OMP_NUM_THREADS=1.\n",
      "  warnings.warn(\n",
      "C:\\Anaconda3\\lib\\site-packages\\sklearn\\cluster\\_kmeans.py:1036: UserWarning: KMeans is known to have a memory leak on Windows with MKL, when there are less chunks than available threads. You can avoid it by setting the environment variable OMP_NUM_THREADS=1.\n",
      "  warnings.warn(\n",
      "C:\\Anaconda3\\lib\\site-packages\\sklearn\\cluster\\_kmeans.py:1036: UserWarning: KMeans is known to have a memory leak on Windows with MKL, when there are less chunks than available threads. You can avoid it by setting the environment variable OMP_NUM_THREADS=1.\n",
      "  warnings.warn(\n",
      "C:\\Anaconda3\\lib\\site-packages\\sklearn\\cluster\\_kmeans.py:1036: UserWarning: KMeans is known to have a memory leak on Windows with MKL, when there are less chunks than available threads. You can avoid it by setting the environment variable OMP_NUM_THREADS=1.\n",
      "  warnings.warn(\n"
     ]
    }
   ],
   "source": [
    "various_timeframes = ['5M', '15M', '1H', '4H', '1D']\n",
    "results = {tf:do_kmeans_clustering(tf) for tf in various_timeframes}"
   ]
  },
  {
   "cell_type": "code",
   "execution_count": 8,
   "id": "e2862ad8-526b-4ab0-8d32-0c40f38ed70a",
   "metadata": {},
   "outputs": [
    {
     "data": {
      "text/plain": [
       "{'5M': (4,\n",
       "  {2: ['AUDCAD',\n",
       "    'EURAUD',\n",
       "    'EURCAD',\n",
       "    'EURGBP',\n",
       "    'EURNOK',\n",
       "    'GBPCAD',\n",
       "    'GBPNOK',\n",
       "    'NZDCAD',\n",
       "    'USDCAD',\n",
       "    'USDCHF'],\n",
       "   0: ['AUDCHF', 'AUDNZD', 'CADCHF', 'EURCHF', 'EURUSD', 'GBPCHF', 'GBPUSD'],\n",
       "   1: ['AUDJPY',\n",
       "    'CADJPY',\n",
       "    'EURJPY',\n",
       "    'EURNZD',\n",
       "    'GBPAUD',\n",
       "    'GBPJPY',\n",
       "    'GBPNZD',\n",
       "    'NZDJPY',\n",
       "    'NZDUSD'],\n",
       "   3: ['CHFJPY', 'USDJPY', 'XAUEUR']}),\n",
       " '15M': (3,\n",
       "  {2: ['AUDCAD',\n",
       "    'EURAUD',\n",
       "    'EURCAD',\n",
       "    'EURGBP',\n",
       "    'GBPAUD',\n",
       "    'GBPCAD',\n",
       "    'GBPNOK',\n",
       "    'GBPNZD',\n",
       "    'NZDCAD',\n",
       "    'NZDUSD',\n",
       "    'USDCHF'],\n",
       "   0: ['AUDCHF',\n",
       "    'AUDNZD',\n",
       "    'CADCHF',\n",
       "    'EURCHF',\n",
       "    'EURNZD',\n",
       "    'EURUSD',\n",
       "    'GBPCHF',\n",
       "    'GBPUSD'],\n",
       "   1: ['AUDJPY',\n",
       "    'CADJPY',\n",
       "    'CHFJPY',\n",
       "    'EURJPY',\n",
       "    'EURNOK',\n",
       "    'GBPJPY',\n",
       "    'NZDJPY',\n",
       "    'USDCAD',\n",
       "    'USDJPY',\n",
       "    'XAUEUR']}),\n",
       " '1H': (5,\n",
       "  {3: ['AUDCAD', 'AUDNZD', 'EURCHF', 'EURGBP', 'EURUSD', 'GBPUSD'],\n",
       "   2: ['AUDCHF', 'CADCHF', 'GBPCHF', 'GBPNZD', 'NZDUSD'],\n",
       "   4: ['AUDJPY', 'CADJPY', 'CHFJPY', 'GBPJPY', 'GBPNOK', 'NZDJPY'],\n",
       "   0: ['EURAUD',\n",
       "    'EURCAD',\n",
       "    'EURJPY',\n",
       "    'EURNOK',\n",
       "    'EURNZD',\n",
       "    'GBPAUD',\n",
       "    'GBPCAD',\n",
       "    'NZDCAD',\n",
       "    'USDCAD',\n",
       "    'USDCHF',\n",
       "    'USDJPY'],\n",
       "   1: ['XAUEUR']}),\n",
       " '4H': (5,\n",
       "  {3: ['AUDCAD', 'AUDNZD', 'EURCHF', 'EURGBP', 'EURUSD', 'GBPUSD'],\n",
       "   2: ['AUDCHF', 'CADCHF', 'GBPCHF', 'GBPNZD', 'NZDUSD'],\n",
       "   0: ['AUDJPY', 'CADJPY', 'CHFJPY', 'GBPJPY', 'GBPNOK', 'NZDJPY'],\n",
       "   1: ['EURAUD',\n",
       "    'EURCAD',\n",
       "    'EURJPY',\n",
       "    'EURNOK',\n",
       "    'EURNZD',\n",
       "    'GBPAUD',\n",
       "    'GBPCAD',\n",
       "    'NZDCAD',\n",
       "    'USDCAD',\n",
       "    'USDCHF',\n",
       "    'USDJPY'],\n",
       "   4: ['XAUEUR']}),\n",
       " '1D': (5,\n",
       "  {2: ['AUDCAD', 'AUDNZD', 'EURCHF', 'EURGBP', 'EURUSD', 'GBPUSD'],\n",
       "   0: ['AUDCHF', 'CADCHF', 'GBPCHF', 'GBPNZD', 'NZDUSD'],\n",
       "   3: ['AUDJPY', 'CADJPY', 'CHFJPY', 'GBPJPY', 'NZDJPY'],\n",
       "   1: ['EURAUD',\n",
       "    'EURCAD',\n",
       "    'EURJPY',\n",
       "    'EURNOK',\n",
       "    'EURNZD',\n",
       "    'GBPAUD',\n",
       "    'GBPCAD',\n",
       "    'GBPNOK',\n",
       "    'NZDCAD',\n",
       "    'USDCAD',\n",
       "    'USDCHF',\n",
       "    'USDJPY'],\n",
       "   4: ['XAUEUR']})}"
      ]
     },
     "execution_count": 8,
     "metadata": {},
     "output_type": "execute_result"
    }
   ],
   "source": [
    "results"
   ]
  }
 ],
 "metadata": {
  "kernelspec": {
   "display_name": "Python 3 (ipykernel)",
   "language": "python",
   "name": "python3"
  },
  "language_info": {
   "codemirror_mode": {
    "name": "ipython",
    "version": 3
   },
   "file_extension": ".py",
   "mimetype": "text/x-python",
   "name": "python",
   "nbconvert_exporter": "python",
   "pygments_lexer": "ipython3",
   "version": "3.9.13"
  }
 },
 "nbformat": 4,
 "nbformat_minor": 5
}
