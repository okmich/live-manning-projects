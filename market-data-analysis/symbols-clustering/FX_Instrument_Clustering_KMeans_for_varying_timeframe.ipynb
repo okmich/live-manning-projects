{
 "cells": [
  {
   "cell_type": "markdown",
   "id": "2caade3d-e8f0-407e-a2e6-0981672bfc57",
   "metadata": {},
   "source": [
    "## Imports"
   ]
  },
  {
   "cell_type": "code",
   "execution_count": 1,
   "id": "23fe508c-9bdb-48cc-adec-c58eb9792732",
   "metadata": {
    "tags": []
   },
   "outputs": [],
   "source": [
    "# Remove unwanted warnings\n",
    "import warnings\n",
    "warnings.simplefilter(action='ignore', category=FutureWarning)\n",
    "\n",
    "# Data extraction and management\n",
    "import pandas as pd\n",
    "import numpy as np\n",
    "\n",
    "# Feature Engineering\n",
    "from sklearn.preprocessing import StandardScaler\n",
    "\n",
    "# Machine Learning\n",
    "from sklearn.cluster import KMeans\n",
    "from sklearn import metrics\n",
    "from kneed import KneeLocator\n",
    "\n",
    "import statsmodels.api as sm\n",
    "\n",
    "# Reporting visualization\n",
    "from sklearn.manifold import TSNE\n",
    "import matplotlib.pyplot as plt\n",
    "import matplotlib.cm as cm\n",
    "%matplotlib inline\n",
    "\n",
    "data_location = \"D:\\\\data_dump\\\\deriv_market_data-5M-20221231-20110101.hd5\""
   ]
  },
  {
   "cell_type": "markdown",
   "id": "620f4a8d-4cf1-471f-8f69-2b10c2ab2c2f",
   "metadata": {},
   "source": [
    "### Data Extraction"
   ]
  },
  {
   "cell_type": "code",
   "execution_count": 13,
   "id": "2e580fcf-5ce3-413b-89e1-e0859fde264c",
   "metadata": {
    "tags": []
   },
   "outputs": [],
   "source": [
    "# get a list of all the symbols we will be working with\n",
    "symbols = []\n",
    "with pd.HDFStore(data_location) as hdf:\n",
    "    keys = hdf.keys()\n",
    "    for k in keys:\n",
    "        symbols.append(k[1:])\n",
    "\n",
    "# for testing only fx pairs\n",
    "symbols = ['AUDCAD', 'AUDCHF', 'AUDJPY', 'AUDNZD', 'CADCHF', 'CADJPY', 'CHFJPY', 'EURAUD', 'EURCAD', 'EURCHF', 'EURGBP', 'EURJPY', 'EURNOK', 'EURNZD', 'EURUSD', 'GBPAUD', 'GBPCAD', 'GBPCHF', 'GBPJPY', 'GBPNOK', 'GBPNZD', 'GBPUSD', 'NZDCAD', 'NZDJPY', 'NZDUSD', 'USDCAD', 'USDCHF', 'USDJPY', 'XAUEUR']"
   ]
  },
  {
   "cell_type": "code",
   "execution_count": 14,
   "id": "c3849cba-f62d-4890-b4e8-79f03869a27d",
   "metadata": {},
   "outputs": [],
   "source": [
    "## func to return a list of features from each market data \n",
    "def get_market_features(sym):\n",
    "    df = pd.read_hdf(data_location, key=sym)\n",
    "    df.asfreq(freq='5T')\n",
    "    df.set_index(['time'], inplace=True)\n",
    "    agg_dict = {'open': 'first', 'high': 'max', 'low': 'min', 'close': 'last', 'tick_volume': 'sum', 'spread': 'mean'}\n",
    "    df = df.resample(rule='1D').agg(agg_dict) # 1 Day\n",
    "    df.dropna(how='all', subset=['open', 'high', 'low', 'close', 'spread'], axis=0, inplace=True)\n",
    "    \n",
    "    # feature engineering \n",
    "    df['returns'] = df['close'].pct_change()\n",
    "    ann_returns =  df['returns'].mean() * 255\n",
    "    ann_volatility = df['returns'].std() * np.sqrt(255)\n",
    "        \n",
    "    return (sym, ann_returns, ann_volatility)\n"
   ]
  },
  {
   "cell_type": "code",
   "execution_count": 15,
   "id": "a2c4ccc3-f086-433f-8eee-9705c1426bb7",
   "metadata": {},
   "outputs": [
    {
     "data": {
      "text/html": [
       "<div>\n",
       "<style scoped>\n",
       "    .dataframe tbody tr th:only-of-type {\n",
       "        vertical-align: middle;\n",
       "    }\n",
       "\n",
       "    .dataframe tbody tr th {\n",
       "        vertical-align: top;\n",
       "    }\n",
       "\n",
       "    .dataframe thead th {\n",
       "        text-align: right;\n",
       "    }\n",
       "</style>\n",
       "<table border=\"1\" class=\"dataframe\">\n",
       "  <thead>\n",
       "    <tr style=\"text-align: right;\">\n",
       "      <th></th>\n",
       "      <th>ann_returns</th>\n",
       "      <th>ann_volatility</th>\n",
       "    </tr>\n",
       "    <tr>\n",
       "      <th>ticker</th>\n",
       "      <th></th>\n",
       "      <th></th>\n",
       "    </tr>\n",
       "  </thead>\n",
       "  <tbody>\n",
       "    <tr>\n",
       "      <th>AUDCAD</th>\n",
       "      <td>-0.631279</td>\n",
       "      <td>-1.186639</td>\n",
       "    </tr>\n",
       "    <tr>\n",
       "      <th>AUDCHF</th>\n",
       "      <td>-1.553377</td>\n",
       "      <td>1.128761</td>\n",
       "    </tr>\n",
       "    <tr>\n",
       "      <th>AUDJPY</th>\n",
       "      <td>0.116403</td>\n",
       "      <td>1.299308</td>\n",
       "    </tr>\n",
       "    <tr>\n",
       "      <th>AUDNZD</th>\n",
       "      <td>-1.039376</td>\n",
       "      <td>-1.945692</td>\n",
       "    </tr>\n",
       "    <tr>\n",
       "      <th>CADCHF</th>\n",
       "      <td>-1.282522</td>\n",
       "      <td>0.593670</td>\n",
       "    </tr>\n",
       "  </tbody>\n",
       "</table>\n",
       "</div>"
      ],
      "text/plain": [
       "        ann_returns  ann_volatility\n",
       "ticker                             \n",
       "AUDCAD    -0.631279       -1.186639\n",
       "AUDCHF    -1.553377        1.128761\n",
       "AUDJPY     0.116403        1.299308\n",
       "AUDNZD    -1.039376       -1.945692\n",
       "CADCHF    -1.282522        0.593670"
      ]
     },
     "execution_count": 15,
     "metadata": {},
     "output_type": "execute_result"
    }
   ],
   "source": [
    "## run get_market_features on all symbols to build our new data frame\n",
    "all_market_features = [get_market_features(sym) for sym in symbols]\n",
    "data = pd.DataFrame.from_records(all_market_features, columns=['ticker', 'ann_returns', 'ann_volatility'], index='ticker')\n",
    "\n",
    "# Scale Features\n",
    "scaler = StandardScaler()\n",
    "scaler = scaler.fit_transform(data)\n",
    "scaled_data = pd.DataFrame(scaler, columns=data.columns, index=data.index)\n",
    "df_scaled = scaled_data\n",
    "df_scaled.head()"
   ]
  },
  {
   "cell_type": "markdown",
   "id": "a757459d-0adb-4d02-9476-2e8879f5bf1f",
   "metadata": {
    "tags": []
   },
   "source": [
    "## K-Means Clustering"
   ]
  },
  {
   "cell_type": "code",
   "execution_count": 16,
   "id": "40316135-3e5c-4149-8b25-62315ce81f00",
   "metadata": {},
   "outputs": [
    {
     "name": "stderr",
     "output_type": "stream",
     "text": [
      "C:\\Anaconda3\\lib\\site-packages\\sklearn\\cluster\\_kmeans.py:1036: UserWarning: KMeans is known to have a memory leak on Windows with MKL, when there are less chunks than available threads. You can avoid it by setting the environment variable OMP_NUM_THREADS=1.\n",
      "  warnings.warn(\n"
     ]
    },
    {
     "name": "stdout",
     "output_type": "stream",
     "text": [
      "Optimum Clusters:  5\n"
     ]
    }
   ],
   "source": [
    "# Find the optimum number of clusters\n",
    "X = df_scaled.copy()\n",
    "K = range(1, 15)\n",
    "distortions = []\n",
    "for k in K:\n",
    "    kmeans = KMeans(n_clusters=k)\n",
    "    kmeans.fit(X)\n",
    "    distortions.append(kmeans.inertia_)\n",
    "    \n",
    "kl = KneeLocator(K, distortions, curve=\"convex\", direction=\"decreasing\")\n",
    "c = kl.elbow\n",
    "print(\"Optimum Clusters: \", c)"
   ]
  },
  {
   "cell_type": "code",
   "execution_count": 17,
   "id": "af436391-257d-4d0e-bd16-76ed9a5701b6",
   "metadata": {},
   "outputs": [],
   "source": [
    "# Fit K-Means Model\n",
    "k_means = KMeans(n_clusters=4)\n",
    "k_means.fit(X)\n",
    "prediction = k_means.predict(df_scaled)"
   ]
  },
  {
   "cell_type": "code",
   "execution_count": 18,
   "id": "52897005-fc08-4656-9de4-89816e5f6a01",
   "metadata": {},
   "outputs": [
    {
     "data": {
      "image/png": "[encoded data removed]",
      "text/plain": [
       "<Figure size 1800x1000 with 2 Axes>"
      ]
     },
     "metadata": {},
     "output_type": "display_data"
    }
   ],
   "source": [
    "# Show Results\n",
    "centroids = k_means.cluster_centers_\n",
    "fig = plt.figure(figsize = (18, 10))\n",
    "ax = fig.add_subplot(111)\n",
    "scatter = ax.scatter(X.iloc[:,0], X.iloc[:,1], c=k_means.labels_, cmap=\"rainbow\", label=X.index)\n",
    "ax.set_title(\"K-Means Cluster Analysis Results\")\n",
    "ax.set_xlabel(\"Mean Return\")\n",
    "ax.set_ylabel(\"Volatility\")\n",
    "plt.colorbar(scatter)\n",
    "plt.plot(centroids[:,0], centroids[:,1], \"sg\", markersize=10)\n",
    "plt.show()"
   ]
  },
  {
   "cell_type": "code",
   "execution_count": 19,
   "id": "a7faa65b-abda-433e-9dc8-c0967a4d1947",
   "metadata": {},
   "outputs": [
    {
     "data": {
      "text/plain": [
       "{3: ['AUDCAD',\n",
       "  'AUDNZD',\n",
       "  'EURCAD',\n",
       "  'EURCHF',\n",
       "  'EURGBP',\n",
       "  'EURUSD',\n",
       "  'GBPCAD',\n",
       "  'GBPUSD',\n",
       "  'NZDCAD',\n",
       "  'USDCAD'],\n",
       " 1: ['AUDCHF',\n",
       "  'AUDJPY',\n",
       "  'CADCHF',\n",
       "  'EURNZD',\n",
       "  'GBPCHF',\n",
       "  'GBPNOK',\n",
       "  'GBPNZD',\n",
       "  'NZDUSD',\n",
       "  'USDCHF'],\n",
       " 0: ['CADJPY',\n",
       "  'CHFJPY',\n",
       "  'EURAUD',\n",
       "  'EURJPY',\n",
       "  'EURNOK',\n",
       "  'GBPAUD',\n",
       "  'GBPJPY',\n",
       "  'NZDJPY',\n",
       "  'USDJPY'],\n",
       " 2: ['XAUEUR']}"
      ]
     },
     "execution_count": 19,
     "metadata": {},
     "output_type": "execute_result"
    }
   ],
   "source": [
    "groupings = {}\n",
    "for k, v in zip(X.index, k_means.labels_.flatten()):\n",
    "    if v in groupings:\n",
    "        groupings[v].append(k)\n",
    "    else:\n",
    "        groupings[v] = [k]\n",
    "groupings"
   ]
  },
  {
   "cell_type": "code",
   "execution_count": 20,
   "id": "524fccfd-3252-49b9-b906-98642c6724cd",
   "metadata": {},
   "outputs": [
    {
     "data": {
      "image/png": "[encoded data removed]",
      "text/plain": [
       "<Figure size 1000x500 with 1 Axes>"
      ]
     },
     "metadata": {},
     "output_type": "display_data"
    }
   ],
   "source": [
    "# View number by cluster\n",
    "keys = sorted(list(groupings.keys()))\n",
    "values = [len(groupings[k])  for k in keys]\n",
    "\n",
    "plt.figure(figsize=(10, 5))\n",
    "plt.bar(keys, values)\n",
    "plt.title(\"Clusters\")\n",
    "plt.xlabel(\"Cluster\")\n",
    "plt.ylabel(\"Features Count\")\n",
    "plt.show()"
   ]
  },
  {
   "cell_type": "code",
   "execution_count": null,
   "id": "88ad8259-964e-43ea-99fa-bd7f422ba6e3",
   "metadata": {},
   "outputs": [],
   "source": []
  }
 ],
 "metadata": {
  "kernelspec": {
   "display_name": "Python 3 (ipykernel)",
   "language": "python",
   "name": "python3"
  },
  "language_info": {
   "codemirror_mode": {
    "name": "ipython",
    "version": 3
   },
   "file_extension": ".py",
   "mimetype": "text/x-python",
   "name": "python",
   "nbconvert_exporter": "python",
   "pygments_lexer": "ipython3",
   "version": "3.9.13"
  }
 },
 "nbformat": 4,
 "nbformat_minor": 5
}
